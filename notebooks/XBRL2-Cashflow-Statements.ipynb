{
 "cells": [
  {
   "metadata": {},
   "cell_type": "markdown",
   "source": [
    "# Cash Flow Statements\n",
    "\n",
    "This notebook shows how to get cashflow statements using XBRL2. XBRL2 is an ongoing rewrite of XBRL parsing in edgartools. It is a work in  progress and gaps and bugs are to be expected\n",
    "\n",
    "**[Open this notebook in Google Colab](http://colab.research.google.com/github/dgunning/edgartools/blob/main/notebooks/XBRL2-Cashflow-Statements.ipynb)**"
   ],
   "id": "31e2b73159638242"
  },
  {
   "metadata": {},
   "cell_type": "markdown",
   "source": "## Setup edgartools",
   "id": "a0b33a94958833ea"
  },
  {
   "metadata": {},
   "cell_type": "code",
   "outputs": [],
   "execution_count": null,
   "source": "!pip install edgartools",
   "id": "cdac013ffd911626"
  },
  {
   "metadata": {
    "ExecuteTime": {
     "end_time": "2025-04-02T11:22:23.570678Z",
     "start_time": "2025-04-02T11:22:23.567386Z"
    }
   },
   "cell_type": "code",
   "source": [
    "from edgar import *\n",
    "set_identity(\"cash@hedgefund.com\")"
   ],
   "id": "a56aa6c12fc9de0b",
   "outputs": [],
   "execution_count": 1
  },
  {
   "metadata": {},
   "cell_type": "markdown",
   "source": [
    "## Import XBRL2\n",
    "\n",
    "XBRL2 is a rewrite of XBRL in the package `edgar.xbrl2`"
   ],
   "id": "7fbe80118a8b577e"
  },
  {
   "metadata": {
    "ExecuteTime": {
     "end_time": "2025-04-02T11:22:24.737900Z",
     "start_time": "2025-04-02T11:22:24.717476Z"
    }
   },
   "cell_type": "code",
   "source": "from edgar.xbrl2 import *",
   "id": "75618615740aeb2e",
   "outputs": [],
   "execution_count": 2
  },
  {
   "metadata": {
    "ExecuteTime": {
     "end_time": "2025-04-02T11:22:28.729519Z",
     "start_time": "2025-04-02T11:22:27.609018Z"
    }
   },
   "cell_type": "code",
   "source": [
    "c = Company(\"CRSR\")\n",
    "filing = c.latest(\"10-K\")\n",
    "xbrl = XBRL.from_filing(filing)\n"
   ],
   "id": "f33612e468801736",
   "outputs": [],
   "execution_count": 3
  },
  {
   "metadata": {},
   "cell_type": "markdown",
   "source": "## Cash Flow Statement",
   "id": "70f57edf64fea8c8"
  },
  {
   "metadata": {
    "ExecuteTime": {
     "end_time": "2025-04-02T11:22:29.635112Z",
     "start_time": "2025-04-02T11:22:29.567863Z"
    }
   },
   "cell_type": "code",
   "source": [
    "statement = xbrl.statements.cash_flow_statement()\n",
    "statement"
   ],
   "id": "199d822b282489c2",
   "outputs": [
    {
     "data": {
      "text/plain": [],
      "text/html": [
       "<pre style=\"white-space:pre;overflow-x:auto;line-height:normal;font-family:Menlo,'DejaVu Sans Mono',consolas,'Courier New',monospace\"></pre>\n"
      ]
     },
     "metadata": {},
     "output_type": "display_data"
    },
    {
     "data": {
      "text/plain": [
       "\u001B[3m                                Consolidated Statement of Cash Flows (Standardized)                                \u001B[0m\n",
       "\u001B[3m                                 \u001B[0m\u001B[1;3mYear Ended\u001B[0m\u001B[3m \u001B[0m\u001B[3m(In thousands, except per share data)\u001B[0m\u001B[3m                                  \u001B[0m\n",
       "                                                                                                                   \n",
       " \u001B[1m \u001B[0m\u001B[1m                                                                  \u001B[0m\u001B[1m \u001B[0m \u001B[1m \u001B[0m\u001B[1mDec 31, 2024\u001B[0m\u001B[1m \u001B[0m \u001B[1m \u001B[0m\u001B[1mDec 31, 2023\u001B[0m\u001B[1m \u001B[0m \u001B[1m \u001B[0m\u001B[1mDec 31, 2022\u001B[0m\u001B[1m \u001B[0m \n",
       " ───────────────────────────────────────────────────────────────────────────────────────────────────────────────── \n",
       "      Cash flows from operating activities:                                                                        \n",
       "        Net Income                                                        $(83,394)       $(1,037)      $(53,946)  \n",
       "        Adjustments to reconcile net income (loss) to net cash                                                     \n",
       "  provided by operating activities:                                                                                \n",
       "          Stock-based compensation                                          $30,591        $30,873        $22,158  \n",
       "          Depreciation and Amortization                                     $13,449        $12,210        $10,728  \n",
       "          Amortization                                                      $38,448        $38,488        $42,795  \n",
       "          Bargain purchase gain on business acquisition                      $2,581                                \n",
       "          Deferred income taxes, net of valuation allowance                 $11,416       $(6,332)      $(21,736)  \n",
       "          Other                                                              $5,661         $4,263         $4,867  \n",
       "        Changes in operating assets and liabilities:                                                               \n",
       "          Accounts Receivable                                               $32,285      $(17,686)        $55,845  \n",
       "          Inventories                                                       $18,315      $(39,470)       $111,288  \n",
       "          Prepaid expenses and other assets                                  $5,897         $1,902         $1,268  \n",
       "          Accounts Payable                                                $(39,507)        $62,150      $(65,928)  \n",
       "          Other liabilities and accrued expenses                             $5,297         $3,792      $(40,950)  \n",
       "        Net Cash from Operating Activities                                  $35,877        $89,153        $66,389  \n",
       "      Cash flows from investing activities:                                                                        \n",
       "        Payments to Acquire Businesses                                    $(43,131)      $(14,220)      $(19,534)  \n",
       "        Payments for Property, Plant and Equipment                         $(9,849)      $(12,761)      $(26,315)  \n",
       "        Purchase of intangible asset                                         $(100)                                \n",
       "        Payment of deferred and contingent consideration                                                   $(185)  \n",
       "        Purchase price adjustment related to business acquisition            $1,041                                \n",
       "        Payment of bridge loan origination costs related to business         $(666)                                \n",
       "  acquisition                                                                                                      \n",
       "        Investment in available-for-sale convertible note                                                $(1,000)  \n",
       "        Net Cash from Investing Activities                                $(52,705)      $(26,981)      $(47,034)  \n",
       "      Cash flows from financing activities:                                                                        \n",
       "        Repayment of debt and debt issuance costs                           $25,000        $41,000         $9,483  \n",
       "        Borrowings from line of credit                                      $25,000                      $701,500  \n",
       "        Repayment of line of credit                                       $(25,000)                    $(701,500)  \n",
       "        Purchase of additional ownership interest                         $(19,750)                                \n",
       "        Proceeds from public offering, net of underwriting discounts                                      $81,655  \n",
       "  and commissions                                                                                                  \n",
       "        Payment of other offering costs                                                     $(497)         $(296)  \n",
       "        Proceeds from issuance of shares through employee equity             $5,377         $7,449         $7,015  \n",
       "  incentive plans                                                                                                  \n",
       "        Tax Withholding for Share-Based Compensation                         $(573)       $(1,409)       $(1,532)  \n",
       "        Dividend paid to noncontrolling interest                           $(5,792)         $(980)       $(4,312)  \n",
       "        Payment of deferred and contingent consideration                     $4,942           $950           $438  \n",
       "        Net Cash from Financing Activities                                $(50,680)      $(37,387)        $72,609  \n",
       "      Effect of exchange rate changes on cash                              $(1,425)         $(281)       $(3,284)  \n",
       "      Net Change in Cash                                                  $(68,933)        $24,504        $88,680  \n",
       "      Cash and restricted cash at the end of the year                                                              \n",
       "      Cash and restricted cash at the end of the year                                                              \n",
       "      Supplemental cash flow disclosures:                                                                          \n",
       "        Cash paid for interest                                              $12,793        $16,772         $9,019  \n",
       "        Income Tax Expense                                                   $5,100         $7,375        $14,221  \n",
       "      Supplemental disclosure of non-cash investing and financing                                                  \n",
       "  activities:                                                                                                      \n",
       "        Equipment purchased and unpaid at period end                         $2,493         $1,420         $4,985  \n",
       "        Issuance of common stock relating to business acquisition                                         $14,505  \n",
       "        Purchase Consideration Related To Business Combination                 $592                                \n",
       "        Receivable for business acquisition purchase price                                  $1,041                 \n",
       "  adjustment                                                                                                       \n",
       "                                                                                                                   "
      ]
     },
     "execution_count": 4,
     "metadata": {},
     "output_type": "execute_result"
    }
   ],
   "execution_count": 4
  },
  {
   "metadata": {},
   "cell_type": "markdown",
   "source": "## Compare with Cashflow Statement extracted from the attachment",
   "id": "1d9805c4f8f2eb5c"
  },
  {
   "metadata": {
    "ExecuteTime": {
     "end_time": "2025-04-02T11:22:33.370821Z",
     "start_time": "2025-04-02T11:22:33.301355Z"
    }
   },
   "cell_type": "code",
   "source": "filing.statements.cash_flow_statement.view()",
   "id": "a05a1d530b8c363f",
   "outputs": [
    {
     "data": {
      "text/plain": [
       "\u001B[34m                                                                                                             \u001B[0m\n",
       "\u001B[34m \u001B[0m\u001B[1m \u001B[0m\u001B[1mConsolidated Statements of Cash Flows - USD ($)$ in Thousands\u001B[0m\u001B[1m \u001B[0m\u001B[34m \u001B[0m\u001B[1m              \u001B[0m\u001B[34m \u001B[0m\u001B[1m12 Months Ended\u001B[0m\u001B[1m \u001B[0m\u001B[34m \u001B[0m\u001B[1m           \u001B[0m\u001B[34m \u001B[0m\n",
       "\u001B[34m \u001B[0m\u001B[1m \u001B[0m\u001B[1mDec. 31, 2024                                                \u001B[0m\u001B[1m \u001B[0m\u001B[34m \u001B[0m\u001B[1mDec. 31, 2023\u001B[0m\u001B[1m \u001B[0m\u001B[34m \u001B[0m\u001B[1m  Dec. 31, 2022\u001B[0m\u001B[1m \u001B[0m\u001B[34m \u001B[0m\u001B[1m          \u001B[0m\u001B[1m \u001B[0m\u001B[34m \u001B[0m\n",
       "\u001B[34m ─────────────────────────────────────────────────────────────────────────────────────────────────────────── \u001B[0m\n",
       "\u001B[34m \u001B[0m Cash flows from operating activities:                         \u001B[34m \u001B[0m              \u001B[34m \u001B[0m                \u001B[34m \u001B[0m           \u001B[34m \u001B[0m\n",
       "\u001B[34m \u001B[0m\u001B[38;5;245m \u001B[0m\u001B[38;5;245mNet loss                                                     \u001B[0m\u001B[38;5;245m \u001B[0m\u001B[34m \u001B[0m\u001B[38;5;245m   $ (83,394)\u001B[0m\u001B[38;5;245m \u001B[0m\u001B[34m \u001B[0m\u001B[38;5;245m      $ (1,037)\u001B[0m\u001B[38;5;245m \u001B[0m\u001B[34m \u001B[0m\u001B[38;5;245m$ (53,946)\u001B[0m\u001B[38;5;245m \u001B[0m\u001B[34m \u001B[0m\n",
       "\u001B[34m \u001B[0m Adjustments to reconcile net income (loss) to net             \u001B[34m \u001B[0m              \u001B[34m \u001B[0m                \u001B[34m \u001B[0m           \u001B[34m \u001B[0m\n",
       "\u001B[34m \u001B[0m cash provided by operating activities:                        \u001B[34m \u001B[0m              \u001B[34m \u001B[0m                \u001B[34m \u001B[0m           \u001B[34m \u001B[0m\n",
       "\u001B[34m \u001B[0m\u001B[38;5;245m \u001B[0m\u001B[38;5;245mStock-based compensation                                     \u001B[0m\u001B[38;5;245m \u001B[0m\u001B[34m \u001B[0m\u001B[38;5;245m       30,591\u001B[0m\u001B[38;5;245m \u001B[0m\u001B[34m \u001B[0m\u001B[38;5;245m         30,873\u001B[0m\u001B[38;5;245m \u001B[0m\u001B[34m \u001B[0m\u001B[38;5;245m    22,158\u001B[0m\u001B[38;5;245m \u001B[0m\u001B[34m \u001B[0m\n",
       "\u001B[34m \u001B[0m Depreciation                                                  \u001B[34m \u001B[0m       13,449 \u001B[34m \u001B[0m         12,210 \u001B[34m \u001B[0m    10,728 \u001B[34m \u001B[0m\n",
       "\u001B[34m \u001B[0m\u001B[38;5;245m \u001B[0m\u001B[38;5;245mAmortization                                                 \u001B[0m\u001B[38;5;245m \u001B[0m\u001B[34m \u001B[0m\u001B[38;5;245m       38,448\u001B[0m\u001B[38;5;245m \u001B[0m\u001B[34m \u001B[0m\u001B[38;5;245m         38,488\u001B[0m\u001B[38;5;245m \u001B[0m\u001B[34m \u001B[0m\u001B[38;5;245m    42,795\u001B[0m\u001B[38;5;245m \u001B[0m\u001B[34m \u001B[0m\n",
       "\u001B[34m \u001B[0m Bargain purchase gain on business acquisition                 \u001B[34m \u001B[0m       -2,581 \u001B[34m \u001B[0m                \u001B[34m \u001B[0m           \u001B[34m \u001B[0m\n",
       "\u001B[34m \u001B[0m\u001B[38;5;245m \u001B[0m\u001B[38;5;245mDeferred income taxes, net of valuation allowance            \u001B[0m\u001B[38;5;245m \u001B[0m\u001B[34m \u001B[0m\u001B[38;5;245m       11,416\u001B[0m\u001B[38;5;245m \u001B[0m\u001B[34m \u001B[0m\u001B[38;5;245m         -6,332\u001B[0m\u001B[38;5;245m \u001B[0m\u001B[34m \u001B[0m\u001B[38;5;245m   -21,736\u001B[0m\u001B[38;5;245m \u001B[0m\u001B[34m \u001B[0m\n",
       "\u001B[34m \u001B[0m Other                                                         \u001B[34m \u001B[0m        5,661 \u001B[34m \u001B[0m          4,263 \u001B[34m \u001B[0m     4,867 \u001B[34m \u001B[0m\n",
       "\u001B[34m \u001B[0m\u001B[38;5;245m \u001B[0m\u001B[38;5;245mChanges in operating assets and liabilities:                 \u001B[0m\u001B[38;5;245m \u001B[0m\u001B[34m \u001B[0m\u001B[38;5;245m             \u001B[0m\u001B[38;5;245m \u001B[0m\u001B[34m \u001B[0m\u001B[38;5;245m               \u001B[0m\u001B[38;5;245m \u001B[0m\u001B[34m \u001B[0m\u001B[38;5;245m          \u001B[0m\u001B[38;5;245m \u001B[0m\u001B[34m \u001B[0m\n",
       "\u001B[34m \u001B[0m Accounts receivable                                           \u001B[34m \u001B[0m       32,285 \u001B[34m \u001B[0m        -17,686 \u001B[34m \u001B[0m    55,845 \u001B[34m \u001B[0m\n",
       "\u001B[34m \u001B[0m\u001B[38;5;245m \u001B[0m\u001B[38;5;245mInventories                                                  \u001B[0m\u001B[38;5;245m \u001B[0m\u001B[34m \u001B[0m\u001B[38;5;245m       18,315\u001B[0m\u001B[38;5;245m \u001B[0m\u001B[34m \u001B[0m\u001B[38;5;245m        -39,470\u001B[0m\u001B[38;5;245m \u001B[0m\u001B[34m \u001B[0m\u001B[38;5;245m   111,288\u001B[0m\u001B[38;5;245m \u001B[0m\u001B[34m \u001B[0m\n",
       "\u001B[34m \u001B[0m Prepaid expenses and other assets                             \u001B[34m \u001B[0m        5,897 \u001B[34m \u001B[0m          1,902 \u001B[34m \u001B[0m     1,268 \u001B[34m \u001B[0m\n",
       "\u001B[34m \u001B[0m\u001B[38;5;245m \u001B[0m\u001B[38;5;245mAccounts payable                                             \u001B[0m\u001B[38;5;245m \u001B[0m\u001B[34m \u001B[0m\u001B[38;5;245m      -39,507\u001B[0m\u001B[38;5;245m \u001B[0m\u001B[34m \u001B[0m\u001B[38;5;245m         62,150\u001B[0m\u001B[38;5;245m \u001B[0m\u001B[34m \u001B[0m\u001B[38;5;245m   -65,928\u001B[0m\u001B[38;5;245m \u001B[0m\u001B[34m \u001B[0m\n",
       "\u001B[34m \u001B[0m Other liabilities and accrued expenses                        \u001B[34m \u001B[0m        5,297 \u001B[34m \u001B[0m          3,792 \u001B[34m \u001B[0m   -40,950 \u001B[34m \u001B[0m\n",
       "\u001B[34m \u001B[0m\u001B[38;5;245m \u001B[0m\u001B[38;5;245mNet cash provided by operating activities                    \u001B[0m\u001B[38;5;245m \u001B[0m\u001B[34m \u001B[0m\u001B[38;5;245m       35,877\u001B[0m\u001B[38;5;245m \u001B[0m\u001B[34m \u001B[0m\u001B[38;5;245m         89,153\u001B[0m\u001B[38;5;245m \u001B[0m\u001B[34m \u001B[0m\u001B[38;5;245m    66,389\u001B[0m\u001B[38;5;245m \u001B[0m\u001B[34m \u001B[0m\n",
       "\u001B[34m \u001B[0m Cash flows from investing activities:                         \u001B[34m \u001B[0m              \u001B[34m \u001B[0m                \u001B[34m \u001B[0m           \u001B[34m \u001B[0m\n",
       "\u001B[34m \u001B[0m\u001B[38;5;245m \u001B[0m\u001B[38;5;245mAcquisition of businesses, net of cash acquired              \u001B[0m\u001B[38;5;245m \u001B[0m\u001B[34m \u001B[0m\u001B[38;5;245m      -43,131\u001B[0m\u001B[38;5;245m \u001B[0m\u001B[34m \u001B[0m\u001B[38;5;245m        -14,220\u001B[0m\u001B[38;5;245m \u001B[0m\u001B[34m \u001B[0m\u001B[38;5;245m   -19,534\u001B[0m\u001B[38;5;245m \u001B[0m\u001B[34m \u001B[0m\n",
       "\u001B[34m \u001B[0m Purchase of property and equipment                            \u001B[34m \u001B[0m       -9,849 \u001B[34m \u001B[0m        -12,761 \u001B[34m \u001B[0m   -26,315 \u001B[34m \u001B[0m\n",
       "\u001B[34m \u001B[0m\u001B[38;5;245m \u001B[0m\u001B[38;5;245mPurchase of intangible asset                                 \u001B[0m\u001B[38;5;245m \u001B[0m\u001B[34m \u001B[0m\u001B[38;5;245m         -100\u001B[0m\u001B[38;5;245m \u001B[0m\u001B[34m \u001B[0m\u001B[38;5;245m               \u001B[0m\u001B[38;5;245m \u001B[0m\u001B[34m \u001B[0m\u001B[38;5;245m          \u001B[0m\u001B[38;5;245m \u001B[0m\u001B[34m \u001B[0m\n",
       "\u001B[34m \u001B[0m Payment of deferred and contingent consideration              \u001B[34m \u001B[0m              \u001B[34m \u001B[0m                \u001B[34m \u001B[0m      -185 \u001B[34m \u001B[0m\n",
       "\u001B[34m \u001B[0m\u001B[38;5;245m \u001B[0m\u001B[38;5;245mPurchase price adjustment related to business                \u001B[0m\u001B[38;5;245m \u001B[0m\u001B[34m \u001B[0m\u001B[38;5;245m        1,041\u001B[0m\u001B[38;5;245m \u001B[0m\u001B[34m \u001B[0m\u001B[38;5;245m               \u001B[0m\u001B[38;5;245m \u001B[0m\u001B[34m \u001B[0m\u001B[38;5;245m          \u001B[0m\u001B[38;5;245m \u001B[0m\u001B[34m \u001B[0m\n",
       "\u001B[34m \u001B[0m\u001B[38;5;245m \u001B[0m\u001B[38;5;245macquisition                                                  \u001B[0m\u001B[38;5;245m \u001B[0m\u001B[34m \u001B[0m\u001B[38;5;245m              \u001B[0m\u001B[34m \u001B[0m\u001B[38;5;245m                \u001B[0m\u001B[34m \u001B[0m\u001B[38;5;245m           \u001B[0m\u001B[34m \u001B[0m\n",
       "\u001B[34m \u001B[0m Payment of bridge loan origination costs related              \u001B[34m \u001B[0m         -666 \u001B[34m \u001B[0m                \u001B[34m \u001B[0m           \u001B[34m \u001B[0m\n",
       "\u001B[34m \u001B[0m to business acquisition                                       \u001B[34m \u001B[0m              \u001B[34m \u001B[0m                \u001B[34m \u001B[0m           \u001B[34m \u001B[0m\n",
       "\u001B[34m \u001B[0m\u001B[38;5;245m \u001B[0m\u001B[38;5;245mInvestment in available-for-sale convertible note            \u001B[0m\u001B[38;5;245m \u001B[0m\u001B[34m \u001B[0m\u001B[38;5;245m             \u001B[0m\u001B[38;5;245m \u001B[0m\u001B[34m \u001B[0m\u001B[38;5;245m               \u001B[0m\u001B[38;5;245m \u001B[0m\u001B[34m \u001B[0m\u001B[38;5;245m    -1,000\u001B[0m\u001B[38;5;245m \u001B[0m\u001B[34m \u001B[0m\n",
       "\u001B[34m \u001B[0m Net cash used in investing activities                         \u001B[34m \u001B[0m      -52,705 \u001B[34m \u001B[0m        -26,981 \u001B[34m \u001B[0m   -47,034 \u001B[34m \u001B[0m\n",
       "\u001B[34m \u001B[0m\u001B[38;5;245m \u001B[0m\u001B[38;5;245mCash flows from financing activities:                        \u001B[0m\u001B[38;5;245m \u001B[0m\u001B[34m \u001B[0m\u001B[38;5;245m             \u001B[0m\u001B[38;5;245m \u001B[0m\u001B[34m \u001B[0m\u001B[38;5;245m               \u001B[0m\u001B[38;5;245m \u001B[0m\u001B[34m \u001B[0m\u001B[38;5;245m          \u001B[0m\u001B[38;5;245m \u001B[0m\u001B[34m \u001B[0m\n",
       "\u001B[34m \u001B[0m Repayment of debt and debt issuance costs                     \u001B[34m \u001B[0m      -25,000 \u001B[34m \u001B[0m        -41,000 \u001B[34m \u001B[0m    -9,483 \u001B[34m \u001B[0m\n",
       "\u001B[34m \u001B[0m\u001B[38;5;245m \u001B[0m\u001B[38;5;245mBorrowings from line of credit                               \u001B[0m\u001B[38;5;245m \u001B[0m\u001B[34m \u001B[0m\u001B[38;5;245m       25,000\u001B[0m\u001B[38;5;245m \u001B[0m\u001B[34m \u001B[0m\u001B[38;5;245m               \u001B[0m\u001B[38;5;245m \u001B[0m\u001B[34m \u001B[0m\u001B[38;5;245m   701,500\u001B[0m\u001B[38;5;245m \u001B[0m\u001B[34m \u001B[0m\n",
       "\u001B[34m \u001B[0m Repayment of line of credit                                   \u001B[34m \u001B[0m      -25,000 \u001B[34m \u001B[0m                \u001B[34m \u001B[0m  -701,500 \u001B[34m \u001B[0m\n",
       "\u001B[34m \u001B[0m\u001B[38;5;245m \u001B[0m\u001B[38;5;245mPurchase of additional ownership interest                    \u001B[0m\u001B[38;5;245m \u001B[0m\u001B[34m \u001B[0m\u001B[38;5;245m      -19,750\u001B[0m\u001B[38;5;245m \u001B[0m\u001B[34m \u001B[0m\u001B[38;5;245m               \u001B[0m\u001B[38;5;245m \u001B[0m\u001B[34m \u001B[0m\u001B[38;5;245m          \u001B[0m\u001B[38;5;245m \u001B[0m\u001B[34m \u001B[0m\n",
       "\u001B[34m \u001B[0m Proceeds from public offering, net of underwriting            \u001B[34m \u001B[0m              \u001B[34m \u001B[0m                \u001B[34m \u001B[0m    81,655 \u001B[34m \u001B[0m\n",
       "\u001B[34m \u001B[0m discounts and commissions                                     \u001B[34m \u001B[0m              \u001B[34m \u001B[0m                \u001B[34m \u001B[0m           \u001B[34m \u001B[0m\n",
       "\u001B[34m \u001B[0m\u001B[38;5;245m \u001B[0m\u001B[38;5;245mPayment of other offering costs                              \u001B[0m\u001B[38;5;245m \u001B[0m\u001B[34m \u001B[0m\u001B[38;5;245m             \u001B[0m\u001B[38;5;245m \u001B[0m\u001B[34m \u001B[0m\u001B[38;5;245m           -497\u001B[0m\u001B[38;5;245m \u001B[0m\u001B[34m \u001B[0m\u001B[38;5;245m      -296\u001B[0m\u001B[38;5;245m \u001B[0m\u001B[34m \u001B[0m\n",
       "\u001B[34m \u001B[0m Proceeds from issuance of shares through employee             \u001B[34m \u001B[0m        5,377 \u001B[34m \u001B[0m          7,449 \u001B[34m \u001B[0m     7,015 \u001B[34m \u001B[0m\n",
       "\u001B[34m \u001B[0m equity incentive plans                                        \u001B[34m \u001B[0m              \u001B[34m \u001B[0m                \u001B[34m \u001B[0m           \u001B[34m \u001B[0m\n",
       "\u001B[34m \u001B[0m\u001B[38;5;245m \u001B[0m\u001B[38;5;245mPayment of taxes related to net share settlement             \u001B[0m\u001B[38;5;245m \u001B[0m\u001B[34m \u001B[0m\u001B[38;5;245m         -573\u001B[0m\u001B[38;5;245m \u001B[0m\u001B[34m \u001B[0m\u001B[38;5;245m         -1,409\u001B[0m\u001B[38;5;245m \u001B[0m\u001B[34m \u001B[0m\u001B[38;5;245m    -1,532\u001B[0m\u001B[38;5;245m \u001B[0m\u001B[34m \u001B[0m\n",
       "\u001B[34m \u001B[0m\u001B[38;5;245m \u001B[0m\u001B[38;5;245mof equity awards                                             \u001B[0m\u001B[38;5;245m \u001B[0m\u001B[34m \u001B[0m\u001B[38;5;245m              \u001B[0m\u001B[34m \u001B[0m\u001B[38;5;245m                \u001B[0m\u001B[34m \u001B[0m\u001B[38;5;245m           \u001B[0m\u001B[34m \u001B[0m\n",
       "\u001B[34m \u001B[0m Dividend paid to noncontrolling interest                      \u001B[34m \u001B[0m       -5,792 \u001B[34m \u001B[0m           -980 \u001B[34m \u001B[0m    -4,312 \u001B[34m \u001B[0m\n",
       "\u001B[34m \u001B[0m\u001B[38;5;245m \u001B[0m\u001B[38;5;245mPayment of deferred and contingent consideration             \u001B[0m\u001B[38;5;245m \u001B[0m\u001B[34m \u001B[0m\u001B[38;5;245m       -4,942\u001B[0m\u001B[38;5;245m \u001B[0m\u001B[34m \u001B[0m\u001B[38;5;245m           -950\u001B[0m\u001B[38;5;245m \u001B[0m\u001B[34m \u001B[0m\u001B[38;5;245m      -438\u001B[0m\u001B[38;5;245m \u001B[0m\u001B[34m \u001B[0m\n",
       "\u001B[34m \u001B[0m Net cash provided by (used in) financing                      \u001B[34m \u001B[0m      -50,680 \u001B[34m \u001B[0m        -37,387 \u001B[34m \u001B[0m    72,609 \u001B[34m \u001B[0m\n",
       "\u001B[34m \u001B[0m activities                                                    \u001B[34m \u001B[0m              \u001B[34m \u001B[0m                \u001B[34m \u001B[0m           \u001B[34m \u001B[0m\n",
       "\u001B[34m \u001B[0m\u001B[38;5;245m \u001B[0m\u001B[38;5;245mEffect of exchange rate changes on cash                      \u001B[0m\u001B[38;5;245m \u001B[0m\u001B[34m \u001B[0m\u001B[38;5;245m       -1,425\u001B[0m\u001B[38;5;245m \u001B[0m\u001B[34m \u001B[0m\u001B[38;5;245m           -281\u001B[0m\u001B[38;5;245m \u001B[0m\u001B[34m \u001B[0m\u001B[38;5;245m    -3,284\u001B[0m\u001B[38;5;245m \u001B[0m\u001B[34m \u001B[0m\n",
       "\u001B[34m \u001B[0m Net increase (decrease) in cash and restricted                \u001B[34m \u001B[0m      -68,933 \u001B[34m \u001B[0m         24,504 \u001B[34m \u001B[0m    88,680 \u001B[34m \u001B[0m\n",
       "\u001B[34m \u001B[0m cash                                                          \u001B[34m \u001B[0m              \u001B[34m \u001B[0m                \u001B[34m \u001B[0m           \u001B[34m \u001B[0m\n",
       "\u001B[34m \u001B[0m\u001B[38;5;245m \u001B[0m\u001B[38;5;245mCash and restricted cash at the beginning of the             \u001B[0m\u001B[38;5;245m \u001B[0m\u001B[34m \u001B[0m\u001B[38;5;245m      178,564\u001B[0m\u001B[38;5;245m \u001B[0m\u001B[34m \u001B[0m\u001B[38;5;245m        154,060\u001B[0m\u001B[38;5;245m \u001B[0m\u001B[34m \u001B[0m\u001B[38;5;245m    65,380\u001B[0m\u001B[38;5;245m \u001B[0m\u001B[34m \u001B[0m\n",
       "\u001B[34m \u001B[0m\u001B[38;5;245m \u001B[0m\u001B[38;5;245myear                                                         \u001B[0m\u001B[38;5;245m \u001B[0m\u001B[34m \u001B[0m\u001B[38;5;245m              \u001B[0m\u001B[34m \u001B[0m\u001B[38;5;245m                \u001B[0m\u001B[34m \u001B[0m\u001B[38;5;245m           \u001B[0m\u001B[34m \u001B[0m\n",
       "\u001B[34m \u001B[0m Cash and restricted cash at the end of the year               \u001B[34m \u001B[0m      109,631 \u001B[34m \u001B[0m        178,564 \u001B[34m \u001B[0m   154,060 \u001B[34m \u001B[0m\n",
       "\u001B[34m \u001B[0m\u001B[38;5;245m \u001B[0m\u001B[38;5;245mSupplemental cash flow disclosures:                          \u001B[0m\u001B[38;5;245m \u001B[0m\u001B[34m \u001B[0m\u001B[38;5;245m             \u001B[0m\u001B[38;5;245m \u001B[0m\u001B[34m \u001B[0m\u001B[38;5;245m               \u001B[0m\u001B[38;5;245m \u001B[0m\u001B[34m \u001B[0m\u001B[38;5;245m          \u001B[0m\u001B[38;5;245m \u001B[0m\u001B[34m \u001B[0m\n",
       "\u001B[34m \u001B[0m Cash paid for interest                                        \u001B[34m \u001B[0m       12,793 \u001B[34m \u001B[0m         16,772 \u001B[34m \u001B[0m     9,019 \u001B[34m \u001B[0m\n",
       "\u001B[34m \u001B[0m\u001B[38;5;245m \u001B[0m\u001B[38;5;245mCash paid for income taxes, net                              \u001B[0m\u001B[38;5;245m \u001B[0m\u001B[34m \u001B[0m\u001B[38;5;245m        5,100\u001B[0m\u001B[38;5;245m \u001B[0m\u001B[34m \u001B[0m\u001B[38;5;245m          7,375\u001B[0m\u001B[38;5;245m \u001B[0m\u001B[34m \u001B[0m\u001B[38;5;245m    14,221\u001B[0m\u001B[38;5;245m \u001B[0m\u001B[34m \u001B[0m\n",
       "\u001B[34m \u001B[0m Supplemental disclosure of non-cash investing and             \u001B[34m \u001B[0m              \u001B[34m \u001B[0m                \u001B[34m \u001B[0m           \u001B[34m \u001B[0m\n",
       "\u001B[34m \u001B[0m financing activities:                                         \u001B[34m \u001B[0m              \u001B[34m \u001B[0m                \u001B[34m \u001B[0m           \u001B[34m \u001B[0m\n",
       "\u001B[34m \u001B[0m\u001B[38;5;245m \u001B[0m\u001B[38;5;245mEquipment purchased and unpaid at period end                 \u001B[0m\u001B[38;5;245m \u001B[0m\u001B[34m \u001B[0m\u001B[38;5;245m        2,493\u001B[0m\u001B[38;5;245m \u001B[0m\u001B[34m \u001B[0m\u001B[38;5;245m          1,420\u001B[0m\u001B[38;5;245m \u001B[0m\u001B[34m \u001B[0m\u001B[38;5;245m     4,985\u001B[0m\u001B[38;5;245m \u001B[0m\u001B[34m \u001B[0m\n",
       "\u001B[34m \u001B[0m Issuance of common stock relating to business                 \u001B[34m \u001B[0m              \u001B[34m \u001B[0m                \u001B[34m \u001B[0m  $ 14,505 \u001B[34m \u001B[0m\n",
       "\u001B[34m \u001B[0m acquisition                                                   \u001B[34m \u001B[0m              \u001B[34m \u001B[0m                \u001B[34m \u001B[0m           \u001B[34m \u001B[0m\n",
       "\u001B[34m \u001B[0m\u001B[38;5;245m \u001B[0m\u001B[38;5;245mPurchase Consideration Related To Business                   \u001B[0m\u001B[38;5;245m \u001B[0m\u001B[34m \u001B[0m\u001B[38;5;245m        $ 592\u001B[0m\u001B[38;5;245m \u001B[0m\u001B[34m \u001B[0m\u001B[38;5;245m               \u001B[0m\u001B[38;5;245m \u001B[0m\u001B[34m \u001B[0m\u001B[38;5;245m          \u001B[0m\u001B[38;5;245m \u001B[0m\u001B[34m \u001B[0m\n",
       "\u001B[34m \u001B[0m\u001B[38;5;245m \u001B[0m\u001B[38;5;245mCombination                                                  \u001B[0m\u001B[38;5;245m \u001B[0m\u001B[34m \u001B[0m\u001B[38;5;245m              \u001B[0m\u001B[34m \u001B[0m\u001B[38;5;245m                \u001B[0m\u001B[34m \u001B[0m\u001B[38;5;245m           \u001B[0m\u001B[34m \u001B[0m\n",
       "\u001B[34m \u001B[0m Receivable for business acquisition purchase price            \u001B[34m \u001B[0m              \u001B[34m \u001B[0m        $ 1,041 \u001B[34m \u001B[0m           \u001B[34m \u001B[0m\n",
       "\u001B[34m \u001B[0m adjustment                                                    \u001B[34m \u001B[0m              \u001B[34m \u001B[0m                \u001B[34m \u001B[0m           \u001B[34m \u001B[0m\n",
       "\u001B[34m                                                                                                             \u001B[0m\n"
      ],
      "text/html": [
       "<pre style=\"white-space:pre;overflow-x:auto;line-height:normal;font-family:Menlo,'DejaVu Sans Mono',consolas,'Courier New',monospace\"><span style=\"color: #000080; text-decoration-color: #000080\">                                                                                                             </span>\n",
       "<span style=\"color: #000080; text-decoration-color: #000080\"> </span><span style=\"font-weight: bold\"> Consolidated Statements of Cash Flows - USD ($)$ in Thousands </span><span style=\"color: #000080; text-decoration-color: #000080\"> </span><span style=\"font-weight: bold\">              </span><span style=\"color: #000080; text-decoration-color: #000080\"> </span><span style=\"font-weight: bold\">12 Months Ended </span><span style=\"color: #000080; text-decoration-color: #000080\"> </span><span style=\"font-weight: bold\">           </span><span style=\"color: #000080; text-decoration-color: #000080\"> </span>\n",
       "<span style=\"color: #000080; text-decoration-color: #000080\"> </span><span style=\"font-weight: bold\"> Dec. 31, 2024                                                 </span><span style=\"color: #000080; text-decoration-color: #000080\"> </span><span style=\"font-weight: bold\">Dec. 31, 2023 </span><span style=\"color: #000080; text-decoration-color: #000080\"> </span><span style=\"font-weight: bold\">  Dec. 31, 2022 </span><span style=\"color: #000080; text-decoration-color: #000080\"> </span><span style=\"font-weight: bold\">           </span><span style=\"color: #000080; text-decoration-color: #000080\"> </span>\n",
       "<span style=\"color: #000080; text-decoration-color: #000080\"> ─────────────────────────────────────────────────────────────────────────────────────────────────────────── </span>\n",
       "<span style=\"color: #000080; text-decoration-color: #000080\"> </span> Cash flows from operating activities:                         <span style=\"color: #000080; text-decoration-color: #000080\"> </span>              <span style=\"color: #000080; text-decoration-color: #000080\"> </span>                <span style=\"color: #000080; text-decoration-color: #000080\"> </span>           <span style=\"color: #000080; text-decoration-color: #000080\"> </span>\n",
       "<span style=\"color: #000080; text-decoration-color: #000080\"> </span><span style=\"color: #8a8a8a; text-decoration-color: #8a8a8a\"> Net loss                                                      </span><span style=\"color: #000080; text-decoration-color: #000080\"> </span><span style=\"color: #8a8a8a; text-decoration-color: #8a8a8a\">   $ (83,394) </span><span style=\"color: #000080; text-decoration-color: #000080\"> </span><span style=\"color: #8a8a8a; text-decoration-color: #8a8a8a\">      $ (1,037) </span><span style=\"color: #000080; text-decoration-color: #000080\"> </span><span style=\"color: #8a8a8a; text-decoration-color: #8a8a8a\">$ (53,946) </span><span style=\"color: #000080; text-decoration-color: #000080\"> </span>\n",
       "<span style=\"color: #000080; text-decoration-color: #000080\"> </span> Adjustments to reconcile net income (loss) to net             <span style=\"color: #000080; text-decoration-color: #000080\"> </span>              <span style=\"color: #000080; text-decoration-color: #000080\"> </span>                <span style=\"color: #000080; text-decoration-color: #000080\"> </span>           <span style=\"color: #000080; text-decoration-color: #000080\"> </span>\n",
       "<span style=\"color: #000080; text-decoration-color: #000080\"> </span> cash provided by operating activities:                        <span style=\"color: #000080; text-decoration-color: #000080\"> </span>              <span style=\"color: #000080; text-decoration-color: #000080\"> </span>                <span style=\"color: #000080; text-decoration-color: #000080\"> </span>           <span style=\"color: #000080; text-decoration-color: #000080\"> </span>\n",
       "<span style=\"color: #000080; text-decoration-color: #000080\"> </span><span style=\"color: #8a8a8a; text-decoration-color: #8a8a8a\"> Stock-based compensation                                      </span><span style=\"color: #000080; text-decoration-color: #000080\"> </span><span style=\"color: #8a8a8a; text-decoration-color: #8a8a8a\">       30,591 </span><span style=\"color: #000080; text-decoration-color: #000080\"> </span><span style=\"color: #8a8a8a; text-decoration-color: #8a8a8a\">         30,873 </span><span style=\"color: #000080; text-decoration-color: #000080\"> </span><span style=\"color: #8a8a8a; text-decoration-color: #8a8a8a\">    22,158 </span><span style=\"color: #000080; text-decoration-color: #000080\"> </span>\n",
       "<span style=\"color: #000080; text-decoration-color: #000080\"> </span> Depreciation                                                  <span style=\"color: #000080; text-decoration-color: #000080\"> </span>       13,449 <span style=\"color: #000080; text-decoration-color: #000080\"> </span>         12,210 <span style=\"color: #000080; text-decoration-color: #000080\"> </span>    10,728 <span style=\"color: #000080; text-decoration-color: #000080\"> </span>\n",
       "<span style=\"color: #000080; text-decoration-color: #000080\"> </span><span style=\"color: #8a8a8a; text-decoration-color: #8a8a8a\"> Amortization                                                  </span><span style=\"color: #000080; text-decoration-color: #000080\"> </span><span style=\"color: #8a8a8a; text-decoration-color: #8a8a8a\">       38,448 </span><span style=\"color: #000080; text-decoration-color: #000080\"> </span><span style=\"color: #8a8a8a; text-decoration-color: #8a8a8a\">         38,488 </span><span style=\"color: #000080; text-decoration-color: #000080\"> </span><span style=\"color: #8a8a8a; text-decoration-color: #8a8a8a\">    42,795 </span><span style=\"color: #000080; text-decoration-color: #000080\"> </span>\n",
       "<span style=\"color: #000080; text-decoration-color: #000080\"> </span> Bargain purchase gain on business acquisition                 <span style=\"color: #000080; text-decoration-color: #000080\"> </span>       -2,581 <span style=\"color: #000080; text-decoration-color: #000080\"> </span>                <span style=\"color: #000080; text-decoration-color: #000080\"> </span>           <span style=\"color: #000080; text-decoration-color: #000080\"> </span>\n",
       "<span style=\"color: #000080; text-decoration-color: #000080\"> </span><span style=\"color: #8a8a8a; text-decoration-color: #8a8a8a\"> Deferred income taxes, net of valuation allowance             </span><span style=\"color: #000080; text-decoration-color: #000080\"> </span><span style=\"color: #8a8a8a; text-decoration-color: #8a8a8a\">       11,416 </span><span style=\"color: #000080; text-decoration-color: #000080\"> </span><span style=\"color: #8a8a8a; text-decoration-color: #8a8a8a\">         -6,332 </span><span style=\"color: #000080; text-decoration-color: #000080\"> </span><span style=\"color: #8a8a8a; text-decoration-color: #8a8a8a\">   -21,736 </span><span style=\"color: #000080; text-decoration-color: #000080\"> </span>\n",
       "<span style=\"color: #000080; text-decoration-color: #000080\"> </span> Other                                                         <span style=\"color: #000080; text-decoration-color: #000080\"> </span>        5,661 <span style=\"color: #000080; text-decoration-color: #000080\"> </span>          4,263 <span style=\"color: #000080; text-decoration-color: #000080\"> </span>     4,867 <span style=\"color: #000080; text-decoration-color: #000080\"> </span>\n",
       "<span style=\"color: #000080; text-decoration-color: #000080\"> </span><span style=\"color: #8a8a8a; text-decoration-color: #8a8a8a\"> Changes in operating assets and liabilities:                  </span><span style=\"color: #000080; text-decoration-color: #000080\"> </span><span style=\"color: #8a8a8a; text-decoration-color: #8a8a8a\">              </span><span style=\"color: #000080; text-decoration-color: #000080\"> </span><span style=\"color: #8a8a8a; text-decoration-color: #8a8a8a\">                </span><span style=\"color: #000080; text-decoration-color: #000080\"> </span><span style=\"color: #8a8a8a; text-decoration-color: #8a8a8a\">           </span><span style=\"color: #000080; text-decoration-color: #000080\"> </span>\n",
       "<span style=\"color: #000080; text-decoration-color: #000080\"> </span> Accounts receivable                                           <span style=\"color: #000080; text-decoration-color: #000080\"> </span>       32,285 <span style=\"color: #000080; text-decoration-color: #000080\"> </span>        -17,686 <span style=\"color: #000080; text-decoration-color: #000080\"> </span>    55,845 <span style=\"color: #000080; text-decoration-color: #000080\"> </span>\n",
       "<span style=\"color: #000080; text-decoration-color: #000080\"> </span><span style=\"color: #8a8a8a; text-decoration-color: #8a8a8a\"> Inventories                                                   </span><span style=\"color: #000080; text-decoration-color: #000080\"> </span><span style=\"color: #8a8a8a; text-decoration-color: #8a8a8a\">       18,315 </span><span style=\"color: #000080; text-decoration-color: #000080\"> </span><span style=\"color: #8a8a8a; text-decoration-color: #8a8a8a\">        -39,470 </span><span style=\"color: #000080; text-decoration-color: #000080\"> </span><span style=\"color: #8a8a8a; text-decoration-color: #8a8a8a\">   111,288 </span><span style=\"color: #000080; text-decoration-color: #000080\"> </span>\n",
       "<span style=\"color: #000080; text-decoration-color: #000080\"> </span> Prepaid expenses and other assets                             <span style=\"color: #000080; text-decoration-color: #000080\"> </span>        5,897 <span style=\"color: #000080; text-decoration-color: #000080\"> </span>          1,902 <span style=\"color: #000080; text-decoration-color: #000080\"> </span>     1,268 <span style=\"color: #000080; text-decoration-color: #000080\"> </span>\n",
       "<span style=\"color: #000080; text-decoration-color: #000080\"> </span><span style=\"color: #8a8a8a; text-decoration-color: #8a8a8a\"> Accounts payable                                              </span><span style=\"color: #000080; text-decoration-color: #000080\"> </span><span style=\"color: #8a8a8a; text-decoration-color: #8a8a8a\">      -39,507 </span><span style=\"color: #000080; text-decoration-color: #000080\"> </span><span style=\"color: #8a8a8a; text-decoration-color: #8a8a8a\">         62,150 </span><span style=\"color: #000080; text-decoration-color: #000080\"> </span><span style=\"color: #8a8a8a; text-decoration-color: #8a8a8a\">   -65,928 </span><span style=\"color: #000080; text-decoration-color: #000080\"> </span>\n",
       "<span style=\"color: #000080; text-decoration-color: #000080\"> </span> Other liabilities and accrued expenses                        <span style=\"color: #000080; text-decoration-color: #000080\"> </span>        5,297 <span style=\"color: #000080; text-decoration-color: #000080\"> </span>          3,792 <span style=\"color: #000080; text-decoration-color: #000080\"> </span>   -40,950 <span style=\"color: #000080; text-decoration-color: #000080\"> </span>\n",
       "<span style=\"color: #000080; text-decoration-color: #000080\"> </span><span style=\"color: #8a8a8a; text-decoration-color: #8a8a8a\"> Net cash provided by operating activities                     </span><span style=\"color: #000080; text-decoration-color: #000080\"> </span><span style=\"color: #8a8a8a; text-decoration-color: #8a8a8a\">       35,877 </span><span style=\"color: #000080; text-decoration-color: #000080\"> </span><span style=\"color: #8a8a8a; text-decoration-color: #8a8a8a\">         89,153 </span><span style=\"color: #000080; text-decoration-color: #000080\"> </span><span style=\"color: #8a8a8a; text-decoration-color: #8a8a8a\">    66,389 </span><span style=\"color: #000080; text-decoration-color: #000080\"> </span>\n",
       "<span style=\"color: #000080; text-decoration-color: #000080\"> </span> Cash flows from investing activities:                         <span style=\"color: #000080; text-decoration-color: #000080\"> </span>              <span style=\"color: #000080; text-decoration-color: #000080\"> </span>                <span style=\"color: #000080; text-decoration-color: #000080\"> </span>           <span style=\"color: #000080; text-decoration-color: #000080\"> </span>\n",
       "<span style=\"color: #000080; text-decoration-color: #000080\"> </span><span style=\"color: #8a8a8a; text-decoration-color: #8a8a8a\"> Acquisition of businesses, net of cash acquired               </span><span style=\"color: #000080; text-decoration-color: #000080\"> </span><span style=\"color: #8a8a8a; text-decoration-color: #8a8a8a\">      -43,131 </span><span style=\"color: #000080; text-decoration-color: #000080\"> </span><span style=\"color: #8a8a8a; text-decoration-color: #8a8a8a\">        -14,220 </span><span style=\"color: #000080; text-decoration-color: #000080\"> </span><span style=\"color: #8a8a8a; text-decoration-color: #8a8a8a\">   -19,534 </span><span style=\"color: #000080; text-decoration-color: #000080\"> </span>\n",
       "<span style=\"color: #000080; text-decoration-color: #000080\"> </span> Purchase of property and equipment                            <span style=\"color: #000080; text-decoration-color: #000080\"> </span>       -9,849 <span style=\"color: #000080; text-decoration-color: #000080\"> </span>        -12,761 <span style=\"color: #000080; text-decoration-color: #000080\"> </span>   -26,315 <span style=\"color: #000080; text-decoration-color: #000080\"> </span>\n",
       "<span style=\"color: #000080; text-decoration-color: #000080\"> </span><span style=\"color: #8a8a8a; text-decoration-color: #8a8a8a\"> Purchase of intangible asset                                  </span><span style=\"color: #000080; text-decoration-color: #000080\"> </span><span style=\"color: #8a8a8a; text-decoration-color: #8a8a8a\">         -100 </span><span style=\"color: #000080; text-decoration-color: #000080\"> </span><span style=\"color: #8a8a8a; text-decoration-color: #8a8a8a\">                </span><span style=\"color: #000080; text-decoration-color: #000080\"> </span><span style=\"color: #8a8a8a; text-decoration-color: #8a8a8a\">           </span><span style=\"color: #000080; text-decoration-color: #000080\"> </span>\n",
       "<span style=\"color: #000080; text-decoration-color: #000080\"> </span> Payment of deferred and contingent consideration              <span style=\"color: #000080; text-decoration-color: #000080\"> </span>              <span style=\"color: #000080; text-decoration-color: #000080\"> </span>                <span style=\"color: #000080; text-decoration-color: #000080\"> </span>      -185 <span style=\"color: #000080; text-decoration-color: #000080\"> </span>\n",
       "<span style=\"color: #000080; text-decoration-color: #000080\"> </span><span style=\"color: #8a8a8a; text-decoration-color: #8a8a8a\"> Purchase price adjustment related to business                 </span><span style=\"color: #000080; text-decoration-color: #000080\"> </span><span style=\"color: #8a8a8a; text-decoration-color: #8a8a8a\">        1,041 </span><span style=\"color: #000080; text-decoration-color: #000080\"> </span><span style=\"color: #8a8a8a; text-decoration-color: #8a8a8a\">                </span><span style=\"color: #000080; text-decoration-color: #000080\"> </span><span style=\"color: #8a8a8a; text-decoration-color: #8a8a8a\">           </span><span style=\"color: #000080; text-decoration-color: #000080\"> </span>\n",
       "<span style=\"color: #000080; text-decoration-color: #000080\"> </span><span style=\"color: #8a8a8a; text-decoration-color: #8a8a8a\"> acquisition                                                   </span><span style=\"color: #000080; text-decoration-color: #000080\"> </span><span style=\"color: #8a8a8a; text-decoration-color: #8a8a8a\">              </span><span style=\"color: #000080; text-decoration-color: #000080\"> </span><span style=\"color: #8a8a8a; text-decoration-color: #8a8a8a\">                </span><span style=\"color: #000080; text-decoration-color: #000080\"> </span><span style=\"color: #8a8a8a; text-decoration-color: #8a8a8a\">           </span><span style=\"color: #000080; text-decoration-color: #000080\"> </span>\n",
       "<span style=\"color: #000080; text-decoration-color: #000080\"> </span> Payment of bridge loan origination costs related              <span style=\"color: #000080; text-decoration-color: #000080\"> </span>         -666 <span style=\"color: #000080; text-decoration-color: #000080\"> </span>                <span style=\"color: #000080; text-decoration-color: #000080\"> </span>           <span style=\"color: #000080; text-decoration-color: #000080\"> </span>\n",
       "<span style=\"color: #000080; text-decoration-color: #000080\"> </span> to business acquisition                                       <span style=\"color: #000080; text-decoration-color: #000080\"> </span>              <span style=\"color: #000080; text-decoration-color: #000080\"> </span>                <span style=\"color: #000080; text-decoration-color: #000080\"> </span>           <span style=\"color: #000080; text-decoration-color: #000080\"> </span>\n",
       "<span style=\"color: #000080; text-decoration-color: #000080\"> </span><span style=\"color: #8a8a8a; text-decoration-color: #8a8a8a\"> Investment in available-for-sale convertible note             </span><span style=\"color: #000080; text-decoration-color: #000080\"> </span><span style=\"color: #8a8a8a; text-decoration-color: #8a8a8a\">              </span><span style=\"color: #000080; text-decoration-color: #000080\"> </span><span style=\"color: #8a8a8a; text-decoration-color: #8a8a8a\">                </span><span style=\"color: #000080; text-decoration-color: #000080\"> </span><span style=\"color: #8a8a8a; text-decoration-color: #8a8a8a\">    -1,000 </span><span style=\"color: #000080; text-decoration-color: #000080\"> </span>\n",
       "<span style=\"color: #000080; text-decoration-color: #000080\"> </span> Net cash used in investing activities                         <span style=\"color: #000080; text-decoration-color: #000080\"> </span>      -52,705 <span style=\"color: #000080; text-decoration-color: #000080\"> </span>        -26,981 <span style=\"color: #000080; text-decoration-color: #000080\"> </span>   -47,034 <span style=\"color: #000080; text-decoration-color: #000080\"> </span>\n",
       "<span style=\"color: #000080; text-decoration-color: #000080\"> </span><span style=\"color: #8a8a8a; text-decoration-color: #8a8a8a\"> Cash flows from financing activities:                         </span><span style=\"color: #000080; text-decoration-color: #000080\"> </span><span style=\"color: #8a8a8a; text-decoration-color: #8a8a8a\">              </span><span style=\"color: #000080; text-decoration-color: #000080\"> </span><span style=\"color: #8a8a8a; text-decoration-color: #8a8a8a\">                </span><span style=\"color: #000080; text-decoration-color: #000080\"> </span><span style=\"color: #8a8a8a; text-decoration-color: #8a8a8a\">           </span><span style=\"color: #000080; text-decoration-color: #000080\"> </span>\n",
       "<span style=\"color: #000080; text-decoration-color: #000080\"> </span> Repayment of debt and debt issuance costs                     <span style=\"color: #000080; text-decoration-color: #000080\"> </span>      -25,000 <span style=\"color: #000080; text-decoration-color: #000080\"> </span>        -41,000 <span style=\"color: #000080; text-decoration-color: #000080\"> </span>    -9,483 <span style=\"color: #000080; text-decoration-color: #000080\"> </span>\n",
       "<span style=\"color: #000080; text-decoration-color: #000080\"> </span><span style=\"color: #8a8a8a; text-decoration-color: #8a8a8a\"> Borrowings from line of credit                                </span><span style=\"color: #000080; text-decoration-color: #000080\"> </span><span style=\"color: #8a8a8a; text-decoration-color: #8a8a8a\">       25,000 </span><span style=\"color: #000080; text-decoration-color: #000080\"> </span><span style=\"color: #8a8a8a; text-decoration-color: #8a8a8a\">                </span><span style=\"color: #000080; text-decoration-color: #000080\"> </span><span style=\"color: #8a8a8a; text-decoration-color: #8a8a8a\">   701,500 </span><span style=\"color: #000080; text-decoration-color: #000080\"> </span>\n",
       "<span style=\"color: #000080; text-decoration-color: #000080\"> </span> Repayment of line of credit                                   <span style=\"color: #000080; text-decoration-color: #000080\"> </span>      -25,000 <span style=\"color: #000080; text-decoration-color: #000080\"> </span>                <span style=\"color: #000080; text-decoration-color: #000080\"> </span>  -701,500 <span style=\"color: #000080; text-decoration-color: #000080\"> </span>\n",
       "<span style=\"color: #000080; text-decoration-color: #000080\"> </span><span style=\"color: #8a8a8a; text-decoration-color: #8a8a8a\"> Purchase of additional ownership interest                     </span><span style=\"color: #000080; text-decoration-color: #000080\"> </span><span style=\"color: #8a8a8a; text-decoration-color: #8a8a8a\">      -19,750 </span><span style=\"color: #000080; text-decoration-color: #000080\"> </span><span style=\"color: #8a8a8a; text-decoration-color: #8a8a8a\">                </span><span style=\"color: #000080; text-decoration-color: #000080\"> </span><span style=\"color: #8a8a8a; text-decoration-color: #8a8a8a\">           </span><span style=\"color: #000080; text-decoration-color: #000080\"> </span>\n",
       "<span style=\"color: #000080; text-decoration-color: #000080\"> </span> Proceeds from public offering, net of underwriting            <span style=\"color: #000080; text-decoration-color: #000080\"> </span>              <span style=\"color: #000080; text-decoration-color: #000080\"> </span>                <span style=\"color: #000080; text-decoration-color: #000080\"> </span>    81,655 <span style=\"color: #000080; text-decoration-color: #000080\"> </span>\n",
       "<span style=\"color: #000080; text-decoration-color: #000080\"> </span> discounts and commissions                                     <span style=\"color: #000080; text-decoration-color: #000080\"> </span>              <span style=\"color: #000080; text-decoration-color: #000080\"> </span>                <span style=\"color: #000080; text-decoration-color: #000080\"> </span>           <span style=\"color: #000080; text-decoration-color: #000080\"> </span>\n",
       "<span style=\"color: #000080; text-decoration-color: #000080\"> </span><span style=\"color: #8a8a8a; text-decoration-color: #8a8a8a\"> Payment of other offering costs                               </span><span style=\"color: #000080; text-decoration-color: #000080\"> </span><span style=\"color: #8a8a8a; text-decoration-color: #8a8a8a\">              </span><span style=\"color: #000080; text-decoration-color: #000080\"> </span><span style=\"color: #8a8a8a; text-decoration-color: #8a8a8a\">           -497 </span><span style=\"color: #000080; text-decoration-color: #000080\"> </span><span style=\"color: #8a8a8a; text-decoration-color: #8a8a8a\">      -296 </span><span style=\"color: #000080; text-decoration-color: #000080\"> </span>\n",
       "<span style=\"color: #000080; text-decoration-color: #000080\"> </span> Proceeds from issuance of shares through employee             <span style=\"color: #000080; text-decoration-color: #000080\"> </span>        5,377 <span style=\"color: #000080; text-decoration-color: #000080\"> </span>          7,449 <span style=\"color: #000080; text-decoration-color: #000080\"> </span>     7,015 <span style=\"color: #000080; text-decoration-color: #000080\"> </span>\n",
       "<span style=\"color: #000080; text-decoration-color: #000080\"> </span> equity incentive plans                                        <span style=\"color: #000080; text-decoration-color: #000080\"> </span>              <span style=\"color: #000080; text-decoration-color: #000080\"> </span>                <span style=\"color: #000080; text-decoration-color: #000080\"> </span>           <span style=\"color: #000080; text-decoration-color: #000080\"> </span>\n",
       "<span style=\"color: #000080; text-decoration-color: #000080\"> </span><span style=\"color: #8a8a8a; text-decoration-color: #8a8a8a\"> Payment of taxes related to net share settlement              </span><span style=\"color: #000080; text-decoration-color: #000080\"> </span><span style=\"color: #8a8a8a; text-decoration-color: #8a8a8a\">         -573 </span><span style=\"color: #000080; text-decoration-color: #000080\"> </span><span style=\"color: #8a8a8a; text-decoration-color: #8a8a8a\">         -1,409 </span><span style=\"color: #000080; text-decoration-color: #000080\"> </span><span style=\"color: #8a8a8a; text-decoration-color: #8a8a8a\">    -1,532 </span><span style=\"color: #000080; text-decoration-color: #000080\"> </span>\n",
       "<span style=\"color: #000080; text-decoration-color: #000080\"> </span><span style=\"color: #8a8a8a; text-decoration-color: #8a8a8a\"> of equity awards                                              </span><span style=\"color: #000080; text-decoration-color: #000080\"> </span><span style=\"color: #8a8a8a; text-decoration-color: #8a8a8a\">              </span><span style=\"color: #000080; text-decoration-color: #000080\"> </span><span style=\"color: #8a8a8a; text-decoration-color: #8a8a8a\">                </span><span style=\"color: #000080; text-decoration-color: #000080\"> </span><span style=\"color: #8a8a8a; text-decoration-color: #8a8a8a\">           </span><span style=\"color: #000080; text-decoration-color: #000080\"> </span>\n",
       "<span style=\"color: #000080; text-decoration-color: #000080\"> </span> Dividend paid to noncontrolling interest                      <span style=\"color: #000080; text-decoration-color: #000080\"> </span>       -5,792 <span style=\"color: #000080; text-decoration-color: #000080\"> </span>           -980 <span style=\"color: #000080; text-decoration-color: #000080\"> </span>    -4,312 <span style=\"color: #000080; text-decoration-color: #000080\"> </span>\n",
       "<span style=\"color: #000080; text-decoration-color: #000080\"> </span><span style=\"color: #8a8a8a; text-decoration-color: #8a8a8a\"> Payment of deferred and contingent consideration              </span><span style=\"color: #000080; text-decoration-color: #000080\"> </span><span style=\"color: #8a8a8a; text-decoration-color: #8a8a8a\">       -4,942 </span><span style=\"color: #000080; text-decoration-color: #000080\"> </span><span style=\"color: #8a8a8a; text-decoration-color: #8a8a8a\">           -950 </span><span style=\"color: #000080; text-decoration-color: #000080\"> </span><span style=\"color: #8a8a8a; text-decoration-color: #8a8a8a\">      -438 </span><span style=\"color: #000080; text-decoration-color: #000080\"> </span>\n",
       "<span style=\"color: #000080; text-decoration-color: #000080\"> </span> Net cash provided by (used in) financing                      <span style=\"color: #000080; text-decoration-color: #000080\"> </span>      -50,680 <span style=\"color: #000080; text-decoration-color: #000080\"> </span>        -37,387 <span style=\"color: #000080; text-decoration-color: #000080\"> </span>    72,609 <span style=\"color: #000080; text-decoration-color: #000080\"> </span>\n",
       "<span style=\"color: #000080; text-decoration-color: #000080\"> </span> activities                                                    <span style=\"color: #000080; text-decoration-color: #000080\"> </span>              <span style=\"color: #000080; text-decoration-color: #000080\"> </span>                <span style=\"color: #000080; text-decoration-color: #000080\"> </span>           <span style=\"color: #000080; text-decoration-color: #000080\"> </span>\n",
       "<span style=\"color: #000080; text-decoration-color: #000080\"> </span><span style=\"color: #8a8a8a; text-decoration-color: #8a8a8a\"> Effect of exchange rate changes on cash                       </span><span style=\"color: #000080; text-decoration-color: #000080\"> </span><span style=\"color: #8a8a8a; text-decoration-color: #8a8a8a\">       -1,425 </span><span style=\"color: #000080; text-decoration-color: #000080\"> </span><span style=\"color: #8a8a8a; text-decoration-color: #8a8a8a\">           -281 </span><span style=\"color: #000080; text-decoration-color: #000080\"> </span><span style=\"color: #8a8a8a; text-decoration-color: #8a8a8a\">    -3,284 </span><span style=\"color: #000080; text-decoration-color: #000080\"> </span>\n",
       "<span style=\"color: #000080; text-decoration-color: #000080\"> </span> Net increase (decrease) in cash and restricted                <span style=\"color: #000080; text-decoration-color: #000080\"> </span>      -68,933 <span style=\"color: #000080; text-decoration-color: #000080\"> </span>         24,504 <span style=\"color: #000080; text-decoration-color: #000080\"> </span>    88,680 <span style=\"color: #000080; text-decoration-color: #000080\"> </span>\n",
       "<span style=\"color: #000080; text-decoration-color: #000080\"> </span> cash                                                          <span style=\"color: #000080; text-decoration-color: #000080\"> </span>              <span style=\"color: #000080; text-decoration-color: #000080\"> </span>                <span style=\"color: #000080; text-decoration-color: #000080\"> </span>           <span style=\"color: #000080; text-decoration-color: #000080\"> </span>\n",
       "<span style=\"color: #000080; text-decoration-color: #000080\"> </span><span style=\"color: #8a8a8a; text-decoration-color: #8a8a8a\"> Cash and restricted cash at the beginning of the              </span><span style=\"color: #000080; text-decoration-color: #000080\"> </span><span style=\"color: #8a8a8a; text-decoration-color: #8a8a8a\">      178,564 </span><span style=\"color: #000080; text-decoration-color: #000080\"> </span><span style=\"color: #8a8a8a; text-decoration-color: #8a8a8a\">        154,060 </span><span style=\"color: #000080; text-decoration-color: #000080\"> </span><span style=\"color: #8a8a8a; text-decoration-color: #8a8a8a\">    65,380 </span><span style=\"color: #000080; text-decoration-color: #000080\"> </span>\n",
       "<span style=\"color: #000080; text-decoration-color: #000080\"> </span><span style=\"color: #8a8a8a; text-decoration-color: #8a8a8a\"> year                                                          </span><span style=\"color: #000080; text-decoration-color: #000080\"> </span><span style=\"color: #8a8a8a; text-decoration-color: #8a8a8a\">              </span><span style=\"color: #000080; text-decoration-color: #000080\"> </span><span style=\"color: #8a8a8a; text-decoration-color: #8a8a8a\">                </span><span style=\"color: #000080; text-decoration-color: #000080\"> </span><span style=\"color: #8a8a8a; text-decoration-color: #8a8a8a\">           </span><span style=\"color: #000080; text-decoration-color: #000080\"> </span>\n",
       "<span style=\"color: #000080; text-decoration-color: #000080\"> </span> Cash and restricted cash at the end of the year               <span style=\"color: #000080; text-decoration-color: #000080\"> </span>      109,631 <span style=\"color: #000080; text-decoration-color: #000080\"> </span>        178,564 <span style=\"color: #000080; text-decoration-color: #000080\"> </span>   154,060 <span style=\"color: #000080; text-decoration-color: #000080\"> </span>\n",
       "<span style=\"color: #000080; text-decoration-color: #000080\"> </span><span style=\"color: #8a8a8a; text-decoration-color: #8a8a8a\"> Supplemental cash flow disclosures:                           </span><span style=\"color: #000080; text-decoration-color: #000080\"> </span><span style=\"color: #8a8a8a; text-decoration-color: #8a8a8a\">              </span><span style=\"color: #000080; text-decoration-color: #000080\"> </span><span style=\"color: #8a8a8a; text-decoration-color: #8a8a8a\">                </span><span style=\"color: #000080; text-decoration-color: #000080\"> </span><span style=\"color: #8a8a8a; text-decoration-color: #8a8a8a\">           </span><span style=\"color: #000080; text-decoration-color: #000080\"> </span>\n",
       "<span style=\"color: #000080; text-decoration-color: #000080\"> </span> Cash paid for interest                                        <span style=\"color: #000080; text-decoration-color: #000080\"> </span>       12,793 <span style=\"color: #000080; text-decoration-color: #000080\"> </span>         16,772 <span style=\"color: #000080; text-decoration-color: #000080\"> </span>     9,019 <span style=\"color: #000080; text-decoration-color: #000080\"> </span>\n",
       "<span style=\"color: #000080; text-decoration-color: #000080\"> </span><span style=\"color: #8a8a8a; text-decoration-color: #8a8a8a\"> Cash paid for income taxes, net                               </span><span style=\"color: #000080; text-decoration-color: #000080\"> </span><span style=\"color: #8a8a8a; text-decoration-color: #8a8a8a\">        5,100 </span><span style=\"color: #000080; text-decoration-color: #000080\"> </span><span style=\"color: #8a8a8a; text-decoration-color: #8a8a8a\">          7,375 </span><span style=\"color: #000080; text-decoration-color: #000080\"> </span><span style=\"color: #8a8a8a; text-decoration-color: #8a8a8a\">    14,221 </span><span style=\"color: #000080; text-decoration-color: #000080\"> </span>\n",
       "<span style=\"color: #000080; text-decoration-color: #000080\"> </span> Supplemental disclosure of non-cash investing and             <span style=\"color: #000080; text-decoration-color: #000080\"> </span>              <span style=\"color: #000080; text-decoration-color: #000080\"> </span>                <span style=\"color: #000080; text-decoration-color: #000080\"> </span>           <span style=\"color: #000080; text-decoration-color: #000080\"> </span>\n",
       "<span style=\"color: #000080; text-decoration-color: #000080\"> </span> financing activities:                                         <span style=\"color: #000080; text-decoration-color: #000080\"> </span>              <span style=\"color: #000080; text-decoration-color: #000080\"> </span>                <span style=\"color: #000080; text-decoration-color: #000080\"> </span>           <span style=\"color: #000080; text-decoration-color: #000080\"> </span>\n",
       "<span style=\"color: #000080; text-decoration-color: #000080\"> </span><span style=\"color: #8a8a8a; text-decoration-color: #8a8a8a\"> Equipment purchased and unpaid at period end                  </span><span style=\"color: #000080; text-decoration-color: #000080\"> </span><span style=\"color: #8a8a8a; text-decoration-color: #8a8a8a\">        2,493 </span><span style=\"color: #000080; text-decoration-color: #000080\"> </span><span style=\"color: #8a8a8a; text-decoration-color: #8a8a8a\">          1,420 </span><span style=\"color: #000080; text-decoration-color: #000080\"> </span><span style=\"color: #8a8a8a; text-decoration-color: #8a8a8a\">     4,985 </span><span style=\"color: #000080; text-decoration-color: #000080\"> </span>\n",
       "<span style=\"color: #000080; text-decoration-color: #000080\"> </span> Issuance of common stock relating to business                 <span style=\"color: #000080; text-decoration-color: #000080\"> </span>              <span style=\"color: #000080; text-decoration-color: #000080\"> </span>                <span style=\"color: #000080; text-decoration-color: #000080\"> </span>  $ 14,505 <span style=\"color: #000080; text-decoration-color: #000080\"> </span>\n",
       "<span style=\"color: #000080; text-decoration-color: #000080\"> </span> acquisition                                                   <span style=\"color: #000080; text-decoration-color: #000080\"> </span>              <span style=\"color: #000080; text-decoration-color: #000080\"> </span>                <span style=\"color: #000080; text-decoration-color: #000080\"> </span>           <span style=\"color: #000080; text-decoration-color: #000080\"> </span>\n",
       "<span style=\"color: #000080; text-decoration-color: #000080\"> </span><span style=\"color: #8a8a8a; text-decoration-color: #8a8a8a\"> Purchase Consideration Related To Business                    </span><span style=\"color: #000080; text-decoration-color: #000080\"> </span><span style=\"color: #8a8a8a; text-decoration-color: #8a8a8a\">        $ 592 </span><span style=\"color: #000080; text-decoration-color: #000080\"> </span><span style=\"color: #8a8a8a; text-decoration-color: #8a8a8a\">                </span><span style=\"color: #000080; text-decoration-color: #000080\"> </span><span style=\"color: #8a8a8a; text-decoration-color: #8a8a8a\">           </span><span style=\"color: #000080; text-decoration-color: #000080\"> </span>\n",
       "<span style=\"color: #000080; text-decoration-color: #000080\"> </span><span style=\"color: #8a8a8a; text-decoration-color: #8a8a8a\"> Combination                                                   </span><span style=\"color: #000080; text-decoration-color: #000080\"> </span><span style=\"color: #8a8a8a; text-decoration-color: #8a8a8a\">              </span><span style=\"color: #000080; text-decoration-color: #000080\"> </span><span style=\"color: #8a8a8a; text-decoration-color: #8a8a8a\">                </span><span style=\"color: #000080; text-decoration-color: #000080\"> </span><span style=\"color: #8a8a8a; text-decoration-color: #8a8a8a\">           </span><span style=\"color: #000080; text-decoration-color: #000080\"> </span>\n",
       "<span style=\"color: #000080; text-decoration-color: #000080\"> </span> Receivable for business acquisition purchase price            <span style=\"color: #000080; text-decoration-color: #000080\"> </span>              <span style=\"color: #000080; text-decoration-color: #000080\"> </span>        $ 1,041 <span style=\"color: #000080; text-decoration-color: #000080\"> </span>           <span style=\"color: #000080; text-decoration-color: #000080\"> </span>\n",
       "<span style=\"color: #000080; text-decoration-color: #000080\"> </span> adjustment                                                    <span style=\"color: #000080; text-decoration-color: #000080\"> </span>              <span style=\"color: #000080; text-decoration-color: #000080\"> </span>                <span style=\"color: #000080; text-decoration-color: #000080\"> </span>           <span style=\"color: #000080; text-decoration-color: #000080\"> </span>\n",
       "<span style=\"color: #000080; text-decoration-color: #000080\">                                                                                                             </span>\n",
       "</pre>\n"
      ]
     },
     "metadata": {},
     "output_type": "display_data"
    }
   ],
   "execution_count": 5
  },
  {
   "metadata": {},
   "cell_type": "markdown",
   "source": "## SCCO",
   "id": "36edcb5451088d58"
  },
  {
   "metadata": {
    "ExecuteTime": {
     "end_time": "2025-04-02T11:22:42.377635Z",
     "start_time": "2025-04-02T11:22:36.733505Z"
    }
   },
   "cell_type": "code",
   "source": [
    "c = Company(\"SCCO\")\n",
    "filing = c.latest(\"10-K\")\n",
    "xbrl = XBRL.from_filing(filing)\n",
    "statement = xbrl.statements.cash_flow_statement()"
   ],
   "id": "ac8cf0eaeaf0f596",
   "outputs": [],
   "execution_count": 6
  },
  {
   "metadata": {
    "ExecuteTime": {
     "end_time": "2025-04-02T11:22:42.802646Z",
     "start_time": "2025-04-02T11:22:42.756190Z"
    }
   },
   "cell_type": "code",
   "source": "statement",
   "id": "5ced2ca1018ab8c1",
   "outputs": [
    {
     "data": {
      "text/plain": [],
      "text/html": [
       "<pre style=\"white-space:pre;overflow-x:auto;line-height:normal;font-family:Menlo,'DejaVu Sans Mono',consolas,'Courier New',monospace\"></pre>\n"
      ]
     },
     "metadata": {},
     "output_type": "display_data"
    },
    {
     "data": {
      "text/plain": [
       "\u001B[3m                                Consolidated Statement of Cash Flows (Standardized)                                \u001B[0m\n",
       "\u001B[3m                                 \u001B[0m\u001B[1;3mYear Ended\u001B[0m\u001B[3m \u001B[0m\u001B[3m(In thousands, except per share data)\u001B[0m\u001B[3m                                  \u001B[0m\n",
       "                                                                                                                   \n",
       " \u001B[1m \u001B[0m\u001B[1m                                                                  \u001B[0m\u001B[1m \u001B[0m \u001B[1m \u001B[0m\u001B[1mDec 31, 2024\u001B[0m\u001B[1m \u001B[0m \u001B[1m \u001B[0m\u001B[1mDec 31, 2023\u001B[0m\u001B[1m \u001B[0m \u001B[1m \u001B[0m\u001B[1mDec 31, 2022\u001B[0m\u001B[1m \u001B[0m \n",
       " ───────────────────────────────────────────────────────────────────────────────────────────────────────────────── \n",
       "  CONSOLIDATED STATEMENTS OF CASH FLOWS                                                                            \n",
       "    OPERATING ACTIVITIES                                                                                           \n",
       "      Net Income                                                         $3,388,600     $2,434,700     $2,648,000  \n",
       "      Adjustments to reconcile net earnings to net cash provided                                                   \n",
       "  from operating activities:                                                                                       \n",
       "        Depreciation, amortization and depletion                           $845,900       $833,600       $796,300  \n",
       "        Equity earnings of affiliate, net of dividends received            $(3,700)         $2,600         $4,600  \n",
       "        Loss on foreign currency transaction effect                         $13,700        $10,400        $41,900  \n",
       "        (Benefit) provision for deferred income taxes                     $(52,200)      $(59,100)       $118,600  \n",
       "        Net charges for asset retirement obligations, including           $(24,400)        $26,100        $16,400  \n",
       "  accretion                                                                                                        \n",
       "        Other, net                                                          $15,200        $14,800        $16,900  \n",
       "      Change in operating assets and liabilities:                                                                  \n",
       "        (Increase) decrease in accounts receivable trade                  $(48,500)       $253,000      $(35,400)  \n",
       "        Increase in inventories                                           $(56,100)      $(60,400)       $(7,700)  \n",
       "        Increase (decrease) in accounts payable and accrued                $385,700       $152,100     $(718,000)  \n",
       "  liabilities                                                                                                      \n",
       "        Decrease (increase) in other operating assets and                 $(42,400)      $(34,700)      $(79,100)  \n",
       "  liabilities                                                                                                      \n",
       "      Net Cash from Operating Activities                                 $4,421,700     $3,573,100     $2,802,500  \n",
       "    INVESTING ACTIVITIES                                                                                           \n",
       "      Payments for Property, Plant and Equipment                       $(1,027,300)   $(1,008,600)     $(948,500)  \n",
       "      Purchase of short-term investments                                 $(611,800)     $(808,700)     $(486,200)  \n",
       "      Proceeds on sale of short-term investments                           $965,800       $417,700       $764,700  \n",
       "      Other, net                                                                            $1,200         $3,200  \n",
       "      Net Cash from Investing Activities                                 $(673,300)   $(1,398,400)     $(666,800)  \n",
       "    FINANCING ACTIVITIES                                                                                           \n",
       "      Repayments of debt                                                                               $(300,000)  \n",
       "      Cash dividends paid to common stockholders                       $(1,637,200)   $(3,092,400)   $(2,705,800)  \n",
       "      Distributions to non-controlling interest                            $(8,300)       $(9,100)       $(5,500)  \n",
       "      Other, net                                                               $400           $300           $300  \n",
       "      Net Cash from Financing Activities                               $(1,645,200)   $(3,101,200)   $(3,011,000)  \n",
       "    Effect of exchange rate changes on cash and cash equivalents             $3,400         $8,300      $(57,000)  \n",
       "    Net Change in Cash                                                   $2,106,600     $(918,200)     $(932,300)  \n",
       "    Cash and cash equivalents, at end of year                                                                      \n",
       "    Cash and cash equivalents, at end of year                                                                      \n",
       "    Supplemental disclosure of cash flow information:                                                              \n",
       "  \u001B[1m  Cash paid during the year for:\u001B[0m                                                                                 \n",
       "        Interest                                                           $369,700       $369,700       $380,200  \n",
       "        Income Tax Expense                                               $1,590,800     $1,434,000     $2,391,500  \n",
       "        Workers' participation                                             $262,200       $258,200       $450,600  \n",
       "      Supplemental schedule of non-cash operating, investing and                                                   \n",
       "  financing activities:                                                                                            \n",
       "        Decrease in pension and other post-retirement benefits               $5,800         $1,000         $1,000  \n",
       "        Capital expenditures incurred but not yet paid                      $19,800        $16,100        $18,500  \n",
       "                                                                                                                   "
      ]
     },
     "execution_count": 8,
     "metadata": {},
     "output_type": "execute_result"
    }
   ],
   "execution_count": 8
  },
  {
   "metadata": {
    "ExecuteTime": {
     "end_time": "2025-03-21T00:41:35.838232Z",
     "start_time": "2025-03-21T00:41:35.788246Z"
    }
   },
   "cell_type": "code",
   "source": "filing.statements.cash_flow_statement.view()",
   "id": "bba6421c826217a6",
   "outputs": [
    {
     "data": {
      "text/plain": [
       "\u001B[34m                                                                                                    \u001B[0m\n",
       "\u001B[34m \u001B[0m\u001B[1m \u001B[0m\u001B[1mCONSOLIDATED STATEMENTS OF CASH FLOWS - USD ($)$ \u001B[0m\u001B[1m \u001B[0m\u001B[34m \u001B[0m\u001B[1m              \u001B[0m\u001B[34m \u001B[0m\u001B[1m12 Months Ended\u001B[0m\u001B[1m \u001B[0m\u001B[34m \u001B[0m\u001B[1m              \u001B[0m\u001B[34m \u001B[0m\n",
       "\u001B[34m \u001B[0m\u001B[1m \u001B[0m\u001B[1min Millions                                      \u001B[0m\u001B[1m \u001B[0m\u001B[34m \u001B[0m\u001B[1mDec. 31, 2024\u001B[0m\u001B[1m \u001B[0m\u001B[34m \u001B[0m\u001B[1m  Dec. 31, 2023\u001B[0m\u001B[1m \u001B[0m\u001B[34m \u001B[0m\u001B[1mDec. 31, 2022\u001B[0m\u001B[1m \u001B[0m\u001B[34m \u001B[0m\n",
       "\u001B[34m ────────────────────────────────────────────────────────────────────────────────────────────────── \u001B[0m\n",
       "\u001B[34m \u001B[0m OPERATING ACTIVITIES                              \u001B[34m \u001B[0m              \u001B[34m \u001B[0m                \u001B[34m \u001B[0m              \u001B[34m \u001B[0m\n",
       "\u001B[34m \u001B[0m\u001B[38;5;245m \u001B[0m\u001B[38;5;245mNet income                                       \u001B[0m\u001B[38;5;245m \u001B[0m\u001B[34m \u001B[0m\u001B[38;5;245m    $ 3,388.6\u001B[0m\u001B[38;5;245m \u001B[0m\u001B[34m \u001B[0m\u001B[38;5;245m      $ 2,434.7\u001B[0m\u001B[38;5;245m \u001B[0m\u001B[34m \u001B[0m\u001B[38;5;245m    $ 2,648.0\u001B[0m\u001B[38;5;245m \u001B[0m\u001B[34m \u001B[0m\n",
       "\u001B[34m \u001B[0m Adjustments to reconcile net earnings to net cash \u001B[34m \u001B[0m              \u001B[34m \u001B[0m                \u001B[34m \u001B[0m              \u001B[34m \u001B[0m\n",
       "\u001B[34m \u001B[0m provided from operating activities:               \u001B[34m \u001B[0m              \u001B[34m \u001B[0m                \u001B[34m \u001B[0m              \u001B[34m \u001B[0m\n",
       "\u001B[34m \u001B[0m\u001B[38;5;245m \u001B[0m\u001B[38;5;245mDepreciation, amortization and depletion         \u001B[0m\u001B[38;5;245m \u001B[0m\u001B[34m \u001B[0m\u001B[38;5;245m        845.9\u001B[0m\u001B[38;5;245m \u001B[0m\u001B[34m \u001B[0m\u001B[38;5;245m          833.6\u001B[0m\u001B[38;5;245m \u001B[0m\u001B[34m \u001B[0m\u001B[38;5;245m        796.3\u001B[0m\u001B[38;5;245m \u001B[0m\u001B[34m \u001B[0m\n",
       "\u001B[34m \u001B[0m Equity earnings of affiliate, net of dividends    \u001B[34m \u001B[0m         -3.7 \u001B[34m \u001B[0m            2.6 \u001B[34m \u001B[0m          4.6 \u001B[34m \u001B[0m\n",
       "\u001B[34m \u001B[0m received                                          \u001B[34m \u001B[0m              \u001B[34m \u001B[0m                \u001B[34m \u001B[0m              \u001B[34m \u001B[0m\n",
       "\u001B[34m \u001B[0m\u001B[38;5;245m \u001B[0m\u001B[38;5;245mLoss on foreign currency transaction effect      \u001B[0m\u001B[38;5;245m \u001B[0m\u001B[34m \u001B[0m\u001B[38;5;245m         13.7\u001B[0m\u001B[38;5;245m \u001B[0m\u001B[34m \u001B[0m\u001B[38;5;245m           10.4\u001B[0m\u001B[38;5;245m \u001B[0m\u001B[34m \u001B[0m\u001B[38;5;245m         41.9\u001B[0m\u001B[38;5;245m \u001B[0m\u001B[34m \u001B[0m\n",
       "\u001B[34m \u001B[0m (Benefit) provision for deferred income taxes     \u001B[34m \u001B[0m        -52.2 \u001B[34m \u001B[0m          -59.1 \u001B[34m \u001B[0m        118.6 \u001B[34m \u001B[0m\n",
       "\u001B[34m \u001B[0m\u001B[38;5;245m \u001B[0m\u001B[38;5;245mNet charges for asset retirement obligations,    \u001B[0m\u001B[38;5;245m \u001B[0m\u001B[34m \u001B[0m\u001B[38;5;245m        -24.4\u001B[0m\u001B[38;5;245m \u001B[0m\u001B[34m \u001B[0m\u001B[38;5;245m           26.1\u001B[0m\u001B[38;5;245m \u001B[0m\u001B[34m \u001B[0m\u001B[38;5;245m         16.4\u001B[0m\u001B[38;5;245m \u001B[0m\u001B[34m \u001B[0m\n",
       "\u001B[34m \u001B[0m\u001B[38;5;245m \u001B[0m\u001B[38;5;245mincluding accretion                              \u001B[0m\u001B[38;5;245m \u001B[0m\u001B[34m \u001B[0m\u001B[38;5;245m              \u001B[0m\u001B[34m \u001B[0m\u001B[38;5;245m                \u001B[0m\u001B[34m \u001B[0m\u001B[38;5;245m              \u001B[0m\u001B[34m \u001B[0m\n",
       "\u001B[34m \u001B[0m Other, net                                        \u001B[34m \u001B[0m         15.2 \u001B[34m \u001B[0m           14.8 \u001B[34m \u001B[0m         16.9 \u001B[34m \u001B[0m\n",
       "\u001B[34m \u001B[0m\u001B[38;5;245m \u001B[0m\u001B[38;5;245mChange in operating assets and liabilities:      \u001B[0m\u001B[38;5;245m \u001B[0m\u001B[34m \u001B[0m\u001B[38;5;245m             \u001B[0m\u001B[38;5;245m \u001B[0m\u001B[34m \u001B[0m\u001B[38;5;245m               \u001B[0m\u001B[38;5;245m \u001B[0m\u001B[34m \u001B[0m\u001B[38;5;245m             \u001B[0m\u001B[38;5;245m \u001B[0m\u001B[34m \u001B[0m\n",
       "\u001B[34m \u001B[0m (Increase) decrease in accounts receivable trade  \u001B[34m \u001B[0m        -48.5 \u001B[34m \u001B[0m          253.0 \u001B[34m \u001B[0m        -35.4 \u001B[34m \u001B[0m\n",
       "\u001B[34m \u001B[0m\u001B[38;5;245m \u001B[0m\u001B[38;5;245mIncrease in inventories                          \u001B[0m\u001B[38;5;245m \u001B[0m\u001B[34m \u001B[0m\u001B[38;5;245m        -56.1\u001B[0m\u001B[38;5;245m \u001B[0m\u001B[34m \u001B[0m\u001B[38;5;245m          -60.4\u001B[0m\u001B[38;5;245m \u001B[0m\u001B[34m \u001B[0m\u001B[38;5;245m         -7.7\u001B[0m\u001B[38;5;245m \u001B[0m\u001B[34m \u001B[0m\n",
       "\u001B[34m \u001B[0m Increase (decrease) in accounts payable and       \u001B[34m \u001B[0m        385.7 \u001B[34m \u001B[0m          152.1 \u001B[34m \u001B[0m       -718.0 \u001B[34m \u001B[0m\n",
       "\u001B[34m \u001B[0m accrued liabilities                               \u001B[34m \u001B[0m              \u001B[34m \u001B[0m                \u001B[34m \u001B[0m              \u001B[34m \u001B[0m\n",
       "\u001B[34m \u001B[0m\u001B[38;5;245m \u001B[0m\u001B[38;5;245mDecrease (increase) in other operating assets and\u001B[0m\u001B[38;5;245m \u001B[0m\u001B[34m \u001B[0m\u001B[38;5;245m        -42.4\u001B[0m\u001B[38;5;245m \u001B[0m\u001B[34m \u001B[0m\u001B[38;5;245m          -34.7\u001B[0m\u001B[38;5;245m \u001B[0m\u001B[34m \u001B[0m\u001B[38;5;245m        -79.1\u001B[0m\u001B[38;5;245m \u001B[0m\u001B[34m \u001B[0m\n",
       "\u001B[34m \u001B[0m\u001B[38;5;245m \u001B[0m\u001B[38;5;245mliabilities                                      \u001B[0m\u001B[38;5;245m \u001B[0m\u001B[34m \u001B[0m\u001B[38;5;245m              \u001B[0m\u001B[34m \u001B[0m\u001B[38;5;245m                \u001B[0m\u001B[34m \u001B[0m\u001B[38;5;245m              \u001B[0m\u001B[34m \u001B[0m\n",
       "\u001B[34m \u001B[0m Net cash provided by operating activities         \u001B[34m \u001B[0m      4,421.7 \u001B[34m \u001B[0m        3,573.1 \u001B[34m \u001B[0m      2,802.5 \u001B[34m \u001B[0m\n",
       "\u001B[34m \u001B[0m\u001B[38;5;245m \u001B[0m\u001B[38;5;245mINVESTING ACTIVITIES                             \u001B[0m\u001B[38;5;245m \u001B[0m\u001B[34m \u001B[0m\u001B[38;5;245m             \u001B[0m\u001B[38;5;245m \u001B[0m\u001B[34m \u001B[0m\u001B[38;5;245m               \u001B[0m\u001B[38;5;245m \u001B[0m\u001B[34m \u001B[0m\u001B[38;5;245m             \u001B[0m\u001B[38;5;245m \u001B[0m\u001B[34m \u001B[0m\n",
       "\u001B[34m \u001B[0m Capital expenditures                              \u001B[34m \u001B[0m     -1,027.3 \u001B[34m \u001B[0m       -1,008.6 \u001B[34m \u001B[0m       -948.5 \u001B[34m \u001B[0m\n",
       "\u001B[34m \u001B[0m\u001B[38;5;245m \u001B[0m\u001B[38;5;245mPurchase of short-term investments               \u001B[0m\u001B[38;5;245m \u001B[0m\u001B[34m \u001B[0m\u001B[38;5;245m       -611.8\u001B[0m\u001B[38;5;245m \u001B[0m\u001B[34m \u001B[0m\u001B[38;5;245m         -808.7\u001B[0m\u001B[38;5;245m \u001B[0m\u001B[34m \u001B[0m\u001B[38;5;245m       -486.2\u001B[0m\u001B[38;5;245m \u001B[0m\u001B[34m \u001B[0m\n",
       "\u001B[34m \u001B[0m Proceeds on sale of short-term investments        \u001B[34m \u001B[0m        965.8 \u001B[34m \u001B[0m          417.7 \u001B[34m \u001B[0m        764.7 \u001B[34m \u001B[0m\n",
       "\u001B[34m \u001B[0m\u001B[38;5;245m \u001B[0m\u001B[38;5;245mOther, net                                       \u001B[0m\u001B[38;5;245m \u001B[0m\u001B[34m \u001B[0m\u001B[38;5;245m             \u001B[0m\u001B[38;5;245m \u001B[0m\u001B[34m \u001B[0m\u001B[38;5;245m            1.2\u001B[0m\u001B[38;5;245m \u001B[0m\u001B[34m \u001B[0m\u001B[38;5;245m          3.2\u001B[0m\u001B[38;5;245m \u001B[0m\u001B[34m \u001B[0m\n",
       "\u001B[34m \u001B[0m Net cash used in investing activities             \u001B[34m \u001B[0m       -673.3 \u001B[34m \u001B[0m       -1,398.4 \u001B[34m \u001B[0m       -666.8 \u001B[34m \u001B[0m\n",
       "\u001B[34m \u001B[0m\u001B[38;5;245m \u001B[0m\u001B[38;5;245mFINANCING ACTIVITIES                             \u001B[0m\u001B[38;5;245m \u001B[0m\u001B[34m \u001B[0m\u001B[38;5;245m             \u001B[0m\u001B[38;5;245m \u001B[0m\u001B[34m \u001B[0m\u001B[38;5;245m               \u001B[0m\u001B[38;5;245m \u001B[0m\u001B[34m \u001B[0m\u001B[38;5;245m             \u001B[0m\u001B[38;5;245m \u001B[0m\u001B[34m \u001B[0m\n",
       "\u001B[34m \u001B[0m Repayments of debt                                \u001B[34m \u001B[0m              \u001B[34m \u001B[0m                \u001B[34m \u001B[0m       -300.0 \u001B[34m \u001B[0m\n",
       "\u001B[34m \u001B[0m\u001B[38;5;245m \u001B[0m\u001B[38;5;245mCash dividends paid to common stockholders       \u001B[0m\u001B[38;5;245m \u001B[0m\u001B[34m \u001B[0m\u001B[38;5;245m     -1,637.2\u001B[0m\u001B[38;5;245m \u001B[0m\u001B[34m \u001B[0m\u001B[38;5;245m       -3,092.4\u001B[0m\u001B[38;5;245m \u001B[0m\u001B[34m \u001B[0m\u001B[38;5;245m     -2,705.8\u001B[0m\u001B[38;5;245m \u001B[0m\u001B[34m \u001B[0m\n",
       "\u001B[34m \u001B[0m Distributions to non-controlling interest         \u001B[34m \u001B[0m         -8.3 \u001B[34m \u001B[0m           -9.1 \u001B[34m \u001B[0m         -5.5 \u001B[34m \u001B[0m\n",
       "\u001B[34m \u001B[0m\u001B[38;5;245m \u001B[0m\u001B[38;5;245mOther, net                                       \u001B[0m\u001B[38;5;245m \u001B[0m\u001B[34m \u001B[0m\u001B[38;5;245m          0.4\u001B[0m\u001B[38;5;245m \u001B[0m\u001B[34m \u001B[0m\u001B[38;5;245m            0.3\u001B[0m\u001B[38;5;245m \u001B[0m\u001B[34m \u001B[0m\u001B[38;5;245m          0.3\u001B[0m\u001B[38;5;245m \u001B[0m\u001B[34m \u001B[0m\n",
       "\u001B[34m \u001B[0m Net cash used in financing activities             \u001B[34m \u001B[0m     -1,645.2 \u001B[34m \u001B[0m       -3,101.2 \u001B[34m \u001B[0m     -3,011.0 \u001B[34m \u001B[0m\n",
       "\u001B[34m \u001B[0m\u001B[38;5;245m \u001B[0m\u001B[38;5;245mEffect of exchange rate changes on cash and cash \u001B[0m\u001B[38;5;245m \u001B[0m\u001B[34m \u001B[0m\u001B[38;5;245m          3.4\u001B[0m\u001B[38;5;245m \u001B[0m\u001B[34m \u001B[0m\u001B[38;5;245m            8.3\u001B[0m\u001B[38;5;245m \u001B[0m\u001B[34m \u001B[0m\u001B[38;5;245m        -57.0\u001B[0m\u001B[38;5;245m \u001B[0m\u001B[34m \u001B[0m\n",
       "\u001B[34m \u001B[0m\u001B[38;5;245m \u001B[0m\u001B[38;5;245mequivalents                                      \u001B[0m\u001B[38;5;245m \u001B[0m\u001B[34m \u001B[0m\u001B[38;5;245m              \u001B[0m\u001B[34m \u001B[0m\u001B[38;5;245m                \u001B[0m\u001B[34m \u001B[0m\u001B[38;5;245m              \u001B[0m\u001B[34m \u001B[0m\n",
       "\u001B[34m \u001B[0m Increase (decrease) in cash and cash equivalents  \u001B[34m \u001B[0m      2,106.6 \u001B[34m \u001B[0m         -918.2 \u001B[34m \u001B[0m       -932.3 \u001B[34m \u001B[0m\n",
       "\u001B[34m \u001B[0m\u001B[38;5;245m \u001B[0m\u001B[38;5;245mCash and cash equivalents, at beginning of year  \u001B[0m\u001B[38;5;245m \u001B[0m\u001B[34m \u001B[0m\u001B[38;5;245m      1,151.5\u001B[0m\u001B[38;5;245m \u001B[0m\u001B[34m \u001B[0m\u001B[38;5;245m        2,069.7\u001B[0m\u001B[38;5;245m \u001B[0m\u001B[34m \u001B[0m\u001B[38;5;245m      3,002.0\u001B[0m\u001B[38;5;245m \u001B[0m\u001B[34m \u001B[0m\n",
       "\u001B[34m \u001B[0m Cash and cash equivalents, at end of year         \u001B[34m \u001B[0m      3,258.1 \u001B[34m \u001B[0m        1,151.5 \u001B[34m \u001B[0m      2,069.7 \u001B[34m \u001B[0m\n",
       "\u001B[34m \u001B[0m\u001B[38;5;245m \u001B[0m\u001B[38;5;245mCash paid during the year for:                   \u001B[0m\u001B[38;5;245m \u001B[0m\u001B[34m \u001B[0m\u001B[38;5;245m             \u001B[0m\u001B[38;5;245m \u001B[0m\u001B[34m \u001B[0m\u001B[38;5;245m               \u001B[0m\u001B[38;5;245m \u001B[0m\u001B[34m \u001B[0m\u001B[38;5;245m             \u001B[0m\u001B[38;5;245m \u001B[0m\u001B[34m \u001B[0m\n",
       "\u001B[34m \u001B[0m Interest                                          \u001B[34m \u001B[0m        369.7 \u001B[34m \u001B[0m          369.7 \u001B[34m \u001B[0m        380.2 \u001B[34m \u001B[0m\n",
       "\u001B[34m \u001B[0m\u001B[38;5;245m \u001B[0m\u001B[38;5;245mIncome taxes                                     \u001B[0m\u001B[38;5;245m \u001B[0m\u001B[34m \u001B[0m\u001B[38;5;245m      1,590.8\u001B[0m\u001B[38;5;245m \u001B[0m\u001B[34m \u001B[0m\u001B[38;5;245m        1,434.0\u001B[0m\u001B[38;5;245m \u001B[0m\u001B[34m \u001B[0m\u001B[38;5;245m      2,391.5\u001B[0m\u001B[38;5;245m \u001B[0m\u001B[34m \u001B[0m\n",
       "\u001B[34m \u001B[0m Workers' participation                            \u001B[34m \u001B[0m        262.2 \u001B[34m \u001B[0m          258.2 \u001B[34m \u001B[0m        450.6 \u001B[34m \u001B[0m\n",
       "\u001B[34m \u001B[0m\u001B[38;5;245m \u001B[0m\u001B[38;5;245mSupplemental schedule of non-cash operating,     \u001B[0m\u001B[38;5;245m \u001B[0m\u001B[34m \u001B[0m\u001B[38;5;245m              \u001B[0m\u001B[34m \u001B[0m\u001B[38;5;245m                \u001B[0m\u001B[34m \u001B[0m\u001B[38;5;245m              \u001B[0m\u001B[34m \u001B[0m\n",
       "\u001B[34m \u001B[0m\u001B[38;5;245m \u001B[0m\u001B[38;5;245minvesting and financing activities:              \u001B[0m\u001B[38;5;245m \u001B[0m\u001B[34m \u001B[0m\u001B[38;5;245m             \u001B[0m\u001B[38;5;245m \u001B[0m\u001B[34m \u001B[0m\u001B[38;5;245m               \u001B[0m\u001B[38;5;245m \u001B[0m\u001B[34m \u001B[0m\u001B[38;5;245m             \u001B[0m\u001B[38;5;245m \u001B[0m\u001B[34m \u001B[0m\n",
       "\u001B[34m \u001B[0m\u001B[38;5;245m \u001B[0m\u001B[38;5;245m                                                 \u001B[0m\u001B[38;5;245m \u001B[0m\u001B[34m \u001B[0m\u001B[38;5;245m              \u001B[0m\u001B[34m \u001B[0m\u001B[38;5;245m                \u001B[0m\u001B[34m \u001B[0m\u001B[38;5;245m              \u001B[0m\u001B[34m \u001B[0m\n",
       "\u001B[34m \u001B[0m Decrease in pension and other post-retirement     \u001B[34m \u001B[0m          5.8 \u001B[34m \u001B[0m            1.0 \u001B[34m \u001B[0m          1.0 \u001B[34m \u001B[0m\n",
       "\u001B[34m \u001B[0m benefits                                          \u001B[34m \u001B[0m              \u001B[34m \u001B[0m                \u001B[34m \u001B[0m              \u001B[34m \u001B[0m\n",
       "\u001B[34m \u001B[0m\u001B[38;5;245m \u001B[0m\u001B[38;5;245mCapital expenditures incurred but not yet paid   \u001B[0m\u001B[38;5;245m \u001B[0m\u001B[34m \u001B[0m\u001B[38;5;245m       $ 19.8\u001B[0m\u001B[38;5;245m \u001B[0m\u001B[34m \u001B[0m\u001B[38;5;245m         $ 16.1\u001B[0m\u001B[38;5;245m \u001B[0m\u001B[34m \u001B[0m\u001B[38;5;245m       $ 18.5\u001B[0m\u001B[38;5;245m \u001B[0m\u001B[34m \u001B[0m\n",
       "\u001B[34m                                                                                                    \u001B[0m\n"
      ],
      "text/html": [
       "<pre style=\"white-space:pre;overflow-x:auto;line-height:normal;font-family:Menlo,'DejaVu Sans Mono',consolas,'Courier New',monospace\"><span style=\"color: #000080; text-decoration-color: #000080\">                                                                                                    </span>\n",
       "<span style=\"color: #000080; text-decoration-color: #000080\"> </span><span style=\"font-weight: bold\"> CONSOLIDATED STATEMENTS OF CASH FLOWS - USD ($)$  </span><span style=\"color: #000080; text-decoration-color: #000080\"> </span><span style=\"font-weight: bold\">              </span><span style=\"color: #000080; text-decoration-color: #000080\"> </span><span style=\"font-weight: bold\">12 Months Ended </span><span style=\"color: #000080; text-decoration-color: #000080\"> </span><span style=\"font-weight: bold\">              </span><span style=\"color: #000080; text-decoration-color: #000080\"> </span>\n",
       "<span style=\"color: #000080; text-decoration-color: #000080\"> </span><span style=\"font-weight: bold\"> in Millions                                       </span><span style=\"color: #000080; text-decoration-color: #000080\"> </span><span style=\"font-weight: bold\">Dec. 31, 2024 </span><span style=\"color: #000080; text-decoration-color: #000080\"> </span><span style=\"font-weight: bold\">  Dec. 31, 2023 </span><span style=\"color: #000080; text-decoration-color: #000080\"> </span><span style=\"font-weight: bold\">Dec. 31, 2022 </span><span style=\"color: #000080; text-decoration-color: #000080\"> </span>\n",
       "<span style=\"color: #000080; text-decoration-color: #000080\"> ────────────────────────────────────────────────────────────────────────────────────────────────── </span>\n",
       "<span style=\"color: #000080; text-decoration-color: #000080\"> </span> OPERATING ACTIVITIES                              <span style=\"color: #000080; text-decoration-color: #000080\"> </span>              <span style=\"color: #000080; text-decoration-color: #000080\"> </span>                <span style=\"color: #000080; text-decoration-color: #000080\"> </span>              <span style=\"color: #000080; text-decoration-color: #000080\"> </span>\n",
       "<span style=\"color: #000080; text-decoration-color: #000080\"> </span><span style=\"color: #8a8a8a; text-decoration-color: #8a8a8a\"> Net income                                        </span><span style=\"color: #000080; text-decoration-color: #000080\"> </span><span style=\"color: #8a8a8a; text-decoration-color: #8a8a8a\">    $ 3,388.6 </span><span style=\"color: #000080; text-decoration-color: #000080\"> </span><span style=\"color: #8a8a8a; text-decoration-color: #8a8a8a\">      $ 2,434.7 </span><span style=\"color: #000080; text-decoration-color: #000080\"> </span><span style=\"color: #8a8a8a; text-decoration-color: #8a8a8a\">    $ 2,648.0 </span><span style=\"color: #000080; text-decoration-color: #000080\"> </span>\n",
       "<span style=\"color: #000080; text-decoration-color: #000080\"> </span> Adjustments to reconcile net earnings to net cash <span style=\"color: #000080; text-decoration-color: #000080\"> </span>              <span style=\"color: #000080; text-decoration-color: #000080\"> </span>                <span style=\"color: #000080; text-decoration-color: #000080\"> </span>              <span style=\"color: #000080; text-decoration-color: #000080\"> </span>\n",
       "<span style=\"color: #000080; text-decoration-color: #000080\"> </span> provided from operating activities:               <span style=\"color: #000080; text-decoration-color: #000080\"> </span>              <span style=\"color: #000080; text-decoration-color: #000080\"> </span>                <span style=\"color: #000080; text-decoration-color: #000080\"> </span>              <span style=\"color: #000080; text-decoration-color: #000080\"> </span>\n",
       "<span style=\"color: #000080; text-decoration-color: #000080\"> </span><span style=\"color: #8a8a8a; text-decoration-color: #8a8a8a\"> Depreciation, amortization and depletion          </span><span style=\"color: #000080; text-decoration-color: #000080\"> </span><span style=\"color: #8a8a8a; text-decoration-color: #8a8a8a\">        845.9 </span><span style=\"color: #000080; text-decoration-color: #000080\"> </span><span style=\"color: #8a8a8a; text-decoration-color: #8a8a8a\">          833.6 </span><span style=\"color: #000080; text-decoration-color: #000080\"> </span><span style=\"color: #8a8a8a; text-decoration-color: #8a8a8a\">        796.3 </span><span style=\"color: #000080; text-decoration-color: #000080\"> </span>\n",
       "<span style=\"color: #000080; text-decoration-color: #000080\"> </span> Equity earnings of affiliate, net of dividends    <span style=\"color: #000080; text-decoration-color: #000080\"> </span>         -3.7 <span style=\"color: #000080; text-decoration-color: #000080\"> </span>            2.6 <span style=\"color: #000080; text-decoration-color: #000080\"> </span>          4.6 <span style=\"color: #000080; text-decoration-color: #000080\"> </span>\n",
       "<span style=\"color: #000080; text-decoration-color: #000080\"> </span> received                                          <span style=\"color: #000080; text-decoration-color: #000080\"> </span>              <span style=\"color: #000080; text-decoration-color: #000080\"> </span>                <span style=\"color: #000080; text-decoration-color: #000080\"> </span>              <span style=\"color: #000080; text-decoration-color: #000080\"> </span>\n",
       "<span style=\"color: #000080; text-decoration-color: #000080\"> </span><span style=\"color: #8a8a8a; text-decoration-color: #8a8a8a\"> Loss on foreign currency transaction effect       </span><span style=\"color: #000080; text-decoration-color: #000080\"> </span><span style=\"color: #8a8a8a; text-decoration-color: #8a8a8a\">         13.7 </span><span style=\"color: #000080; text-decoration-color: #000080\"> </span><span style=\"color: #8a8a8a; text-decoration-color: #8a8a8a\">           10.4 </span><span style=\"color: #000080; text-decoration-color: #000080\"> </span><span style=\"color: #8a8a8a; text-decoration-color: #8a8a8a\">         41.9 </span><span style=\"color: #000080; text-decoration-color: #000080\"> </span>\n",
       "<span style=\"color: #000080; text-decoration-color: #000080\"> </span> (Benefit) provision for deferred income taxes     <span style=\"color: #000080; text-decoration-color: #000080\"> </span>        -52.2 <span style=\"color: #000080; text-decoration-color: #000080\"> </span>          -59.1 <span style=\"color: #000080; text-decoration-color: #000080\"> </span>        118.6 <span style=\"color: #000080; text-decoration-color: #000080\"> </span>\n",
       "<span style=\"color: #000080; text-decoration-color: #000080\"> </span><span style=\"color: #8a8a8a; text-decoration-color: #8a8a8a\"> Net charges for asset retirement obligations,     </span><span style=\"color: #000080; text-decoration-color: #000080\"> </span><span style=\"color: #8a8a8a; text-decoration-color: #8a8a8a\">        -24.4 </span><span style=\"color: #000080; text-decoration-color: #000080\"> </span><span style=\"color: #8a8a8a; text-decoration-color: #8a8a8a\">           26.1 </span><span style=\"color: #000080; text-decoration-color: #000080\"> </span><span style=\"color: #8a8a8a; text-decoration-color: #8a8a8a\">         16.4 </span><span style=\"color: #000080; text-decoration-color: #000080\"> </span>\n",
       "<span style=\"color: #000080; text-decoration-color: #000080\"> </span><span style=\"color: #8a8a8a; text-decoration-color: #8a8a8a\"> including accretion                               </span><span style=\"color: #000080; text-decoration-color: #000080\"> </span><span style=\"color: #8a8a8a; text-decoration-color: #8a8a8a\">              </span><span style=\"color: #000080; text-decoration-color: #000080\"> </span><span style=\"color: #8a8a8a; text-decoration-color: #8a8a8a\">                </span><span style=\"color: #000080; text-decoration-color: #000080\"> </span><span style=\"color: #8a8a8a; text-decoration-color: #8a8a8a\">              </span><span style=\"color: #000080; text-decoration-color: #000080\"> </span>\n",
       "<span style=\"color: #000080; text-decoration-color: #000080\"> </span> Other, net                                        <span style=\"color: #000080; text-decoration-color: #000080\"> </span>         15.2 <span style=\"color: #000080; text-decoration-color: #000080\"> </span>           14.8 <span style=\"color: #000080; text-decoration-color: #000080\"> </span>         16.9 <span style=\"color: #000080; text-decoration-color: #000080\"> </span>\n",
       "<span style=\"color: #000080; text-decoration-color: #000080\"> </span><span style=\"color: #8a8a8a; text-decoration-color: #8a8a8a\"> Change in operating assets and liabilities:       </span><span style=\"color: #000080; text-decoration-color: #000080\"> </span><span style=\"color: #8a8a8a; text-decoration-color: #8a8a8a\">              </span><span style=\"color: #000080; text-decoration-color: #000080\"> </span><span style=\"color: #8a8a8a; text-decoration-color: #8a8a8a\">                </span><span style=\"color: #000080; text-decoration-color: #000080\"> </span><span style=\"color: #8a8a8a; text-decoration-color: #8a8a8a\">              </span><span style=\"color: #000080; text-decoration-color: #000080\"> </span>\n",
       "<span style=\"color: #000080; text-decoration-color: #000080\"> </span> (Increase) decrease in accounts receivable trade  <span style=\"color: #000080; text-decoration-color: #000080\"> </span>        -48.5 <span style=\"color: #000080; text-decoration-color: #000080\"> </span>          253.0 <span style=\"color: #000080; text-decoration-color: #000080\"> </span>        -35.4 <span style=\"color: #000080; text-decoration-color: #000080\"> </span>\n",
       "<span style=\"color: #000080; text-decoration-color: #000080\"> </span><span style=\"color: #8a8a8a; text-decoration-color: #8a8a8a\"> Increase in inventories                           </span><span style=\"color: #000080; text-decoration-color: #000080\"> </span><span style=\"color: #8a8a8a; text-decoration-color: #8a8a8a\">        -56.1 </span><span style=\"color: #000080; text-decoration-color: #000080\"> </span><span style=\"color: #8a8a8a; text-decoration-color: #8a8a8a\">          -60.4 </span><span style=\"color: #000080; text-decoration-color: #000080\"> </span><span style=\"color: #8a8a8a; text-decoration-color: #8a8a8a\">         -7.7 </span><span style=\"color: #000080; text-decoration-color: #000080\"> </span>\n",
       "<span style=\"color: #000080; text-decoration-color: #000080\"> </span> Increase (decrease) in accounts payable and       <span style=\"color: #000080; text-decoration-color: #000080\"> </span>        385.7 <span style=\"color: #000080; text-decoration-color: #000080\"> </span>          152.1 <span style=\"color: #000080; text-decoration-color: #000080\"> </span>       -718.0 <span style=\"color: #000080; text-decoration-color: #000080\"> </span>\n",
       "<span style=\"color: #000080; text-decoration-color: #000080\"> </span> accrued liabilities                               <span style=\"color: #000080; text-decoration-color: #000080\"> </span>              <span style=\"color: #000080; text-decoration-color: #000080\"> </span>                <span style=\"color: #000080; text-decoration-color: #000080\"> </span>              <span style=\"color: #000080; text-decoration-color: #000080\"> </span>\n",
       "<span style=\"color: #000080; text-decoration-color: #000080\"> </span><span style=\"color: #8a8a8a; text-decoration-color: #8a8a8a\"> Decrease (increase) in other operating assets and </span><span style=\"color: #000080; text-decoration-color: #000080\"> </span><span style=\"color: #8a8a8a; text-decoration-color: #8a8a8a\">        -42.4 </span><span style=\"color: #000080; text-decoration-color: #000080\"> </span><span style=\"color: #8a8a8a; text-decoration-color: #8a8a8a\">          -34.7 </span><span style=\"color: #000080; text-decoration-color: #000080\"> </span><span style=\"color: #8a8a8a; text-decoration-color: #8a8a8a\">        -79.1 </span><span style=\"color: #000080; text-decoration-color: #000080\"> </span>\n",
       "<span style=\"color: #000080; text-decoration-color: #000080\"> </span><span style=\"color: #8a8a8a; text-decoration-color: #8a8a8a\"> liabilities                                       </span><span style=\"color: #000080; text-decoration-color: #000080\"> </span><span style=\"color: #8a8a8a; text-decoration-color: #8a8a8a\">              </span><span style=\"color: #000080; text-decoration-color: #000080\"> </span><span style=\"color: #8a8a8a; text-decoration-color: #8a8a8a\">                </span><span style=\"color: #000080; text-decoration-color: #000080\"> </span><span style=\"color: #8a8a8a; text-decoration-color: #8a8a8a\">              </span><span style=\"color: #000080; text-decoration-color: #000080\"> </span>\n",
       "<span style=\"color: #000080; text-decoration-color: #000080\"> </span> Net cash provided by operating activities         <span style=\"color: #000080; text-decoration-color: #000080\"> </span>      4,421.7 <span style=\"color: #000080; text-decoration-color: #000080\"> </span>        3,573.1 <span style=\"color: #000080; text-decoration-color: #000080\"> </span>      2,802.5 <span style=\"color: #000080; text-decoration-color: #000080\"> </span>\n",
       "<span style=\"color: #000080; text-decoration-color: #000080\"> </span><span style=\"color: #8a8a8a; text-decoration-color: #8a8a8a\"> INVESTING ACTIVITIES                              </span><span style=\"color: #000080; text-decoration-color: #000080\"> </span><span style=\"color: #8a8a8a; text-decoration-color: #8a8a8a\">              </span><span style=\"color: #000080; text-decoration-color: #000080\"> </span><span style=\"color: #8a8a8a; text-decoration-color: #8a8a8a\">                </span><span style=\"color: #000080; text-decoration-color: #000080\"> </span><span style=\"color: #8a8a8a; text-decoration-color: #8a8a8a\">              </span><span style=\"color: #000080; text-decoration-color: #000080\"> </span>\n",
       "<span style=\"color: #000080; text-decoration-color: #000080\"> </span> Capital expenditures                              <span style=\"color: #000080; text-decoration-color: #000080\"> </span>     -1,027.3 <span style=\"color: #000080; text-decoration-color: #000080\"> </span>       -1,008.6 <span style=\"color: #000080; text-decoration-color: #000080\"> </span>       -948.5 <span style=\"color: #000080; text-decoration-color: #000080\"> </span>\n",
       "<span style=\"color: #000080; text-decoration-color: #000080\"> </span><span style=\"color: #8a8a8a; text-decoration-color: #8a8a8a\"> Purchase of short-term investments                </span><span style=\"color: #000080; text-decoration-color: #000080\"> </span><span style=\"color: #8a8a8a; text-decoration-color: #8a8a8a\">       -611.8 </span><span style=\"color: #000080; text-decoration-color: #000080\"> </span><span style=\"color: #8a8a8a; text-decoration-color: #8a8a8a\">         -808.7 </span><span style=\"color: #000080; text-decoration-color: #000080\"> </span><span style=\"color: #8a8a8a; text-decoration-color: #8a8a8a\">       -486.2 </span><span style=\"color: #000080; text-decoration-color: #000080\"> </span>\n",
       "<span style=\"color: #000080; text-decoration-color: #000080\"> </span> Proceeds on sale of short-term investments        <span style=\"color: #000080; text-decoration-color: #000080\"> </span>        965.8 <span style=\"color: #000080; text-decoration-color: #000080\"> </span>          417.7 <span style=\"color: #000080; text-decoration-color: #000080\"> </span>        764.7 <span style=\"color: #000080; text-decoration-color: #000080\"> </span>\n",
       "<span style=\"color: #000080; text-decoration-color: #000080\"> </span><span style=\"color: #8a8a8a; text-decoration-color: #8a8a8a\"> Other, net                                        </span><span style=\"color: #000080; text-decoration-color: #000080\"> </span><span style=\"color: #8a8a8a; text-decoration-color: #8a8a8a\">              </span><span style=\"color: #000080; text-decoration-color: #000080\"> </span><span style=\"color: #8a8a8a; text-decoration-color: #8a8a8a\">            1.2 </span><span style=\"color: #000080; text-decoration-color: #000080\"> </span><span style=\"color: #8a8a8a; text-decoration-color: #8a8a8a\">          3.2 </span><span style=\"color: #000080; text-decoration-color: #000080\"> </span>\n",
       "<span style=\"color: #000080; text-decoration-color: #000080\"> </span> Net cash used in investing activities             <span style=\"color: #000080; text-decoration-color: #000080\"> </span>       -673.3 <span style=\"color: #000080; text-decoration-color: #000080\"> </span>       -1,398.4 <span style=\"color: #000080; text-decoration-color: #000080\"> </span>       -666.8 <span style=\"color: #000080; text-decoration-color: #000080\"> </span>\n",
       "<span style=\"color: #000080; text-decoration-color: #000080\"> </span><span style=\"color: #8a8a8a; text-decoration-color: #8a8a8a\"> FINANCING ACTIVITIES                              </span><span style=\"color: #000080; text-decoration-color: #000080\"> </span><span style=\"color: #8a8a8a; text-decoration-color: #8a8a8a\">              </span><span style=\"color: #000080; text-decoration-color: #000080\"> </span><span style=\"color: #8a8a8a; text-decoration-color: #8a8a8a\">                </span><span style=\"color: #000080; text-decoration-color: #000080\"> </span><span style=\"color: #8a8a8a; text-decoration-color: #8a8a8a\">              </span><span style=\"color: #000080; text-decoration-color: #000080\"> </span>\n",
       "<span style=\"color: #000080; text-decoration-color: #000080\"> </span> Repayments of debt                                <span style=\"color: #000080; text-decoration-color: #000080\"> </span>              <span style=\"color: #000080; text-decoration-color: #000080\"> </span>                <span style=\"color: #000080; text-decoration-color: #000080\"> </span>       -300.0 <span style=\"color: #000080; text-decoration-color: #000080\"> </span>\n",
       "<span style=\"color: #000080; text-decoration-color: #000080\"> </span><span style=\"color: #8a8a8a; text-decoration-color: #8a8a8a\"> Cash dividends paid to common stockholders        </span><span style=\"color: #000080; text-decoration-color: #000080\"> </span><span style=\"color: #8a8a8a; text-decoration-color: #8a8a8a\">     -1,637.2 </span><span style=\"color: #000080; text-decoration-color: #000080\"> </span><span style=\"color: #8a8a8a; text-decoration-color: #8a8a8a\">       -3,092.4 </span><span style=\"color: #000080; text-decoration-color: #000080\"> </span><span style=\"color: #8a8a8a; text-decoration-color: #8a8a8a\">     -2,705.8 </span><span style=\"color: #000080; text-decoration-color: #000080\"> </span>\n",
       "<span style=\"color: #000080; text-decoration-color: #000080\"> </span> Distributions to non-controlling interest         <span style=\"color: #000080; text-decoration-color: #000080\"> </span>         -8.3 <span style=\"color: #000080; text-decoration-color: #000080\"> </span>           -9.1 <span style=\"color: #000080; text-decoration-color: #000080\"> </span>         -5.5 <span style=\"color: #000080; text-decoration-color: #000080\"> </span>\n",
       "<span style=\"color: #000080; text-decoration-color: #000080\"> </span><span style=\"color: #8a8a8a; text-decoration-color: #8a8a8a\"> Other, net                                        </span><span style=\"color: #000080; text-decoration-color: #000080\"> </span><span style=\"color: #8a8a8a; text-decoration-color: #8a8a8a\">          0.4 </span><span style=\"color: #000080; text-decoration-color: #000080\"> </span><span style=\"color: #8a8a8a; text-decoration-color: #8a8a8a\">            0.3 </span><span style=\"color: #000080; text-decoration-color: #000080\"> </span><span style=\"color: #8a8a8a; text-decoration-color: #8a8a8a\">          0.3 </span><span style=\"color: #000080; text-decoration-color: #000080\"> </span>\n",
       "<span style=\"color: #000080; text-decoration-color: #000080\"> </span> Net cash used in financing activities             <span style=\"color: #000080; text-decoration-color: #000080\"> </span>     -1,645.2 <span style=\"color: #000080; text-decoration-color: #000080\"> </span>       -3,101.2 <span style=\"color: #000080; text-decoration-color: #000080\"> </span>     -3,011.0 <span style=\"color: #000080; text-decoration-color: #000080\"> </span>\n",
       "<span style=\"color: #000080; text-decoration-color: #000080\"> </span><span style=\"color: #8a8a8a; text-decoration-color: #8a8a8a\"> Effect of exchange rate changes on cash and cash  </span><span style=\"color: #000080; text-decoration-color: #000080\"> </span><span style=\"color: #8a8a8a; text-decoration-color: #8a8a8a\">          3.4 </span><span style=\"color: #000080; text-decoration-color: #000080\"> </span><span style=\"color: #8a8a8a; text-decoration-color: #8a8a8a\">            8.3 </span><span style=\"color: #000080; text-decoration-color: #000080\"> </span><span style=\"color: #8a8a8a; text-decoration-color: #8a8a8a\">        -57.0 </span><span style=\"color: #000080; text-decoration-color: #000080\"> </span>\n",
       "<span style=\"color: #000080; text-decoration-color: #000080\"> </span><span style=\"color: #8a8a8a; text-decoration-color: #8a8a8a\"> equivalents                                       </span><span style=\"color: #000080; text-decoration-color: #000080\"> </span><span style=\"color: #8a8a8a; text-decoration-color: #8a8a8a\">              </span><span style=\"color: #000080; text-decoration-color: #000080\"> </span><span style=\"color: #8a8a8a; text-decoration-color: #8a8a8a\">                </span><span style=\"color: #000080; text-decoration-color: #000080\"> </span><span style=\"color: #8a8a8a; text-decoration-color: #8a8a8a\">              </span><span style=\"color: #000080; text-decoration-color: #000080\"> </span>\n",
       "<span style=\"color: #000080; text-decoration-color: #000080\"> </span> Increase (decrease) in cash and cash equivalents  <span style=\"color: #000080; text-decoration-color: #000080\"> </span>      2,106.6 <span style=\"color: #000080; text-decoration-color: #000080\"> </span>         -918.2 <span style=\"color: #000080; text-decoration-color: #000080\"> </span>       -932.3 <span style=\"color: #000080; text-decoration-color: #000080\"> </span>\n",
       "<span style=\"color: #000080; text-decoration-color: #000080\"> </span><span style=\"color: #8a8a8a; text-decoration-color: #8a8a8a\"> Cash and cash equivalents, at beginning of year   </span><span style=\"color: #000080; text-decoration-color: #000080\"> </span><span style=\"color: #8a8a8a; text-decoration-color: #8a8a8a\">      1,151.5 </span><span style=\"color: #000080; text-decoration-color: #000080\"> </span><span style=\"color: #8a8a8a; text-decoration-color: #8a8a8a\">        2,069.7 </span><span style=\"color: #000080; text-decoration-color: #000080\"> </span><span style=\"color: #8a8a8a; text-decoration-color: #8a8a8a\">      3,002.0 </span><span style=\"color: #000080; text-decoration-color: #000080\"> </span>\n",
       "<span style=\"color: #000080; text-decoration-color: #000080\"> </span> Cash and cash equivalents, at end of year         <span style=\"color: #000080; text-decoration-color: #000080\"> </span>      3,258.1 <span style=\"color: #000080; text-decoration-color: #000080\"> </span>        1,151.5 <span style=\"color: #000080; text-decoration-color: #000080\"> </span>      2,069.7 <span style=\"color: #000080; text-decoration-color: #000080\"> </span>\n",
       "<span style=\"color: #000080; text-decoration-color: #000080\"> </span><span style=\"color: #8a8a8a; text-decoration-color: #8a8a8a\"> Cash paid during the year for:                    </span><span style=\"color: #000080; text-decoration-color: #000080\"> </span><span style=\"color: #8a8a8a; text-decoration-color: #8a8a8a\">              </span><span style=\"color: #000080; text-decoration-color: #000080\"> </span><span style=\"color: #8a8a8a; text-decoration-color: #8a8a8a\">                </span><span style=\"color: #000080; text-decoration-color: #000080\"> </span><span style=\"color: #8a8a8a; text-decoration-color: #8a8a8a\">              </span><span style=\"color: #000080; text-decoration-color: #000080\"> </span>\n",
       "<span style=\"color: #000080; text-decoration-color: #000080\"> </span> Interest                                          <span style=\"color: #000080; text-decoration-color: #000080\"> </span>        369.7 <span style=\"color: #000080; text-decoration-color: #000080\"> </span>          369.7 <span style=\"color: #000080; text-decoration-color: #000080\"> </span>        380.2 <span style=\"color: #000080; text-decoration-color: #000080\"> </span>\n",
       "<span style=\"color: #000080; text-decoration-color: #000080\"> </span><span style=\"color: #8a8a8a; text-decoration-color: #8a8a8a\"> Income taxes                                      </span><span style=\"color: #000080; text-decoration-color: #000080\"> </span><span style=\"color: #8a8a8a; text-decoration-color: #8a8a8a\">      1,590.8 </span><span style=\"color: #000080; text-decoration-color: #000080\"> </span><span style=\"color: #8a8a8a; text-decoration-color: #8a8a8a\">        1,434.0 </span><span style=\"color: #000080; text-decoration-color: #000080\"> </span><span style=\"color: #8a8a8a; text-decoration-color: #8a8a8a\">      2,391.5 </span><span style=\"color: #000080; text-decoration-color: #000080\"> </span>\n",
       "<span style=\"color: #000080; text-decoration-color: #000080\"> </span> Workers' participation                            <span style=\"color: #000080; text-decoration-color: #000080\"> </span>        262.2 <span style=\"color: #000080; text-decoration-color: #000080\"> </span>          258.2 <span style=\"color: #000080; text-decoration-color: #000080\"> </span>        450.6 <span style=\"color: #000080; text-decoration-color: #000080\"> </span>\n",
       "<span style=\"color: #000080; text-decoration-color: #000080\"> </span><span style=\"color: #8a8a8a; text-decoration-color: #8a8a8a\"> Supplemental schedule of non-cash operating,      </span><span style=\"color: #000080; text-decoration-color: #000080\"> </span><span style=\"color: #8a8a8a; text-decoration-color: #8a8a8a\">              </span><span style=\"color: #000080; text-decoration-color: #000080\"> </span><span style=\"color: #8a8a8a; text-decoration-color: #8a8a8a\">                </span><span style=\"color: #000080; text-decoration-color: #000080\"> </span><span style=\"color: #8a8a8a; text-decoration-color: #8a8a8a\">              </span><span style=\"color: #000080; text-decoration-color: #000080\"> </span>\n",
       "<span style=\"color: #000080; text-decoration-color: #000080\"> </span><span style=\"color: #8a8a8a; text-decoration-color: #8a8a8a\"> investing and financing activities:               </span><span style=\"color: #000080; text-decoration-color: #000080\"> </span><span style=\"color: #8a8a8a; text-decoration-color: #8a8a8a\">              </span><span style=\"color: #000080; text-decoration-color: #000080\"> </span><span style=\"color: #8a8a8a; text-decoration-color: #8a8a8a\">                </span><span style=\"color: #000080; text-decoration-color: #000080\"> </span><span style=\"color: #8a8a8a; text-decoration-color: #8a8a8a\">              </span><span style=\"color: #000080; text-decoration-color: #000080\"> </span>\n",
       "<span style=\"color: #000080; text-decoration-color: #000080\"> </span><span style=\"color: #8a8a8a; text-decoration-color: #8a8a8a\">                                                   </span><span style=\"color: #000080; text-decoration-color: #000080\"> </span><span style=\"color: #8a8a8a; text-decoration-color: #8a8a8a\">              </span><span style=\"color: #000080; text-decoration-color: #000080\"> </span><span style=\"color: #8a8a8a; text-decoration-color: #8a8a8a\">                </span><span style=\"color: #000080; text-decoration-color: #000080\"> </span><span style=\"color: #8a8a8a; text-decoration-color: #8a8a8a\">              </span><span style=\"color: #000080; text-decoration-color: #000080\"> </span>\n",
       "<span style=\"color: #000080; text-decoration-color: #000080\"> </span> Decrease in pension and other post-retirement     <span style=\"color: #000080; text-decoration-color: #000080\"> </span>          5.8 <span style=\"color: #000080; text-decoration-color: #000080\"> </span>            1.0 <span style=\"color: #000080; text-decoration-color: #000080\"> </span>          1.0 <span style=\"color: #000080; text-decoration-color: #000080\"> </span>\n",
       "<span style=\"color: #000080; text-decoration-color: #000080\"> </span> benefits                                          <span style=\"color: #000080; text-decoration-color: #000080\"> </span>              <span style=\"color: #000080; text-decoration-color: #000080\"> </span>                <span style=\"color: #000080; text-decoration-color: #000080\"> </span>              <span style=\"color: #000080; text-decoration-color: #000080\"> </span>\n",
       "<span style=\"color: #000080; text-decoration-color: #000080\"> </span><span style=\"color: #8a8a8a; text-decoration-color: #8a8a8a\"> Capital expenditures incurred but not yet paid    </span><span style=\"color: #000080; text-decoration-color: #000080\"> </span><span style=\"color: #8a8a8a; text-decoration-color: #8a8a8a\">       $ 19.8 </span><span style=\"color: #000080; text-decoration-color: #000080\"> </span><span style=\"color: #8a8a8a; text-decoration-color: #8a8a8a\">         $ 16.1 </span><span style=\"color: #000080; text-decoration-color: #000080\"> </span><span style=\"color: #8a8a8a; text-decoration-color: #8a8a8a\">       $ 18.5 </span><span style=\"color: #000080; text-decoration-color: #000080\"> </span>\n",
       "<span style=\"color: #000080; text-decoration-color: #000080\">                                                                                                    </span>\n",
       "</pre>\n"
      ]
     },
     "metadata": {},
     "output_type": "display_data"
    }
   ],
   "execution_count": 10
  },
  {
   "metadata": {},
   "cell_type": "markdown",
   "source": "## Cash Flow Statement for CMCSA",
   "id": "509db45b3d06483c"
  },
  {
   "metadata": {
    "ExecuteTime": {
     "end_time": "2025-04-02T11:22:55.559239Z",
     "start_time": "2025-04-02T11:22:52.329165Z"
    }
   },
   "cell_type": "code",
   "source": [
    "c = Company(\"CMCSA\")\n",
    "filings = c.get_filings(form=\"10-K\").head(5)\n",
    "xbrls = XBRLS.from_filings(filings)\n",
    "cashflow_statement = xbrls.statements.cash_flow_statement()\n",
    "cashflow_statement"
   ],
   "id": "cb8a80905c337d5f",
   "outputs": [
    {
     "data": {
      "text/plain": [],
      "text/html": [
       "<pre style=\"white-space:pre;overflow-x:auto;line-height:normal;font-family:Menlo,'DejaVu Sans Mono',consolas,'Courier New',monospace\"></pre>\n"
      ]
     },
     "metadata": {},
     "output_type": "display_data"
    },
    {
     "data": {
      "text/plain": [
       "\u001B[3m                        CONSOLIDATED STATEMENT OF CASH FLOWS (5-Period View) (Standardized)                        \u001B[0m\n",
       "\u001B[3m                                  \u001B[0m\u001B[1;3mYear Ended\u001B[0m\u001B[3m \u001B[0m\u001B[3m(In millions, except per share data)\u001B[0m\u001B[3m                                  \u001B[0m\n",
       "                                                                                                                   \n",
       " \u001B[1m \u001B[0m\u001B[1m                                    \u001B[0m\u001B[1m \u001B[0m \u001B[1m \u001B[0m\u001B[1mDec 31, 2024\u001B[0m\u001B[1m \u001B[0m \u001B[1m \u001B[0m\u001B[1mDec 31, 2023\u001B[0m\u001B[1m \u001B[0m \u001B[1m \u001B[0m\u001B[1mDec 31, 2022\u001B[0m\u001B[1m \u001B[0m \u001B[1m \u001B[0m\u001B[1mDec 31, 2021\u001B[0m\u001B[1m \u001B[0m \u001B[1m \u001B[0m\u001B[1mDec 31, 2020\u001B[0m\u001B[1m \u001B[0m \n",
       " ───────────────────────────────────────────────────────────────────────────────────────────────────────────────── \n",
       "    Impact of foreign currency on               $(26)             $9          $(86)          $(71)             $2  \n",
       "  cash, cash equivalents and                                                                                       \n",
       "  restricted cash                                                                                                  \n",
       "    Net Change in Cash                         $1,095         $1,500       $(3,997)       $(2,989)         $6,179  \n",
       "      Advance on sale of investment                  \u0014         $8,610                                               \n",
       "      Cash paid for intangible assets        $(2,949)       $(3,298)       $(3,141)       $(2,883)       $(2,455)  \n",
       "      Construction of Universal                  $116           $137           $330           $976         $1,498  \n",
       "  Beijing Resort                                                                                                   \n",
       "      Net Cash from Financing               $(10,883)      $(19,850)      $(16,184)      $(18,618)       $(6,513)  \n",
       "  Activities                                                                                                       \n",
       "      Net Cash from Investing               $(15,670)       $(7,161)      $(14,140)      $(13,446)      $(12,047)  \n",
       "  Activities                                                                                                       \n",
       "      Net Cash from Operating                 $27,673        $28,501        $26,413        $29,146        $24,737  \n",
       "  Activities                                                                                                       \n",
       "      Net Income                              $15,877        $15,107         $4,925        $13,833        $10,701  \n",
       "      Other                                      $339             $5           $786         $(544)       $(1,706)  \n",
       "      Payments for Property, Plant and      $(12,181)      $(12,242)      $(10,626)       $(9,174)       $(9,179)  \n",
       "  Equipment                                                                                                        \n",
       "      Payments of Dividends                  $(4,814)       $(4,766)       $(4,741)       $(4,532)       $(4,140)  \n",
       "      Payments to Acquire Businesses                                \u0014          $(12)       $(1,374)         $(233)  \n",
       "      Proceeds from (repayments of)                  \u0014         $(660)           $660               \u0014               \u0014  \n",
       "  short-term borrowings, net                                                                                       \n",
       "      Proceeds from Issuance of                $6,268         $6,052         $2,745         $2,628        $18,644  \n",
       "  Long-Term Debt                                                                                                   \n",
       "      Proceeds from collateralized                                                                \u0014               \u0014  \n",
       "  obligation                                                                                                       \n",
       "      Proceeds from sales of                     $771           $661         $1,985           $684         $2,339  \n",
       "  businesses and investments                                                                                       \n",
       "      Purchase of spectrum                                                         \u0014               \u0014           $459  \n",
       "      Purchases of investments               $(1,082)       $(1,313)       $(2,274)         $(174)         $(812)  \n",
       "      Repayment of collateralized                    \u0014         $5,175                                               \n",
       "  obligation                                                                                                       \n",
       "      Repurchases and repayments of          $(3,573)       $(4,015)       $(2,307)      $(11,498)      $(18,777)  \n",
       "  debt                                                                                                             \n",
       "      Repurchases of common stock            $(9,103)      $(11,291)      $(13,328)       $(4,672)         $(534)  \n",
       "  under repurchase program and                                                                                     \n",
       "  employee plans                                                                                                   \n",
       "        Deferred income taxes                  $(902)       $(2,739)         $(834)         $1,892         $(550)  \n",
       "        Depreciation and amortization         $14,802        $14,336        $13,821        $13,804                 \n",
       "        Depreciation, amortization and                                                                    $13,100  \n",
       "  other operating gains                                                                                            \n",
       "        Goodwill and long-lived asset                \u0014               \u0014       $(8,583)                                \n",
       "  impairments                                                                                                      \n",
       "        Net (gain) loss on investment          $1,088         $(768)       $(1,177)         $1,311           $970  \n",
       "  activity and other                                                                                               \n",
       "        Noncash interest expense                 $464           $316           $309           $482           $697  \n",
       "  (income), net                                                                                                    \n",
       "        Share-based compensation               $1,288         $1,241         $1,336         $1,315         $1,193  \n",
       "          Accounts payable and accrued         $(758)         $(520)           $497           $765         $(266)  \n",
       "  expenses related to trade creditors                                                                              \n",
       "          Current and noncurrent               $(136)           $996         $1,327         $1,335            $20  \n",
       "  receivables, net                                                                                                 \n",
       "          Film and television costs,           $(290)           $260           $451           $680           $244  \n",
       "  net                                                                                                              \n",
       "          Other operating assets and         $(4,611)         $2,784       $(1,623)           $382         $1,096  \n",
       "  liabilities                                                                                                      \n",
       "                                                                                                                   "
      ]
     },
     "execution_count": 9,
     "metadata": {},
     "output_type": "execute_result"
    }
   ],
   "execution_count": 9
  },
  {
   "metadata": {
    "ExecuteTime": {
     "end_time": "2025-04-02T11:23:00.303997Z",
     "start_time": "2025-04-02T11:23:00.257823Z"
    }
   },
   "cell_type": "code",
   "source": [
    "cashflow_statement = xbrls.statements.cash_flow_statement()\n",
    "cashflow_statement"
   ],
   "id": "c90c37dd7a23bb24",
   "outputs": [
    {
     "data": {
      "text/plain": [],
      "text/html": [
       "<pre style=\"white-space:pre;overflow-x:auto;line-height:normal;font-family:Menlo,'DejaVu Sans Mono',consolas,'Courier New',monospace\"></pre>\n"
      ]
     },
     "metadata": {},
     "output_type": "display_data"
    },
    {
     "data": {
      "text/plain": [
       "\u001B[3m                        CONSOLIDATED STATEMENT OF CASH FLOWS (5-Period View) (Standardized)                        \u001B[0m\n",
       "\u001B[3m                                  \u001B[0m\u001B[1;3mYear Ended\u001B[0m\u001B[3m \u001B[0m\u001B[3m(In millions, except per share data)\u001B[0m\u001B[3m                                  \u001B[0m\n",
       "                                                                                                                   \n",
       " \u001B[1m \u001B[0m\u001B[1m                                    \u001B[0m\u001B[1m \u001B[0m \u001B[1m \u001B[0m\u001B[1mDec 31, 2024\u001B[0m\u001B[1m \u001B[0m \u001B[1m \u001B[0m\u001B[1mDec 31, 2023\u001B[0m\u001B[1m \u001B[0m \u001B[1m \u001B[0m\u001B[1mDec 31, 2022\u001B[0m\u001B[1m \u001B[0m \u001B[1m \u001B[0m\u001B[1mDec 31, 2021\u001B[0m\u001B[1m \u001B[0m \u001B[1m \u001B[0m\u001B[1mDec 31, 2020\u001B[0m\u001B[1m \u001B[0m \n",
       " ───────────────────────────────────────────────────────────────────────────────────────────────────────────────── \n",
       "    Impact of foreign currency on               $(26)             $9          $(86)          $(71)             $2  \n",
       "  cash, cash equivalents and                                                                                       \n",
       "  restricted cash                                                                                                  \n",
       "    Net Change in Cash                         $1,095         $1,500       $(3,997)       $(2,989)         $6,179  \n",
       "      Advance on sale of investment                  \u0014         $8,610                                               \n",
       "      Cash paid for intangible assets        $(2,949)       $(3,298)       $(3,141)       $(2,883)       $(2,455)  \n",
       "      Construction of Universal                  $116           $137           $330           $976         $1,498  \n",
       "  Beijing Resort                                                                                                   \n",
       "      Net Cash from Financing               $(10,883)      $(19,850)      $(16,184)      $(18,618)       $(6,513)  \n",
       "  Activities                                                                                                       \n",
       "      Net Cash from Investing               $(15,670)       $(7,161)      $(14,140)      $(13,446)      $(12,047)  \n",
       "  Activities                                                                                                       \n",
       "      Net Cash from Operating                 $27,673        $28,501        $26,413        $29,146        $24,737  \n",
       "  Activities                                                                                                       \n",
       "      Net Income                              $15,877        $15,107         $4,925        $13,833        $10,701  \n",
       "      Other                                      $339             $5           $786         $(544)       $(1,706)  \n",
       "      Payments for Property, Plant and      $(12,181)      $(12,242)      $(10,626)       $(9,174)       $(9,179)  \n",
       "  Equipment                                                                                                        \n",
       "      Payments of Dividends                  $(4,814)       $(4,766)       $(4,741)       $(4,532)       $(4,140)  \n",
       "      Payments to Acquire Businesses                                \u0014          $(12)       $(1,374)         $(233)  \n",
       "      Proceeds from (repayments of)                  \u0014         $(660)           $660               \u0014               \u0014  \n",
       "  short-term borrowings, net                                                                                       \n",
       "      Proceeds from Issuance of                $6,268         $6,052         $2,745         $2,628        $18,644  \n",
       "  Long-Term Debt                                                                                                   \n",
       "      Proceeds from collateralized                                                                \u0014               \u0014  \n",
       "  obligation                                                                                                       \n",
       "      Proceeds from sales of                     $771           $661         $1,985           $684         $2,339  \n",
       "  businesses and investments                                                                                       \n",
       "      Purchase of spectrum                                                         \u0014               \u0014           $459  \n",
       "      Purchases of investments               $(1,082)       $(1,313)       $(2,274)         $(174)         $(812)  \n",
       "      Repayment of collateralized                    \u0014         $5,175                                               \n",
       "  obligation                                                                                                       \n",
       "      Repurchases and repayments of          $(3,573)       $(4,015)       $(2,307)      $(11,498)      $(18,777)  \n",
       "  debt                                                                                                             \n",
       "      Repurchases of common stock            $(9,103)      $(11,291)      $(13,328)       $(4,672)         $(534)  \n",
       "  under repurchase program and                                                                                     \n",
       "  employee plans                                                                                                   \n",
       "        Deferred income taxes                  $(902)       $(2,739)         $(834)         $1,892         $(550)  \n",
       "        Depreciation and amortization         $14,802        $14,336        $13,821        $13,804                 \n",
       "        Depreciation, amortization and                                                                    $13,100  \n",
       "  other operating gains                                                                                            \n",
       "        Goodwill and long-lived asset                \u0014               \u0014       $(8,583)                                \n",
       "  impairments                                                                                                      \n",
       "        Net (gain) loss on investment          $1,088         $(768)       $(1,177)         $1,311           $970  \n",
       "  activity and other                                                                                               \n",
       "        Noncash interest expense                 $464           $316           $309           $482           $697  \n",
       "  (income), net                                                                                                    \n",
       "        Share-based compensation               $1,288         $1,241         $1,336         $1,315         $1,193  \n",
       "          Accounts payable and accrued         $(758)         $(520)           $497           $765         $(266)  \n",
       "  expenses related to trade creditors                                                                              \n",
       "          Current and noncurrent               $(136)           $996         $1,327         $1,335            $20  \n",
       "  receivables, net                                                                                                 \n",
       "          Film and television costs,           $(290)           $260           $451           $680           $244  \n",
       "  net                                                                                                              \n",
       "          Other operating assets and         $(4,611)         $2,784       $(1,623)           $382         $1,096  \n",
       "  liabilities                                                                                                      \n",
       "                                                                                                                   "
      ]
     },
     "execution_count": 10,
     "metadata": {},
     "output_type": "execute_result"
    }
   ],
   "execution_count": 10
  }
 ],
 "metadata": {
  "kernelspec": {
   "display_name": "Python 3 (ipykernel)",
   "name": "python3",
   "language": "python"
  },
  "language_info": {
   "name": ""
  }
 },
 "nbformat": 4,
 "nbformat_minor": 5
}
