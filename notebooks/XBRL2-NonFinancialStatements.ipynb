{
 "cells": [
  {
   "metadata": {},
   "cell_type": "markdown",
   "source": "# Non-Financial Statements",
   "id": "655f5fbf3fe64ba5"
  },
  {
   "metadata": {},
   "cell_type": "code",
   "outputs": [],
   "execution_count": null,
   "source": "#!pip install edgartools",
   "id": "77a3740a6d6d304e"
  },
  {
   "metadata": {
    "ExecuteTime": {
     "end_time": "2025-04-02T11:23:28.223225Z",
     "start_time": "2025-04-02T11:23:28.202468Z"
    }
   },
   "cell_type": "code",
   "source": [
    "from edgar import *\n",
    "from edgar.xbrl2 import *"
   ],
   "id": "bce92d7244ac0114",
   "outputs": [],
   "execution_count": 1
  },
  {
   "metadata": {
    "ExecuteTime": {
     "end_time": "2025-04-02T11:23:30.121008Z",
     "start_time": "2025-04-02T11:23:29.130011Z"
    }
   },
   "cell_type": "code",
   "source": [
    "c = Company(\"AAPL\")\n",
    "filings = c.latest(\"10-K\", 2)\n",
    "xbrl = XBRL.from_filing(filings[1])\n",
    "filing = filings[1]"
   ],
   "id": "e76c4bbc0faf692b",
   "outputs": [],
   "execution_count": 2
  },
  {
   "metadata": {
    "ExecuteTime": {
     "end_time": "2025-04-02T11:23:30.898185Z",
     "start_time": "2025-04-02T11:23:30.876760Z"
    }
   },
   "cell_type": "code",
   "source": "filing.reports",
   "id": "1de99463d6000b15",
   "outputs": [
    {
     "data": {
      "text/plain": [],
      "text/html": [
       "<pre style=\"white-space:pre;overflow-x:auto;line-height:normal;font-family:Menlo,'DejaVu Sans Mono',consolas,'Courier New',monospace\"></pre>\n"
      ]
     },
     "metadata": {},
     "output_type": "display_data"
    },
    {
     "data": {
      "text/plain": [
       "╭─────────────────────────────────────────── Reports ────────────────────────────────────────────╮\n",
       "│ \u001B[1;38;5;245m                                                                                              \u001B[0m │\n",
       "│ \u001B[1;38;5;245m \u001B[0m\u001B[2m \u001B[0m\u001B[2m# \u001B[0m\u001B[2m \u001B[0m\u001B[1;38;5;245m \u001B[0m\u001B[2m \u001B[0m\u001B[2mReport                                                      \u001B[0m\u001B[2m \u001B[0m\u001B[1;38;5;245m \u001B[0m\u001B[2m \u001B[0m\u001B[2mCategory    \u001B[0m\u001B[2m \u001B[0m\u001B[1;38;5;245m \u001B[0m\u001B[2m \u001B[0m\u001B[2mFile   \u001B[0m\u001B[2m \u001B[0m\u001B[1;38;5;245m \u001B[0m │\n",
       "│ \u001B[1;38;5;245m ──────────────────────────────────────────────────────────────────────────────────────────── \u001B[0m │\n",
       "│ \u001B[1;38;5;245m \u001B[0m\u001B[2m \u001B[0m\u001B[2m1 \u001B[0m\u001B[2m \u001B[0m\u001B[1;38;5;245m \u001B[0m\u001B[1m \u001B[0m\u001B[1mCover Page                                                  \u001B[0m\u001B[1m \u001B[0m\u001B[1;38;5;245m \u001B[0m Cover        \u001B[1;38;5;245m \u001B[0m R1.htm  \u001B[1;38;5;245m \u001B[0m │\n",
       "│ \u001B[1;38;5;245m                                                                                              \u001B[0m │\n",
       "│ \u001B[1;38;5;245m \u001B[0m\u001B[1;2m \u001B[0m\u001B[1;2m2 \u001B[0m\u001B[1;2m \u001B[0m\u001B[1;38;5;245m \u001B[0m\u001B[1m \u001B[0m\u001B[1mAuditor Information                                         \u001B[0m\u001B[1m \u001B[0m\u001B[1;38;5;245m \u001B[0m\u001B[1m \u001B[0m\u001B[1mCover       \u001B[0m\u001B[1m \u001B[0m\u001B[1;38;5;245m \u001B[0m\u001B[1m \u001B[0m\u001B[1mR2.htm \u001B[0m\u001B[1m \u001B[0m\u001B[1;38;5;245m \u001B[0m │\n",
       "│ \u001B[1;38;5;245m                                                                                              \u001B[0m │\n",
       "│ \u001B[1;38;5;245m \u001B[0m\u001B[2m \u001B[0m\u001B[2m3 \u001B[0m\u001B[2m \u001B[0m\u001B[1;38;5;245m \u001B[0m\u001B[1m \u001B[0m\u001B[1mCONSOLIDATED STATEMENTS OF OPERATIONS                       \u001B[0m\u001B[1m \u001B[0m\u001B[1;38;5;245m \u001B[0m Statements   \u001B[1;38;5;245m \u001B[0m R3.htm  \u001B[1;38;5;245m \u001B[0m │\n",
       "│ \u001B[1;38;5;245m                                                                                              \u001B[0m │\n",
       "│ \u001B[1;38;5;245m \u001B[0m\u001B[1;2m \u001B[0m\u001B[1;2m4 \u001B[0m\u001B[1;2m \u001B[0m\u001B[1;38;5;245m \u001B[0m\u001B[1m \u001B[0m\u001B[1mCONSOLIDATED STATEMENTS OF COMPREHENSIVE INCOME             \u001B[0m\u001B[1m \u001B[0m\u001B[1;38;5;245m \u001B[0m\u001B[1m \u001B[0m\u001B[1mStatements  \u001B[0m\u001B[1m \u001B[0m\u001B[1;38;5;245m \u001B[0m\u001B[1m \u001B[0m\u001B[1mR4.htm \u001B[0m\u001B[1m \u001B[0m\u001B[1;38;5;245m \u001B[0m │\n",
       "│ \u001B[1;38;5;245m                                                                                              \u001B[0m │\n",
       "│ \u001B[1;38;5;245m \u001B[0m\u001B[2m \u001B[0m\u001B[2m5 \u001B[0m\u001B[2m \u001B[0m\u001B[1;38;5;245m \u001B[0m\u001B[1m \u001B[0m\u001B[1mCONSOLIDATED BALANCE SHEETS                                 \u001B[0m\u001B[1m \u001B[0m\u001B[1;38;5;245m \u001B[0m Statements   \u001B[1;38;5;245m \u001B[0m R5.htm  \u001B[1;38;5;245m \u001B[0m │\n",
       "│ \u001B[1;38;5;245m                                                                                              \u001B[0m │\n",
       "│ \u001B[1;38;5;245m \u001B[0m\u001B[1;2m \u001B[0m\u001B[1;2m6 \u001B[0m\u001B[1;2m \u001B[0m\u001B[1;38;5;245m \u001B[0m\u001B[1m \u001B[0m\u001B[1mCONSOLIDATED BALANCE SHEETS (Parenthetical)                 \u001B[0m\u001B[1m \u001B[0m\u001B[1;38;5;245m \u001B[0m\u001B[1m \u001B[0m\u001B[1mStatements  \u001B[0m\u001B[1m \u001B[0m\u001B[1;38;5;245m \u001B[0m\u001B[1m \u001B[0m\u001B[1mR6.htm \u001B[0m\u001B[1m \u001B[0m\u001B[1;38;5;245m \u001B[0m │\n",
       "│ \u001B[1;38;5;245m                                                                                              \u001B[0m │\n",
       "│ \u001B[1;38;5;245m \u001B[0m\u001B[2m \u001B[0m\u001B[2m7 \u001B[0m\u001B[2m \u001B[0m\u001B[1;38;5;245m \u001B[0m\u001B[1m \u001B[0m\u001B[1mCONSOLIDATED STATEMENTS OF SHAREHOLDERS' EQUITY             \u001B[0m\u001B[1m \u001B[0m\u001B[1;38;5;245m \u001B[0m Statements   \u001B[1;38;5;245m \u001B[0m R7.htm  \u001B[1;38;5;245m \u001B[0m │\n",
       "│ \u001B[1;38;5;245m                                                                                              \u001B[0m │\n",
       "│ \u001B[1;38;5;245m \u001B[0m\u001B[1;2m \u001B[0m\u001B[1;2m8 \u001B[0m\u001B[1;2m \u001B[0m\u001B[1;38;5;245m \u001B[0m\u001B[1m \u001B[0m\u001B[1mCONSOLIDATED STATEMENTS OF CASH FLOWS                       \u001B[0m\u001B[1m \u001B[0m\u001B[1;38;5;245m \u001B[0m\u001B[1m \u001B[0m\u001B[1mStatements  \u001B[0m\u001B[1m \u001B[0m\u001B[1;38;5;245m \u001B[0m\u001B[1m \u001B[0m\u001B[1mR8.htm \u001B[0m\u001B[1m \u001B[0m\u001B[1;38;5;245m \u001B[0m │\n",
       "│ \u001B[1;38;5;245m                                                                                              \u001B[0m │\n",
       "│ \u001B[1;38;5;245m \u001B[0m\u001B[2m \u001B[0m\u001B[2m9 \u001B[0m\u001B[2m \u001B[0m\u001B[1;38;5;245m \u001B[0m\u001B[1m \u001B[0m\u001B[1mSummary of Significant Accounting Policies                  \u001B[0m\u001B[1m \u001B[0m\u001B[1;38;5;245m \u001B[0m Notes        \u001B[1;38;5;245m \u001B[0m R9.htm  \u001B[1;38;5;245m \u001B[0m │\n",
       "│ \u001B[1;38;5;245m                                                                                              \u001B[0m │\n",
       "│ \u001B[1;38;5;245m \u001B[0m\u001B[1;2m \u001B[0m\u001B[1;2m10\u001B[0m\u001B[1;2m \u001B[0m\u001B[1;38;5;245m \u001B[0m\u001B[1m \u001B[0m\u001B[1mRevenue                                                     \u001B[0m\u001B[1m \u001B[0m\u001B[1;38;5;245m \u001B[0m\u001B[1m \u001B[0m\u001B[1mNotes       \u001B[0m\u001B[1m \u001B[0m\u001B[1;38;5;245m \u001B[0m\u001B[1m \u001B[0m\u001B[1mR10.htm\u001B[0m\u001B[1m \u001B[0m\u001B[1;38;5;245m \u001B[0m │\n",
       "│ \u001B[1;38;5;245m                                                                                              \u001B[0m │\n",
       "│ \u001B[1;38;5;245m \u001B[0m\u001B[2m \u001B[0m\u001B[2m11\u001B[0m\u001B[2m \u001B[0m\u001B[1;38;5;245m \u001B[0m\u001B[1m \u001B[0m\u001B[1mEarnings Per Share                                          \u001B[0m\u001B[1m \u001B[0m\u001B[1;38;5;245m \u001B[0m Notes        \u001B[1;38;5;245m \u001B[0m R11.htm \u001B[1;38;5;245m \u001B[0m │\n",
       "│ \u001B[1;38;5;245m                                                                                              \u001B[0m │\n",
       "│ \u001B[1;38;5;245m \u001B[0m\u001B[1;2m \u001B[0m\u001B[1;2m12\u001B[0m\u001B[1;2m \u001B[0m\u001B[1;38;5;245m \u001B[0m\u001B[1m \u001B[0m\u001B[1mFinancial Instruments                                       \u001B[0m\u001B[1m \u001B[0m\u001B[1;38;5;245m \u001B[0m\u001B[1m \u001B[0m\u001B[1mNotes       \u001B[0m\u001B[1m \u001B[0m\u001B[1;38;5;245m \u001B[0m\u001B[1m \u001B[0m\u001B[1mR12.htm\u001B[0m\u001B[1m \u001B[0m\u001B[1;38;5;245m \u001B[0m │\n",
       "│ \u001B[1;38;5;245m                                                                                              \u001B[0m │\n",
       "│ \u001B[1;38;5;245m \u001B[0m\u001B[2m \u001B[0m\u001B[2m13\u001B[0m\u001B[2m \u001B[0m\u001B[1;38;5;245m \u001B[0m\u001B[1m \u001B[0m\u001B[1mProperty, Plant and Equipment                               \u001B[0m\u001B[1m \u001B[0m\u001B[1;38;5;245m \u001B[0m Notes        \u001B[1;38;5;245m \u001B[0m R13.htm \u001B[1;38;5;245m \u001B[0m │\n",
       "│ \u001B[1;38;5;245m                                                                                              \u001B[0m │\n",
       "│ \u001B[1;38;5;245m \u001B[0m\u001B[1;2m \u001B[0m\u001B[1;2m14\u001B[0m\u001B[1;2m \u001B[0m\u001B[1;38;5;245m \u001B[0m\u001B[1m \u001B[0m\u001B[1mConsolidated Financial Statement Details                    \u001B[0m\u001B[1m \u001B[0m\u001B[1;38;5;245m \u001B[0m\u001B[1m \u001B[0m\u001B[1mNotes       \u001B[0m\u001B[1m \u001B[0m\u001B[1;38;5;245m \u001B[0m\u001B[1m \u001B[0m\u001B[1mR14.htm\u001B[0m\u001B[1m \u001B[0m\u001B[1;38;5;245m \u001B[0m │\n",
       "│ \u001B[1;38;5;245m                                                                                              \u001B[0m │\n",
       "│ \u001B[1;38;5;245m \u001B[0m\u001B[2m \u001B[0m\u001B[2m15\u001B[0m\u001B[2m \u001B[0m\u001B[1;38;5;245m \u001B[0m\u001B[1m \u001B[0m\u001B[1mIncome Taxes                                                \u001B[0m\u001B[1m \u001B[0m\u001B[1;38;5;245m \u001B[0m Notes        \u001B[1;38;5;245m \u001B[0m R15.htm \u001B[1;38;5;245m \u001B[0m │\n",
       "│ \u001B[1;38;5;245m                                                                                              \u001B[0m │\n",
       "│ \u001B[1;38;5;245m \u001B[0m\u001B[1;2m \u001B[0m\u001B[1;2m16\u001B[0m\u001B[1;2m \u001B[0m\u001B[1;38;5;245m \u001B[0m\u001B[1m \u001B[0m\u001B[1mLeases                                                      \u001B[0m\u001B[1m \u001B[0m\u001B[1;38;5;245m \u001B[0m\u001B[1m \u001B[0m\u001B[1mNotes       \u001B[0m\u001B[1m \u001B[0m\u001B[1;38;5;245m \u001B[0m\u001B[1m \u001B[0m\u001B[1mR16.htm\u001B[0m\u001B[1m \u001B[0m\u001B[1;38;5;245m \u001B[0m │\n",
       "│ \u001B[1;38;5;245m                                                                                              \u001B[0m │\n",
       "│ \u001B[1;38;5;245m \u001B[0m\u001B[2m \u001B[0m\u001B[2m17\u001B[0m\u001B[2m \u001B[0m\u001B[1;38;5;245m \u001B[0m\u001B[1m \u001B[0m\u001B[1mDebt                                                        \u001B[0m\u001B[1m \u001B[0m\u001B[1;38;5;245m \u001B[0m Notes        \u001B[1;38;5;245m \u001B[0m R17.htm \u001B[1;38;5;245m \u001B[0m │\n",
       "│ \u001B[1;38;5;245m                                                                                              \u001B[0m │\n",
       "│ \u001B[1;38;5;245m \u001B[0m\u001B[1;2m \u001B[0m\u001B[1;2m18\u001B[0m\u001B[1;2m \u001B[0m\u001B[1;38;5;245m \u001B[0m\u001B[1m \u001B[0m\u001B[1mShareholders' Equity                                        \u001B[0m\u001B[1m \u001B[0m\u001B[1;38;5;245m \u001B[0m\u001B[1m \u001B[0m\u001B[1mNotes       \u001B[0m\u001B[1m \u001B[0m\u001B[1;38;5;245m \u001B[0m\u001B[1m \u001B[0m\u001B[1mR18.htm\u001B[0m\u001B[1m \u001B[0m\u001B[1;38;5;245m \u001B[0m │\n",
       "│ \u001B[1;38;5;245m                                                                                              \u001B[0m │\n",
       "│ \u001B[1;38;5;245m \u001B[0m\u001B[2m \u001B[0m\u001B[2m19\u001B[0m\u001B[2m \u001B[0m\u001B[1;38;5;245m \u001B[0m\u001B[1m \u001B[0m\u001B[1mShare-Based Compensation                                    \u001B[0m\u001B[1m \u001B[0m\u001B[1;38;5;245m \u001B[0m Notes        \u001B[1;38;5;245m \u001B[0m R19.htm \u001B[1;38;5;245m \u001B[0m │\n",
       "│ \u001B[1;38;5;245m                                                                                              \u001B[0m │\n",
       "│ \u001B[1;38;5;245m \u001B[0m\u001B[1;2m \u001B[0m\u001B[1;2m20\u001B[0m\u001B[1;2m \u001B[0m\u001B[1;38;5;245m \u001B[0m\u001B[1m \u001B[0m\u001B[1mCommitments, Contingencies and Supply Concentrations        \u001B[0m\u001B[1m \u001B[0m\u001B[1;38;5;245m \u001B[0m\u001B[1m \u001B[0m\u001B[1mNotes       \u001B[0m\u001B[1m \u001B[0m\u001B[1;38;5;245m \u001B[0m\u001B[1m \u001B[0m\u001B[1mR20.htm\u001B[0m\u001B[1m \u001B[0m\u001B[1;38;5;245m \u001B[0m │\n",
       "│ \u001B[1;38;5;245m                                                                                              \u001B[0m │\n",
       "│ \u001B[1;38;5;245m \u001B[0m\u001B[2m \u001B[0m\u001B[2m21\u001B[0m\u001B[2m \u001B[0m\u001B[1;38;5;245m \u001B[0m\u001B[1m \u001B[0m\u001B[1mSegment Information and Geographic Data                     \u001B[0m\u001B[1m \u001B[0m\u001B[1;38;5;245m \u001B[0m Notes        \u001B[1;38;5;245m \u001B[0m R21.htm \u001B[1;38;5;245m \u001B[0m │\n",
       "│ \u001B[1;38;5;245m                                                                                              \u001B[0m │\n",
       "│ \u001B[1;38;5;245m \u001B[0m\u001B[1;2m \u001B[0m\u001B[1;2m22\u001B[0m\u001B[1;2m \u001B[0m\u001B[1;38;5;245m \u001B[0m\u001B[1m \u001B[0m\u001B[1mPay vs Performance Disclosure                               \u001B[0m\u001B[1m \u001B[0m\u001B[1;38;5;245m \u001B[0m\u001B[1m \u001B[0m\u001B[1mNotes       \u001B[0m\u001B[1m \u001B[0m\u001B[1;38;5;245m \u001B[0m\u001B[1m \u001B[0m\u001B[1mR22.htm\u001B[0m\u001B[1m \u001B[0m\u001B[1;38;5;245m \u001B[0m │\n",
       "│ \u001B[1;38;5;245m                                                                                              \u001B[0m │\n",
       "│ \u001B[1;38;5;245m \u001B[0m\u001B[2m \u001B[0m\u001B[2m23\u001B[0m\u001B[2m \u001B[0m\u001B[1;38;5;245m \u001B[0m\u001B[1m \u001B[0m\u001B[1mInsider Trading Arrangements                                \u001B[0m\u001B[1m \u001B[0m\u001B[1;38;5;245m \u001B[0m Notes        \u001B[1;38;5;245m \u001B[0m R23.htm \u001B[1;38;5;245m \u001B[0m │\n",
       "│ \u001B[1;38;5;245m                                                                                              \u001B[0m │\n",
       "│ \u001B[1;38;5;245m \u001B[0m\u001B[1;2m \u001B[0m\u001B[1;2m24\u001B[0m\u001B[1;2m \u001B[0m\u001B[1;38;5;245m \u001B[0m\u001B[1m \u001B[0m\u001B[1mSummary of Significant Accounting Policies (Policies)       \u001B[0m\u001B[1m \u001B[0m\u001B[1;38;5;245m \u001B[0m\u001B[1m \u001B[0m\u001B[1mPolicies    \u001B[0m\u001B[1m \u001B[0m\u001B[1;38;5;245m \u001B[0m\u001B[1m \u001B[0m\u001B[1mR24.htm\u001B[0m\u001B[1m \u001B[0m\u001B[1;38;5;245m \u001B[0m │\n",
       "│ \u001B[1;38;5;245m                                                                                              \u001B[0m │\n",
       "│ \u001B[1;38;5;245m \u001B[0m\u001B[2m \u001B[0m\u001B[2m25\u001B[0m\u001B[2m \u001B[0m\u001B[1;38;5;245m \u001B[0m\u001B[1m \u001B[0m\u001B[1mRevenue (Tables)                                            \u001B[0m\u001B[1m \u001B[0m\u001B[1;38;5;245m \u001B[0m Tables       \u001B[1;38;5;245m \u001B[0m R25.htm \u001B[1;38;5;245m \u001B[0m │\n",
       "│ \u001B[1;38;5;245m                                                                                              \u001B[0m │\n",
       "│ \u001B[1;38;5;245m \u001B[0m\u001B[1;2m \u001B[0m\u001B[1;2m26\u001B[0m\u001B[1;2m \u001B[0m\u001B[1;38;5;245m \u001B[0m\u001B[1m \u001B[0m\u001B[1mEarnings Per Share (Tables)                                 \u001B[0m\u001B[1m \u001B[0m\u001B[1;38;5;245m \u001B[0m\u001B[1m \u001B[0m\u001B[1mTables      \u001B[0m\u001B[1m \u001B[0m\u001B[1;38;5;245m \u001B[0m\u001B[1m \u001B[0m\u001B[1mR26.htm\u001B[0m\u001B[1m \u001B[0m\u001B[1;38;5;245m \u001B[0m │\n",
       "│ \u001B[1;38;5;245m                                                                                              \u001B[0m │\n",
       "│ \u001B[1;38;5;245m \u001B[0m\u001B[2m \u001B[0m\u001B[2m27\u001B[0m\u001B[2m \u001B[0m\u001B[1;38;5;245m \u001B[0m\u001B[1m \u001B[0m\u001B[1mFinancial Instruments (Tables)                              \u001B[0m\u001B[1m \u001B[0m\u001B[1;38;5;245m \u001B[0m Tables       \u001B[1;38;5;245m \u001B[0m R27.htm \u001B[1;38;5;245m \u001B[0m │\n",
       "│ \u001B[1;38;5;245m                                                                                              \u001B[0m │\n",
       "│ \u001B[1;38;5;245m \u001B[0m\u001B[1;2m \u001B[0m\u001B[1;2m28\u001B[0m\u001B[1;2m \u001B[0m\u001B[1;38;5;245m \u001B[0m\u001B[1m \u001B[0m\u001B[1mProperty, Plant and Equipment (Tables)                      \u001B[0m\u001B[1m \u001B[0m\u001B[1;38;5;245m \u001B[0m\u001B[1m \u001B[0m\u001B[1mTables      \u001B[0m\u001B[1m \u001B[0m\u001B[1;38;5;245m \u001B[0m\u001B[1m \u001B[0m\u001B[1mR28.htm\u001B[0m\u001B[1m \u001B[0m\u001B[1;38;5;245m \u001B[0m │\n",
       "│ \u001B[1;38;5;245m                                                                                              \u001B[0m │\n",
       "│ \u001B[1;38;5;245m \u001B[0m\u001B[2m \u001B[0m\u001B[2m29\u001B[0m\u001B[2m \u001B[0m\u001B[1;38;5;245m \u001B[0m\u001B[1m \u001B[0m\u001B[1mConsolidated Financial Statement Details (Tables)           \u001B[0m\u001B[1m \u001B[0m\u001B[1;38;5;245m \u001B[0m Tables       \u001B[1;38;5;245m \u001B[0m R29.htm \u001B[1;38;5;245m \u001B[0m │\n",
       "│ \u001B[1;38;5;245m                                                                                              \u001B[0m │\n",
       "│ \u001B[1;38;5;245m \u001B[0m\u001B[1;2m \u001B[0m\u001B[1;2m30\u001B[0m\u001B[1;2m \u001B[0m\u001B[1;38;5;245m \u001B[0m\u001B[1m \u001B[0m\u001B[1mIncome Taxes (Tables)                                       \u001B[0m\u001B[1m \u001B[0m\u001B[1;38;5;245m \u001B[0m\u001B[1m \u001B[0m\u001B[1mTables      \u001B[0m\u001B[1m \u001B[0m\u001B[1;38;5;245m \u001B[0m\u001B[1m \u001B[0m\u001B[1mR30.htm\u001B[0m\u001B[1m \u001B[0m\u001B[1;38;5;245m \u001B[0m │\n",
       "│ \u001B[1;38;5;245m                                                                                              \u001B[0m │\n",
       "│ \u001B[1;38;5;245m \u001B[0m\u001B[2m \u001B[0m\u001B[2m31\u001B[0m\u001B[2m \u001B[0m\u001B[1;38;5;245m \u001B[0m\u001B[1m \u001B[0m\u001B[1mLeases (Tables)                                             \u001B[0m\u001B[1m \u001B[0m\u001B[1;38;5;245m \u001B[0m Tables       \u001B[1;38;5;245m \u001B[0m R31.htm \u001B[1;38;5;245m \u001B[0m │\n",
       "│ \u001B[1;38;5;245m                                                                                              \u001B[0m │\n",
       "│ \u001B[1;38;5;245m \u001B[0m\u001B[1;2m \u001B[0m\u001B[1;2m32\u001B[0m\u001B[1;2m \u001B[0m\u001B[1;38;5;245m \u001B[0m\u001B[1m \u001B[0m\u001B[1mDebt (Tables)                                               \u001B[0m\u001B[1m \u001B[0m\u001B[1;38;5;245m \u001B[0m\u001B[1m \u001B[0m\u001B[1mTables      \u001B[0m\u001B[1m \u001B[0m\u001B[1;38;5;245m \u001B[0m\u001B[1m \u001B[0m\u001B[1mR32.htm\u001B[0m\u001B[1m \u001B[0m\u001B[1;38;5;245m \u001B[0m │\n",
       "│ \u001B[1;38;5;245m                                                                                              \u001B[0m │\n",
       "│ \u001B[1;38;5;245m \u001B[0m\u001B[2m \u001B[0m\u001B[2m33\u001B[0m\u001B[2m \u001B[0m\u001B[1;38;5;245m \u001B[0m\u001B[1m \u001B[0m\u001B[1mShareholders' Equity (Tables)                               \u001B[0m\u001B[1m \u001B[0m\u001B[1;38;5;245m \u001B[0m Tables       \u001B[1;38;5;245m \u001B[0m R33.htm \u001B[1;38;5;245m \u001B[0m │\n",
       "│ \u001B[1;38;5;245m                                                                                              \u001B[0m │\n",
       "│ \u001B[1;38;5;245m \u001B[0m\u001B[1;2m \u001B[0m\u001B[1;2m34\u001B[0m\u001B[1;2m \u001B[0m\u001B[1;38;5;245m \u001B[0m\u001B[1m \u001B[0m\u001B[1mShare-Based Compensation (Tables)                           \u001B[0m\u001B[1m \u001B[0m\u001B[1;38;5;245m \u001B[0m\u001B[1m \u001B[0m\u001B[1mTables      \u001B[0m\u001B[1m \u001B[0m\u001B[1;38;5;245m \u001B[0m\u001B[1m \u001B[0m\u001B[1mR34.htm\u001B[0m\u001B[1m \u001B[0m\u001B[1;38;5;245m \u001B[0m │\n",
       "│ \u001B[1;38;5;245m                                                                                              \u001B[0m │\n",
       "│ \u001B[1;38;5;245m \u001B[0m\u001B[2m \u001B[0m\u001B[2m35\u001B[0m\u001B[2m \u001B[0m\u001B[1;38;5;245m \u001B[0m\u001B[1m \u001B[0m\u001B[1mCommitments, Contingencies and Supply Concentrations        \u001B[0m\u001B[1m \u001B[0m\u001B[1;38;5;245m \u001B[0m Tables       \u001B[1;38;5;245m \u001B[0m R35.htm \u001B[1;38;5;245m \u001B[0m │\n",
       "│ \u001B[1;38;5;245m \u001B[0m\u001B[2m    \u001B[0m\u001B[1;38;5;245m \u001B[0m\u001B[1m \u001B[0m\u001B[1m(Tables)                                                    \u001B[0m\u001B[1m \u001B[0m\u001B[1;38;5;245m \u001B[0m              \u001B[1;38;5;245m \u001B[0m         \u001B[1;38;5;245m \u001B[0m │\n",
       "│ \u001B[1;38;5;245m                                                                                              \u001B[0m │\n",
       "│ \u001B[1;38;5;245m \u001B[0m\u001B[1;2m \u001B[0m\u001B[1;2m36\u001B[0m\u001B[1;2m \u001B[0m\u001B[1;38;5;245m \u001B[0m\u001B[1m \u001B[0m\u001B[1mSegment Information and Geographic Data (Tables)            \u001B[0m\u001B[1m \u001B[0m\u001B[1;38;5;245m \u001B[0m\u001B[1m \u001B[0m\u001B[1mTables      \u001B[0m\u001B[1m \u001B[0m\u001B[1;38;5;245m \u001B[0m\u001B[1m \u001B[0m\u001B[1mR36.htm\u001B[0m\u001B[1m \u001B[0m\u001B[1;38;5;245m \u001B[0m │\n",
       "│ \u001B[1;38;5;245m                                                                                              \u001B[0m │\n",
       "│ \u001B[1;38;5;245m \u001B[0m\u001B[2m \u001B[0m\u001B[2m37\u001B[0m\u001B[2m \u001B[0m\u001B[1;38;5;245m \u001B[0m\u001B[1m \u001B[0m\u001B[1mRevenue - Additional Information (Details)                  \u001B[0m\u001B[1m \u001B[0m\u001B[1;38;5;245m \u001B[0m Details      \u001B[1;38;5;245m \u001B[0m R37.htm \u001B[1;38;5;245m \u001B[0m │\n",
       "│ \u001B[1;38;5;245m                                                                                              \u001B[0m │\n",
       "│ \u001B[1;38;5;245m \u001B[0m\u001B[1;2m \u001B[0m\u001B[1;2m38\u001B[0m\u001B[1;2m \u001B[0m\u001B[1;38;5;245m \u001B[0m\u001B[1m \u001B[0m\u001B[1mRevenue - Net Sales Disaggregated by Significant Products   \u001B[0m\u001B[1m \u001B[0m\u001B[1;38;5;245m \u001B[0m\u001B[1m \u001B[0m\u001B[1mDetails     \u001B[0m\u001B[1m \u001B[0m\u001B[1;38;5;245m \u001B[0m\u001B[1m \u001B[0m\u001B[1mR38.htm\u001B[0m\u001B[1m \u001B[0m\u001B[1;38;5;245m \u001B[0m │\n",
       "│ \u001B[1;38;5;245m \u001B[0m\u001B[1;2m    \u001B[0m\u001B[1;38;5;245m \u001B[0m\u001B[1m \u001B[0m\u001B[1mand Services (Details)                                      \u001B[0m\u001B[1m \u001B[0m\u001B[1;38;5;245m \u001B[0m\u001B[1m              \u001B[0m\u001B[1;38;5;245m \u001B[0m\u001B[1m         \u001B[0m\u001B[1;38;5;245m \u001B[0m │\n",
       "│ \u001B[1;38;5;245m                                                                                              \u001B[0m │\n",
       "│ \u001B[1;38;5;245m \u001B[0m\u001B[2m \u001B[0m\u001B[2m39\u001B[0m\u001B[2m \u001B[0m\u001B[1;38;5;245m \u001B[0m\u001B[1m \u001B[0m\u001B[1mRevenue - Deferred Revenue, Expected Timing of Realization  \u001B[0m\u001B[1m \u001B[0m\u001B[1;38;5;245m \u001B[0m Details      \u001B[1;38;5;245m \u001B[0m R39.htm \u001B[1;38;5;245m \u001B[0m │\n",
       "│ \u001B[1;38;5;245m \u001B[0m\u001B[2m    \u001B[0m\u001B[1;38;5;245m \u001B[0m\u001B[1m \u001B[0m\u001B[1m(Details)                                                   \u001B[0m\u001B[1m \u001B[0m\u001B[1;38;5;245m \u001B[0m              \u001B[1;38;5;245m \u001B[0m         \u001B[1;38;5;245m \u001B[0m │\n",
       "│ \u001B[1;38;5;245m                                                                                              \u001B[0m │\n",
       "│ \u001B[1;38;5;245m \u001B[0m\u001B[1;2m \u001B[0m\u001B[1;2m40\u001B[0m\u001B[1;2m \u001B[0m\u001B[1;38;5;245m \u001B[0m\u001B[1m \u001B[0m\u001B[1mEarnings Per Share - Computation of Basic and Diluted       \u001B[0m\u001B[1m \u001B[0m\u001B[1;38;5;245m \u001B[0m\u001B[1m \u001B[0m\u001B[1mDetails     \u001B[0m\u001B[1m \u001B[0m\u001B[1;38;5;245m \u001B[0m\u001B[1m \u001B[0m\u001B[1mR40.htm\u001B[0m\u001B[1m \u001B[0m\u001B[1;38;5;245m \u001B[0m │\n",
       "│ \u001B[1;38;5;245m \u001B[0m\u001B[1;2m    \u001B[0m\u001B[1;38;5;245m \u001B[0m\u001B[1m \u001B[0m\u001B[1mEarnings Per Share (Details)                                \u001B[0m\u001B[1m \u001B[0m\u001B[1;38;5;245m \u001B[0m\u001B[1m              \u001B[0m\u001B[1;38;5;245m \u001B[0m\u001B[1m         \u001B[0m\u001B[1;38;5;245m \u001B[0m │\n",
       "│ \u001B[1;38;5;245m                                                                                              \u001B[0m │\n",
       "│ \u001B[1;38;5;245m \u001B[0m\u001B[2m \u001B[0m\u001B[2m41\u001B[0m\u001B[2m \u001B[0m\u001B[1;38;5;245m \u001B[0m\u001B[1m \u001B[0m\u001B[1mEarnings Per Share - Additional Information (Details)       \u001B[0m\u001B[1m \u001B[0m\u001B[1;38;5;245m \u001B[0m Details      \u001B[1;38;5;245m \u001B[0m R41.htm \u001B[1;38;5;245m \u001B[0m │\n",
       "│ \u001B[1;38;5;245m                                                                                              \u001B[0m │\n",
       "│ \u001B[1;38;5;245m \u001B[0m\u001B[1;2m \u001B[0m\u001B[1;2m42\u001B[0m\u001B[1;2m \u001B[0m\u001B[1;38;5;245m \u001B[0m\u001B[1m \u001B[0m\u001B[1mFinancial Instruments - Cash, Cash Equivalents and          \u001B[0m\u001B[1m \u001B[0m\u001B[1;38;5;245m \u001B[0m\u001B[1m \u001B[0m\u001B[1mDetails     \u001B[0m\u001B[1m \u001B[0m\u001B[1;38;5;245m \u001B[0m\u001B[1m \u001B[0m\u001B[1mR42.htm\u001B[0m\u001B[1m \u001B[0m\u001B[1;38;5;245m \u001B[0m │\n",
       "│ \u001B[1;38;5;245m \u001B[0m\u001B[1;2m    \u001B[0m\u001B[1;38;5;245m \u001B[0m\u001B[1m \u001B[0m\u001B[1mMarketable Securities (Details)                             \u001B[0m\u001B[1m \u001B[0m\u001B[1;38;5;245m \u001B[0m\u001B[1m              \u001B[0m\u001B[1;38;5;245m \u001B[0m\u001B[1m         \u001B[0m\u001B[1;38;5;245m \u001B[0m │\n",
       "│ \u001B[1;38;5;245m                                                                                              \u001B[0m │\n",
       "│ \u001B[1;38;5;245m \u001B[0m\u001B[2m \u001B[0m\u001B[2m43\u001B[0m\u001B[2m \u001B[0m\u001B[1;38;5;245m \u001B[0m\u001B[1m \u001B[0m\u001B[1mFinancial Instruments - Non-Current Marketable Debt         \u001B[0m\u001B[1m \u001B[0m\u001B[1;38;5;245m \u001B[0m Details      \u001B[1;38;5;245m \u001B[0m R43.htm \u001B[1;38;5;245m \u001B[0m │\n",
       "│ \u001B[1;38;5;245m \u001B[0m\u001B[2m    \u001B[0m\u001B[1;38;5;245m \u001B[0m\u001B[1m \u001B[0m\u001B[1mSecurities by Contractual Maturity (Details)                \u001B[0m\u001B[1m \u001B[0m\u001B[1;38;5;245m \u001B[0m              \u001B[1;38;5;245m \u001B[0m         \u001B[1;38;5;245m \u001B[0m │\n",
       "│ \u001B[1;38;5;245m                                                                                              \u001B[0m │\n",
       "│ \u001B[1;38;5;245m \u001B[0m\u001B[1;2m \u001B[0m\u001B[1;2m44\u001B[0m\u001B[1;2m \u001B[0m\u001B[1;38;5;245m \u001B[0m\u001B[1m \u001B[0m\u001B[1mFinancial Instruments - Additional Information (Details)    \u001B[0m\u001B[1m \u001B[0m\u001B[1;38;5;245m \u001B[0m\u001B[1m \u001B[0m\u001B[1mDetails     \u001B[0m\u001B[1m \u001B[0m\u001B[1;38;5;245m \u001B[0m\u001B[1m \u001B[0m\u001B[1mR44.htm\u001B[0m\u001B[1m \u001B[0m\u001B[1;38;5;245m \u001B[0m │\n",
       "│ \u001B[1;38;5;245m                                                                                              \u001B[0m │\n",
       "│ \u001B[1;38;5;245m \u001B[0m\u001B[2m \u001B[0m\u001B[2m45\u001B[0m\u001B[2m \u001B[0m\u001B[1;38;5;245m \u001B[0m\u001B[1m \u001B[0m\u001B[1mFinancial Instruments - Notional Amounts Associated with    \u001B[0m\u001B[1m \u001B[0m\u001B[1;38;5;245m \u001B[0m Details      \u001B[1;38;5;245m \u001B[0m R45.htm \u001B[1;38;5;245m \u001B[0m │\n",
       "│ \u001B[1;38;5;245m \u001B[0m\u001B[2m    \u001B[0m\u001B[1;38;5;245m \u001B[0m\u001B[1m \u001B[0m\u001B[1mDerivative Instruments (Details)                            \u001B[0m\u001B[1m \u001B[0m\u001B[1;38;5;245m \u001B[0m              \u001B[1;38;5;245m \u001B[0m         \u001B[1;38;5;245m \u001B[0m │\n",
       "│ \u001B[1;38;5;245m                                                                                              \u001B[0m │\n",
       "│ \u001B[1;38;5;245m \u001B[0m\u001B[1;2m \u001B[0m\u001B[1;2m46\u001B[0m\u001B[1;2m \u001B[0m\u001B[1;38;5;245m \u001B[0m\u001B[1m \u001B[0m\u001B[1mFinancial Instruments - Gross Fair Values of Derivative     \u001B[0m\u001B[1m \u001B[0m\u001B[1;38;5;245m \u001B[0m\u001B[1m \u001B[0m\u001B[1mDetails     \u001B[0m\u001B[1m \u001B[0m\u001B[1;38;5;245m \u001B[0m\u001B[1m \u001B[0m\u001B[1mR46.htm\u001B[0m\u001B[1m \u001B[0m\u001B[1;38;5;245m \u001B[0m │\n",
       "│ \u001B[1;38;5;245m \u001B[0m\u001B[1;2m    \u001B[0m\u001B[1;38;5;245m \u001B[0m\u001B[1m \u001B[0m\u001B[1mAssets and Liabilities (Details)                            \u001B[0m\u001B[1m \u001B[0m\u001B[1;38;5;245m \u001B[0m\u001B[1m              \u001B[0m\u001B[1;38;5;245m \u001B[0m\u001B[1m         \u001B[0m\u001B[1;38;5;245m \u001B[0m │\n",
       "│ \u001B[1;38;5;245m                                                                                              \u001B[0m │\n",
       "│ \u001B[1;38;5;245m \u001B[0m\u001B[2m \u001B[0m\u001B[2m47\u001B[0m\u001B[2m \u001B[0m\u001B[1;38;5;245m \u001B[0m\u001B[1m \u001B[0m\u001B[1mFinancial Instruments - Derivative Instruments Designated as\u001B[0m\u001B[1m \u001B[0m\u001B[1;38;5;245m \u001B[0m Details      \u001B[1;38;5;245m \u001B[0m R47.htm \u001B[1;38;5;245m \u001B[0m │\n",
       "│ \u001B[1;38;5;245m \u001B[0m\u001B[2m    \u001B[0m\u001B[1;38;5;245m \u001B[0m\u001B[1m \u001B[0m\u001B[1mFair Value Hedges and Related Hedged Items (Details)        \u001B[0m\u001B[1m \u001B[0m\u001B[1;38;5;245m \u001B[0m              \u001B[1;38;5;245m \u001B[0m         \u001B[1;38;5;245m \u001B[0m │\n",
       "│ \u001B[1;38;5;245m                                                                                              \u001B[0m │\n",
       "│ \u001B[1;38;5;245m \u001B[0m\u001B[1;2m \u001B[0m\u001B[1;2m48\u001B[0m\u001B[1;2m \u001B[0m\u001B[1;38;5;245m \u001B[0m\u001B[1m \u001B[0m\u001B[1mProperty, Plant and Equipment - Gross Property, Plant and   \u001B[0m\u001B[1m \u001B[0m\u001B[1;38;5;245m \u001B[0m\u001B[1m \u001B[0m\u001B[1mDetails     \u001B[0m\u001B[1m \u001B[0m\u001B[1;38;5;245m \u001B[0m\u001B[1m \u001B[0m\u001B[1mR48.htm\u001B[0m\u001B[1m \u001B[0m\u001B[1;38;5;245m \u001B[0m │\n",
       "│ \u001B[1;38;5;245m \u001B[0m\u001B[1;2m    \u001B[0m\u001B[1;38;5;245m \u001B[0m\u001B[1m \u001B[0m\u001B[1mEquipment by Major Asset Class and Accumulated Depreciation \u001B[0m\u001B[1m \u001B[0m\u001B[1;38;5;245m \u001B[0m\u001B[1m              \u001B[0m\u001B[1;38;5;245m \u001B[0m\u001B[1m         \u001B[0m\u001B[1;38;5;245m \u001B[0m │\n",
       "│ \u001B[1;38;5;245m \u001B[0m\u001B[1;2m    \u001B[0m\u001B[1;38;5;245m \u001B[0m\u001B[1m \u001B[0m\u001B[1m(Details)                                                   \u001B[0m\u001B[1m \u001B[0m\u001B[1;38;5;245m \u001B[0m\u001B[1m              \u001B[0m\u001B[1;38;5;245m \u001B[0m\u001B[1m         \u001B[0m\u001B[1;38;5;245m \u001B[0m │\n",
       "│ \u001B[1;38;5;245m                                                                                              \u001B[0m │\n",
       "│ \u001B[1;38;5;245m \u001B[0m\u001B[2m \u001B[0m\u001B[2m49\u001B[0m\u001B[2m \u001B[0m\u001B[1;38;5;245m \u001B[0m\u001B[1m \u001B[0m\u001B[1mProperty, Plant, and Equipment - Additional Information     \u001B[0m\u001B[1m \u001B[0m\u001B[1;38;5;245m \u001B[0m Details      \u001B[1;38;5;245m \u001B[0m R49.htm \u001B[1;38;5;245m \u001B[0m │\n",
       "│ \u001B[1;38;5;245m \u001B[0m\u001B[2m    \u001B[0m\u001B[1;38;5;245m \u001B[0m\u001B[1m \u001B[0m\u001B[1m(Details)                                                   \u001B[0m\u001B[1m \u001B[0m\u001B[1;38;5;245m \u001B[0m              \u001B[1;38;5;245m \u001B[0m         \u001B[1;38;5;245m \u001B[0m │\n",
       "│ \u001B[1;38;5;245m                                                                                              \u001B[0m │\n",
       "│ \u001B[1;38;5;245m \u001B[0m\u001B[1;2m \u001B[0m\u001B[1;2m50\u001B[0m\u001B[1;2m \u001B[0m\u001B[1;38;5;245m \u001B[0m\u001B[1m \u001B[0m\u001B[1mConsolidated Financial Statement Details ??? Other          \u001B[0m\u001B[1m \u001B[0m\u001B[1;38;5;245m \u001B[0m\u001B[1m \u001B[0m\u001B[1mDetails     \u001B[0m\u001B[1m \u001B[0m\u001B[1;38;5;245m \u001B[0m\u001B[1m \u001B[0m\u001B[1mR50.htm\u001B[0m\u001B[1m \u001B[0m\u001B[1;38;5;245m \u001B[0m │\n",
       "│ \u001B[1;38;5;245m \u001B[0m\u001B[1;2m    \u001B[0m\u001B[1;38;5;245m \u001B[0m\u001B[1m \u001B[0m\u001B[1mNon-Current Assets (Details)                                \u001B[0m\u001B[1m \u001B[0m\u001B[1;38;5;245m \u001B[0m\u001B[1m              \u001B[0m\u001B[1;38;5;245m \u001B[0m\u001B[1m         \u001B[0m\u001B[1;38;5;245m \u001B[0m │\n",
       "│ \u001B[1;38;5;245m                                                                                              \u001B[0m │\n",
       "│ \u001B[1;38;5;245m \u001B[0m\u001B[2m \u001B[0m\u001B[2m51\u001B[0m\u001B[2m \u001B[0m\u001B[1;38;5;245m \u001B[0m\u001B[1m \u001B[0m\u001B[1mConsolidated Financial Statement Details ??? Other Current  \u001B[0m\u001B[1m \u001B[0m\u001B[1;38;5;245m \u001B[0m Details      \u001B[1;38;5;245m \u001B[0m R51.htm \u001B[1;38;5;245m \u001B[0m │\n",
       "│ \u001B[1;38;5;245m \u001B[0m\u001B[2m    \u001B[0m\u001B[1;38;5;245m \u001B[0m\u001B[1m \u001B[0m\u001B[1mLiabilities (Details)                                       \u001B[0m\u001B[1m \u001B[0m\u001B[1;38;5;245m \u001B[0m              \u001B[1;38;5;245m \u001B[0m         \u001B[1;38;5;245m \u001B[0m │\n",
       "│ \u001B[1;38;5;245m                                                                                              \u001B[0m │\n",
       "│ \u001B[1;38;5;245m \u001B[0m\u001B[1;2m \u001B[0m\u001B[1;2m52\u001B[0m\u001B[1;2m \u001B[0m\u001B[1;38;5;245m \u001B[0m\u001B[1m \u001B[0m\u001B[1mConsolidated Financial Statement Details - Other Non-Current\u001B[0m\u001B[1m \u001B[0m\u001B[1;38;5;245m \u001B[0m\u001B[1m \u001B[0m\u001B[1mDetails     \u001B[0m\u001B[1m \u001B[0m\u001B[1;38;5;245m \u001B[0m\u001B[1m \u001B[0m\u001B[1mR52.htm\u001B[0m\u001B[1m \u001B[0m\u001B[1;38;5;245m \u001B[0m │\n",
       "│ \u001B[1;38;5;245m \u001B[0m\u001B[1;2m    \u001B[0m\u001B[1;38;5;245m \u001B[0m\u001B[1m \u001B[0m\u001B[1mLiabilities (Details)                                       \u001B[0m\u001B[1m \u001B[0m\u001B[1;38;5;245m \u001B[0m\u001B[1m              \u001B[0m\u001B[1;38;5;245m \u001B[0m\u001B[1m         \u001B[0m\u001B[1;38;5;245m \u001B[0m │\n",
       "│ \u001B[1;38;5;245m                                                                                              \u001B[0m │\n",
       "│ \u001B[1;38;5;245m \u001B[0m\u001B[2m \u001B[0m\u001B[2m53\u001B[0m\u001B[2m \u001B[0m\u001B[1;38;5;245m \u001B[0m\u001B[1m \u001B[0m\u001B[1mConsolidated Financial Statement Details - Other            \u001B[0m\u001B[1m \u001B[0m\u001B[1;38;5;245m \u001B[0m Details      \u001B[1;38;5;245m \u001B[0m R53.htm \u001B[1;38;5;245m \u001B[0m │\n",
       "│ \u001B[1;38;5;245m \u001B[0m\u001B[2m    \u001B[0m\u001B[1;38;5;245m \u001B[0m\u001B[1m \u001B[0m\u001B[1mIncome/(Expense), Net (Details)                             \u001B[0m\u001B[1m \u001B[0m\u001B[1;38;5;245m \u001B[0m              \u001B[1;38;5;245m \u001B[0m         \u001B[1;38;5;245m \u001B[0m │\n",
       "│ \u001B[1;38;5;245m                                                                                              \u001B[0m │\n",
       "│ \u001B[1;38;5;245m \u001B[0m\u001B[1;2m \u001B[0m\u001B[1;2m54\u001B[0m\u001B[1;2m \u001B[0m\u001B[1;38;5;245m \u001B[0m\u001B[1m \u001B[0m\u001B[1mIncome Taxes - Provision for Income Taxes (Details)         \u001B[0m\u001B[1m \u001B[0m\u001B[1;38;5;245m \u001B[0m\u001B[1m \u001B[0m\u001B[1mDetails     \u001B[0m\u001B[1m \u001B[0m\u001B[1;38;5;245m \u001B[0m\u001B[1m \u001B[0m\u001B[1mR54.htm\u001B[0m\u001B[1m \u001B[0m\u001B[1;38;5;245m \u001B[0m │\n",
       "│ \u001B[1;38;5;245m                                                                                              \u001B[0m │\n",
       "│ \u001B[1;38;5;245m \u001B[0m\u001B[2m \u001B[0m\u001B[2m55\u001B[0m\u001B[2m \u001B[0m\u001B[1;38;5;245m \u001B[0m\u001B[1m \u001B[0m\u001B[1mIncome Taxes - Additional Information (Details)             \u001B[0m\u001B[1m \u001B[0m\u001B[1;38;5;245m \u001B[0m Details      \u001B[1;38;5;245m \u001B[0m R55.htm \u001B[1;38;5;245m \u001B[0m │\n",
       "│ \u001B[1;38;5;245m                                                                                              \u001B[0m │\n",
       "│ \u001B[1;38;5;245m \u001B[0m\u001B[1;2m \u001B[0m\u001B[1;2m56\u001B[0m\u001B[1;2m \u001B[0m\u001B[1;38;5;245m \u001B[0m\u001B[1m \u001B[0m\u001B[1mIncome Taxes - Reconciliation of Provision for Income Taxes \u001B[0m\u001B[1m \u001B[0m\u001B[1;38;5;245m \u001B[0m\u001B[1m \u001B[0m\u001B[1mDetails     \u001B[0m\u001B[1m \u001B[0m\u001B[1;38;5;245m \u001B[0m\u001B[1m \u001B[0m\u001B[1mR56.htm\u001B[0m\u001B[1m \u001B[0m\u001B[1;38;5;245m \u001B[0m │\n",
       "│ \u001B[1;38;5;245m \u001B[0m\u001B[1;2m    \u001B[0m\u001B[1;38;5;245m \u001B[0m\u001B[1m \u001B[0m\u001B[1mto Amount Computed by Applying the Statutory Federal Income \u001B[0m\u001B[1m \u001B[0m\u001B[1;38;5;245m \u001B[0m\u001B[1m              \u001B[0m\u001B[1;38;5;245m \u001B[0m\u001B[1m         \u001B[0m\u001B[1;38;5;245m \u001B[0m │\n",
       "│ \u001B[1;38;5;245m \u001B[0m\u001B[1;2m    \u001B[0m\u001B[1;38;5;245m \u001B[0m\u001B[1m \u001B[0m\u001B[1mTax Rate to Income Before Provision for Income Taxes        \u001B[0m\u001B[1m \u001B[0m\u001B[1;38;5;245m \u001B[0m\u001B[1m              \u001B[0m\u001B[1;38;5;245m \u001B[0m\u001B[1m         \u001B[0m\u001B[1;38;5;245m \u001B[0m │\n",
       "│ \u001B[1;38;5;245m \u001B[0m\u001B[1;2m    \u001B[0m\u001B[1;38;5;245m \u001B[0m\u001B[1m \u001B[0m\u001B[1m(Details)                                                   \u001B[0m\u001B[1m \u001B[0m\u001B[1;38;5;245m \u001B[0m\u001B[1m              \u001B[0m\u001B[1;38;5;245m \u001B[0m\u001B[1m         \u001B[0m\u001B[1;38;5;245m \u001B[0m │\n",
       "│ \u001B[1;38;5;245m                                                                                              \u001B[0m │\n",
       "│ \u001B[1;38;5;245m \u001B[0m\u001B[2m \u001B[0m\u001B[2m57\u001B[0m\u001B[2m \u001B[0m\u001B[1;38;5;245m \u001B[0m\u001B[1m \u001B[0m\u001B[1mIncome Taxes - Significant Components of Deferred Tax Assets\u001B[0m\u001B[1m \u001B[0m\u001B[1;38;5;245m \u001B[0m Details      \u001B[1;38;5;245m \u001B[0m R57.htm \u001B[1;38;5;245m \u001B[0m │\n",
       "│ \u001B[1;38;5;245m \u001B[0m\u001B[2m    \u001B[0m\u001B[1;38;5;245m \u001B[0m\u001B[1m \u001B[0m\u001B[1mand Liabilities (Details)                                   \u001B[0m\u001B[1m \u001B[0m\u001B[1;38;5;245m \u001B[0m              \u001B[1;38;5;245m \u001B[0m         \u001B[1;38;5;245m \u001B[0m │\n",
       "│ \u001B[1;38;5;245m                                                                                              \u001B[0m │\n",
       "│ \u001B[1;38;5;245m \u001B[0m\u001B[1;2m \u001B[0m\u001B[1;2m58\u001B[0m\u001B[1;2m \u001B[0m\u001B[1;38;5;245m \u001B[0m\u001B[1m \u001B[0m\u001B[1mIncome Taxes - Aggregate Changes in Gross Unrecognized Tax  \u001B[0m\u001B[1m \u001B[0m\u001B[1;38;5;245m \u001B[0m\u001B[1m \u001B[0m\u001B[1mDetails     \u001B[0m\u001B[1m \u001B[0m\u001B[1;38;5;245m \u001B[0m\u001B[1m \u001B[0m\u001B[1mR58.htm\u001B[0m\u001B[1m \u001B[0m\u001B[1;38;5;245m \u001B[0m │\n",
       "│ \u001B[1;38;5;245m \u001B[0m\u001B[1;2m    \u001B[0m\u001B[1;38;5;245m \u001B[0m\u001B[1m \u001B[0m\u001B[1mBenefits (Details)                                          \u001B[0m\u001B[1m \u001B[0m\u001B[1;38;5;245m \u001B[0m\u001B[1m              \u001B[0m\u001B[1;38;5;245m \u001B[0m\u001B[1m         \u001B[0m\u001B[1;38;5;245m \u001B[0m │\n",
       "│ \u001B[1;38;5;245m                                                                                              \u001B[0m │\n",
       "│ \u001B[1;38;5;245m \u001B[0m\u001B[2m \u001B[0m\u001B[2m59\u001B[0m\u001B[2m \u001B[0m\u001B[1;38;5;245m \u001B[0m\u001B[1m \u001B[0m\u001B[1mLeases - Additional Information (Details)                   \u001B[0m\u001B[1m \u001B[0m\u001B[1;38;5;245m \u001B[0m Details      \u001B[1;38;5;245m \u001B[0m R59.htm \u001B[1;38;5;245m \u001B[0m │\n",
       "│ \u001B[1;38;5;245m                                                                                              \u001B[0m │\n",
       "│ \u001B[1;38;5;245m \u001B[0m\u001B[1;2m \u001B[0m\u001B[1;2m60\u001B[0m\u001B[1;2m \u001B[0m\u001B[1;38;5;245m \u001B[0m\u001B[1m \u001B[0m\u001B[1mLeases - ROU Assets and Lease Liabilities (Details)         \u001B[0m\u001B[1m \u001B[0m\u001B[1;38;5;245m \u001B[0m\u001B[1m \u001B[0m\u001B[1mDetails     \u001B[0m\u001B[1m \u001B[0m\u001B[1;38;5;245m \u001B[0m\u001B[1m \u001B[0m\u001B[1mR60.htm\u001B[0m\u001B[1m \u001B[0m\u001B[1;38;5;245m \u001B[0m │\n",
       "│ \u001B[1;38;5;245m                                                                                              \u001B[0m │\n",
       "│ \u001B[1;38;5;245m \u001B[0m\u001B[2m \u001B[0m\u001B[2m61\u001B[0m\u001B[2m \u001B[0m\u001B[1;38;5;245m \u001B[0m\u001B[1m \u001B[0m\u001B[1mLeases - Lease Liability Maturities (Details)               \u001B[0m\u001B[1m \u001B[0m\u001B[1;38;5;245m \u001B[0m Details      \u001B[1;38;5;245m \u001B[0m R61.htm \u001B[1;38;5;245m \u001B[0m │\n",
       "│ \u001B[1;38;5;245m                                                                                              \u001B[0m │\n",
       "│ \u001B[1;38;5;245m \u001B[0m\u001B[1;2m \u001B[0m\u001B[1;2m62\u001B[0m\u001B[1;2m \u001B[0m\u001B[1;38;5;245m \u001B[0m\u001B[1m \u001B[0m\u001B[1mDebt - Additional Information (Details)                     \u001B[0m\u001B[1m \u001B[0m\u001B[1;38;5;245m \u001B[0m\u001B[1m \u001B[0m\u001B[1mDetails     \u001B[0m\u001B[1m \u001B[0m\u001B[1;38;5;245m \u001B[0m\u001B[1m \u001B[0m\u001B[1mR62.htm\u001B[0m\u001B[1m \u001B[0m\u001B[1;38;5;245m \u001B[0m │\n",
       "│ \u001B[1;38;5;245m                                                                                              \u001B[0m │\n",
       "│ \u001B[1;38;5;245m \u001B[0m\u001B[2m \u001B[0m\u001B[2m63\u001B[0m\u001B[2m \u001B[0m\u001B[1;38;5;245m \u001B[0m\u001B[1m \u001B[0m\u001B[1mDebt - Summary of Cash Flows Associated with Commercial     \u001B[0m\u001B[1m \u001B[0m\u001B[1;38;5;245m \u001B[0m Details      \u001B[1;38;5;245m \u001B[0m R63.htm \u001B[1;38;5;245m \u001B[0m │\n",
       "│ \u001B[1;38;5;245m \u001B[0m\u001B[2m    \u001B[0m\u001B[1;38;5;245m \u001B[0m\u001B[1m \u001B[0m\u001B[1mPaper (Details)                                             \u001B[0m\u001B[1m \u001B[0m\u001B[1;38;5;245m \u001B[0m              \u001B[1;38;5;245m \u001B[0m         \u001B[1;38;5;245m \u001B[0m │\n",
       "│ \u001B[1;38;5;245m                                                                                              \u001B[0m │\n",
       "│ \u001B[1;38;5;245m \u001B[0m\u001B[1;2m \u001B[0m\u001B[1;2m64\u001B[0m\u001B[1;2m \u001B[0m\u001B[1;38;5;245m \u001B[0m\u001B[1m \u001B[0m\u001B[1mDebt - Summary of Term Debt (Details)                       \u001B[0m\u001B[1m \u001B[0m\u001B[1;38;5;245m \u001B[0m\u001B[1m \u001B[0m\u001B[1mDetails     \u001B[0m\u001B[1m \u001B[0m\u001B[1;38;5;245m \u001B[0m\u001B[1m \u001B[0m\u001B[1mR64.htm\u001B[0m\u001B[1m \u001B[0m\u001B[1;38;5;245m \u001B[0m │\n",
       "│ \u001B[1;38;5;245m                                                                                              \u001B[0m │\n",
       "│ \u001B[1;38;5;245m \u001B[0m\u001B[2m \u001B[0m\u001B[2m65\u001B[0m\u001B[2m \u001B[0m\u001B[1;38;5;245m \u001B[0m\u001B[1m \u001B[0m\u001B[1mDebt - Future Principal Payments for Term Debt (Details)    \u001B[0m\u001B[1m \u001B[0m\u001B[1;38;5;245m \u001B[0m Details      \u001B[1;38;5;245m \u001B[0m R65.htm \u001B[1;38;5;245m \u001B[0m │\n",
       "│ \u001B[1;38;5;245m                                                                                              \u001B[0m │\n",
       "│ \u001B[1;38;5;245m \u001B[0m\u001B[1;2m \u001B[0m\u001B[1;2m66\u001B[0m\u001B[1;2m \u001B[0m\u001B[1;38;5;245m \u001B[0m\u001B[1m \u001B[0m\u001B[1mShareholders' Equity - Additional Information (Details)     \u001B[0m\u001B[1m \u001B[0m\u001B[1;38;5;245m \u001B[0m\u001B[1m \u001B[0m\u001B[1mDetails     \u001B[0m\u001B[1m \u001B[0m\u001B[1;38;5;245m \u001B[0m\u001B[1m \u001B[0m\u001B[1mR66.htm\u001B[0m\u001B[1m \u001B[0m\u001B[1;38;5;245m \u001B[0m │\n",
       "│ \u001B[1;38;5;245m                                                                                              \u001B[0m │\n",
       "│ \u001B[1;38;5;245m \u001B[0m\u001B[2m \u001B[0m\u001B[2m67\u001B[0m\u001B[2m \u001B[0m\u001B[1;38;5;245m \u001B[0m\u001B[1m \u001B[0m\u001B[1mShareholders' Equity - Shares of Common Stock (Details)     \u001B[0m\u001B[1m \u001B[0m\u001B[1;38;5;245m \u001B[0m Details      \u001B[1;38;5;245m \u001B[0m R67.htm \u001B[1;38;5;245m \u001B[0m │\n",
       "│ \u001B[1;38;5;245m                                                                                              \u001B[0m │\n",
       "│ \u001B[1;38;5;245m \u001B[0m\u001B[1;2m \u001B[0m\u001B[1;2m68\u001B[0m\u001B[1;2m \u001B[0m\u001B[1;38;5;245m \u001B[0m\u001B[1m \u001B[0m\u001B[1mShare-Based Compensation - Additional Information (Details) \u001B[0m\u001B[1m \u001B[0m\u001B[1;38;5;245m \u001B[0m\u001B[1m \u001B[0m\u001B[1mDetails     \u001B[0m\u001B[1m \u001B[0m\u001B[1;38;5;245m \u001B[0m\u001B[1m \u001B[0m\u001B[1mR68.htm\u001B[0m\u001B[1m \u001B[0m\u001B[1;38;5;245m \u001B[0m │\n",
       "│ \u001B[1;38;5;245m                                                                                              \u001B[0m │\n",
       "│ \u001B[1;38;5;245m \u001B[0m\u001B[2m \u001B[0m\u001B[2m69\u001B[0m\u001B[2m \u001B[0m\u001B[1;38;5;245m \u001B[0m\u001B[1m \u001B[0m\u001B[1mShare-Based Compensation - Restricted Stock Unit Activity   \u001B[0m\u001B[1m \u001B[0m\u001B[1;38;5;245m \u001B[0m Details      \u001B[1;38;5;245m \u001B[0m R69.htm \u001B[1;38;5;245m \u001B[0m │\n",
       "│ \u001B[1;38;5;245m \u001B[0m\u001B[2m    \u001B[0m\u001B[1;38;5;245m \u001B[0m\u001B[1m \u001B[0m\u001B[1mand Related Information (Details)                           \u001B[0m\u001B[1m \u001B[0m\u001B[1;38;5;245m \u001B[0m              \u001B[1;38;5;245m \u001B[0m         \u001B[1;38;5;245m \u001B[0m │\n",
       "│ \u001B[1;38;5;245m                                                                                              \u001B[0m │\n",
       "│ \u001B[1;38;5;245m \u001B[0m\u001B[1;2m \u001B[0m\u001B[1;2m70\u001B[0m\u001B[1;2m \u001B[0m\u001B[1;38;5;245m \u001B[0m\u001B[1m \u001B[0m\u001B[1mShare-Based Compensation - Summary of Share-Based           \u001B[0m\u001B[1m \u001B[0m\u001B[1;38;5;245m \u001B[0m\u001B[1m \u001B[0m\u001B[1mDetails     \u001B[0m\u001B[1m \u001B[0m\u001B[1;38;5;245m \u001B[0m\u001B[1m \u001B[0m\u001B[1mR70.htm\u001B[0m\u001B[1m \u001B[0m\u001B[1;38;5;245m \u001B[0m │\n",
       "│ \u001B[1;38;5;245m \u001B[0m\u001B[1;2m    \u001B[0m\u001B[1;38;5;245m \u001B[0m\u001B[1m \u001B[0m\u001B[1mCompensation Expense and the Related Income Tax Benefit     \u001B[0m\u001B[1m \u001B[0m\u001B[1;38;5;245m \u001B[0m\u001B[1m              \u001B[0m\u001B[1;38;5;245m \u001B[0m\u001B[1m         \u001B[0m\u001B[1;38;5;245m \u001B[0m │\n",
       "│ \u001B[1;38;5;245m \u001B[0m\u001B[1;2m    \u001B[0m\u001B[1;38;5;245m \u001B[0m\u001B[1m \u001B[0m\u001B[1m(Details)                                                   \u001B[0m\u001B[1m \u001B[0m\u001B[1;38;5;245m \u001B[0m\u001B[1m              \u001B[0m\u001B[1;38;5;245m \u001B[0m\u001B[1m         \u001B[0m\u001B[1;38;5;245m \u001B[0m │\n",
       "│ \u001B[1;38;5;245m                                                                                              \u001B[0m │\n",
       "│ \u001B[1;38;5;245m \u001B[0m\u001B[2m \u001B[0m\u001B[2m71\u001B[0m\u001B[2m \u001B[0m\u001B[1;38;5;245m \u001B[0m\u001B[1m \u001B[0m\u001B[1mCommitments, Contingencies and Supply Concentrations -      \u001B[0m\u001B[1m \u001B[0m\u001B[1;38;5;245m \u001B[0m Details      \u001B[1;38;5;245m \u001B[0m R71.htm \u001B[1;38;5;245m \u001B[0m │\n",
       "│ \u001B[1;38;5;245m \u001B[0m\u001B[2m    \u001B[0m\u001B[1;38;5;245m \u001B[0m\u001B[1m \u001B[0m\u001B[1mFuture Payments Under Unconditional Purchase Obligations    \u001B[0m\u001B[1m \u001B[0m\u001B[1;38;5;245m \u001B[0m              \u001B[1;38;5;245m \u001B[0m         \u001B[1;38;5;245m \u001B[0m │\n",
       "│ \u001B[1;38;5;245m \u001B[0m\u001B[2m    \u001B[0m\u001B[1;38;5;245m \u001B[0m\u001B[1m \u001B[0m\u001B[1m(Details)                                                   \u001B[0m\u001B[1m \u001B[0m\u001B[1;38;5;245m \u001B[0m              \u001B[1;38;5;245m \u001B[0m         \u001B[1;38;5;245m \u001B[0m │\n",
       "│ \u001B[1;38;5;245m                                                                                              \u001B[0m │\n",
       "│ \u001B[1;38;5;245m \u001B[0m\u001B[1;2m \u001B[0m\u001B[1;2m72\u001B[0m\u001B[1;2m \u001B[0m\u001B[1;38;5;245m \u001B[0m\u001B[1m \u001B[0m\u001B[1mSegment Information and Geographic Data - Information by    \u001B[0m\u001B[1m \u001B[0m\u001B[1;38;5;245m \u001B[0m\u001B[1m \u001B[0m\u001B[1mDetails     \u001B[0m\u001B[1m \u001B[0m\u001B[1;38;5;245m \u001B[0m\u001B[1m \u001B[0m\u001B[1mR72.htm\u001B[0m\u001B[1m \u001B[0m\u001B[1;38;5;245m \u001B[0m │\n",
       "│ \u001B[1;38;5;245m \u001B[0m\u001B[1;2m    \u001B[0m\u001B[1;38;5;245m \u001B[0m\u001B[1m \u001B[0m\u001B[1mReportable Segment (Details)                                \u001B[0m\u001B[1m \u001B[0m\u001B[1;38;5;245m \u001B[0m\u001B[1m              \u001B[0m\u001B[1;38;5;245m \u001B[0m\u001B[1m         \u001B[0m\u001B[1;38;5;245m \u001B[0m │\n",
       "│ \u001B[1;38;5;245m                                                                                              \u001B[0m │\n",
       "│ \u001B[1;38;5;245m \u001B[0m\u001B[2m \u001B[0m\u001B[2m73\u001B[0m\u001B[2m \u001B[0m\u001B[1;38;5;245m \u001B[0m\u001B[1m \u001B[0m\u001B[1mSegment Information and Geographic Data - Reconciliation of \u001B[0m\u001B[1m \u001B[0m\u001B[1;38;5;245m \u001B[0m Details      \u001B[1;38;5;245m \u001B[0m R73.htm \u001B[1;38;5;245m \u001B[0m │\n",
       "│ \u001B[1;38;5;245m \u001B[0m\u001B[2m    \u001B[0m\u001B[1;38;5;245m \u001B[0m\u001B[1m \u001B[0m\u001B[1mSegment Operating Income to the Consolidated Statements of  \u001B[0m\u001B[1m \u001B[0m\u001B[1;38;5;245m \u001B[0m              \u001B[1;38;5;245m \u001B[0m         \u001B[1;38;5;245m \u001B[0m │\n",
       "│ \u001B[1;38;5;245m \u001B[0m\u001B[2m    \u001B[0m\u001B[1;38;5;245m \u001B[0m\u001B[1m \u001B[0m\u001B[1mOperations (Details)                                        \u001B[0m\u001B[1m \u001B[0m\u001B[1;38;5;245m \u001B[0m              \u001B[1;38;5;245m \u001B[0m         \u001B[1;38;5;245m \u001B[0m │\n",
       "│ \u001B[1;38;5;245m                                                                                              \u001B[0m │\n",
       "│ \u001B[1;38;5;245m \u001B[0m\u001B[1;2m \u001B[0m\u001B[1;2m74\u001B[0m\u001B[1;2m \u001B[0m\u001B[1;38;5;245m \u001B[0m\u001B[1m \u001B[0m\u001B[1mSegment Information and Geographic Data - Net Sales         \u001B[0m\u001B[1m \u001B[0m\u001B[1;38;5;245m \u001B[0m\u001B[1m \u001B[0m\u001B[1mDetails     \u001B[0m\u001B[1m \u001B[0m\u001B[1;38;5;245m \u001B[0m\u001B[1m \u001B[0m\u001B[1mR74.htm\u001B[0m\u001B[1m \u001B[0m\u001B[1;38;5;245m \u001B[0m │\n",
       "│ \u001B[1;38;5;245m \u001B[0m\u001B[1;2m    \u001B[0m\u001B[1;38;5;245m \u001B[0m\u001B[1m \u001B[0m\u001B[1m(Details)                                                   \u001B[0m\u001B[1m \u001B[0m\u001B[1;38;5;245m \u001B[0m\u001B[1m              \u001B[0m\u001B[1;38;5;245m \u001B[0m\u001B[1m         \u001B[0m\u001B[1;38;5;245m \u001B[0m │\n",
       "│ \u001B[1;38;5;245m                                                                                              \u001B[0m │\n",
       "│ \u001B[1;38;5;245m \u001B[0m\u001B[2m \u001B[0m\u001B[2m75\u001B[0m\u001B[2m \u001B[0m\u001B[1;38;5;245m \u001B[0m\u001B[1m \u001B[0m\u001B[1mSegment Information and Geographic Data - Long-Lived Assets \u001B[0m\u001B[1m \u001B[0m\u001B[1;38;5;245m \u001B[0m Details      \u001B[1;38;5;245m \u001B[0m R75.htm \u001B[1;38;5;245m \u001B[0m │\n",
       "│ \u001B[1;38;5;245m \u001B[0m\u001B[2m    \u001B[0m\u001B[1;38;5;245m \u001B[0m\u001B[1m \u001B[0m\u001B[1m(Details)                                                   \u001B[0m\u001B[1m \u001B[0m\u001B[1;38;5;245m \u001B[0m              \u001B[1;38;5;245m \u001B[0m         \u001B[1;38;5;245m \u001B[0m │\n",
       "│ \u001B[1;38;5;245m                                                                                              \u001B[0m │\n",
       "│ \u001B[1;38;5;245m \u001B[0m\u001B[1;2m \u001B[0m\u001B[1;2m- \u001B[0m\u001B[1;2m \u001B[0m\u001B[1;38;5;245m \u001B[0m\u001B[1m \u001B[0m\u001B[1mAll Reports                                                 \u001B[0m\u001B[1m \u001B[0m\u001B[1;38;5;245m \u001B[0m\u001B[1m \u001B[0m\u001B[1m            \u001B[0m\u001B[1m \u001B[0m\u001B[1;38;5;245m \u001B[0m\u001B[1m \u001B[0m\u001B[1m       \u001B[0m\u001B[1m \u001B[0m\u001B[1;38;5;245m \u001B[0m │\n",
       "│ \u001B[1;38;5;245m                                                                                              \u001B[0m │\n",
       "╰────────────────────────────────────────────────────────────────────────────────────────────────╯"
      ]
     },
     "execution_count": 3,
     "metadata": {},
     "output_type": "execute_result"
    }
   ],
   "execution_count": 3
  },
  {
   "metadata": {
    "ExecuteTime": {
     "end_time": "2025-04-02T11:23:33.622486Z",
     "start_time": "2025-04-02T11:23:33.602586Z"
    }
   },
   "cell_type": "code",
   "source": "filing.reports[72].view()",
   "id": "1d444a0a87e805c6",
   "outputs": [
    {
     "data": {
      "text/plain": [
       "\u001B[34m                                                                                                    \u001B[0m\n",
       "\u001B[34m \u001B[0m\u001B[1m \u001B[0m\u001B[1mSegment Information and Geographic Data -        \u001B[0m\u001B[1m \u001B[0m\u001B[34m \u001B[0m\u001B[1m              \u001B[0m\u001B[34m \u001B[0m\u001B[1m                \u001B[0m\u001B[34m \u001B[0m\u001B[1m              \u001B[0m\u001B[34m \u001B[0m\n",
       "\u001B[34m \u001B[0m\u001B[1m \u001B[0m\u001B[1mInformation by Reportable Segment (Details) - USD\u001B[0m\u001B[1m \u001B[0m\u001B[34m \u001B[0m\u001B[1m              \u001B[0m\u001B[34m \u001B[0m\u001B[1m12 Months Ended\u001B[0m\u001B[1m \u001B[0m\u001B[34m \u001B[0m\u001B[1m              \u001B[0m\u001B[34m \u001B[0m\n",
       "\u001B[34m \u001B[0m\u001B[1m \u001B[0m\u001B[1m($)$ in Millions                                 \u001B[0m\u001B[1m \u001B[0m\u001B[34m \u001B[0m\u001B[1mSep. 30, 2023\u001B[0m\u001B[1m \u001B[0m\u001B[34m \u001B[0m\u001B[1m  Sep. 24, 2022\u001B[0m\u001B[1m \u001B[0m\u001B[34m \u001B[0m\u001B[1mSep. 25, 2021\u001B[0m\u001B[1m \u001B[0m\u001B[34m \u001B[0m\n",
       "\u001B[34m ────────────────────────────────────────────────────────────────────────────────────────────────── \u001B[0m\n",
       "\u001B[34m \u001B[0m Segment Reporting Information [Line Items]        \u001B[34m \u001B[0m              \u001B[34m \u001B[0m                \u001B[34m \u001B[0m              \u001B[34m \u001B[0m\n",
       "\u001B[34m \u001B[0m\u001B[38;5;245m \u001B[0m\u001B[38;5;245mNet sales                                        \u001B[0m\u001B[38;5;245m \u001B[0m\u001B[34m \u001B[0m\u001B[38;5;245m    $ 383,285\u001B[0m\u001B[38;5;245m \u001B[0m\u001B[34m \u001B[0m\u001B[38;5;245m      $ 394,328\u001B[0m\u001B[38;5;245m \u001B[0m\u001B[34m \u001B[0m\u001B[38;5;245m    $ 365,817\u001B[0m\u001B[38;5;245m \u001B[0m\u001B[34m \u001B[0m\n",
       "\u001B[34m \u001B[0m Operating income                                  \u001B[34m \u001B[0m      114,301 \u001B[34m \u001B[0m        119,437 \u001B[34m \u001B[0m      108,949 \u001B[34m \u001B[0m\n",
       "\u001B[34m \u001B[0m\u001B[38;5;245m \u001B[0m\u001B[38;5;245mAmericas                                         \u001B[0m\u001B[38;5;245m \u001B[0m\u001B[34m \u001B[0m\u001B[38;5;245m             \u001B[0m\u001B[38;5;245m \u001B[0m\u001B[34m \u001B[0m\u001B[38;5;245m               \u001B[0m\u001B[38;5;245m \u001B[0m\u001B[34m \u001B[0m\u001B[38;5;245m             \u001B[0m\u001B[38;5;245m \u001B[0m\u001B[34m \u001B[0m\n",
       "\u001B[34m \u001B[0m Segment Reporting Information [Line Items]        \u001B[34m \u001B[0m              \u001B[34m \u001B[0m                \u001B[34m \u001B[0m              \u001B[34m \u001B[0m\n",
       "\u001B[34m \u001B[0m\u001B[38;5;245m \u001B[0m\u001B[38;5;245mNet sales                                        \u001B[0m\u001B[38;5;245m \u001B[0m\u001B[34m \u001B[0m\u001B[38;5;245m      162,560\u001B[0m\u001B[38;5;245m \u001B[0m\u001B[34m \u001B[0m\u001B[38;5;245m        169,658\u001B[0m\u001B[38;5;245m \u001B[0m\u001B[34m \u001B[0m\u001B[38;5;245m      153,306\u001B[0m\u001B[38;5;245m \u001B[0m\u001B[34m \u001B[0m\n",
       "\u001B[34m \u001B[0m Operating income                                  \u001B[34m \u001B[0m       60,508 \u001B[34m \u001B[0m         62,683 \u001B[34m \u001B[0m       53,382 \u001B[34m \u001B[0m\n",
       "\u001B[34m \u001B[0m\u001B[38;5;245m \u001B[0m\u001B[38;5;245mEurope                                           \u001B[0m\u001B[38;5;245m \u001B[0m\u001B[34m \u001B[0m\u001B[38;5;245m             \u001B[0m\u001B[38;5;245m \u001B[0m\u001B[34m \u001B[0m\u001B[38;5;245m               \u001B[0m\u001B[38;5;245m \u001B[0m\u001B[34m \u001B[0m\u001B[38;5;245m             \u001B[0m\u001B[38;5;245m \u001B[0m\u001B[34m \u001B[0m\n",
       "\u001B[34m \u001B[0m Segment Reporting Information [Line Items]        \u001B[34m \u001B[0m              \u001B[34m \u001B[0m                \u001B[34m \u001B[0m              \u001B[34m \u001B[0m\n",
       "\u001B[34m \u001B[0m\u001B[38;5;245m \u001B[0m\u001B[38;5;245mNet sales                                        \u001B[0m\u001B[38;5;245m \u001B[0m\u001B[34m \u001B[0m\u001B[38;5;245m       94,294\u001B[0m\u001B[38;5;245m \u001B[0m\u001B[34m \u001B[0m\u001B[38;5;245m         95,118\u001B[0m\u001B[38;5;245m \u001B[0m\u001B[34m \u001B[0m\u001B[38;5;245m       89,307\u001B[0m\u001B[38;5;245m \u001B[0m\u001B[34m \u001B[0m\n",
       "\u001B[34m \u001B[0m Operating income                                  \u001B[34m \u001B[0m       36,098 \u001B[34m \u001B[0m         35,233 \u001B[34m \u001B[0m       32,505 \u001B[34m \u001B[0m\n",
       "\u001B[34m \u001B[0m\u001B[38;5;245m \u001B[0m\u001B[38;5;245mGreater China                                    \u001B[0m\u001B[38;5;245m \u001B[0m\u001B[34m \u001B[0m\u001B[38;5;245m             \u001B[0m\u001B[38;5;245m \u001B[0m\u001B[34m \u001B[0m\u001B[38;5;245m               \u001B[0m\u001B[38;5;245m \u001B[0m\u001B[34m \u001B[0m\u001B[38;5;245m             \u001B[0m\u001B[38;5;245m \u001B[0m\u001B[34m \u001B[0m\n",
       "\u001B[34m \u001B[0m Segment Reporting Information [Line Items]        \u001B[34m \u001B[0m              \u001B[34m \u001B[0m                \u001B[34m \u001B[0m              \u001B[34m \u001B[0m\n",
       "\u001B[34m \u001B[0m\u001B[38;5;245m \u001B[0m\u001B[38;5;245mNet sales                                        \u001B[0m\u001B[38;5;245m \u001B[0m\u001B[34m \u001B[0m\u001B[38;5;245m       72,559\u001B[0m\u001B[38;5;245m \u001B[0m\u001B[34m \u001B[0m\u001B[38;5;245m         74,200\u001B[0m\u001B[38;5;245m \u001B[0m\u001B[34m \u001B[0m\u001B[38;5;245m       68,366\u001B[0m\u001B[38;5;245m \u001B[0m\u001B[34m \u001B[0m\n",
       "\u001B[34m \u001B[0m Operating income                                  \u001B[34m \u001B[0m       30,328 \u001B[34m \u001B[0m         31,153 \u001B[34m \u001B[0m       28,504 \u001B[34m \u001B[0m\n",
       "\u001B[34m \u001B[0m\u001B[38;5;245m \u001B[0m\u001B[38;5;245mJapan                                            \u001B[0m\u001B[38;5;245m \u001B[0m\u001B[34m \u001B[0m\u001B[38;5;245m             \u001B[0m\u001B[38;5;245m \u001B[0m\u001B[34m \u001B[0m\u001B[38;5;245m               \u001B[0m\u001B[38;5;245m \u001B[0m\u001B[34m \u001B[0m\u001B[38;5;245m             \u001B[0m\u001B[38;5;245m \u001B[0m\u001B[34m \u001B[0m\n",
       "\u001B[34m \u001B[0m Segment Reporting Information [Line Items]        \u001B[34m \u001B[0m              \u001B[34m \u001B[0m                \u001B[34m \u001B[0m              \u001B[34m \u001B[0m\n",
       "\u001B[34m \u001B[0m\u001B[38;5;245m \u001B[0m\u001B[38;5;245mNet sales                                        \u001B[0m\u001B[38;5;245m \u001B[0m\u001B[34m \u001B[0m\u001B[38;5;245m       24,257\u001B[0m\u001B[38;5;245m \u001B[0m\u001B[34m \u001B[0m\u001B[38;5;245m         25,977\u001B[0m\u001B[38;5;245m \u001B[0m\u001B[34m \u001B[0m\u001B[38;5;245m       28,482\u001B[0m\u001B[38;5;245m \u001B[0m\u001B[34m \u001B[0m\n",
       "\u001B[34m \u001B[0m Operating income                                  \u001B[34m \u001B[0m       11,888 \u001B[34m \u001B[0m         12,257 \u001B[34m \u001B[0m       12,798 \u001B[34m \u001B[0m\n",
       "\u001B[34m \u001B[0m\u001B[38;5;245m \u001B[0m\u001B[38;5;245mRest of Asia Pacific                             \u001B[0m\u001B[38;5;245m \u001B[0m\u001B[34m \u001B[0m\u001B[38;5;245m             \u001B[0m\u001B[38;5;245m \u001B[0m\u001B[34m \u001B[0m\u001B[38;5;245m               \u001B[0m\u001B[38;5;245m \u001B[0m\u001B[34m \u001B[0m\u001B[38;5;245m             \u001B[0m\u001B[38;5;245m \u001B[0m\u001B[34m \u001B[0m\n",
       "\u001B[34m \u001B[0m Segment Reporting Information [Line Items]        \u001B[34m \u001B[0m              \u001B[34m \u001B[0m                \u001B[34m \u001B[0m              \u001B[34m \u001B[0m\n",
       "\u001B[34m \u001B[0m\u001B[38;5;245m \u001B[0m\u001B[38;5;245mNet sales                                        \u001B[0m\u001B[38;5;245m \u001B[0m\u001B[34m \u001B[0m\u001B[38;5;245m       29,615\u001B[0m\u001B[38;5;245m \u001B[0m\u001B[34m \u001B[0m\u001B[38;5;245m         29,375\u001B[0m\u001B[38;5;245m \u001B[0m\u001B[34m \u001B[0m\u001B[38;5;245m       26,356\u001B[0m\u001B[38;5;245m \u001B[0m\u001B[34m \u001B[0m\n",
       "\u001B[34m \u001B[0m Operating income                                  \u001B[34m \u001B[0m     $ 12,066 \u001B[34m \u001B[0m       $ 11,569 \u001B[34m \u001B[0m      $ 9,817 \u001B[34m \u001B[0m\n",
       "\u001B[34m                                                                                                    \u001B[0m\n"
      ],
      "text/html": [
       "<pre style=\"white-space:pre;overflow-x:auto;line-height:normal;font-family:Menlo,'DejaVu Sans Mono',consolas,'Courier New',monospace\"><span style=\"color: #000080; text-decoration-color: #000080\">                                                                                                    </span>\n",
       "<span style=\"color: #000080; text-decoration-color: #000080\"> </span><span style=\"font-weight: bold\"> Segment Information and Geographic Data -         </span><span style=\"color: #000080; text-decoration-color: #000080\"> </span><span style=\"font-weight: bold\">              </span><span style=\"color: #000080; text-decoration-color: #000080\"> </span><span style=\"font-weight: bold\">                </span><span style=\"color: #000080; text-decoration-color: #000080\"> </span><span style=\"font-weight: bold\">              </span><span style=\"color: #000080; text-decoration-color: #000080\"> </span>\n",
       "<span style=\"color: #000080; text-decoration-color: #000080\"> </span><span style=\"font-weight: bold\"> Information by Reportable Segment (Details) - USD </span><span style=\"color: #000080; text-decoration-color: #000080\"> </span><span style=\"font-weight: bold\">              </span><span style=\"color: #000080; text-decoration-color: #000080\"> </span><span style=\"font-weight: bold\">12 Months Ended </span><span style=\"color: #000080; text-decoration-color: #000080\"> </span><span style=\"font-weight: bold\">              </span><span style=\"color: #000080; text-decoration-color: #000080\"> </span>\n",
       "<span style=\"color: #000080; text-decoration-color: #000080\"> </span><span style=\"font-weight: bold\"> ($)$ in Millions                                  </span><span style=\"color: #000080; text-decoration-color: #000080\"> </span><span style=\"font-weight: bold\">Sep. 30, 2023 </span><span style=\"color: #000080; text-decoration-color: #000080\"> </span><span style=\"font-weight: bold\">  Sep. 24, 2022 </span><span style=\"color: #000080; text-decoration-color: #000080\"> </span><span style=\"font-weight: bold\">Sep. 25, 2021 </span><span style=\"color: #000080; text-decoration-color: #000080\"> </span>\n",
       "<span style=\"color: #000080; text-decoration-color: #000080\"> ────────────────────────────────────────────────────────────────────────────────────────────────── </span>\n",
       "<span style=\"color: #000080; text-decoration-color: #000080\"> </span> Segment Reporting Information [Line Items]        <span style=\"color: #000080; text-decoration-color: #000080\"> </span>              <span style=\"color: #000080; text-decoration-color: #000080\"> </span>                <span style=\"color: #000080; text-decoration-color: #000080\"> </span>              <span style=\"color: #000080; text-decoration-color: #000080\"> </span>\n",
       "<span style=\"color: #000080; text-decoration-color: #000080\"> </span><span style=\"color: #8a8a8a; text-decoration-color: #8a8a8a\"> Net sales                                         </span><span style=\"color: #000080; text-decoration-color: #000080\"> </span><span style=\"color: #8a8a8a; text-decoration-color: #8a8a8a\">    $ 383,285 </span><span style=\"color: #000080; text-decoration-color: #000080\"> </span><span style=\"color: #8a8a8a; text-decoration-color: #8a8a8a\">      $ 394,328 </span><span style=\"color: #000080; text-decoration-color: #000080\"> </span><span style=\"color: #8a8a8a; text-decoration-color: #8a8a8a\">    $ 365,817 </span><span style=\"color: #000080; text-decoration-color: #000080\"> </span>\n",
       "<span style=\"color: #000080; text-decoration-color: #000080\"> </span> Operating income                                  <span style=\"color: #000080; text-decoration-color: #000080\"> </span>      114,301 <span style=\"color: #000080; text-decoration-color: #000080\"> </span>        119,437 <span style=\"color: #000080; text-decoration-color: #000080\"> </span>      108,949 <span style=\"color: #000080; text-decoration-color: #000080\"> </span>\n",
       "<span style=\"color: #000080; text-decoration-color: #000080\"> </span><span style=\"color: #8a8a8a; text-decoration-color: #8a8a8a\"> Americas                                          </span><span style=\"color: #000080; text-decoration-color: #000080\"> </span><span style=\"color: #8a8a8a; text-decoration-color: #8a8a8a\">              </span><span style=\"color: #000080; text-decoration-color: #000080\"> </span><span style=\"color: #8a8a8a; text-decoration-color: #8a8a8a\">                </span><span style=\"color: #000080; text-decoration-color: #000080\"> </span><span style=\"color: #8a8a8a; text-decoration-color: #8a8a8a\">              </span><span style=\"color: #000080; text-decoration-color: #000080\"> </span>\n",
       "<span style=\"color: #000080; text-decoration-color: #000080\"> </span> Segment Reporting Information [Line Items]        <span style=\"color: #000080; text-decoration-color: #000080\"> </span>              <span style=\"color: #000080; text-decoration-color: #000080\"> </span>                <span style=\"color: #000080; text-decoration-color: #000080\"> </span>              <span style=\"color: #000080; text-decoration-color: #000080\"> </span>\n",
       "<span style=\"color: #000080; text-decoration-color: #000080\"> </span><span style=\"color: #8a8a8a; text-decoration-color: #8a8a8a\"> Net sales                                         </span><span style=\"color: #000080; text-decoration-color: #000080\"> </span><span style=\"color: #8a8a8a; text-decoration-color: #8a8a8a\">      162,560 </span><span style=\"color: #000080; text-decoration-color: #000080\"> </span><span style=\"color: #8a8a8a; text-decoration-color: #8a8a8a\">        169,658 </span><span style=\"color: #000080; text-decoration-color: #000080\"> </span><span style=\"color: #8a8a8a; text-decoration-color: #8a8a8a\">      153,306 </span><span style=\"color: #000080; text-decoration-color: #000080\"> </span>\n",
       "<span style=\"color: #000080; text-decoration-color: #000080\"> </span> Operating income                                  <span style=\"color: #000080; text-decoration-color: #000080\"> </span>       60,508 <span style=\"color: #000080; text-decoration-color: #000080\"> </span>         62,683 <span style=\"color: #000080; text-decoration-color: #000080\"> </span>       53,382 <span style=\"color: #000080; text-decoration-color: #000080\"> </span>\n",
       "<span style=\"color: #000080; text-decoration-color: #000080\"> </span><span style=\"color: #8a8a8a; text-decoration-color: #8a8a8a\"> Europe                                            </span><span style=\"color: #000080; text-decoration-color: #000080\"> </span><span style=\"color: #8a8a8a; text-decoration-color: #8a8a8a\">              </span><span style=\"color: #000080; text-decoration-color: #000080\"> </span><span style=\"color: #8a8a8a; text-decoration-color: #8a8a8a\">                </span><span style=\"color: #000080; text-decoration-color: #000080\"> </span><span style=\"color: #8a8a8a; text-decoration-color: #8a8a8a\">              </span><span style=\"color: #000080; text-decoration-color: #000080\"> </span>\n",
       "<span style=\"color: #000080; text-decoration-color: #000080\"> </span> Segment Reporting Information [Line Items]        <span style=\"color: #000080; text-decoration-color: #000080\"> </span>              <span style=\"color: #000080; text-decoration-color: #000080\"> </span>                <span style=\"color: #000080; text-decoration-color: #000080\"> </span>              <span style=\"color: #000080; text-decoration-color: #000080\"> </span>\n",
       "<span style=\"color: #000080; text-decoration-color: #000080\"> </span><span style=\"color: #8a8a8a; text-decoration-color: #8a8a8a\"> Net sales                                         </span><span style=\"color: #000080; text-decoration-color: #000080\"> </span><span style=\"color: #8a8a8a; text-decoration-color: #8a8a8a\">       94,294 </span><span style=\"color: #000080; text-decoration-color: #000080\"> </span><span style=\"color: #8a8a8a; text-decoration-color: #8a8a8a\">         95,118 </span><span style=\"color: #000080; text-decoration-color: #000080\"> </span><span style=\"color: #8a8a8a; text-decoration-color: #8a8a8a\">       89,307 </span><span style=\"color: #000080; text-decoration-color: #000080\"> </span>\n",
       "<span style=\"color: #000080; text-decoration-color: #000080\"> </span> Operating income                                  <span style=\"color: #000080; text-decoration-color: #000080\"> </span>       36,098 <span style=\"color: #000080; text-decoration-color: #000080\"> </span>         35,233 <span style=\"color: #000080; text-decoration-color: #000080\"> </span>       32,505 <span style=\"color: #000080; text-decoration-color: #000080\"> </span>\n",
       "<span style=\"color: #000080; text-decoration-color: #000080\"> </span><span style=\"color: #8a8a8a; text-decoration-color: #8a8a8a\"> Greater China                                     </span><span style=\"color: #000080; text-decoration-color: #000080\"> </span><span style=\"color: #8a8a8a; text-decoration-color: #8a8a8a\">              </span><span style=\"color: #000080; text-decoration-color: #000080\"> </span><span style=\"color: #8a8a8a; text-decoration-color: #8a8a8a\">                </span><span style=\"color: #000080; text-decoration-color: #000080\"> </span><span style=\"color: #8a8a8a; text-decoration-color: #8a8a8a\">              </span><span style=\"color: #000080; text-decoration-color: #000080\"> </span>\n",
       "<span style=\"color: #000080; text-decoration-color: #000080\"> </span> Segment Reporting Information [Line Items]        <span style=\"color: #000080; text-decoration-color: #000080\"> </span>              <span style=\"color: #000080; text-decoration-color: #000080\"> </span>                <span style=\"color: #000080; text-decoration-color: #000080\"> </span>              <span style=\"color: #000080; text-decoration-color: #000080\"> </span>\n",
       "<span style=\"color: #000080; text-decoration-color: #000080\"> </span><span style=\"color: #8a8a8a; text-decoration-color: #8a8a8a\"> Net sales                                         </span><span style=\"color: #000080; text-decoration-color: #000080\"> </span><span style=\"color: #8a8a8a; text-decoration-color: #8a8a8a\">       72,559 </span><span style=\"color: #000080; text-decoration-color: #000080\"> </span><span style=\"color: #8a8a8a; text-decoration-color: #8a8a8a\">         74,200 </span><span style=\"color: #000080; text-decoration-color: #000080\"> </span><span style=\"color: #8a8a8a; text-decoration-color: #8a8a8a\">       68,366 </span><span style=\"color: #000080; text-decoration-color: #000080\"> </span>\n",
       "<span style=\"color: #000080; text-decoration-color: #000080\"> </span> Operating income                                  <span style=\"color: #000080; text-decoration-color: #000080\"> </span>       30,328 <span style=\"color: #000080; text-decoration-color: #000080\"> </span>         31,153 <span style=\"color: #000080; text-decoration-color: #000080\"> </span>       28,504 <span style=\"color: #000080; text-decoration-color: #000080\"> </span>\n",
       "<span style=\"color: #000080; text-decoration-color: #000080\"> </span><span style=\"color: #8a8a8a; text-decoration-color: #8a8a8a\"> Japan                                             </span><span style=\"color: #000080; text-decoration-color: #000080\"> </span><span style=\"color: #8a8a8a; text-decoration-color: #8a8a8a\">              </span><span style=\"color: #000080; text-decoration-color: #000080\"> </span><span style=\"color: #8a8a8a; text-decoration-color: #8a8a8a\">                </span><span style=\"color: #000080; text-decoration-color: #000080\"> </span><span style=\"color: #8a8a8a; text-decoration-color: #8a8a8a\">              </span><span style=\"color: #000080; text-decoration-color: #000080\"> </span>\n",
       "<span style=\"color: #000080; text-decoration-color: #000080\"> </span> Segment Reporting Information [Line Items]        <span style=\"color: #000080; text-decoration-color: #000080\"> </span>              <span style=\"color: #000080; text-decoration-color: #000080\"> </span>                <span style=\"color: #000080; text-decoration-color: #000080\"> </span>              <span style=\"color: #000080; text-decoration-color: #000080\"> </span>\n",
       "<span style=\"color: #000080; text-decoration-color: #000080\"> </span><span style=\"color: #8a8a8a; text-decoration-color: #8a8a8a\"> Net sales                                         </span><span style=\"color: #000080; text-decoration-color: #000080\"> </span><span style=\"color: #8a8a8a; text-decoration-color: #8a8a8a\">       24,257 </span><span style=\"color: #000080; text-decoration-color: #000080\"> </span><span style=\"color: #8a8a8a; text-decoration-color: #8a8a8a\">         25,977 </span><span style=\"color: #000080; text-decoration-color: #000080\"> </span><span style=\"color: #8a8a8a; text-decoration-color: #8a8a8a\">       28,482 </span><span style=\"color: #000080; text-decoration-color: #000080\"> </span>\n",
       "<span style=\"color: #000080; text-decoration-color: #000080\"> </span> Operating income                                  <span style=\"color: #000080; text-decoration-color: #000080\"> </span>       11,888 <span style=\"color: #000080; text-decoration-color: #000080\"> </span>         12,257 <span style=\"color: #000080; text-decoration-color: #000080\"> </span>       12,798 <span style=\"color: #000080; text-decoration-color: #000080\"> </span>\n",
       "<span style=\"color: #000080; text-decoration-color: #000080\"> </span><span style=\"color: #8a8a8a; text-decoration-color: #8a8a8a\"> Rest of Asia Pacific                              </span><span style=\"color: #000080; text-decoration-color: #000080\"> </span><span style=\"color: #8a8a8a; text-decoration-color: #8a8a8a\">              </span><span style=\"color: #000080; text-decoration-color: #000080\"> </span><span style=\"color: #8a8a8a; text-decoration-color: #8a8a8a\">                </span><span style=\"color: #000080; text-decoration-color: #000080\"> </span><span style=\"color: #8a8a8a; text-decoration-color: #8a8a8a\">              </span><span style=\"color: #000080; text-decoration-color: #000080\"> </span>\n",
       "<span style=\"color: #000080; text-decoration-color: #000080\"> </span> Segment Reporting Information [Line Items]        <span style=\"color: #000080; text-decoration-color: #000080\"> </span>              <span style=\"color: #000080; text-decoration-color: #000080\"> </span>                <span style=\"color: #000080; text-decoration-color: #000080\"> </span>              <span style=\"color: #000080; text-decoration-color: #000080\"> </span>\n",
       "<span style=\"color: #000080; text-decoration-color: #000080\"> </span><span style=\"color: #8a8a8a; text-decoration-color: #8a8a8a\"> Net sales                                         </span><span style=\"color: #000080; text-decoration-color: #000080\"> </span><span style=\"color: #8a8a8a; text-decoration-color: #8a8a8a\">       29,615 </span><span style=\"color: #000080; text-decoration-color: #000080\"> </span><span style=\"color: #8a8a8a; text-decoration-color: #8a8a8a\">         29,375 </span><span style=\"color: #000080; text-decoration-color: #000080\"> </span><span style=\"color: #8a8a8a; text-decoration-color: #8a8a8a\">       26,356 </span><span style=\"color: #000080; text-decoration-color: #000080\"> </span>\n",
       "<span style=\"color: #000080; text-decoration-color: #000080\"> </span> Operating income                                  <span style=\"color: #000080; text-decoration-color: #000080\"> </span>     $ 12,066 <span style=\"color: #000080; text-decoration-color: #000080\"> </span>       $ 11,569 <span style=\"color: #000080; text-decoration-color: #000080\"> </span>      $ 9,817 <span style=\"color: #000080; text-decoration-color: #000080\"> </span>\n",
       "<span style=\"color: #000080; text-decoration-color: #000080\">                                                                                                    </span>\n",
       "</pre>\n"
      ]
     },
     "metadata": {},
     "output_type": "display_data"
    }
   ],
   "execution_count": 4
  },
  {
   "metadata": {},
   "cell_type": "markdown",
   "source": "## All Statements",
   "id": "d47bfd4882855cab"
  },
  {
   "metadata": {
    "ExecuteTime": {
     "end_time": "2025-04-02T11:23:35.773179Z",
     "start_time": "2025-04-02T11:23:35.739043Z"
    }
   },
   "cell_type": "code",
   "source": [
    "statements = xbrl.statements\n",
    "statements"
   ],
   "id": "7e43b9974f5ada34",
   "outputs": [
    {
     "data": {
      "text/plain": [],
      "text/html": [
       "<pre style=\"white-space:pre;overflow-x:auto;line-height:normal;font-family:Menlo,'DejaVu Sans Mono',consolas,'Courier New',monospace\"></pre>\n"
      ]
     },
     "metadata": {},
     "output_type": "display_data"
    },
    {
     "data": {
      "text/plain": [
       "\u001B[1;32mFinancial Statements\u001B[0m                                                                         \n",
       "                                                                                             \n",
       " \u001B[1m \u001B[0m\u001B[1m#  \u001B[0m\u001B[1m \u001B[0m \u001B[1m \u001B[0m\u001B[1mName                                        \u001B[0m\u001B[1m \u001B[0m \u001B[1m \u001B[0m\u001B[1mType               \u001B[0m\u001B[1m \u001B[0m \u001B[1m \u001B[0m\u001B[1mParenthetical \u001B[0m\u001B[1m \u001B[0m \n",
       " ─────────────────────────────────────────────────────────────────────────────────────────── \n",
       " \u001B[2m \u001B[0m\u001B[1;2;36m4\u001B[0m\u001B[2m  \u001B[0m\u001B[2m \u001B[0m \u001B[32m \u001B[0m\u001B[32mCONSOLIDATEDBALANCESHEETS                   \u001B[0m\u001B[32m \u001B[0m \u001B[3m \u001B[0m\u001B[3mBalanceSheet       \u001B[0m\u001B[3m \u001B[0m                  \n",
       " \u001B[2m \u001B[0m\u001B[1;2;36m7\u001B[0m\u001B[2m  \u001B[0m\u001B[2m \u001B[0m \u001B[32m \u001B[0m\u001B[32mCONSOLIDATEDSTATEMENTSOFCASHFLOWS           \u001B[0m\u001B[32m \u001B[0m \u001B[3m \u001B[0m\u001B[3mCashFlowStatement  \u001B[0m\u001B[3m \u001B[0m                  \n",
       " \u001B[2m \u001B[0m\u001B[1;2;36m3\u001B[0m\u001B[2m  \u001B[0m\u001B[2m \u001B[0m \u001B[32m \u001B[0m\u001B[32mCONSOLIDATEDSTATEMENTSOFCOMPREHENSIVEINCOME \u001B[0m\u001B[32m \u001B[0m \u001B[3m \u001B[0m\u001B[3mComprehensiveIncome\u001B[0m\u001B[3m \u001B[0m                  \n",
       " \u001B[2m \u001B[0m\u001B[1;2;36m2\u001B[0m\u001B[2m  \u001B[0m\u001B[2m \u001B[0m \u001B[32m \u001B[0m\u001B[32mCONSOLIDATEDSTATEMENTSOFOPERATIONS          \u001B[0m\u001B[32m \u001B[0m \u001B[3m \u001B[0m\u001B[3mIncomeStatement    \u001B[0m\u001B[3m \u001B[0m                  \n",
       " \u001B[2m \u001B[0m\u001B[1;2;36m6\u001B[0m\u001B[2m  \u001B[0m\u001B[2m \u001B[0m \u001B[32m \u001B[0m\u001B[32mCONSOLIDATEDSTATEMENTSOFSHAREHOLDERSEQUITY  \u001B[0m\u001B[32m \u001B[0m \u001B[3m \u001B[0m\u001B[3mStatementOfEquity  \u001B[0m\u001B[3m \u001B[0m                  \n",
       " \u001B[2m \u001B[0m\u001B[1;2;36m64\u001B[0m\u001B[2m \u001B[0m\u001B[2m \u001B[0m \u001B[32m \u001B[0m\u001B[32mShareholdersEquitySharesofCommonStockDetails\u001B[0m\u001B[32m \u001B[0m \u001B[3m \u001B[0m\u001B[3mStatementOfEquity  \u001B[0m\u001B[3m \u001B[0m                  \n",
       "                                                                                             \n",
       "\u001B[1;34mNotes to Financial Statements\u001B[0m                                                                 \n",
       "                                                                                              \n",
       " \u001B[1m \u001B[0m\u001B[1m#  \u001B[0m\u001B[1m \u001B[0m \u001B[1m \u001B[0m\u001B[1mName                                          \u001B[0m\u001B[1m \u001B[0m \u001B[1m \u001B[0m\u001B[1mType              \u001B[0m\u001B[1m \u001B[0m \u001B[1m \u001B[0m\u001B[1mParenthetical \u001B[0m\u001B[1m \u001B[0m \n",
       " ──────────────────────────────────────────────────────────────────────────────────────────── \n",
       " \u001B[2m \u001B[0m\u001B[1;2;36m8\u001B[0m\u001B[2m  \u001B[0m\u001B[2m \u001B[0m \u001B[34m \u001B[0m\u001B[34mSummaryofSignificantAccountingPolicies        \u001B[0m\u001B[34m \u001B[0m \u001B[3m \u001B[0m\u001B[3mAccountingPolicies\u001B[0m\u001B[3m \u001B[0m                  \n",
       " \u001B[2m \u001B[0m\u001B[1;2;36m21\u001B[0m\u001B[2m \u001B[0m\u001B[2m \u001B[0m \u001B[34m \u001B[0m\u001B[34mSummaryofSignificantAccountingPoliciesPolicies\u001B[0m\u001B[34m \u001B[0m \u001B[3m \u001B[0m\u001B[3mAccountingPolicies\u001B[0m\u001B[3m \u001B[0m                  \n",
       "                                                                                              \n",
       "\u001B[1;36mDisclosures\u001B[0m                                                                                                        \n",
       "                                                                                                                   \n",
       " \u001B[1m \u001B[0m\u001B[1m#  \u001B[0m\u001B[1m \u001B[0m \u001B[1m \u001B[0m\u001B[1mName                                                                \u001B[0m\u001B[1m \u001B[0m \u001B[1m \u001B[0m\u001B[1mType             \u001B[0m\u001B[1m \u001B[0m \u001B[1m \u001B[0m\u001B[1mParenthetical \u001B[0m\u001B[1m \u001B[0m \n",
       " ───────────────────────────────────────────────────────────────────────────────────────────────────────────────── \n",
       " \u001B[2m \u001B[0m\u001B[1;2;36m73\u001B[0m\u001B[2m \u001B[0m\u001B[2m \u001B[0m \u001B[36m \u001B[0m\u001B[36mAwardTimingDisclosure                                               \u001B[0m\u001B[36m \u001B[0m \u001B[3m \u001B[0m\u001B[3mDisclosures      \u001B[0m\u001B[3m \u001B[0m                  \n",
       " \u001B[2m \u001B[0m\u001B[1;2;36m75\u001B[0m\u001B[2m \u001B[0m\u001B[2m \u001B[0m \u001B[36m \u001B[0m\u001B[36mErrCompDisclosure                                                   \u001B[0m\u001B[36m \u001B[0m \u001B[3m \u001B[0m\u001B[3mDisclosures      \u001B[0m\u001B[3m \u001B[0m                  \n",
       " \u001B[2m \u001B[0m\u001B[1;2;36m76\u001B[0m\u001B[2m \u001B[0m\u001B[2m \u001B[0m \u001B[36m \u001B[0m\u001B[36mPvpDisclosure                                                       \u001B[0m\u001B[36m \u001B[0m \u001B[3m \u001B[0m\u001B[3mDisclosures      \u001B[0m\u001B[3m \u001B[0m                  \n",
       " \u001B[2m \u001B[0m\u001B[1;2;36m20\u001B[0m\u001B[2m \u001B[0m\u001B[2m \u001B[0m \u001B[36m \u001B[0m\u001B[36mSegmentInformationandGeographicData                                 \u001B[0m\u001B[36m \u001B[0m \u001B[3m \u001B[0m\u001B[3mSegmentDisclosure\u001B[0m\u001B[3m \u001B[0m                  \n",
       " \u001B[2m \u001B[0m\u001B[1;2;36m69\u001B[0m\u001B[2m \u001B[0m\u001B[2m \u001B[0m \u001B[36m \u001B[0m\u001B[36mSegmentInformationandGeographicDataInformationbyReportableSegmentDe…\u001B[0m\u001B[36m \u001B[0m \u001B[3m \u001B[0m\u001B[3mSegmentDisclosure\u001B[0m\u001B[3m \u001B[0m                  \n",
       " \u001B[2m \u001B[0m\u001B[1;2;36m72\u001B[0m\u001B[2m \u001B[0m\u001B[2m \u001B[0m \u001B[36m \u001B[0m\u001B[36mSegmentInformationandGeographicDataLongLivedAssetsDetails           \u001B[0m\u001B[36m \u001B[0m \u001B[3m \u001B[0m\u001B[3mSegmentDisclosure\u001B[0m\u001B[3m \u001B[0m                  \n",
       " \u001B[2m \u001B[0m\u001B[1;2;36m71\u001B[0m\u001B[2m \u001B[0m\u001B[2m \u001B[0m \u001B[36m \u001B[0m\u001B[36mSegmentInformationandGeographicDataNetSalesDetails                  \u001B[0m\u001B[36m \u001B[0m \u001B[3m \u001B[0m\u001B[3mSegmentDisclosure\u001B[0m\u001B[3m \u001B[0m                  \n",
       " \u001B[2m \u001B[0m\u001B[1;2;36m70\u001B[0m\u001B[2m \u001B[0m\u001B[2m \u001B[0m \u001B[36m \u001B[0m\u001B[36mSegmentInformationandGeographicDataReconciliationofSegmentOperating…\u001B[0m\u001B[36m \u001B[0m \u001B[3m \u001B[0m\u001B[3mSegmentDisclosure\u001B[0m\u001B[3m \u001B[0m                  \n",
       " \u001B[2m \u001B[0m\u001B[1;2;36m33\u001B[0m\u001B[2m \u001B[0m\u001B[2m \u001B[0m \u001B[36m \u001B[0m\u001B[36mSegmentInformationandGeographicDataTables                           \u001B[0m\u001B[36m \u001B[0m \u001B[3m \u001B[0m\u001B[3mSegmentDisclosure\u001B[0m\u001B[3m \u001B[0m                  \n",
       "                                                                                                                   \n",
       "\u001B[1;35mDocument Sections\u001B[0m                               \n",
       "                                                \n",
       " \u001B[1m \u001B[0m\u001B[1m#  \u001B[0m\u001B[1m \u001B[0m \u001B[1m \u001B[0m\u001B[1mName     \u001B[0m\u001B[1m \u001B[0m \u001B[1m \u001B[0m\u001B[1mType     \u001B[0m\u001B[1m \u001B[0m \u001B[1m \u001B[0m\u001B[1mParenthetical \u001B[0m\u001B[1m \u001B[0m \n",
       " ────────────────────────────────────────────── \n",
       " \u001B[2m \u001B[0m\u001B[1;2;36m0\u001B[0m\u001B[2m  \u001B[0m\u001B[2m \u001B[0m \u001B[35m \u001B[0m\u001B[35mCoverPage\u001B[0m\u001B[35m \u001B[0m \u001B[3m \u001B[0m\u001B[3mCoverPage\u001B[0m\u001B[3m \u001B[0m                  \n",
       "                                                \n",
       "\u001B[1;33mOther Sections\u001B[0m                                                                                                     \n",
       "                                                                                                                   \n",
       " \u001B[1m \u001B[0m\u001B[1m#  \u001B[0m\u001B[1m \u001B[0m \u001B[1m \u001B[0m\u001B[1mName                                                        \u001B[0m\u001B[1m \u001B[0m \u001B[1m \u001B[0m\u001B[1mType                     \u001B[0m\u001B[1m \u001B[0m \u001B[1m \u001B[0m\u001B[1mParenthetical \u001B[0m\u001B[1m \u001B[0m \n",
       " ───────────────────────────────────────────────────────────────────────────────────────────────────────────────── \n",
       " \u001B[2m \u001B[0m\u001B[1;2;36m1\u001B[0m\u001B[2m  \u001B[0m\u001B[2m \u001B[0m \u001B[33m \u001B[0m\u001B[33mAuditorInformation                                          \u001B[0m\u001B[33m \u001B[0m \u001B[3m \u001B[0m\u001B[3m                         \u001B[0m\u001B[3m \u001B[0m                  \n",
       " \u001B[2m \u001B[0m\u001B[1;2;36m19\u001B[0m\u001B[2m \u001B[0m\u001B[2m \u001B[0m \u001B[33m \u001B[0m\u001B[33mCommitmentsContingenciesandSupplyConcentrations             \u001B[0m\u001B[33m \u001B[0m \u001B[3m \u001B[0m\u001B[3m                         \u001B[0m\u001B[3m \u001B[0m                  \n",
       " \u001B[2m \u001B[0m\u001B[1;2;36m68\u001B[0m\u001B[2m \u001B[0m\u001B[2m \u001B[0m \u001B[33m \u001B[0m\u001B[33mCommitmentsContingenciesandSupplyConcentrationsFuturePaymen…\u001B[0m\u001B[33m \u001B[0m \u001B[3m \u001B[0m\u001B[3m                         \u001B[0m\u001B[3m \u001B[0m                  \n",
       " \u001B[2m \u001B[0m\u001B[1;2;36m32\u001B[0m\u001B[2m \u001B[0m\u001B[2m \u001B[0m \u001B[33m \u001B[0m\u001B[33mCommitmentsContingenciesandSupplyConcentrationsTables       \u001B[0m\u001B[33m \u001B[0m \u001B[3m \u001B[0m\u001B[3m                         \u001B[0m\u001B[3m \u001B[0m                  \n",
       " \u001B[2m \u001B[0m\u001B[1;2;36m13\u001B[0m\u001B[2m \u001B[0m\u001B[2m \u001B[0m \u001B[33m \u001B[0m\u001B[33mConsolidatedFinancialStatementDetails                       \u001B[0m\u001B[33m \u001B[0m \u001B[3m \u001B[0m\u001B[3m                         \u001B[0m\u001B[3m \u001B[0m                  \n",
       " \u001B[2m \u001B[0m\u001B[1;2;36m48\u001B[0m\u001B[2m \u001B[0m\u001B[2m \u001B[0m \u001B[33m \u001B[0m\u001B[33mConsolidatedFinancialStatementDetailsOtherCurrentLiabilitie…\u001B[0m\u001B[33m \u001B[0m \u001B[3m \u001B[0m\u001B[3m                         \u001B[0m\u001B[3m \u001B[0m                  \n",
       " \u001B[2m \u001B[0m\u001B[1;2;36m50\u001B[0m\u001B[2m \u001B[0m\u001B[2m \u001B[0m \u001B[33m \u001B[0m\u001B[33mConsolidatedFinancialStatementDetailsOtherIncomeExpenseNetD…\u001B[0m\u001B[33m \u001B[0m \u001B[3m \u001B[0m\u001B[3m                         \u001B[0m\u001B[3m \u001B[0m                  \n",
       " \u001B[2m \u001B[0m\u001B[1;2;36m47\u001B[0m\u001B[2m \u001B[0m\u001B[2m \u001B[0m \u001B[33m \u001B[0m\u001B[33mConsolidatedFinancialStatementDetailsOtherNonCurrentAssetsD…\u001B[0m\u001B[33m \u001B[0m \u001B[3m \u001B[0m\u001B[3m                         \u001B[0m\u001B[3m \u001B[0m                  \n",
       " \u001B[2m \u001B[0m\u001B[1;2;36m49\u001B[0m\u001B[2m \u001B[0m\u001B[2m \u001B[0m \u001B[33m \u001B[0m\u001B[33mConsolidatedFinancialStatementDetailsOtherNonCurrentLiabili…\u001B[0m\u001B[33m \u001B[0m \u001B[3m \u001B[0m\u001B[3m                         \u001B[0m\u001B[3m \u001B[0m                  \n",
       " \u001B[2m \u001B[0m\u001B[1;2;36m26\u001B[0m\u001B[2m \u001B[0m\u001B[2m \u001B[0m \u001B[33m \u001B[0m\u001B[33mConsolidatedFinancialStatementDetailsTables                 \u001B[0m\u001B[33m \u001B[0m \u001B[3m \u001B[0m\u001B[3m                         \u001B[0m\u001B[3m \u001B[0m                  \n",
       " \u001B[2m \u001B[0m\u001B[1;2;36m16\u001B[0m\u001B[2m \u001B[0m\u001B[2m \u001B[0m \u001B[33m \u001B[0m\u001B[33mDebt                                                        \u001B[0m\u001B[33m \u001B[0m \u001B[3m \u001B[0m\u001B[3m                         \u001B[0m\u001B[3m \u001B[0m                  \n",
       " \u001B[2m \u001B[0m\u001B[1;2;36m59\u001B[0m\u001B[2m \u001B[0m\u001B[2m \u001B[0m \u001B[33m \u001B[0m\u001B[33mDebtAdditionalInformationDetails                            \u001B[0m\u001B[33m \u001B[0m \u001B[3m \u001B[0m\u001B[3m                         \u001B[0m\u001B[3m \u001B[0m                  \n",
       " \u001B[2m \u001B[0m\u001B[1;2;36m62\u001B[0m\u001B[2m \u001B[0m\u001B[2m \u001B[0m \u001B[33m \u001B[0m\u001B[33mDebtFuturePrincipalPaymentsforTermDebtDetails               \u001B[0m\u001B[33m \u001B[0m \u001B[3m \u001B[0m\u001B[3m                         \u001B[0m\u001B[3m \u001B[0m                  \n",
       " \u001B[2m \u001B[0m\u001B[1;2;36m60\u001B[0m\u001B[2m \u001B[0m\u001B[2m \u001B[0m \u001B[33m \u001B[0m\u001B[33mDebtSummaryofCashFlowsAssociatedwithCommercialPaperDetails  \u001B[0m\u001B[33m \u001B[0m \u001B[3m \u001B[0m\u001B[3m                         \u001B[0m\u001B[3m \u001B[0m                  \n",
       " \u001B[2m \u001B[0m\u001B[1;2;36m61\u001B[0m\u001B[2m \u001B[0m\u001B[2m \u001B[0m \u001B[33m \u001B[0m\u001B[33mDebtSummaryofTermDebtDetails                                \u001B[0m\u001B[33m \u001B[0m \u001B[3m \u001B[0m\u001B[3m                         \u001B[0m\u001B[3m \u001B[0m                  \n",
       " \u001B[2m \u001B[0m\u001B[1;2;36m29\u001B[0m\u001B[2m \u001B[0m\u001B[2m \u001B[0m \u001B[33m \u001B[0m\u001B[33mDebtTables                                                  \u001B[0m\u001B[33m \u001B[0m \u001B[3m \u001B[0m\u001B[3m                         \u001B[0m\u001B[3m \u001B[0m                  \n",
       " \u001B[2m \u001B[0m\u001B[1;2;36m10\u001B[0m\u001B[2m \u001B[0m\u001B[2m \u001B[0m \u001B[33m \u001B[0m\u001B[33mEarningsPerShare                                            \u001B[0m\u001B[33m \u001B[0m \u001B[3m \u001B[0m\u001B[3m                         \u001B[0m\u001B[3m \u001B[0m                  \n",
       " \u001B[2m \u001B[0m\u001B[1;2;36m38\u001B[0m\u001B[2m \u001B[0m\u001B[2m \u001B[0m \u001B[33m \u001B[0m\u001B[33mEarningsPerShareAdditionalInformationDetails                \u001B[0m\u001B[33m \u001B[0m \u001B[3m \u001B[0m\u001B[3m                         \u001B[0m\u001B[3m \u001B[0m                  \n",
       " \u001B[2m \u001B[0m\u001B[1;2;36m37\u001B[0m\u001B[2m \u001B[0m\u001B[2m \u001B[0m \u001B[33m \u001B[0m\u001B[33mEarningsPerShareComputationofBasicandDilutedEarningsPerShar…\u001B[0m\u001B[33m \u001B[0m \u001B[3m \u001B[0m\u001B[3m                         \u001B[0m\u001B[3m \u001B[0m                  \n",
       " \u001B[2m \u001B[0m\u001B[1;2;36m23\u001B[0m\u001B[2m \u001B[0m\u001B[2m \u001B[0m \u001B[33m \u001B[0m\u001B[33mEarningsPerShareTables                                      \u001B[0m\u001B[33m \u001B[0m \u001B[3m \u001B[0m\u001B[3m                         \u001B[0m\u001B[3m \u001B[0m                  \n",
       " \u001B[2m \u001B[0m\u001B[1;2;36m11\u001B[0m\u001B[2m \u001B[0m\u001B[2m \u001B[0m \u001B[33m \u001B[0m\u001B[33mFinancialInstruments                                        \u001B[0m\u001B[33m \u001B[0m \u001B[3m \u001B[0m\u001B[3m                         \u001B[0m\u001B[3m \u001B[0m                  \n",
       " \u001B[2m \u001B[0m\u001B[1;2;36m41\u001B[0m\u001B[2m \u001B[0m\u001B[2m \u001B[0m \u001B[33m \u001B[0m\u001B[33mFinancialInstrumentsAdditionalInformationDetails            \u001B[0m\u001B[33m \u001B[0m \u001B[3m \u001B[0m\u001B[3m                         \u001B[0m\u001B[3m \u001B[0m                  \n",
       " \u001B[2m \u001B[0m\u001B[1;2;36m39\u001B[0m\u001B[2m \u001B[0m\u001B[2m \u001B[0m \u001B[33m \u001B[0m\u001B[33mFinancialInstrumentsCashCashEquivalentsandMarketableSecurit…\u001B[0m\u001B[33m \u001B[0m \u001B[3m \u001B[0m\u001B[3m                         \u001B[0m\u001B[3m \u001B[0m                  \n",
       " \u001B[2m \u001B[0m\u001B[1;2;36m44\u001B[0m\u001B[2m \u001B[0m\u001B[2m \u001B[0m \u001B[33m \u001B[0m\u001B[33mFinancialInstrumentsDerivativeInstrumentsDesignatedasFairVa…\u001B[0m\u001B[33m \u001B[0m \u001B[3m \u001B[0m\u001B[3m                         \u001B[0m\u001B[3m \u001B[0m                  \n",
       " \u001B[2m \u001B[0m\u001B[1;2;36m43\u001B[0m\u001B[2m \u001B[0m\u001B[2m \u001B[0m \u001B[33m \u001B[0m\u001B[33mFinancialInstrumentsGrossFairValuesofDerivativeAssetsandLia…\u001B[0m\u001B[33m \u001B[0m \u001B[3m \u001B[0m\u001B[3m                         \u001B[0m\u001B[3m \u001B[0m                  \n",
       " \u001B[2m \u001B[0m\u001B[1;2;36m40\u001B[0m\u001B[2m \u001B[0m\u001B[2m \u001B[0m \u001B[33m \u001B[0m\u001B[33mFinancialInstrumentsNonCurrentMarketableDebtSecuritiesbyCon…\u001B[0m\u001B[33m \u001B[0m \u001B[3m \u001B[0m\u001B[3m                         \u001B[0m\u001B[3m \u001B[0m                  \n",
       " \u001B[2m \u001B[0m\u001B[1;2;36m42\u001B[0m\u001B[2m \u001B[0m\u001B[2m \u001B[0m \u001B[33m \u001B[0m\u001B[33mFinancialInstrumentsNotionalAmountsAssociatedwithDerivative…\u001B[0m\u001B[33m \u001B[0m \u001B[3m \u001B[0m\u001B[3m                         \u001B[0m\u001B[3m \u001B[0m                  \n",
       " \u001B[2m \u001B[0m\u001B[1;2;36m24\u001B[0m\u001B[2m \u001B[0m\u001B[2m \u001B[0m \u001B[33m \u001B[0m\u001B[33mFinancialInstrumentsTables                                  \u001B[0m\u001B[33m \u001B[0m \u001B[3m \u001B[0m\u001B[3m                         \u001B[0m\u001B[3m \u001B[0m                  \n",
       " \u001B[2m \u001B[0m\u001B[1;2;36m14\u001B[0m\u001B[2m \u001B[0m\u001B[2m \u001B[0m \u001B[33m \u001B[0m\u001B[33mIncomeTaxes                                                 \u001B[0m\u001B[33m \u001B[0m \u001B[3m \u001B[0m\u001B[3m                         \u001B[0m\u001B[3m \u001B[0m                  \n",
       " \u001B[2m \u001B[0m\u001B[1;2;36m52\u001B[0m\u001B[2m \u001B[0m\u001B[2m \u001B[0m \u001B[33m \u001B[0m\u001B[33mIncomeTaxesAdditionalInformationDetails                     \u001B[0m\u001B[33m \u001B[0m \u001B[3m \u001B[0m\u001B[3m                         \u001B[0m\u001B[3m \u001B[0m                  \n",
       " \u001B[2m \u001B[0m\u001B[1;2;36m55\u001B[0m\u001B[2m \u001B[0m\u001B[2m \u001B[0m \u001B[33m \u001B[0m\u001B[33mIncomeTaxesAggregateChangesinGrossUnrecognizedTaxBenefitsDe…\u001B[0m\u001B[33m \u001B[0m \u001B[3m \u001B[0m\u001B[3m                         \u001B[0m\u001B[3m \u001B[0m                  \n",
       " \u001B[2m \u001B[0m\u001B[1;2;36m51\u001B[0m\u001B[2m \u001B[0m\u001B[2m \u001B[0m \u001B[33m \u001B[0m\u001B[33mIncomeTaxesProvisionforIncomeTaxesDetails                   \u001B[0m\u001B[33m \u001B[0m \u001B[3m \u001B[0m\u001B[3m                         \u001B[0m\u001B[3m \u001B[0m                  \n",
       " \u001B[2m \u001B[0m\u001B[1;2;36m53\u001B[0m\u001B[2m \u001B[0m\u001B[2m \u001B[0m \u001B[33m \u001B[0m\u001B[33mIncomeTaxesReconciliationofProvisionforIncomeTaxestoAmountC…\u001B[0m\u001B[33m \u001B[0m \u001B[3m \u001B[0m\u001B[3m                         \u001B[0m\u001B[3m \u001B[0m                  \n",
       " \u001B[2m \u001B[0m\u001B[1;2;36m54\u001B[0m\u001B[2m \u001B[0m\u001B[2m \u001B[0m \u001B[33m \u001B[0m\u001B[33mIncomeTaxesSignificantComponentsofDeferredTaxAssetsandLiabi…\u001B[0m\u001B[33m \u001B[0m \u001B[3m \u001B[0m\u001B[3m                         \u001B[0m\u001B[3m \u001B[0m                  \n",
       " \u001B[2m \u001B[0m\u001B[1;2;36m27\u001B[0m\u001B[2m \u001B[0m\u001B[2m \u001B[0m \u001B[33m \u001B[0m\u001B[33mIncomeTaxesTables                                           \u001B[0m\u001B[33m \u001B[0m \u001B[3m \u001B[0m\u001B[3m                         \u001B[0m\u001B[3m \u001B[0m                  \n",
       " \u001B[2m \u001B[0m\u001B[1;2;36m74\u001B[0m\u001B[2m \u001B[0m\u001B[2m \u001B[0m \u001B[33m \u001B[0m\u001B[33mInsiderTradingArrangements                                  \u001B[0m\u001B[33m \u001B[0m \u001B[3m \u001B[0m\u001B[3m                         \u001B[0m\u001B[3m \u001B[0m                  \n",
       " \u001B[2m \u001B[0m\u001B[1;2;36m77\u001B[0m\u001B[2m \u001B[0m\u001B[2m \u001B[0m \u001B[33m \u001B[0m\u001B[33mInsiderTradingPoliciesProc                                  \u001B[0m\u001B[33m \u001B[0m \u001B[3m \u001B[0m\u001B[3m                         \u001B[0m\u001B[3m \u001B[0m                  \n",
       " \u001B[2m \u001B[0m\u001B[1;2;36m15\u001B[0m\u001B[2m \u001B[0m\u001B[2m \u001B[0m \u001B[33m \u001B[0m\u001B[33mLeases                                                      \u001B[0m\u001B[33m \u001B[0m \u001B[3m \u001B[0m\u001B[3m                         \u001B[0m\u001B[3m \u001B[0m                  \n",
       " \u001B[2m \u001B[0m\u001B[1;2;36m56\u001B[0m\u001B[2m \u001B[0m\u001B[2m \u001B[0m \u001B[33m \u001B[0m\u001B[33mLeasesAdditionalInformationDetails                          \u001B[0m\u001B[33m \u001B[0m \u001B[3m \u001B[0m\u001B[3m                         \u001B[0m\u001B[3m \u001B[0m                  \n",
       " \u001B[2m \u001B[0m\u001B[1;2;36m58\u001B[0m\u001B[2m \u001B[0m\u001B[2m \u001B[0m \u001B[33m \u001B[0m\u001B[33mLeasesLeaseLiabilityMaturitiesDetails                       \u001B[0m\u001B[33m \u001B[0m \u001B[3m \u001B[0m\u001B[3m                         \u001B[0m\u001B[3m \u001B[0m                  \n",
       " \u001B[2m \u001B[0m\u001B[1;2;36m57\u001B[0m\u001B[2m \u001B[0m\u001B[2m \u001B[0m \u001B[33m \u001B[0m\u001B[33mLeasesROUAssetsandLeaseLiabilitiesDetails                   \u001B[0m\u001B[33m \u001B[0m \u001B[3m \u001B[0m\u001B[3m                         \u001B[0m\u001B[3m \u001B[0m                  \n",
       " \u001B[2m \u001B[0m\u001B[1;2;36m28\u001B[0m\u001B[2m \u001B[0m\u001B[2m \u001B[0m \u001B[33m \u001B[0m\u001B[33mLeasesTables                                                \u001B[0m\u001B[33m \u001B[0m \u001B[3m \u001B[0m\u001B[3m                         \u001B[0m\u001B[3m \u001B[0m                  \n",
       " \u001B[2m \u001B[0m\u001B[1;2;36m12\u001B[0m\u001B[2m \u001B[0m\u001B[2m \u001B[0m \u001B[33m \u001B[0m\u001B[33mPropertyPlantandEquipment                                   \u001B[0m\u001B[33m \u001B[0m \u001B[3m \u001B[0m\u001B[3m                         \u001B[0m\u001B[3m \u001B[0m                  \n",
       " \u001B[2m \u001B[0m\u001B[1;2;36m46\u001B[0m\u001B[2m \u001B[0m\u001B[2m \u001B[0m \u001B[33m \u001B[0m\u001B[33mPropertyPlantandEquipmentAdditionalInformationDetails       \u001B[0m\u001B[33m \u001B[0m \u001B[3m \u001B[0m\u001B[3m                         \u001B[0m\u001B[3m \u001B[0m                  \n",
       " \u001B[2m \u001B[0m\u001B[1;2;36m45\u001B[0m\u001B[2m \u001B[0m\u001B[2m \u001B[0m \u001B[33m \u001B[0m\u001B[33mPropertyPlantandEquipmentGrossPropertyPlantandEquipmentbyMa…\u001B[0m\u001B[33m \u001B[0m \u001B[3m \u001B[0m\u001B[3m                         \u001B[0m\u001B[3m \u001B[0m                  \n",
       " \u001B[2m \u001B[0m\u001B[1;2;36m25\u001B[0m\u001B[2m \u001B[0m\u001B[2m \u001B[0m \u001B[33m \u001B[0m\u001B[33mPropertyPlantandEquipmentTables                             \u001B[0m\u001B[33m \u001B[0m \u001B[3m \u001B[0m\u001B[3m                         \u001B[0m\u001B[3m \u001B[0m                  \n",
       " \u001B[2m \u001B[0m\u001B[1;2;36m9\u001B[0m\u001B[2m  \u001B[0m\u001B[2m \u001B[0m \u001B[33m \u001B[0m\u001B[33mRevenue                                                     \u001B[0m\u001B[33m \u001B[0m \u001B[3m \u001B[0m\u001B[3m                         \u001B[0m\u001B[3m \u001B[0m                  \n",
       " \u001B[2m \u001B[0m\u001B[1;2;36m34\u001B[0m\u001B[2m \u001B[0m\u001B[2m \u001B[0m \u001B[33m \u001B[0m\u001B[33mRevenueAdditionalInformationDetails                         \u001B[0m\u001B[33m \u001B[0m \u001B[3m \u001B[0m\u001B[3m                         \u001B[0m\u001B[3m \u001B[0m                  \n",
       " \u001B[2m \u001B[0m\u001B[1;2;36m36\u001B[0m\u001B[2m \u001B[0m\u001B[2m \u001B[0m \u001B[33m \u001B[0m\u001B[33mRevenueDeferredRevenueExpectedTimingofRealizationDetails    \u001B[0m\u001B[33m \u001B[0m \u001B[3m \u001B[0m\u001B[3m                         \u001B[0m\u001B[3m \u001B[0m                  \n",
       " \u001B[2m \u001B[0m\u001B[1;2;36m35\u001B[0m\u001B[2m \u001B[0m\u001B[2m \u001B[0m \u001B[33m \u001B[0m\u001B[33mRevenueNetSalesDisaggregatedbySignificantProductsandService…\u001B[0m\u001B[33m \u001B[0m \u001B[3m \u001B[0m\u001B[3m                         \u001B[0m\u001B[3m \u001B[0m                  \n",
       " \u001B[2m \u001B[0m\u001B[1;2;36m22\u001B[0m\u001B[2m \u001B[0m\u001B[2m \u001B[0m \u001B[33m \u001B[0m\u001B[33mRevenueTables                                               \u001B[0m\u001B[33m \u001B[0m \u001B[3m \u001B[0m\u001B[3m                         \u001B[0m\u001B[3m \u001B[0m                  \n",
       " \u001B[2m \u001B[0m\u001B[1;2;36m18\u001B[0m\u001B[2m \u001B[0m\u001B[2m \u001B[0m \u001B[33m \u001B[0m\u001B[33mShareBasedCompensation                                      \u001B[0m\u001B[33m \u001B[0m \u001B[3m \u001B[0m\u001B[3m                         \u001B[0m\u001B[3m \u001B[0m                  \n",
       " \u001B[2m \u001B[0m\u001B[1;2;36m65\u001B[0m\u001B[2m \u001B[0m\u001B[2m \u001B[0m \u001B[33m \u001B[0m\u001B[33mShareBasedCompensationAdditionalInformationDetails          \u001B[0m\u001B[33m \u001B[0m \u001B[3m \u001B[0m\u001B[3m                         \u001B[0m\u001B[3m \u001B[0m                  \n",
       " \u001B[2m \u001B[0m\u001B[1;2;36m66\u001B[0m\u001B[2m \u001B[0m\u001B[2m \u001B[0m \u001B[33m \u001B[0m\u001B[33mShareBasedCompensationRestrictedStockUnitActivityandRelated…\u001B[0m\u001B[33m \u001B[0m \u001B[3m \u001B[0m\u001B[3m                         \u001B[0m\u001B[3m \u001B[0m                  \n",
       " \u001B[2m \u001B[0m\u001B[1;2;36m67\u001B[0m\u001B[2m \u001B[0m\u001B[2m \u001B[0m \u001B[33m \u001B[0m\u001B[33mShareBasedCompensationSummaryofShareBasedCompensationExpens…\u001B[0m\u001B[33m \u001B[0m \u001B[3m \u001B[0m\u001B[3m                         \u001B[0m\u001B[3m \u001B[0m                  \n",
       " \u001B[2m \u001B[0m\u001B[1;2;36m31\u001B[0m\u001B[2m \u001B[0m\u001B[2m \u001B[0m \u001B[33m \u001B[0m\u001B[33mShareBasedCompensationTables                                \u001B[0m\u001B[33m \u001B[0m \u001B[3m \u001B[0m\u001B[3m                         \u001B[0m\u001B[3m \u001B[0m                  \n",
       " \u001B[2m \u001B[0m\u001B[1;2;36m17\u001B[0m\u001B[2m \u001B[0m\u001B[2m \u001B[0m \u001B[33m \u001B[0m\u001B[33mShareholdersEquity                                          \u001B[0m\u001B[33m \u001B[0m \u001B[3m \u001B[0m\u001B[3m                         \u001B[0m\u001B[3m \u001B[0m                  \n",
       " \u001B[2m \u001B[0m\u001B[1;2;36m63\u001B[0m\u001B[2m \u001B[0m\u001B[2m \u001B[0m \u001B[33m \u001B[0m\u001B[33mShareholdersEquityAdditionalInformationDetails              \u001B[0m\u001B[33m \u001B[0m \u001B[3m \u001B[0m\u001B[3m                         \u001B[0m\u001B[3m \u001B[0m                  \n",
       " \u001B[2m \u001B[0m\u001B[1;2;36m30\u001B[0m\u001B[2m \u001B[0m\u001B[2m \u001B[0m \u001B[33m \u001B[0m\u001B[33mShareholdersEquityTables                                    \u001B[0m\u001B[33m \u001B[0m \u001B[3m \u001B[0m\u001B[3m                         \u001B[0m\u001B[3m \u001B[0m                  \n",
       " \u001B[2m \u001B[0m\u001B[1;2;36m5\u001B[0m\u001B[2m  \u001B[0m\u001B[2m \u001B[0m \u001B[33m \u001B[0m\u001B[33mCONSOLIDATEDBALANCESHEETSParenthetical                      \u001B[0m\u001B[33m \u001B[0m \u001B[3m \u001B[0m\u001B[3mBalanceSheetParenthetical\u001B[0m\u001B[3m \u001B[0m  ✓               \n",
       "                                                                                                                   "
      ]
     },
     "execution_count": 5,
     "metadata": {},
     "output_type": "execute_result"
    }
   ],
   "execution_count": 5
  },
  {
   "metadata": {},
   "cell_type": "markdown",
   "source": "## Disclosures",
   "id": "a0c4fc95557abab5"
  },
  {
   "metadata": {
    "ExecuteTime": {
     "end_time": "2025-04-02T11:23:38.102852Z",
     "start_time": "2025-04-02T11:23:38.084886Z"
    }
   },
   "cell_type": "code",
   "source": "statements['SegmentInformationandGeographicDataInformationByReportableSegmentDetails']",
   "id": "45a982fe4b1b57c2",
   "outputs": [
    {
     "data": {
      "text/plain": [],
      "text/html": [
       "<pre style=\"white-space:pre;overflow-x:auto;line-height:normal;font-family:Menlo,'DejaVu Sans Mono',consolas,'Courier New',monospace\"></pre>\n"
      ]
     },
     "metadata": {},
     "output_type": "display_data"
    },
    {
     "data": {
      "text/plain": [
       "\u001B[3mSegmentInformationandGeographicDataInformationbyReportable\u001B[0m\n",
       "\u001B[3m              SegmentDetails (Standardized)               \u001B[0m\n",
       "\u001B[3m                    \u001B[0m\u001B[1;3mThree Months Ended\u001B[0m\u001B[3m                    \u001B[0m\n",
       "                                                          \n",
       " \u001B[1m \u001B[0m\u001B[1m                                       \u001B[0m\u001B[1m \u001B[0m \u001B[1m \u001B[0m\u001B[1mSep 30, 2023\u001B[0m\u001B[1m \u001B[0m \n",
       " ──────────────────────────────────────────────────────── \n",
       "  \u001B[1m    Net sales:\u001B[0m                                          \n",
       "          \u001B[3mProducts\u001B[0m                               298,085  \n",
       "          \u001B[3mServices\u001B[0m                                85,200  \n",
       "          \u001B[3miPhone\u001B[0m                                 200,583  \n",
       "          \u001B[3mMac\u001B[0m                                     29,357  \n",
       "          \u001B[3miPad\u001B[0m                                    28,300  \n",
       "          \u001B[3mWearables, Home and Accessories\u001B[0m         39,845  \n",
       "          \u001B[3mAmericas\u001B[0m                               162,560  \n",
       "          \u001B[3mEurope\u001B[0m                                  94,294  \n",
       "          \u001B[3mGreater China\u001B[0m                           72,559  \n",
       "          \u001B[3mJapan\u001B[0m                                   24,257  \n",
       "          \u001B[3mRest of Asia Pacific\u001B[0m                    29,615  \n",
       "          \u001B[3mU.S.\u001B[0m                                   138,573  \n",
       "          \u001B[3mChina\u001B[0m                                   72,559  \n",
       "          \u001B[3mOther countries\u001B[0m                        172,153  \n",
       "  \u001B[1m    Operating income:\u001B[0m                                   \n",
       "          \u001B[3mAmericas\u001B[0m                                60,508  \n",
       "          \u001B[3mEurope\u001B[0m                                  36,098  \n",
       "          \u001B[3mGreater China\u001B[0m                           30,328  \n",
       "          \u001B[3mJapan\u001B[0m                                   11,888  \n",
       "          \u001B[3mRest of Asia Pacific\u001B[0m                    12,066  \n",
       "          \u001B[3mOperating segments\u001B[0m                     150,888  \n",
       "                                                          "
      ]
     },
     "execution_count": 6,
     "metadata": {},
     "output_type": "execute_result"
    }
   ],
   "execution_count": 6
  },
  {
   "metadata": {
    "ExecuteTime": {
     "end_time": "2025-04-02T11:23:42.611993Z",
     "start_time": "2025-04-02T11:23:42.584611Z"
    }
   },
   "cell_type": "code",
   "source": "statements[66]",
   "id": "c19125856a444362",
   "outputs": [
    {
     "data": {
      "text/plain": [],
      "text/html": [
       "<pre style=\"white-space:pre;overflow-x:auto;line-height:normal;font-family:Menlo,'DejaVu Sans Mono',consolas,'Courier New',monospace\"></pre>\n"
      ]
     },
     "metadata": {},
     "output_type": "display_data"
    },
    {
     "data": {
      "text/plain": [
       "\u001B[3mShareBasedCompensationRestrictedStockUnitActivityandRelatedInformationD\u001B[0m\n",
       "\u001B[3m                         etails (Standardized)                         \u001B[0m\n",
       "\u001B[3m                          \u001B[0m\u001B[1;3mThree Months Ended\u001B[0m\u001B[3m                           \u001B[0m\n",
       "                                                                       \n",
       " \u001B[1m \u001B[0m\u001B[1m                                                    \u001B[0m\u001B[1m \u001B[0m \u001B[1m \u001B[0m\u001B[1mSep 30, 2023\u001B[0m\u001B[1m \u001B[0m \n",
       " ───────────────────────────────────────────────────────────────────── \n",
       "        Number of Restricted Stock Units                               \n",
       "          Ending balance (in shares)                                   \n",
       "          RSUs granted (in shares)                                 89  \n",
       "          RSUs vested (in shares)                                 102  \n",
       "          RSUs canceled (in shares)                                 8  \n",
       "          Ending balance (in shares)                                   \n",
       "        Weighted-Average Grant Date Fair Value Per RSU                 \n",
       "          Ending balance (in dollars per share)                        \n",
       "          RSUs granted (in dollars per share)                       0  \n",
       "          RSUs vested (in dollars per share)                        0  \n",
       "          RSUs canceled (in dollars per share)                      0  \n",
       "          Ending balance (in dollars per share)                        \n",
       "        Aggregate Fair Value                                           \n",
       "          Aggregate fair value of RSUs                                 \n",
       "                                                                       "
      ]
     },
     "execution_count": 7,
     "metadata": {},
     "output_type": "execute_result"
    }
   ],
   "execution_count": 7
  },
  {
   "metadata": {},
   "cell_type": "markdown",
   "source": "## Segmented Statements",
   "id": "28b23a66de979115"
  },
  {
   "metadata": {
    "ExecuteTime": {
     "end_time": "2025-04-02T11:23:45.739931Z",
     "start_time": "2025-04-02T11:23:45.731152Z"
    }
   },
   "cell_type": "code",
   "source": "statements[68]",
   "id": "4b15fda85fa63707",
   "outputs": [
    {
     "data": {
      "text/plain": [],
      "text/html": [
       "<pre style=\"white-space:pre;overflow-x:auto;line-height:normal;font-family:Menlo,'DejaVu Sans Mono',consolas,'Courier New',monospace\"></pre>\n"
      ]
     },
     "metadata": {},
     "output_type": "display_data"
    },
    {
     "data": {
      "text/plain": [
       "\u001B[3mCommitmentsConting\u001B[0m\n",
       "\u001B[3menciesandSupplyCon\u001B[0m\n",
       "\u001B[3mcentrationsFutureP\u001B[0m\n",
       "\u001B[3maymentsUnderUncond\u001B[0m\n",
       "\u001B[3mitionalPurchaseObl\u001B[0m\n",
       "\u001B[3m igationsDetails  \u001B[0m\n",
       "\u001B[3m  (Standardized)  \u001B[0m\n",
       "                  \n",
       " \u001B[1m \u001B[0m\u001B[1m              \u001B[0m\u001B[1m \u001B[0m \n",
       " ──────────────── \n",
       "      2024        \n",
       "      2025        \n",
       "      2026        \n",
       "      2027        \n",
       "      2028        \n",
       "      Thereafter  \n",
       "      Total       \n",
       "                  "
      ]
     },
     "execution_count": 8,
     "metadata": {},
     "output_type": "execute_result"
    }
   ],
   "execution_count": 8
  },
  {
   "metadata": {
    "ExecuteTime": {
     "end_time": "2025-03-27T19:18:05.552525Z",
     "start_time": "2025-03-27T19:18:05.532805Z"
    }
   },
   "cell_type": "code",
   "source": "statements[64]",
   "id": "231d7b0691da455d",
   "outputs": [
    {
     "data": {
      "text/plain": [],
      "text/html": [
       "<pre style=\"white-space:pre;overflow-x:auto;line-height:normal;font-family:Menlo,'DejaVu Sans Mono',consolas,'Courier New',monospace\"></pre>\n"
      ]
     },
     "metadata": {},
     "output_type": "display_data"
    },
    {
     "data": {
      "text/plain": [
       "\u001B[3m                                  Consolidated Statement of Equity (Standardized)                                  \u001B[0m\n",
       "\u001B[3m                                                \u001B[0m\u001B[1;3mThree Months Ended\u001B[0m\u001B[3m                                                 \u001B[0m\n",
       "                                                                                                                   \n",
       " \u001B[1m \u001B[0m\u001B[1m                                                                     \u001B[0m\u001B[1m \u001B[0m \u001B[1m \u001B[0m\u001B[1mSeptember 30, 2023\u001B[0m\u001B[1m \u001B[0m \u001B[1m \u001B[0m\u001B[1mSeptember 24, 2022\u001B[0m\u001B[1m \u001B[0m \n",
       " ───────────────────────────────────────────────────────────────────────────────────────────────────────────────── \n",
       "        Increase (Decrease) in Shares of Common Stock Outstanding [Roll                                            \n",
       "  Forward]                                                                                                         \n",
       "          Common Stock Shares Outstanding                                                                          \n",
       "          Common stock repurchased (in shares)                                           471               568.59  \n",
       "          Common stock issued, net of shares withheld for employee                     78.06                85.23  \n",
       "  taxes (in shares)                                                                                                \n",
       "          Common Stock Shares Outstanding                                                                          \n",
       "                                                                                                                   "
      ]
     },
     "execution_count": 10,
     "metadata": {},
     "output_type": "execute_result"
    }
   ],
   "execution_count": 10
  },
  {
   "metadata": {
    "ExecuteTime": {
     "end_time": "2025-03-24T02:25:14.071280Z",
     "start_time": "2025-03-24T02:25:14.039245Z"
    }
   },
   "cell_type": "code",
   "source": "statements[65]",
   "id": "dd6cc2d726fc1717",
   "outputs": [
    {
     "data": {
      "text/plain": [],
      "text/html": [
       "<pre style=\"white-space:pre;overflow-x:auto;line-height:normal;font-family:Menlo,'DejaVu Sans Mono',consolas,'Courier New',monospace\"></pre>\n"
      ]
     },
     "metadata": {},
     "output_type": "display_data"
    },
    {
     "data": {
      "text/plain": [
       "\u001B[3m                   DebtNarrativeDetails (Standardized)                    \u001B[0m\n",
       "\u001B[3m                            \u001B[0m\u001B[1;3mFiscal Year Ended\u001B[0m\u001B[3m                             \u001B[0m\n",
       "                                                                          \n",
       " \u001B[1m \u001B[0m\u001B[1m                                    \u001B[0m\u001B[1m \u001B[0m \u001B[1m \u001B[0m\u001B[1mJan 26, 2025\u001B[0m\u001B[1m \u001B[0m \u001B[1m \u001B[0m\u001B[1mJanuary 26, 2025\u001B[0m\u001B[1m \u001B[0m \n",
       " ──────────────────────────────────────────────────────────────────────── \n",
       "        Repayment of debt                                        (1,250)  \n",
       "        Stated interest rate (percent)           0.00                     \n",
       "        Maximum borrowing capacity                575                     \n",
       "        Outstanding commercial paper                 \u0014                     \n",
       "                                                                          "
      ]
     },
     "execution_count": 9,
     "metadata": {},
     "output_type": "execute_result"
    }
   ],
   "execution_count": 9
  },
  {
   "metadata": {
    "ExecuteTime": {
     "end_time": "2025-03-27T18:36:26.822268Z",
     "start_time": "2025-03-27T18:36:26.813469Z"
    }
   },
   "cell_type": "code",
   "source": "statements[67]",
   "id": "401d14f5f0666071",
   "outputs": [
    {
     "data": {
      "text/plain": [],
      "text/html": [
       "<pre style=\"white-space:pre;overflow-x:auto;line-height:normal;font-family:Menlo,'DejaVu Sans Mono',consolas,'Courier New',monospace\"></pre>\n"
      ]
     },
     "metadata": {},
     "output_type": "display_data"
    },
    {
     "data": {
      "text/plain": [
       "\u001B[3mShareBasedCompensationSummaryofShareBasedCompensationExpenseandtheRe\u001B[0m\n",
       "\u001B[3m            latedIncomeTaxBenefitDetails (Standardized)             \u001B[0m\n",
       "                                                                    \n",
       " \u001B[1m \u001B[0m\u001B[1m                                                                \u001B[0m\u001B[1m \u001B[0m \n",
       " ────────────────────────────────────────────────────────────────── \n",
       "    Share-based compensation expense                                \n",
       "    Income tax benefit related to share-based compensation expense  \n",
       "                                                                    "
      ]
     },
     "execution_count": 11,
     "metadata": {},
     "output_type": "execute_result"
    }
   ],
   "execution_count": 11
  },
  {
   "metadata": {
    "ExecuteTime": {
     "end_time": "2025-03-24T02:25:19.487250Z",
     "start_time": "2025-03-24T02:25:19.484061Z"
    }
   },
   "cell_type": "code",
   "source": "statements[\"SegmentInformationScheduleofRevenuebyMarketDetails\"].role_or_type",
   "id": "c2f1521a4b3834e7",
   "outputs": [
    {
     "data": {
      "text/plain": [
       "'SegmentInformationScheduleofRevenuebyMarketDetails'"
      ]
     },
     "execution_count": 11,
     "metadata": {},
     "output_type": "execute_result"
    }
   ],
   "execution_count": 11
  }
 ],
 "metadata": {
  "kernelspec": {
   "display_name": "Python 3",
   "language": "python",
   "name": "python3"
  },
  "language_info": {
   "codemirror_mode": {
    "name": "ipython",
    "version": 2
   },
   "file_extension": ".py",
   "mimetype": "text/x-python",
   "name": "python",
   "nbconvert_exporter": "python",
   "pygments_lexer": "ipython2",
   "version": "2.7.6"
  }
 },
 "nbformat": 4,
 "nbformat_minor": 5
}
