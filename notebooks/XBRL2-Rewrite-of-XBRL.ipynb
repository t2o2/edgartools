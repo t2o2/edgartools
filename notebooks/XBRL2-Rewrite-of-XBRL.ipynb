{
 "cells": [
  {
   "cell_type": "markdown",
   "id": "196860f0-9768-498f-bc70-42afc3253385",
   "metadata": {},
   "source": [
    " # XBRL2 - Rewrite of XBRL Functionality\n",
    "\n",
    "[![Open In Colab](https://colab.research.google.com/assets/colab-badge.svg)](http://colab.research.google.com/github/dgunning/edgartools/blob/main/notebooks/XBRL2-Rewrite-of-XBRL.ipynb)"
   ]
  },
  {
   "metadata": {},
   "cell_type": "markdown",
   "source": "## Setup Edgartools",
   "id": "79c7eb224ae2de22"
  },
  {
   "cell_type": "code",
   "id": "10a5a043-4204-44b1-9b50-b00885cd6328",
   "metadata": {},
   "source": "!pip install -U edgartools",
   "outputs": [],
   "execution_count": null
  },
  {
   "metadata": {
    "ExecuteTime": {
     "end_time": "2025-04-02T00:15:50.935954Z",
     "start_time": "2025-04-02T00:15:50.931984Z"
    }
   },
   "cell_type": "code",
   "source": [
    "from edgar import *\n",
    "from rich import print\n",
    "\n",
    "set_identity('Florian@mcmaster.ca')"
   ],
   "id": "18a0c5bf92f1ef8c",
   "outputs": [],
   "execution_count": 1
  },
  {
   "metadata": {},
   "cell_type": "markdown",
   "source": [
    "## Import XBRL2\n",
    "\n",
    "The new functionality is available in the `edgar.xbrl2` module."
   ],
   "id": "2790cb7f4112a970"
  },
  {
   "metadata": {
    "ExecuteTime": {
     "end_time": "2025-04-02T00:15:53.029981Z",
     "start_time": "2025-04-02T00:15:53.006634Z"
    }
   },
   "cell_type": "code",
   "source": "from edgar.xbrl2 import *",
   "id": "53e4fd712fedbfa7",
   "outputs": [],
   "execution_count": 2
  },
  {
   "metadata": {
    "ExecuteTime": {
     "end_time": "2025-04-02T00:15:55.843550Z",
     "start_time": "2025-04-02T00:15:55.138289Z"
    }
   },
   "cell_type": "code",
   "source": "c = Company(\"AAPL\")",
   "id": "de22e82b916bbb1a",
   "outputs": [],
   "execution_count": 3
  },
  {
   "metadata": {},
   "cell_type": "markdown",
   "source": [
    "# XBRL for a Single Filing\n",
    "\n",
    "<hr/>"
   ],
   "id": "c476377e22de1c66"
  },
  {
   "metadata": {},
   "cell_type": "markdown",
   "source": "## Get the latest filing for a company",
   "id": "5376c4bf795fd662"
  },
  {
   "metadata": {
    "ExecuteTime": {
     "end_time": "2025-04-02T00:15:56.285938Z",
     "start_time": "2025-04-02T00:15:56.283009Z"
    }
   },
   "cell_type": "code",
   "source": "filing = c.latest(\"10-K\")",
   "id": "8fa1b2657e5d3cfa",
   "outputs": [],
   "execution_count": 4
  },
  {
   "metadata": {
    "ExecuteTime": {
     "end_time": "2025-03-14T18:43:09.129262Z",
     "start_time": "2025-03-14T18:43:09.127470Z"
    }
   },
   "cell_type": "markdown",
   "source": "### Create an xbrl object from the filing",
   "id": "983ed818-d957-4af8-a561-5d0254e17a89"
  },
  {
   "metadata": {
    "ExecuteTime": {
     "end_time": "2025-04-02T00:15:57.620976Z",
     "start_time": "2025-04-02T00:15:57.428049Z"
    }
   },
   "cell_type": "code",
   "source": "xbrl = XBRL.from_filing(filing)",
   "id": "6ac5014c-4989-4943-822e-1582082b2251",
   "outputs": [],
   "execution_count": 5
  },
  {
   "metadata": {},
   "cell_type": "markdown",
   "source": [
    "# The Statements API\n",
    "\n",
    "<hr/>\n",
    "\n"
   ],
   "id": "919013bfb99c9066"
  },
  {
   "metadata": {
    "ExecuteTime": {
     "end_time": "2025-04-02T00:15:59.365321Z",
     "start_time": "2025-04-02T00:15:59.332375Z"
    }
   },
   "cell_type": "code",
   "source": [
    "statements = xbrl.statements\n",
    "statements"
   ],
   "id": "7001b4afac14272a",
   "outputs": [
    {
     "data": {
      "text/plain": [],
      "text/html": [
       "<pre style=\"white-space:pre;overflow-x:auto;line-height:normal;font-family:Menlo,'DejaVu Sans Mono',consolas,'Courier New',monospace\"></pre>\n"
      ]
     },
     "metadata": {},
     "output_type": "display_data"
    },
    {
     "data": {
      "text/plain": [
       "\u001B[1;32mFinancial Statements\u001B[0m                                                                         \n",
       "                                                                                             \n",
       " \u001B[1m \u001B[0m\u001B[1m#  \u001B[0m\u001B[1m \u001B[0m \u001B[1m \u001B[0m\u001B[1mName                                        \u001B[0m\u001B[1m \u001B[0m \u001B[1m \u001B[0m\u001B[1mType               \u001B[0m\u001B[1m \u001B[0m \u001B[1m \u001B[0m\u001B[1mParenthetical \u001B[0m\u001B[1m \u001B[0m \n",
       " ─────────────────────────────────────────────────────────────────────────────────────────── \n",
       " \u001B[2m \u001B[0m\u001B[1;2;36m4\u001B[0m\u001B[2m  \u001B[0m\u001B[2m \u001B[0m \u001B[32m \u001B[0m\u001B[32mCONSOLIDATEDBALANCESHEETS                   \u001B[0m\u001B[32m \u001B[0m \u001B[3m \u001B[0m\u001B[3mBalanceSheet       \u001B[0m\u001B[3m \u001B[0m                  \n",
       " \u001B[2m \u001B[0m\u001B[1;2;36m7\u001B[0m\u001B[2m  \u001B[0m\u001B[2m \u001B[0m \u001B[32m \u001B[0m\u001B[32mCONSOLIDATEDSTATEMENTSOFCASHFLOWS           \u001B[0m\u001B[32m \u001B[0m \u001B[3m \u001B[0m\u001B[3mCashFlowStatement  \u001B[0m\u001B[3m \u001B[0m                  \n",
       " \u001B[2m \u001B[0m\u001B[1;2;36m3\u001B[0m\u001B[2m  \u001B[0m\u001B[2m \u001B[0m \u001B[32m \u001B[0m\u001B[32mCONSOLIDATEDSTATEMENTSOFCOMPREHENSIVEINCOME \u001B[0m\u001B[32m \u001B[0m \u001B[3m \u001B[0m\u001B[3mComprehensiveIncome\u001B[0m\u001B[3m \u001B[0m                  \n",
       " \u001B[2m \u001B[0m\u001B[1;2;36m2\u001B[0m\u001B[2m  \u001B[0m\u001B[2m \u001B[0m \u001B[32m \u001B[0m\u001B[32mCONSOLIDATEDSTATEMENTSOFOPERATIONS          \u001B[0m\u001B[32m \u001B[0m \u001B[3m \u001B[0m\u001B[3mIncomeStatement    \u001B[0m\u001B[3m \u001B[0m                  \n",
       " \u001B[2m \u001B[0m\u001B[1;2;36m6\u001B[0m\u001B[2m  \u001B[0m\u001B[2m \u001B[0m \u001B[32m \u001B[0m\u001B[32mCONSOLIDATEDSTATEMENTSOFSHAREHOLDERSEQUITY  \u001B[0m\u001B[32m \u001B[0m \u001B[3m \u001B[0m\u001B[3mStatementOfEquity  \u001B[0m\u001B[3m \u001B[0m                  \n",
       " \u001B[2m \u001B[0m\u001B[1;2;36m61\u001B[0m\u001B[2m \u001B[0m\u001B[2m \u001B[0m \u001B[32m \u001B[0m\u001B[32mShareholdersEquitySharesofCommonStockDetails\u001B[0m\u001B[32m \u001B[0m \u001B[3m \u001B[0m\u001B[3mStatementOfEquity  \u001B[0m\u001B[3m \u001B[0m                  \n",
       "                                                                                             \n",
       "\u001B[1;34mNotes to Financial Statements\u001B[0m                                                                 \n",
       "                                                                                              \n",
       " \u001B[1m \u001B[0m\u001B[1m#  \u001B[0m\u001B[1m \u001B[0m \u001B[1m \u001B[0m\u001B[1mName                                          \u001B[0m\u001B[1m \u001B[0m \u001B[1m \u001B[0m\u001B[1mType              \u001B[0m\u001B[1m \u001B[0m \u001B[1m \u001B[0m\u001B[1mParenthetical \u001B[0m\u001B[1m \u001B[0m \n",
       " ──────────────────────────────────────────────────────────────────────────────────────────── \n",
       " \u001B[2m \u001B[0m\u001B[1;2;36m8\u001B[0m\u001B[2m  \u001B[0m\u001B[2m \u001B[0m \u001B[34m \u001B[0m\u001B[34mSummaryofSignificantAccountingPolicies        \u001B[0m\u001B[34m \u001B[0m \u001B[3m \u001B[0m\u001B[3mAccountingPolicies\u001B[0m\u001B[3m \u001B[0m                  \n",
       " \u001B[2m \u001B[0m\u001B[1;2;36m21\u001B[0m\u001B[2m \u001B[0m\u001B[2m \u001B[0m \u001B[34m \u001B[0m\u001B[34mSummaryofSignificantAccountingPoliciesPolicies\u001B[0m\u001B[34m \u001B[0m \u001B[3m \u001B[0m\u001B[3mAccountingPolicies\u001B[0m\u001B[3m \u001B[0m                  \n",
       "                                                                                              \n",
       "\u001B[1;36mDisclosures\u001B[0m                                                                                                        \n",
       "                                                                                                                   \n",
       " \u001B[1m \u001B[0m\u001B[1m#  \u001B[0m\u001B[1m \u001B[0m \u001B[1m \u001B[0m\u001B[1mName                                                                \u001B[0m\u001B[1m \u001B[0m \u001B[1m \u001B[0m\u001B[1mType             \u001B[0m\u001B[1m \u001B[0m \u001B[1m \u001B[0m\u001B[1mParenthetical \u001B[0m\u001B[1m \u001B[0m \n",
       " ───────────────────────────────────────────────────────────────────────────────────────────────────────────────── \n",
       " \u001B[2m \u001B[0m\u001B[1;2;36m70\u001B[0m\u001B[2m \u001B[0m\u001B[2m \u001B[0m \u001B[36m \u001B[0m\u001B[36mAwardTimingDisclosure                                               \u001B[0m\u001B[36m \u001B[0m \u001B[3m \u001B[0m\u001B[3mDisclosures      \u001B[0m\u001B[3m \u001B[0m                  \n",
       " \u001B[2m \u001B[0m\u001B[1;2;36m71\u001B[0m\u001B[2m \u001B[0m\u001B[2m \u001B[0m \u001B[36m \u001B[0m\u001B[36mErrCompDisclosure                                                   \u001B[0m\u001B[36m \u001B[0m \u001B[3m \u001B[0m\u001B[3mDisclosures      \u001B[0m\u001B[3m \u001B[0m                  \n",
       " \u001B[2m \u001B[0m\u001B[1;2;36m72\u001B[0m\u001B[2m \u001B[0m\u001B[2m \u001B[0m \u001B[36m \u001B[0m\u001B[36mPvpDisclosure                                                       \u001B[0m\u001B[36m \u001B[0m \u001B[3m \u001B[0m\u001B[3mDisclosures      \u001B[0m\u001B[3m \u001B[0m                  \n",
       " \u001B[2m \u001B[0m\u001B[1;2;36m20\u001B[0m\u001B[2m \u001B[0m\u001B[2m \u001B[0m \u001B[36m \u001B[0m\u001B[36mSegmentInformationandGeographicData                                 \u001B[0m\u001B[36m \u001B[0m \u001B[3m \u001B[0m\u001B[3mSegmentDisclosure\u001B[0m\u001B[3m \u001B[0m                  \n",
       " \u001B[2m \u001B[0m\u001B[1;2;36m66\u001B[0m\u001B[2m \u001B[0m\u001B[2m \u001B[0m \u001B[36m \u001B[0m\u001B[36mSegmentInformationandGeographicDataInformationbyReportableSegmentDe…\u001B[0m\u001B[36m \u001B[0m \u001B[3m \u001B[0m\u001B[3mSegmentDisclosure\u001B[0m\u001B[3m \u001B[0m                  \n",
       " \u001B[2m \u001B[0m\u001B[1;2;36m69\u001B[0m\u001B[2m \u001B[0m\u001B[2m \u001B[0m \u001B[36m \u001B[0m\u001B[36mSegmentInformationandGeographicDataLongLivedAssetsforCountriesthatI…\u001B[0m\u001B[36m \u001B[0m \u001B[3m \u001B[0m\u001B[3mSegmentDisclosure\u001B[0m\u001B[3m \u001B[0m                  \n",
       " \u001B[2m \u001B[0m\u001B[1;2;36m68\u001B[0m\u001B[2m \u001B[0m\u001B[2m \u001B[0m \u001B[36m \u001B[0m\u001B[36mSegmentInformationandGeographicDataNetSalesforCountriesthatIndividu…\u001B[0m\u001B[36m \u001B[0m \u001B[3m \u001B[0m\u001B[3mSegmentDisclosure\u001B[0m\u001B[3m \u001B[0m                  \n",
       " \u001B[2m \u001B[0m\u001B[1;2;36m67\u001B[0m\u001B[2m \u001B[0m\u001B[2m \u001B[0m \u001B[36m \u001B[0m\u001B[36mSegmentInformationandGeographicDataReconciliationofSegmentOperating…\u001B[0m\u001B[36m \u001B[0m \u001B[3m \u001B[0m\u001B[3mSegmentDisclosure\u001B[0m\u001B[3m \u001B[0m                  \n",
       " \u001B[2m \u001B[0m\u001B[1;2;36m33\u001B[0m\u001B[2m \u001B[0m\u001B[2m \u001B[0m \u001B[36m \u001B[0m\u001B[36mSegmentInformationandGeographicDataTables                           \u001B[0m\u001B[36m \u001B[0m \u001B[3m \u001B[0m\u001B[3mSegmentDisclosure\u001B[0m\u001B[3m \u001B[0m                  \n",
       "                                                                                                                   \n",
       "\u001B[1;35mDocument Sections\u001B[0m                               \n",
       "                                                \n",
       " \u001B[1m \u001B[0m\u001B[1m#  \u001B[0m\u001B[1m \u001B[0m \u001B[1m \u001B[0m\u001B[1mName     \u001B[0m\u001B[1m \u001B[0m \u001B[1m \u001B[0m\u001B[1mType     \u001B[0m\u001B[1m \u001B[0m \u001B[1m \u001B[0m\u001B[1mParenthetical \u001B[0m\u001B[1m \u001B[0m \n",
       " ────────────────────────────────────────────── \n",
       " \u001B[2m \u001B[0m\u001B[1;2;36m0\u001B[0m\u001B[2m  \u001B[0m\u001B[2m \u001B[0m \u001B[35m \u001B[0m\u001B[35mCoverPage\u001B[0m\u001B[35m \u001B[0m \u001B[3m \u001B[0m\u001B[3mCoverPage\u001B[0m\u001B[3m \u001B[0m                  \n",
       "                                                \n",
       "\u001B[1;33mOther Sections\u001B[0m                                                                                                     \n",
       "                                                                                                                   \n",
       " \u001B[1m \u001B[0m\u001B[1m#  \u001B[0m\u001B[1m \u001B[0m \u001B[1m \u001B[0m\u001B[1mName                                                        \u001B[0m\u001B[1m \u001B[0m \u001B[1m \u001B[0m\u001B[1mType                     \u001B[0m\u001B[1m \u001B[0m \u001B[1m \u001B[0m\u001B[1mParenthetical \u001B[0m\u001B[1m \u001B[0m \n",
       " ───────────────────────────────────────────────────────────────────────────────────────────────────────────────── \n",
       " \u001B[2m \u001B[0m\u001B[1;2;36m1\u001B[0m\u001B[2m  \u001B[0m\u001B[2m \u001B[0m \u001B[33m \u001B[0m\u001B[33mAuditorInformation                                          \u001B[0m\u001B[33m \u001B[0m \u001B[3m \u001B[0m\u001B[3m                         \u001B[0m\u001B[3m \u001B[0m                  \n",
       " \u001B[2m \u001B[0m\u001B[1;2;36m19\u001B[0m\u001B[2m \u001B[0m\u001B[2m \u001B[0m \u001B[33m \u001B[0m\u001B[33mCommitmentsContingenciesandSupplyConcentrations             \u001B[0m\u001B[33m \u001B[0m \u001B[3m \u001B[0m\u001B[3m                         \u001B[0m\u001B[3m \u001B[0m                  \n",
       " \u001B[2m \u001B[0m\u001B[1;2;36m65\u001B[0m\u001B[2m \u001B[0m\u001B[2m \u001B[0m \u001B[33m \u001B[0m\u001B[33mCommitmentsContingenciesandSupplyConcentrationsFuturePaymen…\u001B[0m\u001B[33m \u001B[0m \u001B[3m \u001B[0m\u001B[3m                         \u001B[0m\u001B[3m \u001B[0m                  \n",
       " \u001B[2m \u001B[0m\u001B[1;2;36m32\u001B[0m\u001B[2m \u001B[0m\u001B[2m \u001B[0m \u001B[33m \u001B[0m\u001B[33mCommitmentsContingenciesandSupplyConcentrationsTables       \u001B[0m\u001B[33m \u001B[0m \u001B[3m \u001B[0m\u001B[3m                         \u001B[0m\u001B[3m \u001B[0m                  \n",
       " \u001B[2m \u001B[0m\u001B[1;2;36m13\u001B[0m\u001B[2m \u001B[0m\u001B[2m \u001B[0m \u001B[33m \u001B[0m\u001B[33mConsolidatedFinancialStatementDetails                       \u001B[0m\u001B[33m \u001B[0m \u001B[3m \u001B[0m\u001B[3m                         \u001B[0m\u001B[3m \u001B[0m                  \n",
       " \u001B[2m \u001B[0m\u001B[1;2;36m46\u001B[0m\u001B[2m \u001B[0m\u001B[2m \u001B[0m \u001B[33m \u001B[0m\u001B[33mConsolidatedFinancialStatementDetailsOtherCurrentLiabilitie…\u001B[0m\u001B[33m \u001B[0m \u001B[3m \u001B[0m\u001B[3m                         \u001B[0m\u001B[3m \u001B[0m                  \n",
       " \u001B[2m \u001B[0m\u001B[1;2;36m45\u001B[0m\u001B[2m \u001B[0m\u001B[2m \u001B[0m \u001B[33m \u001B[0m\u001B[33mConsolidatedFinancialStatementDetailsOtherNonCurrentAssetsD…\u001B[0m\u001B[33m \u001B[0m \u001B[3m \u001B[0m\u001B[3m                         \u001B[0m\u001B[3m \u001B[0m                  \n",
       " \u001B[2m \u001B[0m\u001B[1;2;36m47\u001B[0m\u001B[2m \u001B[0m\u001B[2m \u001B[0m \u001B[33m \u001B[0m\u001B[33mConsolidatedFinancialStatementDetailsOtherNonCurrentLiabili…\u001B[0m\u001B[33m \u001B[0m \u001B[3m \u001B[0m\u001B[3m                         \u001B[0m\u001B[3m \u001B[0m                  \n",
       " \u001B[2m \u001B[0m\u001B[1;2;36m26\u001B[0m\u001B[2m \u001B[0m\u001B[2m \u001B[0m \u001B[33m \u001B[0m\u001B[33mConsolidatedFinancialStatementDetailsTables                 \u001B[0m\u001B[33m \u001B[0m \u001B[3m \u001B[0m\u001B[3m                         \u001B[0m\u001B[3m \u001B[0m                  \n",
       " \u001B[2m \u001B[0m\u001B[1;2;36m16\u001B[0m\u001B[2m \u001B[0m\u001B[2m \u001B[0m \u001B[33m \u001B[0m\u001B[33mDebt                                                        \u001B[0m\u001B[33m \u001B[0m \u001B[3m \u001B[0m\u001B[3m                         \u001B[0m\u001B[3m \u001B[0m                  \n",
       " \u001B[2m \u001B[0m\u001B[1;2;36m56\u001B[0m\u001B[2m \u001B[0m\u001B[2m \u001B[0m \u001B[33m \u001B[0m\u001B[33mDebtAdditionalInformationDetails                            \u001B[0m\u001B[33m \u001B[0m \u001B[3m \u001B[0m\u001B[3m                         \u001B[0m\u001B[3m \u001B[0m                  \n",
       " \u001B[2m \u001B[0m\u001B[1;2;36m59\u001B[0m\u001B[2m \u001B[0m\u001B[2m \u001B[0m \u001B[33m \u001B[0m\u001B[33mDebtFuturePrincipalPaymentsforTermDebtDetails               \u001B[0m\u001B[33m \u001B[0m \u001B[3m \u001B[0m\u001B[3m                         \u001B[0m\u001B[3m \u001B[0m                  \n",
       " \u001B[2m \u001B[0m\u001B[1;2;36m57\u001B[0m\u001B[2m \u001B[0m\u001B[2m \u001B[0m \u001B[33m \u001B[0m\u001B[33mDebtSummaryofCashFlowsAssociatedwithCommercialPaperDetails  \u001B[0m\u001B[33m \u001B[0m \u001B[3m \u001B[0m\u001B[3m                         \u001B[0m\u001B[3m \u001B[0m                  \n",
       " \u001B[2m \u001B[0m\u001B[1;2;36m58\u001B[0m\u001B[2m \u001B[0m\u001B[2m \u001B[0m \u001B[33m \u001B[0m\u001B[33mDebtSummaryofTermDebtDetails                                \u001B[0m\u001B[33m \u001B[0m \u001B[3m \u001B[0m\u001B[3m                         \u001B[0m\u001B[3m \u001B[0m                  \n",
       " \u001B[2m \u001B[0m\u001B[1;2;36m29\u001B[0m\u001B[2m \u001B[0m\u001B[2m \u001B[0m \u001B[33m \u001B[0m\u001B[33mDebtTables                                                  \u001B[0m\u001B[33m \u001B[0m \u001B[3m \u001B[0m\u001B[3m                         \u001B[0m\u001B[3m \u001B[0m                  \n",
       " \u001B[2m \u001B[0m\u001B[1;2;36m10\u001B[0m\u001B[2m \u001B[0m\u001B[2m \u001B[0m \u001B[33m \u001B[0m\u001B[33mEarningsPerShare                                            \u001B[0m\u001B[33m \u001B[0m \u001B[3m \u001B[0m\u001B[3m                         \u001B[0m\u001B[3m \u001B[0m                  \n",
       " \u001B[2m \u001B[0m\u001B[1;2;36m38\u001B[0m\u001B[2m \u001B[0m\u001B[2m \u001B[0m \u001B[33m \u001B[0m\u001B[33mEarningsPerShareAdditionalInformationDetails                \u001B[0m\u001B[33m \u001B[0m \u001B[3m \u001B[0m\u001B[3m                         \u001B[0m\u001B[3m \u001B[0m                  \n",
       " \u001B[2m \u001B[0m\u001B[1;2;36m37\u001B[0m\u001B[2m \u001B[0m\u001B[2m \u001B[0m \u001B[33m \u001B[0m\u001B[33mEarningsPerShareComputationofBasicandDilutedEarningsPerShar…\u001B[0m\u001B[33m \u001B[0m \u001B[3m \u001B[0m\u001B[3m                         \u001B[0m\u001B[3m \u001B[0m                  \n",
       " \u001B[2m \u001B[0m\u001B[1;2;36m23\u001B[0m\u001B[2m \u001B[0m\u001B[2m \u001B[0m \u001B[33m \u001B[0m\u001B[33mEarningsPerShareTables                                      \u001B[0m\u001B[33m \u001B[0m \u001B[3m \u001B[0m\u001B[3m                         \u001B[0m\u001B[3m \u001B[0m                  \n",
       " \u001B[2m \u001B[0m\u001B[1;2;36m11\u001B[0m\u001B[2m \u001B[0m\u001B[2m \u001B[0m \u001B[33m \u001B[0m\u001B[33mFinancialInstruments                                        \u001B[0m\u001B[33m \u001B[0m \u001B[3m \u001B[0m\u001B[3m                         \u001B[0m\u001B[3m \u001B[0m                  \n",
       " \u001B[2m \u001B[0m\u001B[1;2;36m40\u001B[0m\u001B[2m \u001B[0m\u001B[2m \u001B[0m \u001B[33m \u001B[0m\u001B[33mFinancialInstrumentsAdditionalInformationDetails            \u001B[0m\u001B[33m \u001B[0m \u001B[3m \u001B[0m\u001B[3m                         \u001B[0m\u001B[3m \u001B[0m                  \n",
       " \u001B[2m \u001B[0m\u001B[1;2;36m39\u001B[0m\u001B[2m \u001B[0m\u001B[2m \u001B[0m \u001B[33m \u001B[0m\u001B[33mFinancialInstrumentsCashCashEquivalentsandMarketableSecurit…\u001B[0m\u001B[33m \u001B[0m \u001B[3m \u001B[0m\u001B[3m                         \u001B[0m\u001B[3m \u001B[0m                  \n",
       " \u001B[2m \u001B[0m\u001B[1;2;36m42\u001B[0m\u001B[2m \u001B[0m\u001B[2m \u001B[0m \u001B[33m \u001B[0m\u001B[33mFinancialInstrumentsDerivativeInstrumentsDesignatedasFairVa…\u001B[0m\u001B[33m \u001B[0m \u001B[3m \u001B[0m\u001B[3m                         \u001B[0m\u001B[3m \u001B[0m                  \n",
       " \u001B[2m \u001B[0m\u001B[1;2;36m41\u001B[0m\u001B[2m \u001B[0m\u001B[2m \u001B[0m \u001B[33m \u001B[0m\u001B[33mFinancialInstrumentsNotionalAmountsAssociatedwithDerivative…\u001B[0m\u001B[33m \u001B[0m \u001B[3m \u001B[0m\u001B[3m                         \u001B[0m\u001B[3m \u001B[0m                  \n",
       " \u001B[2m \u001B[0m\u001B[1;2;36m24\u001B[0m\u001B[2m \u001B[0m\u001B[2m \u001B[0m \u001B[33m \u001B[0m\u001B[33mFinancialInstrumentsTables                                  \u001B[0m\u001B[33m \u001B[0m \u001B[3m \u001B[0m\u001B[3m                         \u001B[0m\u001B[3m \u001B[0m                  \n",
       " \u001B[2m \u001B[0m\u001B[1;2;36m14\u001B[0m\u001B[2m \u001B[0m\u001B[2m \u001B[0m \u001B[33m \u001B[0m\u001B[33mIncomeTaxes                                                 \u001B[0m\u001B[33m \u001B[0m \u001B[3m \u001B[0m\u001B[3m                         \u001B[0m\u001B[3m \u001B[0m                  \n",
       " \u001B[2m \u001B[0m\u001B[1;2;36m48\u001B[0m\u001B[2m \u001B[0m\u001B[2m \u001B[0m \u001B[33m \u001B[0m\u001B[33mIncomeTaxesAdditionalInformationDetails                     \u001B[0m\u001B[33m \u001B[0m \u001B[3m \u001B[0m\u001B[3m                         \u001B[0m\u001B[3m \u001B[0m                  \n",
       " \u001B[2m \u001B[0m\u001B[1;2;36m52\u001B[0m\u001B[2m \u001B[0m\u001B[2m \u001B[0m \u001B[33m \u001B[0m\u001B[33mIncomeTaxesAggregateChangesinGrossUnrecognizedTaxBenefitsDe…\u001B[0m\u001B[33m \u001B[0m \u001B[3m \u001B[0m\u001B[3m                         \u001B[0m\u001B[3m \u001B[0m                  \n",
       " \u001B[2m \u001B[0m\u001B[1;2;36m49\u001B[0m\u001B[2m \u001B[0m\u001B[2m \u001B[0m \u001B[33m \u001B[0m\u001B[33mIncomeTaxesProvisionforIncomeTaxesDetails                   \u001B[0m\u001B[33m \u001B[0m \u001B[3m \u001B[0m\u001B[3m                         \u001B[0m\u001B[3m \u001B[0m                  \n",
       " \u001B[2m \u001B[0m\u001B[1;2;36m50\u001B[0m\u001B[2m \u001B[0m\u001B[2m \u001B[0m \u001B[33m \u001B[0m\u001B[33mIncomeTaxesReconciliationofProvisionforIncomeTaxestoAmountC…\u001B[0m\u001B[33m \u001B[0m \u001B[3m \u001B[0m\u001B[3m                         \u001B[0m\u001B[3m \u001B[0m                  \n",
       " \u001B[2m \u001B[0m\u001B[1;2;36m51\u001B[0m\u001B[2m \u001B[0m\u001B[2m \u001B[0m \u001B[33m \u001B[0m\u001B[33mIncomeTaxesSignificantComponentsofDeferredTaxAssetsandLiabi…\u001B[0m\u001B[33m \u001B[0m \u001B[3m \u001B[0m\u001B[3m                         \u001B[0m\u001B[3m \u001B[0m                  \n",
       " \u001B[2m \u001B[0m\u001B[1;2;36m27\u001B[0m\u001B[2m \u001B[0m\u001B[2m \u001B[0m \u001B[33m \u001B[0m\u001B[33mIncomeTaxesTables                                           \u001B[0m\u001B[33m \u001B[0m \u001B[3m \u001B[0m\u001B[3m                         \u001B[0m\u001B[3m \u001B[0m                  \n",
       " \u001B[2m \u001B[0m\u001B[1;2;36m73\u001B[0m\u001B[2m \u001B[0m\u001B[2m \u001B[0m \u001B[33m \u001B[0m\u001B[33mInsiderTradingArrangements                                  \u001B[0m\u001B[33m \u001B[0m \u001B[3m \u001B[0m\u001B[3m                         \u001B[0m\u001B[3m \u001B[0m                  \n",
       " \u001B[2m \u001B[0m\u001B[1;2;36m74\u001B[0m\u001B[2m \u001B[0m\u001B[2m \u001B[0m \u001B[33m \u001B[0m\u001B[33mInsiderTradingPoliciesProc                                  \u001B[0m\u001B[33m \u001B[0m \u001B[3m \u001B[0m\u001B[3m                         \u001B[0m\u001B[3m \u001B[0m                  \n",
       " \u001B[2m \u001B[0m\u001B[1;2;36m15\u001B[0m\u001B[2m \u001B[0m\u001B[2m \u001B[0m \u001B[33m \u001B[0m\u001B[33mLeases                                                      \u001B[0m\u001B[33m \u001B[0m \u001B[3m \u001B[0m\u001B[3m                         \u001B[0m\u001B[3m \u001B[0m                  \n",
       " \u001B[2m \u001B[0m\u001B[1;2;36m53\u001B[0m\u001B[2m \u001B[0m\u001B[2m \u001B[0m \u001B[33m \u001B[0m\u001B[33mLeasesAdditionalInformationDetails                          \u001B[0m\u001B[33m \u001B[0m \u001B[3m \u001B[0m\u001B[3m                         \u001B[0m\u001B[3m \u001B[0m                  \n",
       " \u001B[2m \u001B[0m\u001B[1;2;36m55\u001B[0m\u001B[2m \u001B[0m\u001B[2m \u001B[0m \u001B[33m \u001B[0m\u001B[33mLeasesLeaseLiabilityMaturitiesDetails                       \u001B[0m\u001B[33m \u001B[0m \u001B[3m \u001B[0m\u001B[3m                         \u001B[0m\u001B[3m \u001B[0m                  \n",
       " \u001B[2m \u001B[0m\u001B[1;2;36m54\u001B[0m\u001B[2m \u001B[0m\u001B[2m \u001B[0m \u001B[33m \u001B[0m\u001B[33mLeasesROUAssetsandLeaseLiabilitiesDetails                   \u001B[0m\u001B[33m \u001B[0m \u001B[3m \u001B[0m\u001B[3m                         \u001B[0m\u001B[3m \u001B[0m                  \n",
       " \u001B[2m \u001B[0m\u001B[1;2;36m28\u001B[0m\u001B[2m \u001B[0m\u001B[2m \u001B[0m \u001B[33m \u001B[0m\u001B[33mLeasesTables                                                \u001B[0m\u001B[33m \u001B[0m \u001B[3m \u001B[0m\u001B[3m                         \u001B[0m\u001B[3m \u001B[0m                  \n",
       " \u001B[2m \u001B[0m\u001B[1;2;36m12\u001B[0m\u001B[2m \u001B[0m\u001B[2m \u001B[0m \u001B[33m \u001B[0m\u001B[33mPropertyPlantandEquipment                                   \u001B[0m\u001B[33m \u001B[0m \u001B[3m \u001B[0m\u001B[3m                         \u001B[0m\u001B[3m \u001B[0m                  \n",
       " \u001B[2m \u001B[0m\u001B[1;2;36m44\u001B[0m\u001B[2m \u001B[0m\u001B[2m \u001B[0m \u001B[33m \u001B[0m\u001B[33mPropertyPlantandEquipmentAdditionalInformationDetails       \u001B[0m\u001B[33m \u001B[0m \u001B[3m \u001B[0m\u001B[3m                         \u001B[0m\u001B[3m \u001B[0m                  \n",
       " \u001B[2m \u001B[0m\u001B[1;2;36m43\u001B[0m\u001B[2m \u001B[0m\u001B[2m \u001B[0m \u001B[33m \u001B[0m\u001B[33mPropertyPlantandEquipmentGrossPropertyPlantandEquipmentbyMa…\u001B[0m\u001B[33m \u001B[0m \u001B[3m \u001B[0m\u001B[3m                         \u001B[0m\u001B[3m \u001B[0m                  \n",
       " \u001B[2m \u001B[0m\u001B[1;2;36m25\u001B[0m\u001B[2m \u001B[0m\u001B[2m \u001B[0m \u001B[33m \u001B[0m\u001B[33mPropertyPlantandEquipmentTables                             \u001B[0m\u001B[33m \u001B[0m \u001B[3m \u001B[0m\u001B[3m                         \u001B[0m\u001B[3m \u001B[0m                  \n",
       " \u001B[2m \u001B[0m\u001B[1;2;36m9\u001B[0m\u001B[2m  \u001B[0m\u001B[2m \u001B[0m \u001B[33m \u001B[0m\u001B[33mRevenue                                                     \u001B[0m\u001B[33m \u001B[0m \u001B[3m \u001B[0m\u001B[3m                         \u001B[0m\u001B[3m \u001B[0m                  \n",
       " \u001B[2m \u001B[0m\u001B[1;2;36m34\u001B[0m\u001B[2m \u001B[0m\u001B[2m \u001B[0m \u001B[33m \u001B[0m\u001B[33mRevenueAdditionalInformationDetails                         \u001B[0m\u001B[33m \u001B[0m \u001B[3m \u001B[0m\u001B[3m                         \u001B[0m\u001B[3m \u001B[0m                  \n",
       " \u001B[2m \u001B[0m\u001B[1;2;36m36\u001B[0m\u001B[2m \u001B[0m\u001B[2m \u001B[0m \u001B[33m \u001B[0m\u001B[33mRevenueDeferredRevenueExpectedTimingofRealizationDetails    \u001B[0m\u001B[33m \u001B[0m \u001B[3m \u001B[0m\u001B[3m                         \u001B[0m\u001B[3m \u001B[0m                  \n",
       " \u001B[2m \u001B[0m\u001B[1;2;36m35\u001B[0m\u001B[2m \u001B[0m\u001B[2m \u001B[0m \u001B[33m \u001B[0m\u001B[33mRevenueNetSalesDisaggregatedbySignificantProductsandService…\u001B[0m\u001B[33m \u001B[0m \u001B[3m \u001B[0m\u001B[3m                         \u001B[0m\u001B[3m \u001B[0m                  \n",
       " \u001B[2m \u001B[0m\u001B[1;2;36m22\u001B[0m\u001B[2m \u001B[0m\u001B[2m \u001B[0m \u001B[33m \u001B[0m\u001B[33mRevenueTables                                               \u001B[0m\u001B[33m \u001B[0m \u001B[3m \u001B[0m\u001B[3m                         \u001B[0m\u001B[3m \u001B[0m                  \n",
       " \u001B[2m \u001B[0m\u001B[1;2;36m18\u001B[0m\u001B[2m \u001B[0m\u001B[2m \u001B[0m \u001B[33m \u001B[0m\u001B[33mShareBasedCompensation                                      \u001B[0m\u001B[33m \u001B[0m \u001B[3m \u001B[0m\u001B[3m                         \u001B[0m\u001B[3m \u001B[0m                  \n",
       " \u001B[2m \u001B[0m\u001B[1;2;36m62\u001B[0m\u001B[2m \u001B[0m\u001B[2m \u001B[0m \u001B[33m \u001B[0m\u001B[33mShareBasedCompensationAdditionalInformationDetails          \u001B[0m\u001B[33m \u001B[0m \u001B[3m \u001B[0m\u001B[3m                         \u001B[0m\u001B[3m \u001B[0m                  \n",
       " \u001B[2m \u001B[0m\u001B[1;2;36m63\u001B[0m\u001B[2m \u001B[0m\u001B[2m \u001B[0m \u001B[33m \u001B[0m\u001B[33mShareBasedCompensationRestrictedStockUnitActivityandRelated…\u001B[0m\u001B[33m \u001B[0m \u001B[3m \u001B[0m\u001B[3m                         \u001B[0m\u001B[3m \u001B[0m                  \n",
       " \u001B[2m \u001B[0m\u001B[1;2;36m64\u001B[0m\u001B[2m \u001B[0m\u001B[2m \u001B[0m \u001B[33m \u001B[0m\u001B[33mShareBasedCompensationSummaryofShareBasedCompensationExpens…\u001B[0m\u001B[33m \u001B[0m \u001B[3m \u001B[0m\u001B[3m                         \u001B[0m\u001B[3m \u001B[0m                  \n",
       " \u001B[2m \u001B[0m\u001B[1;2;36m31\u001B[0m\u001B[2m \u001B[0m\u001B[2m \u001B[0m \u001B[33m \u001B[0m\u001B[33mShareBasedCompensationTables                                \u001B[0m\u001B[33m \u001B[0m \u001B[3m \u001B[0m\u001B[3m                         \u001B[0m\u001B[3m \u001B[0m                  \n",
       " \u001B[2m \u001B[0m\u001B[1;2;36m17\u001B[0m\u001B[2m \u001B[0m\u001B[2m \u001B[0m \u001B[33m \u001B[0m\u001B[33mShareholdersEquity                                          \u001B[0m\u001B[33m \u001B[0m \u001B[3m \u001B[0m\u001B[3m                         \u001B[0m\u001B[3m \u001B[0m                  \n",
       " \u001B[2m \u001B[0m\u001B[1;2;36m60\u001B[0m\u001B[2m \u001B[0m\u001B[2m \u001B[0m \u001B[33m \u001B[0m\u001B[33mShareholdersEquityAdditionalInformationDetails              \u001B[0m\u001B[33m \u001B[0m \u001B[3m \u001B[0m\u001B[3m                         \u001B[0m\u001B[3m \u001B[0m                  \n",
       " \u001B[2m \u001B[0m\u001B[1;2;36m30\u001B[0m\u001B[2m \u001B[0m\u001B[2m \u001B[0m \u001B[33m \u001B[0m\u001B[33mShareholdersEquityTables                                    \u001B[0m\u001B[33m \u001B[0m \u001B[3m \u001B[0m\u001B[3m                         \u001B[0m\u001B[3m \u001B[0m                  \n",
       " \u001B[2m \u001B[0m\u001B[1;2;36m5\u001B[0m\u001B[2m  \u001B[0m\u001B[2m \u001B[0m \u001B[33m \u001B[0m\u001B[33mCONSOLIDATEDBALANCESHEETSParenthetical                      \u001B[0m\u001B[33m \u001B[0m \u001B[3m \u001B[0m\u001B[3mBalanceSheetParenthetical\u001B[0m\u001B[3m \u001B[0m  ✓               \n",
       "                                                                                                                   "
      ]
     },
     "execution_count": 6,
     "metadata": {},
     "output_type": "execute_result"
    }
   ],
   "execution_count": 6
  },
  {
   "metadata": {},
   "cell_type": "markdown",
   "source": "## Get statement by index",
   "id": "b272af03c80c0c54"
  },
  {
   "metadata": {
    "ExecuteTime": {
     "end_time": "2025-04-02T00:13:33.645319Z",
     "start_time": "2025-04-02T00:13:33.621340Z"
    }
   },
   "cell_type": "code",
   "source": "statements[4]",
   "id": "f6f418f1d02946a9",
   "outputs": [
    {
     "data": {
      "text/plain": [],
      "text/html": [
       "<pre style=\"white-space:pre;overflow-x:auto;line-height:normal;font-family:Menlo,'DejaVu Sans Mono',consolas,'Courier New',monospace\"></pre>\n"
      ]
     },
     "metadata": {},
     "output_type": "display_data"
    },
    {
     "data": {
      "text/plain": [
       "\u001B[3m                    Consolidated Balance Sheets (Standardized)                     \u001B[0m\n",
       "\u001B[3m            \u001B[0m\u001B[1;3mFiscal Year Ended\u001B[0m\u001B[3m \u001B[0m\u001B[3m(In millions, except shares in thousands)\u001B[0m\u001B[3m            \u001B[0m\n",
       "                                                                                   \n",
       " \u001B[1m \u001B[0m\u001B[1m                                                 \u001B[0m\u001B[1m \u001B[0m \u001B[1m \u001B[0m\u001B[1mSep 30, 2023\u001B[0m\u001B[1m \u001B[0m \u001B[1m \u001B[0m\u001B[1mSep 28, 2024\u001B[0m\u001B[1m \u001B[0m \n",
       " ───────────────────────────────────────────────────────────────────────────────── \n",
       "    ASSETS:                                                                        \n",
       "      Current assets:                                                              \n",
       "        Cash and Cash Equivalents                          $29,965        $29,943  \n",
       "        Marketable Securities                              $31,590        $35,228  \n",
       "        Accounts Receivable                                $29,508        $33,410  \n",
       "        Vendor non-trade receivables                       $31,477        $32,833  \n",
       "        Inventory                                           $6,331         $7,286  \n",
       "        Other Assets                                       $14,695        $14,287  \n",
       "        Total Current Assets                              $143,566       $152,987  \n",
       "      Non-current assets:                                                          \n",
       "        Marketable securities                             $100,544        $91,479  \n",
       "        Property, Plant and Equipment                      $43,715        $45,680  \n",
       "        Other Assets                                       $64,758        $74,834  \n",
       "        Total Current Assets                              $209,017       $211,993  \n",
       "      Total Assets                                        $352,583       $364,980  \n",
       "    LIABILITIES AND SHAREHOLDERS’ EQUITY:                                          \n",
       "      Current liabilities:                                                         \n",
       "        Accounts Payable                                   $62,611        $68,960  \n",
       "        Other Liabilities                                  $58,829        $78,304  \n",
       "        Deferred Revenue                                    $8,061         $8,249  \n",
       "        Commercial paper                                    $5,985         $9,967  \n",
       "        Short-Term Debt                                     $9,822        $10,912  \n",
       "        Total Current Liabilities                         $145,308       $176,392  \n",
       "      Non-current liabilities:                                                     \n",
       "        Long-Term Debt                                     $95,281        $85,750  \n",
       "        Other Liabilities                                  $49,848        $45,888  \n",
       "        Total Current Liabilities                         $145,129       $131,638  \n",
       "      Total Liabilities                                   $290,437       $308,030  \n",
       "      Commitments and contingencies                                                \n",
       "      Common Stock Shares Outstanding                      $15,550        $15,117  \n",
       "      Common Stock Shares Issued                           $15,550        $15,117  \n",
       "      Shareholders’ equity:                                                        \n",
       "        Common Stock                                       $73,812        $83,276  \n",
       "        Retained Earnings                                   $(214)      $(19,154)  \n",
       "        Accumulated Other Comprehensive Income/Loss      $(11,452)       $(7,172)  \n",
       "        Total Stockholders' Equity                         $62,146        $56,950  \n",
       "      Total Liabilities and Stockholders' Equity          $352,583       $364,980  \n",
       "                                                                                   "
      ]
     },
     "execution_count": 9,
     "metadata": {},
     "output_type": "execute_result"
    }
   ],
   "execution_count": 9
  },
  {
   "metadata": {},
   "cell_type": "markdown",
   "source": "## Get statement by name",
   "id": "3b6557f74952d640"
  },
  {
   "metadata": {
    "ExecuteTime": {
     "end_time": "2025-03-27T22:17:59.144595Z",
     "start_time": "2025-03-27T22:17:59.136554Z"
    }
   },
   "cell_type": "code",
   "source": "statements['AuditorInformation']",
   "id": "b73b016ed835cd55",
   "outputs": [
    {
     "data": {
      "text/plain": [],
      "text/html": [
       "<pre style=\"white-space:pre;overflow-x:auto;line-height:normal;font-family:Menlo,'DejaVu Sans Mono',consolas,'Courier New',monospace\"></pre>\n"
      ]
     },
     "metadata": {},
     "output_type": "display_data"
    },
    {
     "data": {
      "text/plain": [
       "\u001B[3m      AuditorInformation (Standardized)      \u001B[0m\n",
       "\u001B[3m             \u001B[0m\u001B[1;3mThree Months Ended\u001B[0m\u001B[3m              \u001B[0m\n",
       "                                             \n",
       " \u001B[1m \u001B[0m\u001B[1m                  \u001B[0m\u001B[1m \u001B[0m \u001B[1m \u001B[0m\u001B[1mAnnual: Sep 28, 2024\u001B[0m\u001B[1m \u001B[0m \n",
       " ─────────────────────────────────────────── \n",
       "    Auditor Name          Ernst & Young LLP  \n",
       "    Auditor Location   San Jose, California  \n",
       "    Auditor Firm ID                       0  \n",
       "                                             "
      ]
     },
     "execution_count": 8,
     "metadata": {},
     "output_type": "execute_result"
    }
   ],
   "execution_count": 8
  },
  {
   "metadata": {},
   "cell_type": "markdown",
   "source": [
    "# Financials Statements\n",
    "\n",
    "<hr/>"
   ],
   "id": "c262de574d004318"
  },
  {
   "metadata": {},
   "cell_type": "markdown",
   "source": "## Balance Sheet",
   "id": "20d2f8fbd81402a9"
  },
  {
   "metadata": {
    "ExecuteTime": {
     "end_time": "2025-03-27T22:18:01.274064Z",
     "start_time": "2025-03-27T22:18:01.251946Z"
    }
   },
   "cell_type": "code",
   "source": [
    "balance_sheet = xbrl.statements.balance_sheet()\n",
    "balance_sheet"
   ],
   "id": "9268eccdc9acd070",
   "outputs": [
    {
     "data": {
      "text/plain": [],
      "text/html": [
       "<pre style=\"white-space:pre;overflow-x:auto;line-height:normal;font-family:Menlo,'DejaVu Sans Mono',consolas,'Courier New',monospace\"></pre>\n"
      ]
     },
     "metadata": {},
     "output_type": "display_data"
    },
    {
     "data": {
      "text/plain": [
       "\u001B[3m                    Consolidated Balance Sheets (Standardized)                     \u001B[0m\n",
       "\u001B[3m            \u001B[0m\u001B[1;3mFiscal Year Ended\u001B[0m\u001B[3m \u001B[0m\u001B[3m(In millions, except shares in thousands)\u001B[0m\u001B[3m            \u001B[0m\n",
       "                                                                                   \n",
       " \u001B[1m \u001B[0m\u001B[1m                                                 \u001B[0m\u001B[1m \u001B[0m \u001B[1m \u001B[0m\u001B[1mSep 30, 2023\u001B[0m\u001B[1m \u001B[0m \u001B[1m \u001B[0m\u001B[1mSep 28, 2024\u001B[0m\u001B[1m \u001B[0m \n",
       " ───────────────────────────────────────────────────────────────────────────────── \n",
       "    ASSETS:                                                                        \n",
       "      Current assets:                                                              \n",
       "        Cash and Cash Equivalents                          $29,965        $29,943  \n",
       "        Marketable Securities                              $31,590        $35,228  \n",
       "        Accounts Receivable                                $29,508        $33,410  \n",
       "        Vendor non-trade receivables                       $31,477        $32,833  \n",
       "        Inventory                                           $6,331         $7,286  \n",
       "        Other Assets                                       $14,695        $14,287  \n",
       "        Total Current Assets                              $143,566       $152,987  \n",
       "      Non-current assets:                                                          \n",
       "        Marketable securities                             $100,544        $91,479  \n",
       "        Property, Plant and Equipment                      $43,715        $45,680  \n",
       "        Other Assets                                       $64,758        $74,834  \n",
       "        Total Current Assets                              $209,017       $211,993  \n",
       "      Total Assets                                        $352,583       $364,980  \n",
       "    LIABILITIES AND SHAREHOLDERS’ EQUITY:                                          \n",
       "      Current liabilities:                                                         \n",
       "        Accounts Payable                                   $62,611        $68,960  \n",
       "        Other Liabilities                                  $58,829        $78,304  \n",
       "        Deferred Revenue                                    $8,061         $8,249  \n",
       "        Commercial paper                                    $5,985         $9,967  \n",
       "        Short-Term Debt                                     $9,822        $10,912  \n",
       "        Total Current Liabilities                         $145,308       $176,392  \n",
       "      Non-current liabilities:                                                     \n",
       "        Long-Term Debt                                     $95,281        $85,750  \n",
       "        Other Liabilities                                  $49,848        $45,888  \n",
       "        Total Current Liabilities                         $145,129       $131,638  \n",
       "      Total Liabilities                                   $290,437       $308,030  \n",
       "      Commitments and contingencies                                                \n",
       "      Common Stock Shares Outstanding                   15,550,061     15,116,786  \n",
       "      Common Stock Shares Issued                        15,550,061     15,116,786  \n",
       "      Shareholders’ equity:                                                        \n",
       "        Common Stock                                       $73,812        $83,276  \n",
       "        Retained Earnings                                   $(214)      $(19,154)  \n",
       "        Accumulated Other Comprehensive Income/Loss      $(11,452)       $(7,172)  \n",
       "        Total Stockholders' Equity                         $62,146        $56,950  \n",
       "      Total Liabilities and Stockholders' Equity          $352,583       $364,980  \n",
       "                                                                                   "
      ]
     },
     "execution_count": 9,
     "metadata": {},
     "output_type": "execute_result"
    }
   ],
   "execution_count": 9
  },
  {
   "metadata": {},
   "cell_type": "markdown",
   "source": "### Income Statement",
   "id": "f67315d7ca758a17"
  },
  {
   "metadata": {
    "ExecuteTime": {
     "end_time": "2025-03-27T22:18:04.632354Z",
     "start_time": "2025-03-27T22:18:04.613963Z"
    }
   },
   "cell_type": "code",
   "source": [
    "income_statement = xbrl.statements.income_statement()\n",
    "income_statement"
   ],
   "id": "7db0c37935f4f134",
   "outputs": [
    {
     "data": {
      "text/plain": [],
      "text/html": [
       "<pre style=\"white-space:pre;overflow-x:auto;line-height:normal;font-family:Menlo,'DejaVu Sans Mono',consolas,'Courier New',monospace\"></pre>\n"
      ]
     },
     "metadata": {},
     "output_type": "display_data"
    },
    {
     "data": {
      "text/plain": [
       "\u001B[3m                                  Consolidated Statement of Income (Standardized)                                  \u001B[0m\n",
       "\u001B[3m                               \u001B[0m\u001B[1;3mYear Ended\u001B[0m\u001B[3m \u001B[0m\u001B[3m(In millions, except shares in thousands)\u001B[0m\u001B[3m                                \u001B[0m\n",
       "                                                                                                                   \n",
       " \u001B[1m \u001B[0m\u001B[1m                                          \u001B[0m\u001B[1m \u001B[0m \u001B[1m \u001B[0m\u001B[1mAnnual: Sep 28, 2024\u001B[0m\u001B[1m \u001B[0m \u001B[1m \u001B[0m\u001B[1mAnnual: Sep 30, 2023\u001B[0m\u001B[1m \u001B[0m \u001B[1m \u001B[0m\u001B[1mAnnual: Sep 24, 2022\u001B[0m\u001B[1m \u001B[0m \n",
       " ───────────────────────────────────────────────────────────────────────────────────────────────────────────────── \n",
       "        Revenue                                            $391,035               $383,285               $394,328  \n",
       "        Cost of Revenue                                  $(210,352)             $(214,137)             $(223,546)  \n",
       "        Gross Profit                                       $180,683               $169,148               $170,782  \n",
       "        Operating Expenses                                                                                         \n",
       "          Research and Development Expense                  $31,370                $29,915                $26,251  \n",
       "          Selling, General and                              $26,097                $24,932                $25,094  \n",
       "  Administrative Expense                                                                                           \n",
       "          Operating Expenses                              $(57,467)              $(54,847)              $(51,345)  \n",
       "        Operating Income                                   $123,216               $114,301               $119,437  \n",
       "        Nonoperating Income/Expense                            $269                 $(565)                 $(334)  \n",
       "        Income Before Tax                                  $123,485               $113,736               $119,103  \n",
       "        Income Tax Expense                                  $29,749                $16,741                $19,300  \n",
       "        Net Income                                          $93,736                $96,995                $99,803  \n",
       "        Earnings per share:                                                                                        \n",
       "          Earnings Per Share                                   0.00                   0.00                   0.00  \n",
       "          Earnings Per Share (Diluted)                         0.00                   0.00                   0.00  \n",
       "        Shares used in computing earnings                                                                          \n",
       "  per share:                                                                                                       \n",
       "          Shares Outstanding                             15,343,783             15,744,231             16,215,963  \n",
       "          Shares Outstanding (Diluted)                   15,408,095             15,812,547             16,325,819  \n",
       "                                                                                                                   "
      ]
     },
     "execution_count": 10,
     "metadata": {},
     "output_type": "execute_result"
    }
   ],
   "execution_count": 10
  },
  {
   "metadata": {},
   "cell_type": "markdown",
   "source": [
    "# Get Data as DataFrames\n",
    "<hr/>"
   ],
   "id": "4e818cde3a1c2fbf"
  },
  {
   "metadata": {
    "ExecuteTime": {
     "end_time": "2025-03-27T22:18:07.503122Z",
     "start_time": "2025-03-27T22:18:07.445363Z"
    }
   },
   "cell_type": "code",
   "source": "income_statement.to_dataframe()",
   "id": "25579a682bd309f2",
   "outputs": [
    {
     "data": {
      "text/plain": [
       "                                              concept  \\\n",
       "0   us-gaap_RevenueFromContractWithCustomerExcludi...   \n",
       "1                  us-gaap_CostOfGoodsAndServicesSold   \n",
       "2                                 us-gaap_GrossProfit   \n",
       "3                   us-gaap_OperatingExpensesAbstract   \n",
       "4               us-gaap_ResearchAndDevelopmentExpense   \n",
       "5      us-gaap_SellingGeneralAndAdministrativeExpense   \n",
       "6                           us-gaap_OperatingExpenses   \n",
       "7                         us-gaap_OperatingIncomeLoss   \n",
       "8                   us-gaap_NonoperatingIncomeExpense   \n",
       "9   us-gaap_IncomeLossFromContinuingOperationsBefo...   \n",
       "10                    us-gaap_IncomeTaxExpenseBenefit   \n",
       "11                              us-gaap_NetIncomeLoss   \n",
       "12                   us-gaap_EarningsPerShareAbstract   \n",
       "13                      us-gaap_EarningsPerShareBasic   \n",
       "14                    us-gaap_EarningsPerShareDiluted   \n",
       "15  us-gaap_WeightedAverageNumberOfSharesOutstandi...   \n",
       "16  us-gaap_WeightedAverageNumberOfSharesOutstandi...   \n",
       "17  us-gaap_WeightedAverageNumberOfDilutedSharesOu...   \n",
       "\n",
       "                                           label  \\\n",
       "0                                        Revenue   \n",
       "1                                Cost of Revenue   \n",
       "2                                   Gross Profit   \n",
       "3                             Operating Expenses   \n",
       "4               Research and Development Expense   \n",
       "5    Selling, General and Administrative Expense   \n",
       "6                             Operating Expenses   \n",
       "7                               Operating Income   \n",
       "8                    Nonoperating Income/Expense   \n",
       "9                              Income Before Tax   \n",
       "10                            Income Tax Expense   \n",
       "11                                    Net Income   \n",
       "12                           Earnings per share:   \n",
       "13                            Earnings Per Share   \n",
       "14                  Earnings Per Share (Diluted)   \n",
       "15  Shares used in computing earnings per share:   \n",
       "16                            Shares Outstanding   \n",
       "17                  Shares Outstanding (Diluted)   \n",
       "\n",
       "                                           2024-09-28  \\\n",
       "0   ((($)), ((3)), ((9)), ((1)), ((,)), ((0)), ((3...   \n",
       "1   ((($)), ((()), ((2)), ((1)), ((0)), ((,)), ((3...   \n",
       "2   ((($)), ((1)), ((8)), ((0)), ((,)), ((6)), ((8...   \n",
       "3                                                  ()   \n",
       "4   ((($)), ((3)), ((1)), ((,)), ((3)), ((7)), ((0)))   \n",
       "5   ((($)), ((2)), ((6)), ((,)), ((0)), ((9)), ((7)))   \n",
       "6   ((($)), ((()), ((5)), ((7)), ((,)), ((4)), ((6...   \n",
       "7   ((($)), ((1)), ((2)), ((3)), ((,)), ((2)), ((1...   \n",
       "8                        ((($)), ((2)), ((6)), ((9)))   \n",
       "9   ((($)), ((1)), ((2)), ((3)), ((,)), ((4)), ((8...   \n",
       "10  ((($)), ((2)), ((9)), ((,)), ((7)), ((4)), ((9)))   \n",
       "11  ((($)), ((9)), ((3)), ((,)), ((7)), ((3)), ((6)))   \n",
       "12                                                 ()   \n",
       "13                       (((0)), ((.)), ((0)), ((0)))   \n",
       "14                       (((0)), ((.)), ((0)), ((0)))   \n",
       "15                                                 ()   \n",
       "16  (((1)), ((5)), ((,)), ((3)), ((4)), ((3)), ((,...   \n",
       "17  (((1)), ((5)), ((,)), ((4)), ((0)), ((8)), ((,...   \n",
       "\n",
       "                                           2023-09-30  \\\n",
       "0   ((($)), ((3)), ((8)), ((3)), ((,)), ((2)), ((8...   \n",
       "1   ((($)), ((()), ((2)), ((1)), ((4)), ((,)), ((1...   \n",
       "2   ((($)), ((1)), ((6)), ((9)), ((,)), ((1)), ((4...   \n",
       "3                                                  ()   \n",
       "4   ((($)), ((2)), ((9)), ((,)), ((9)), ((1)), ((5)))   \n",
       "5   ((($)), ((2)), ((4)), ((,)), ((9)), ((3)), ((2)))   \n",
       "6   ((($)), ((()), ((5)), ((4)), ((,)), ((8)), ((4...   \n",
       "7   ((($)), ((1)), ((1)), ((4)), ((,)), ((3)), ((0...   \n",
       "8          ((($)), ((()), ((5)), ((6)), ((5)), (())))   \n",
       "9   ((($)), ((1)), ((1)), ((3)), ((,)), ((7)), ((3...   \n",
       "10  ((($)), ((1)), ((6)), ((,)), ((7)), ((4)), ((1)))   \n",
       "11  ((($)), ((9)), ((6)), ((,)), ((9)), ((9)), ((5)))   \n",
       "12                                                 ()   \n",
       "13                       (((0)), ((.)), ((0)), ((0)))   \n",
       "14                       (((0)), ((.)), ((0)), ((0)))   \n",
       "15                                                 ()   \n",
       "16  (((1)), ((5)), ((,)), ((7)), ((4)), ((4)), ((,...   \n",
       "17  (((1)), ((5)), ((,)), ((8)), ((1)), ((2)), ((,...   \n",
       "\n",
       "                                           2022-09-24  level  abstract  \\\n",
       "0   ((($)), ((3)), ((9)), ((4)), ((,)), ((3)), ((2...      3     False   \n",
       "1   ((($)), ((()), ((2)), ((2)), ((3)), ((,)), ((5...      3     False   \n",
       "2   ((($)), ((1)), ((7)), ((0)), ((,)), ((7)), ((8...      3     False   \n",
       "3                                                  ()      3     False   \n",
       "4   ((($)), ((2)), ((6)), ((,)), ((2)), ((5)), ((1)))      4     False   \n",
       "5   ((($)), ((2)), ((5)), ((,)), ((0)), ((9)), ((4)))      4     False   \n",
       "6   ((($)), ((()), ((5)), ((1)), ((,)), ((3)), ((4...      4     False   \n",
       "7   ((($)), ((1)), ((1)), ((9)), ((,)), ((4)), ((3...      3     False   \n",
       "8          ((($)), ((()), ((3)), ((3)), ((4)), (())))      3     False   \n",
       "9   ((($)), ((1)), ((1)), ((9)), ((,)), ((1)), ((0...      3     False   \n",
       "10  ((($)), ((1)), ((9)), ((,)), ((3)), ((0)), ((0)))      3     False   \n",
       "11  ((($)), ((9)), ((9)), ((,)), ((8)), ((0)), ((3)))      3     False   \n",
       "12                                                 ()      3     False   \n",
       "13                       (((0)), ((.)), ((0)), ((0)))      4     False   \n",
       "14                       (((0)), ((.)), ((0)), ((0)))      4     False   \n",
       "15                                                 ()      3     False   \n",
       "16  (((1)), ((6)), ((,)), ((2)), ((1)), ((5)), ((,...      4     False   \n",
       "17  (((1)), ((6)), ((,)), ((3)), ((2)), ((5)), ((,...      4     False   \n",
       "\n",
       "    dimension  \n",
       "0       False  \n",
       "1       False  \n",
       "2       False  \n",
       "3       False  \n",
       "4       False  \n",
       "5       False  \n",
       "6       False  \n",
       "7       False  \n",
       "8       False  \n",
       "9       False  \n",
       "10      False  \n",
       "11      False  \n",
       "12      False  \n",
       "13      False  \n",
       "14      False  \n",
       "15      False  \n",
       "16      False  \n",
       "17      False  "
      ],
      "text/html": [
       "<div>\n",
       "<style scoped>\n",
       "    .dataframe tbody tr th:only-of-type {\n",
       "        vertical-align: middle;\n",
       "    }\n",
       "\n",
       "    .dataframe tbody tr th {\n",
       "        vertical-align: top;\n",
       "    }\n",
       "\n",
       "    .dataframe thead th {\n",
       "        text-align: right;\n",
       "    }\n",
       "</style>\n",
       "<table border=\"1\" class=\"dataframe\">\n",
       "  <thead>\n",
       "    <tr style=\"text-align: right;\">\n",
       "      <th></th>\n",
       "      <th>concept</th>\n",
       "      <th>label</th>\n",
       "      <th>2024-09-28</th>\n",
       "      <th>2023-09-30</th>\n",
       "      <th>2022-09-24</th>\n",
       "      <th>level</th>\n",
       "      <th>abstract</th>\n",
       "      <th>dimension</th>\n",
       "    </tr>\n",
       "  </thead>\n",
       "  <tbody>\n",
       "    <tr>\n",
       "      <th>0</th>\n",
       "      <td>us-gaap_RevenueFromContractWithCustomerExcludi...</td>\n",
       "      <td>Revenue</td>\n",
       "      <td>((($)), ((3)), ((9)), ((1)), ((,)), ((0)), ((3...</td>\n",
       "      <td>((($)), ((3)), ((8)), ((3)), ((,)), ((2)), ((8...</td>\n",
       "      <td>((($)), ((3)), ((9)), ((4)), ((,)), ((3)), ((2...</td>\n",
       "      <td>3</td>\n",
       "      <td>False</td>\n",
       "      <td>False</td>\n",
       "    </tr>\n",
       "    <tr>\n",
       "      <th>1</th>\n",
       "      <td>us-gaap_CostOfGoodsAndServicesSold</td>\n",
       "      <td>Cost of Revenue</td>\n",
       "      <td>((($)), ((()), ((2)), ((1)), ((0)), ((,)), ((3...</td>\n",
       "      <td>((($)), ((()), ((2)), ((1)), ((4)), ((,)), ((1...</td>\n",
       "      <td>((($)), ((()), ((2)), ((2)), ((3)), ((,)), ((5...</td>\n",
       "      <td>3</td>\n",
       "      <td>False</td>\n",
       "      <td>False</td>\n",
       "    </tr>\n",
       "    <tr>\n",
       "      <th>2</th>\n",
       "      <td>us-gaap_GrossProfit</td>\n",
       "      <td>Gross Profit</td>\n",
       "      <td>((($)), ((1)), ((8)), ((0)), ((,)), ((6)), ((8...</td>\n",
       "      <td>((($)), ((1)), ((6)), ((9)), ((,)), ((1)), ((4...</td>\n",
       "      <td>((($)), ((1)), ((7)), ((0)), ((,)), ((7)), ((8...</td>\n",
       "      <td>3</td>\n",
       "      <td>False</td>\n",
       "      <td>False</td>\n",
       "    </tr>\n",
       "    <tr>\n",
       "      <th>3</th>\n",
       "      <td>us-gaap_OperatingExpensesAbstract</td>\n",
       "      <td>Operating Expenses</td>\n",
       "      <td>()</td>\n",
       "      <td>()</td>\n",
       "      <td>()</td>\n",
       "      <td>3</td>\n",
       "      <td>False</td>\n",
       "      <td>False</td>\n",
       "    </tr>\n",
       "    <tr>\n",
       "      <th>4</th>\n",
       "      <td>us-gaap_ResearchAndDevelopmentExpense</td>\n",
       "      <td>Research and Development Expense</td>\n",
       "      <td>((($)), ((3)), ((1)), ((,)), ((3)), ((7)), ((0)))</td>\n",
       "      <td>((($)), ((2)), ((9)), ((,)), ((9)), ((1)), ((5)))</td>\n",
       "      <td>((($)), ((2)), ((6)), ((,)), ((2)), ((5)), ((1)))</td>\n",
       "      <td>4</td>\n",
       "      <td>False</td>\n",
       "      <td>False</td>\n",
       "    </tr>\n",
       "    <tr>\n",
       "      <th>5</th>\n",
       "      <td>us-gaap_SellingGeneralAndAdministrativeExpense</td>\n",
       "      <td>Selling, General and Administrative Expense</td>\n",
       "      <td>((($)), ((2)), ((6)), ((,)), ((0)), ((9)), ((7)))</td>\n",
       "      <td>((($)), ((2)), ((4)), ((,)), ((9)), ((3)), ((2)))</td>\n",
       "      <td>((($)), ((2)), ((5)), ((,)), ((0)), ((9)), ((4)))</td>\n",
       "      <td>4</td>\n",
       "      <td>False</td>\n",
       "      <td>False</td>\n",
       "    </tr>\n",
       "    <tr>\n",
       "      <th>6</th>\n",
       "      <td>us-gaap_OperatingExpenses</td>\n",
       "      <td>Operating Expenses</td>\n",
       "      <td>((($)), ((()), ((5)), ((7)), ((,)), ((4)), ((6...</td>\n",
       "      <td>((($)), ((()), ((5)), ((4)), ((,)), ((8)), ((4...</td>\n",
       "      <td>((($)), ((()), ((5)), ((1)), ((,)), ((3)), ((4...</td>\n",
       "      <td>4</td>\n",
       "      <td>False</td>\n",
       "      <td>False</td>\n",
       "    </tr>\n",
       "    <tr>\n",
       "      <th>7</th>\n",
       "      <td>us-gaap_OperatingIncomeLoss</td>\n",
       "      <td>Operating Income</td>\n",
       "      <td>((($)), ((1)), ((2)), ((3)), ((,)), ((2)), ((1...</td>\n",
       "      <td>((($)), ((1)), ((1)), ((4)), ((,)), ((3)), ((0...</td>\n",
       "      <td>((($)), ((1)), ((1)), ((9)), ((,)), ((4)), ((3...</td>\n",
       "      <td>3</td>\n",
       "      <td>False</td>\n",
       "      <td>False</td>\n",
       "    </tr>\n",
       "    <tr>\n",
       "      <th>8</th>\n",
       "      <td>us-gaap_NonoperatingIncomeExpense</td>\n",
       "      <td>Nonoperating Income/Expense</td>\n",
       "      <td>((($)), ((2)), ((6)), ((9)))</td>\n",
       "      <td>((($)), ((()), ((5)), ((6)), ((5)), (())))</td>\n",
       "      <td>((($)), ((()), ((3)), ((3)), ((4)), (())))</td>\n",
       "      <td>3</td>\n",
       "      <td>False</td>\n",
       "      <td>False</td>\n",
       "    </tr>\n",
       "    <tr>\n",
       "      <th>9</th>\n",
       "      <td>us-gaap_IncomeLossFromContinuingOperationsBefo...</td>\n",
       "      <td>Income Before Tax</td>\n",
       "      <td>((($)), ((1)), ((2)), ((3)), ((,)), ((4)), ((8...</td>\n",
       "      <td>((($)), ((1)), ((1)), ((3)), ((,)), ((7)), ((3...</td>\n",
       "      <td>((($)), ((1)), ((1)), ((9)), ((,)), ((1)), ((0...</td>\n",
       "      <td>3</td>\n",
       "      <td>False</td>\n",
       "      <td>False</td>\n",
       "    </tr>\n",
       "    <tr>\n",
       "      <th>10</th>\n",
       "      <td>us-gaap_IncomeTaxExpenseBenefit</td>\n",
       "      <td>Income Tax Expense</td>\n",
       "      <td>((($)), ((2)), ((9)), ((,)), ((7)), ((4)), ((9)))</td>\n",
       "      <td>((($)), ((1)), ((6)), ((,)), ((7)), ((4)), ((1)))</td>\n",
       "      <td>((($)), ((1)), ((9)), ((,)), ((3)), ((0)), ((0)))</td>\n",
       "      <td>3</td>\n",
       "      <td>False</td>\n",
       "      <td>False</td>\n",
       "    </tr>\n",
       "    <tr>\n",
       "      <th>11</th>\n",
       "      <td>us-gaap_NetIncomeLoss</td>\n",
       "      <td>Net Income</td>\n",
       "      <td>((($)), ((9)), ((3)), ((,)), ((7)), ((3)), ((6)))</td>\n",
       "      <td>((($)), ((9)), ((6)), ((,)), ((9)), ((9)), ((5)))</td>\n",
       "      <td>((($)), ((9)), ((9)), ((,)), ((8)), ((0)), ((3)))</td>\n",
       "      <td>3</td>\n",
       "      <td>False</td>\n",
       "      <td>False</td>\n",
       "    </tr>\n",
       "    <tr>\n",
       "      <th>12</th>\n",
       "      <td>us-gaap_EarningsPerShareAbstract</td>\n",
       "      <td>Earnings per share:</td>\n",
       "      <td>()</td>\n",
       "      <td>()</td>\n",
       "      <td>()</td>\n",
       "      <td>3</td>\n",
       "      <td>False</td>\n",
       "      <td>False</td>\n",
       "    </tr>\n",
       "    <tr>\n",
       "      <th>13</th>\n",
       "      <td>us-gaap_EarningsPerShareBasic</td>\n",
       "      <td>Earnings Per Share</td>\n",
       "      <td>(((0)), ((.)), ((0)), ((0)))</td>\n",
       "      <td>(((0)), ((.)), ((0)), ((0)))</td>\n",
       "      <td>(((0)), ((.)), ((0)), ((0)))</td>\n",
       "      <td>4</td>\n",
       "      <td>False</td>\n",
       "      <td>False</td>\n",
       "    </tr>\n",
       "    <tr>\n",
       "      <th>14</th>\n",
       "      <td>us-gaap_EarningsPerShareDiluted</td>\n",
       "      <td>Earnings Per Share (Diluted)</td>\n",
       "      <td>(((0)), ((.)), ((0)), ((0)))</td>\n",
       "      <td>(((0)), ((.)), ((0)), ((0)))</td>\n",
       "      <td>(((0)), ((.)), ((0)), ((0)))</td>\n",
       "      <td>4</td>\n",
       "      <td>False</td>\n",
       "      <td>False</td>\n",
       "    </tr>\n",
       "    <tr>\n",
       "      <th>15</th>\n",
       "      <td>us-gaap_WeightedAverageNumberOfSharesOutstandi...</td>\n",
       "      <td>Shares used in computing earnings per share:</td>\n",
       "      <td>()</td>\n",
       "      <td>()</td>\n",
       "      <td>()</td>\n",
       "      <td>3</td>\n",
       "      <td>False</td>\n",
       "      <td>False</td>\n",
       "    </tr>\n",
       "    <tr>\n",
       "      <th>16</th>\n",
       "      <td>us-gaap_WeightedAverageNumberOfSharesOutstandi...</td>\n",
       "      <td>Shares Outstanding</td>\n",
       "      <td>(((1)), ((5)), ((,)), ((3)), ((4)), ((3)), ((,...</td>\n",
       "      <td>(((1)), ((5)), ((,)), ((7)), ((4)), ((4)), ((,...</td>\n",
       "      <td>(((1)), ((6)), ((,)), ((2)), ((1)), ((5)), ((,...</td>\n",
       "      <td>4</td>\n",
       "      <td>False</td>\n",
       "      <td>False</td>\n",
       "    </tr>\n",
       "    <tr>\n",
       "      <th>17</th>\n",
       "      <td>us-gaap_WeightedAverageNumberOfDilutedSharesOu...</td>\n",
       "      <td>Shares Outstanding (Diluted)</td>\n",
       "      <td>(((1)), ((5)), ((,)), ((4)), ((0)), ((8)), ((,...</td>\n",
       "      <td>(((1)), ((5)), ((,)), ((8)), ((1)), ((2)), ((,...</td>\n",
       "      <td>(((1)), ((6)), ((,)), ((3)), ((2)), ((5)), ((,...</td>\n",
       "      <td>4</td>\n",
       "      <td>False</td>\n",
       "      <td>False</td>\n",
       "    </tr>\n",
       "  </tbody>\n",
       "</table>\n",
       "</div>"
      ]
     },
     "execution_count": 11,
     "metadata": {},
     "output_type": "execute_result"
    }
   ],
   "execution_count": 11
  },
  {
   "metadata": {
    "ExecuteTime": {
     "end_time": "2025-03-27T22:17:04.807158Z",
     "start_time": "2025-03-27T22:17:04.734465Z"
    }
   },
   "cell_type": "code",
   "source": "balance_sheet.to_dataframe()",
   "id": "468511036e41f0fc",
   "outputs": [
    {
     "data": {
      "text/plain": [
       "                                              concept  \\\n",
       "0                              us-gaap_AssetsAbstract   \n",
       "1                       us-gaap_AssetsCurrentAbstract   \n",
       "2       us-gaap_CashAndCashEquivalentsAtCarryingValue   \n",
       "3                 us-gaap_MarketableSecuritiesCurrent   \n",
       "4                us-gaap_AccountsReceivableNetCurrent   \n",
       "5                  us-gaap_NontradeReceivablesCurrent   \n",
       "6                                us-gaap_InventoryNet   \n",
       "7                          us-gaap_OtherAssetsCurrent   \n",
       "8                               us-gaap_AssetsCurrent   \n",
       "9                    us-gaap_AssetsNoncurrentAbstract   \n",
       "10             us-gaap_MarketableSecuritiesNoncurrent   \n",
       "11               us-gaap_PropertyPlantAndEquipmentNet   \n",
       "12                      us-gaap_OtherAssetsNoncurrent   \n",
       "13                           us-gaap_AssetsNoncurrent   \n",
       "14                                     us-gaap_Assets   \n",
       "15   us-gaap_LiabilitiesAndStockholdersEquityAbstract   \n",
       "16                 us-gaap_LiabilitiesCurrentAbstract   \n",
       "17                     us-gaap_AccountsPayableCurrent   \n",
       "18                    us-gaap_OtherLiabilitiesCurrent   \n",
       "19       us-gaap_ContractWithCustomerLiabilityCurrent   \n",
       "20                            us-gaap_CommercialPaper   \n",
       "21                        us-gaap_LongTermDebtCurrent   \n",
       "22                         us-gaap_LiabilitiesCurrent   \n",
       "23              us-gaap_LiabilitiesNoncurrentAbstract   \n",
       "24                     us-gaap_LongTermDebtNoncurrent   \n",
       "25                 us-gaap_OtherLiabilitiesNoncurrent   \n",
       "26                      us-gaap_LiabilitiesNoncurrent   \n",
       "27                                us-gaap_Liabilities   \n",
       "28                us-gaap_CommitmentsAndContingencies   \n",
       "29               us-gaap_CommonStockSharesOutstanding   \n",
       "30                    us-gaap_CommonStockSharesIssued   \n",
       "31                 us-gaap_StockholdersEquityAbstract   \n",
       "32  us-gaap_CommonStocksIncludingAdditionalPaidInC...   \n",
       "33         us-gaap_RetainedEarningsAccumulatedDeficit   \n",
       "34  us-gaap_AccumulatedOtherComprehensiveIncomeLos...   \n",
       "35                         us-gaap_StockholdersEquity   \n",
       "36           us-gaap_LiabilitiesAndStockholdersEquity   \n",
       "\n",
       "                                          label  \\\n",
       "0                                       ASSETS:   \n",
       "1                               Current assets:   \n",
       "2                     Cash and Cash Equivalents   \n",
       "3                         Marketable Securities   \n",
       "4                           Accounts Receivable   \n",
       "5                  Vendor non-trade receivables   \n",
       "6                                     Inventory   \n",
       "7                                  Other Assets   \n",
       "8                          Total Current Assets   \n",
       "9                           Non-current assets:   \n",
       "10                        Marketable securities   \n",
       "11                Property, Plant and Equipment   \n",
       "12                                 Other Assets   \n",
       "13                         Total Current Assets   \n",
       "14                                 Total Assets   \n",
       "15        LIABILITIES AND SHAREHOLDERS’ EQUITY:   \n",
       "16                         Current liabilities:   \n",
       "17                             Accounts Payable   \n",
       "18                            Other Liabilities   \n",
       "19                             Deferred Revenue   \n",
       "20                             Commercial paper   \n",
       "21                              Short-Term Debt   \n",
       "22                    Total Current Liabilities   \n",
       "23                     Non-current liabilities:   \n",
       "24                               Long-Term Debt   \n",
       "25                            Other Liabilities   \n",
       "26                    Total Current Liabilities   \n",
       "27                            Total Liabilities   \n",
       "28                Commitments and contingencies   \n",
       "29              Common Stock Shares Outstanding   \n",
       "30                   Common Stock Shares Issued   \n",
       "31                        Shareholders’ equity:   \n",
       "32                                 Common Stock   \n",
       "33                            Retained Earnings   \n",
       "34  Accumulated Other Comprehensive Income/Loss   \n",
       "35                   Total Stockholders' Equity   \n",
       "36   Total Liabilities and Stockholders' Equity   \n",
       "\n",
       "                                           2023-09-30  \\\n",
       "0                                                  ()   \n",
       "1                                                  ()   \n",
       "2   ((($)), ((2)), ((9)), ((,)), ((9)), ((6)), ((5)))   \n",
       "3   ((($)), ((3)), ((1)), ((,)), ((5)), ((9)), ((0)))   \n",
       "4   ((($)), ((2)), ((9)), ((,)), ((5)), ((0)), ((8)))   \n",
       "5   ((($)), ((3)), ((1)), ((,)), ((4)), ((7)), ((7)))   \n",
       "6          ((($)), ((6)), ((,)), ((3)), ((3)), ((1)))   \n",
       "7   ((($)), ((1)), ((4)), ((,)), ((6)), ((9)), ((5)))   \n",
       "8   ((($)), ((1)), ((4)), ((3)), ((,)), ((5)), ((6...   \n",
       "9                                                  ()   \n",
       "10  ((($)), ((1)), ((0)), ((0)), ((,)), ((5)), ((4...   \n",
       "11  ((($)), ((4)), ((3)), ((,)), ((7)), ((1)), ((5)))   \n",
       "12  ((($)), ((6)), ((4)), ((,)), ((7)), ((5)), ((8)))   \n",
       "13  ((($)), ((2)), ((0)), ((9)), ((,)), ((0)), ((1...   \n",
       "14  ((($)), ((3)), ((5)), ((2)), ((,)), ((5)), ((8...   \n",
       "15                                                 ()   \n",
       "16                                                 ()   \n",
       "17  ((($)), ((6)), ((2)), ((,)), ((6)), ((1)), ((1)))   \n",
       "18  ((($)), ((5)), ((8)), ((,)), ((8)), ((2)), ((9)))   \n",
       "19         ((($)), ((8)), ((,)), ((0)), ((6)), ((1)))   \n",
       "20         ((($)), ((5)), ((,)), ((9)), ((8)), ((5)))   \n",
       "21         ((($)), ((9)), ((,)), ((8)), ((2)), ((2)))   \n",
       "22  ((($)), ((1)), ((4)), ((5)), ((,)), ((3)), ((0...   \n",
       "23                                                 ()   \n",
       "24  ((($)), ((9)), ((5)), ((,)), ((2)), ((8)), ((1)))   \n",
       "25  ((($)), ((4)), ((9)), ((,)), ((8)), ((4)), ((8)))   \n",
       "26  ((($)), ((1)), ((4)), ((5)), ((,)), ((1)), ((2...   \n",
       "27  ((($)), ((2)), ((9)), ((0)), ((,)), ((4)), ((3...   \n",
       "28                                                 ()   \n",
       "29  (((1)), ((5)), ((,)), ((5)), ((5)), ((0)), ((,...   \n",
       "30  (((1)), ((5)), ((,)), ((5)), ((5)), ((0)), ((,...   \n",
       "31                                                 ()   \n",
       "32  ((($)), ((7)), ((3)), ((,)), ((8)), ((1)), ((2)))   \n",
       "33         ((($)), ((()), ((2)), ((1)), ((4)), (())))   \n",
       "34  ((($)), ((()), ((1)), ((1)), ((,)), ((4)), ((5...   \n",
       "35  ((($)), ((6)), ((2)), ((,)), ((1)), ((4)), ((6)))   \n",
       "36  ((($)), ((3)), ((5)), ((2)), ((,)), ((5)), ((8...   \n",
       "\n",
       "                                           2024-09-28  level  abstract  \\\n",
       "0                                                  ()      1     False   \n",
       "1                                                  ()      2     False   \n",
       "2   ((($)), ((2)), ((9)), ((,)), ((9)), ((4)), ((3)))      3     False   \n",
       "3   ((($)), ((3)), ((5)), ((,)), ((2)), ((2)), ((8)))      3     False   \n",
       "4   ((($)), ((3)), ((3)), ((,)), ((4)), ((1)), ((0)))      3     False   \n",
       "5   ((($)), ((3)), ((2)), ((,)), ((8)), ((3)), ((3)))      3     False   \n",
       "6          ((($)), ((7)), ((,)), ((2)), ((8)), ((6)))      3     False   \n",
       "7   ((($)), ((1)), ((4)), ((,)), ((2)), ((8)), ((7)))      3     False   \n",
       "8   ((($)), ((1)), ((5)), ((2)), ((,)), ((9)), ((8...      3     False   \n",
       "9                                                  ()      2     False   \n",
       "10  ((($)), ((9)), ((1)), ((,)), ((4)), ((7)), ((9)))      3     False   \n",
       "11  ((($)), ((4)), ((5)), ((,)), ((6)), ((8)), ((0)))      3     False   \n",
       "12  ((($)), ((7)), ((4)), ((,)), ((8)), ((3)), ((4)))      3     False   \n",
       "13  ((($)), ((2)), ((1)), ((1)), ((,)), ((9)), ((9...      3     False   \n",
       "14  ((($)), ((3)), ((6)), ((4)), ((,)), ((9)), ((8...      2     False   \n",
       "15                                                 ()      1     False   \n",
       "16                                                 ()      2     False   \n",
       "17  ((($)), ((6)), ((8)), ((,)), ((9)), ((6)), ((0)))      3     False   \n",
       "18  ((($)), ((7)), ((8)), ((,)), ((3)), ((0)), ((4)))      3     False   \n",
       "19         ((($)), ((8)), ((,)), ((2)), ((4)), ((9)))      3     False   \n",
       "20         ((($)), ((9)), ((,)), ((9)), ((6)), ((7)))      3     False   \n",
       "21  ((($)), ((1)), ((0)), ((,)), ((9)), ((1)), ((2)))      3     False   \n",
       "22  ((($)), ((1)), ((7)), ((6)), ((,)), ((3)), ((9...      3     False   \n",
       "23                                                 ()      2     False   \n",
       "24  ((($)), ((8)), ((5)), ((,)), ((7)), ((5)), ((0)))      3     False   \n",
       "25  ((($)), ((4)), ((5)), ((,)), ((8)), ((8)), ((8)))      3     False   \n",
       "26  ((($)), ((1)), ((3)), ((1)), ((,)), ((6)), ((3...      3     False   \n",
       "27  ((($)), ((3)), ((0)), ((8)), ((,)), ((0)), ((3...      2     False   \n",
       "28                                                 ()      2     False   \n",
       "29  (((1)), ((5)), ((,)), ((1)), ((1)), ((6)), ((,...      2     False   \n",
       "30  (((1)), ((5)), ((,)), ((1)), ((1)), ((6)), ((,...      2     False   \n",
       "31                                                 ()      2     False   \n",
       "32  ((($)), ((8)), ((3)), ((,)), ((2)), ((7)), ((6)))      3     False   \n",
       "33  ((($)), ((()), ((1)), ((9)), ((,)), ((1)), ((5...      3     False   \n",
       "34  ((($)), ((()), ((7)), ((,)), ((1)), ((7)), ((2...      3     False   \n",
       "35  ((($)), ((5)), ((6)), ((,)), ((9)), ((5)), ((0)))      3     False   \n",
       "36  ((($)), ((3)), ((6)), ((4)), ((,)), ((9)), ((8...      2     False   \n",
       "\n",
       "    dimension  \n",
       "0       False  \n",
       "1       False  \n",
       "2       False  \n",
       "3       False  \n",
       "4       False  \n",
       "5       False  \n",
       "6       False  \n",
       "7       False  \n",
       "8       False  \n",
       "9       False  \n",
       "10      False  \n",
       "11      False  \n",
       "12      False  \n",
       "13      False  \n",
       "14      False  \n",
       "15      False  \n",
       "16      False  \n",
       "17      False  \n",
       "18      False  \n",
       "19      False  \n",
       "20      False  \n",
       "21      False  \n",
       "22      False  \n",
       "23      False  \n",
       "24      False  \n",
       "25      False  \n",
       "26      False  \n",
       "27      False  \n",
       "28      False  \n",
       "29      False  \n",
       "30      False  \n",
       "31      False  \n",
       "32      False  \n",
       "33      False  \n",
       "34      False  \n",
       "35      False  \n",
       "36      False  "
      ],
      "text/html": [
       "<div>\n",
       "<style scoped>\n",
       "    .dataframe tbody tr th:only-of-type {\n",
       "        vertical-align: middle;\n",
       "    }\n",
       "\n",
       "    .dataframe tbody tr th {\n",
       "        vertical-align: top;\n",
       "    }\n",
       "\n",
       "    .dataframe thead th {\n",
       "        text-align: right;\n",
       "    }\n",
       "</style>\n",
       "<table border=\"1\" class=\"dataframe\">\n",
       "  <thead>\n",
       "    <tr style=\"text-align: right;\">\n",
       "      <th></th>\n",
       "      <th>concept</th>\n",
       "      <th>label</th>\n",
       "      <th>2023-09-30</th>\n",
       "      <th>2024-09-28</th>\n",
       "      <th>level</th>\n",
       "      <th>abstract</th>\n",
       "      <th>dimension</th>\n",
       "    </tr>\n",
       "  </thead>\n",
       "  <tbody>\n",
       "    <tr>\n",
       "      <th>0</th>\n",
       "      <td>us-gaap_AssetsAbstract</td>\n",
       "      <td>ASSETS:</td>\n",
       "      <td>()</td>\n",
       "      <td>()</td>\n",
       "      <td>1</td>\n",
       "      <td>False</td>\n",
       "      <td>False</td>\n",
       "    </tr>\n",
       "    <tr>\n",
       "      <th>1</th>\n",
       "      <td>us-gaap_AssetsCurrentAbstract</td>\n",
       "      <td>Current assets:</td>\n",
       "      <td>()</td>\n",
       "      <td>()</td>\n",
       "      <td>2</td>\n",
       "      <td>False</td>\n",
       "      <td>False</td>\n",
       "    </tr>\n",
       "    <tr>\n",
       "      <th>2</th>\n",
       "      <td>us-gaap_CashAndCashEquivalentsAtCarryingValue</td>\n",
       "      <td>Cash and Cash Equivalents</td>\n",
       "      <td>((($)), ((2)), ((9)), ((,)), ((9)), ((6)), ((5)))</td>\n",
       "      <td>((($)), ((2)), ((9)), ((,)), ((9)), ((4)), ((3)))</td>\n",
       "      <td>3</td>\n",
       "      <td>False</td>\n",
       "      <td>False</td>\n",
       "    </tr>\n",
       "    <tr>\n",
       "      <th>3</th>\n",
       "      <td>us-gaap_MarketableSecuritiesCurrent</td>\n",
       "      <td>Marketable Securities</td>\n",
       "      <td>((($)), ((3)), ((1)), ((,)), ((5)), ((9)), ((0)))</td>\n",
       "      <td>((($)), ((3)), ((5)), ((,)), ((2)), ((2)), ((8)))</td>\n",
       "      <td>3</td>\n",
       "      <td>False</td>\n",
       "      <td>False</td>\n",
       "    </tr>\n",
       "    <tr>\n",
       "      <th>4</th>\n",
       "      <td>us-gaap_AccountsReceivableNetCurrent</td>\n",
       "      <td>Accounts Receivable</td>\n",
       "      <td>((($)), ((2)), ((9)), ((,)), ((5)), ((0)), ((8)))</td>\n",
       "      <td>((($)), ((3)), ((3)), ((,)), ((4)), ((1)), ((0)))</td>\n",
       "      <td>3</td>\n",
       "      <td>False</td>\n",
       "      <td>False</td>\n",
       "    </tr>\n",
       "    <tr>\n",
       "      <th>5</th>\n",
       "      <td>us-gaap_NontradeReceivablesCurrent</td>\n",
       "      <td>Vendor non-trade receivables</td>\n",
       "      <td>((($)), ((3)), ((1)), ((,)), ((4)), ((7)), ((7)))</td>\n",
       "      <td>((($)), ((3)), ((2)), ((,)), ((8)), ((3)), ((3)))</td>\n",
       "      <td>3</td>\n",
       "      <td>False</td>\n",
       "      <td>False</td>\n",
       "    </tr>\n",
       "    <tr>\n",
       "      <th>6</th>\n",
       "      <td>us-gaap_InventoryNet</td>\n",
       "      <td>Inventory</td>\n",
       "      <td>((($)), ((6)), ((,)), ((3)), ((3)), ((1)))</td>\n",
       "      <td>((($)), ((7)), ((,)), ((2)), ((8)), ((6)))</td>\n",
       "      <td>3</td>\n",
       "      <td>False</td>\n",
       "      <td>False</td>\n",
       "    </tr>\n",
       "    <tr>\n",
       "      <th>7</th>\n",
       "      <td>us-gaap_OtherAssetsCurrent</td>\n",
       "      <td>Other Assets</td>\n",
       "      <td>((($)), ((1)), ((4)), ((,)), ((6)), ((9)), ((5)))</td>\n",
       "      <td>((($)), ((1)), ((4)), ((,)), ((2)), ((8)), ((7)))</td>\n",
       "      <td>3</td>\n",
       "      <td>False</td>\n",
       "      <td>False</td>\n",
       "    </tr>\n",
       "    <tr>\n",
       "      <th>8</th>\n",
       "      <td>us-gaap_AssetsCurrent</td>\n",
       "      <td>Total Current Assets</td>\n",
       "      <td>((($)), ((1)), ((4)), ((3)), ((,)), ((5)), ((6...</td>\n",
       "      <td>((($)), ((1)), ((5)), ((2)), ((,)), ((9)), ((8...</td>\n",
       "      <td>3</td>\n",
       "      <td>False</td>\n",
       "      <td>False</td>\n",
       "    </tr>\n",
       "    <tr>\n",
       "      <th>9</th>\n",
       "      <td>us-gaap_AssetsNoncurrentAbstract</td>\n",
       "      <td>Non-current assets:</td>\n",
       "      <td>()</td>\n",
       "      <td>()</td>\n",
       "      <td>2</td>\n",
       "      <td>False</td>\n",
       "      <td>False</td>\n",
       "    </tr>\n",
       "    <tr>\n",
       "      <th>10</th>\n",
       "      <td>us-gaap_MarketableSecuritiesNoncurrent</td>\n",
       "      <td>Marketable securities</td>\n",
       "      <td>((($)), ((1)), ((0)), ((0)), ((,)), ((5)), ((4...</td>\n",
       "      <td>((($)), ((9)), ((1)), ((,)), ((4)), ((7)), ((9)))</td>\n",
       "      <td>3</td>\n",
       "      <td>False</td>\n",
       "      <td>False</td>\n",
       "    </tr>\n",
       "    <tr>\n",
       "      <th>11</th>\n",
       "      <td>us-gaap_PropertyPlantAndEquipmentNet</td>\n",
       "      <td>Property, Plant and Equipment</td>\n",
       "      <td>((($)), ((4)), ((3)), ((,)), ((7)), ((1)), ((5)))</td>\n",
       "      <td>((($)), ((4)), ((5)), ((,)), ((6)), ((8)), ((0)))</td>\n",
       "      <td>3</td>\n",
       "      <td>False</td>\n",
       "      <td>False</td>\n",
       "    </tr>\n",
       "    <tr>\n",
       "      <th>12</th>\n",
       "      <td>us-gaap_OtherAssetsNoncurrent</td>\n",
       "      <td>Other Assets</td>\n",
       "      <td>((($)), ((6)), ((4)), ((,)), ((7)), ((5)), ((8)))</td>\n",
       "      <td>((($)), ((7)), ((4)), ((,)), ((8)), ((3)), ((4)))</td>\n",
       "      <td>3</td>\n",
       "      <td>False</td>\n",
       "      <td>False</td>\n",
       "    </tr>\n",
       "    <tr>\n",
       "      <th>13</th>\n",
       "      <td>us-gaap_AssetsNoncurrent</td>\n",
       "      <td>Total Current Assets</td>\n",
       "      <td>((($)), ((2)), ((0)), ((9)), ((,)), ((0)), ((1...</td>\n",
       "      <td>((($)), ((2)), ((1)), ((1)), ((,)), ((9)), ((9...</td>\n",
       "      <td>3</td>\n",
       "      <td>False</td>\n",
       "      <td>False</td>\n",
       "    </tr>\n",
       "    <tr>\n",
       "      <th>14</th>\n",
       "      <td>us-gaap_Assets</td>\n",
       "      <td>Total Assets</td>\n",
       "      <td>((($)), ((3)), ((5)), ((2)), ((,)), ((5)), ((8...</td>\n",
       "      <td>((($)), ((3)), ((6)), ((4)), ((,)), ((9)), ((8...</td>\n",
       "      <td>2</td>\n",
       "      <td>False</td>\n",
       "      <td>False</td>\n",
       "    </tr>\n",
       "    <tr>\n",
       "      <th>15</th>\n",
       "      <td>us-gaap_LiabilitiesAndStockholdersEquityAbstract</td>\n",
       "      <td>LIABILITIES AND SHAREHOLDERS’ EQUITY:</td>\n",
       "      <td>()</td>\n",
       "      <td>()</td>\n",
       "      <td>1</td>\n",
       "      <td>False</td>\n",
       "      <td>False</td>\n",
       "    </tr>\n",
       "    <tr>\n",
       "      <th>16</th>\n",
       "      <td>us-gaap_LiabilitiesCurrentAbstract</td>\n",
       "      <td>Current liabilities:</td>\n",
       "      <td>()</td>\n",
       "      <td>()</td>\n",
       "      <td>2</td>\n",
       "      <td>False</td>\n",
       "      <td>False</td>\n",
       "    </tr>\n",
       "    <tr>\n",
       "      <th>17</th>\n",
       "      <td>us-gaap_AccountsPayableCurrent</td>\n",
       "      <td>Accounts Payable</td>\n",
       "      <td>((($)), ((6)), ((2)), ((,)), ((6)), ((1)), ((1)))</td>\n",
       "      <td>((($)), ((6)), ((8)), ((,)), ((9)), ((6)), ((0)))</td>\n",
       "      <td>3</td>\n",
       "      <td>False</td>\n",
       "      <td>False</td>\n",
       "    </tr>\n",
       "    <tr>\n",
       "      <th>18</th>\n",
       "      <td>us-gaap_OtherLiabilitiesCurrent</td>\n",
       "      <td>Other Liabilities</td>\n",
       "      <td>((($)), ((5)), ((8)), ((,)), ((8)), ((2)), ((9)))</td>\n",
       "      <td>((($)), ((7)), ((8)), ((,)), ((3)), ((0)), ((4)))</td>\n",
       "      <td>3</td>\n",
       "      <td>False</td>\n",
       "      <td>False</td>\n",
       "    </tr>\n",
       "    <tr>\n",
       "      <th>19</th>\n",
       "      <td>us-gaap_ContractWithCustomerLiabilityCurrent</td>\n",
       "      <td>Deferred Revenue</td>\n",
       "      <td>((($)), ((8)), ((,)), ((0)), ((6)), ((1)))</td>\n",
       "      <td>((($)), ((8)), ((,)), ((2)), ((4)), ((9)))</td>\n",
       "      <td>3</td>\n",
       "      <td>False</td>\n",
       "      <td>False</td>\n",
       "    </tr>\n",
       "    <tr>\n",
       "      <th>20</th>\n",
       "      <td>us-gaap_CommercialPaper</td>\n",
       "      <td>Commercial paper</td>\n",
       "      <td>((($)), ((5)), ((,)), ((9)), ((8)), ((5)))</td>\n",
       "      <td>((($)), ((9)), ((,)), ((9)), ((6)), ((7)))</td>\n",
       "      <td>3</td>\n",
       "      <td>False</td>\n",
       "      <td>False</td>\n",
       "    </tr>\n",
       "    <tr>\n",
       "      <th>21</th>\n",
       "      <td>us-gaap_LongTermDebtCurrent</td>\n",
       "      <td>Short-Term Debt</td>\n",
       "      <td>((($)), ((9)), ((,)), ((8)), ((2)), ((2)))</td>\n",
       "      <td>((($)), ((1)), ((0)), ((,)), ((9)), ((1)), ((2)))</td>\n",
       "      <td>3</td>\n",
       "      <td>False</td>\n",
       "      <td>False</td>\n",
       "    </tr>\n",
       "    <tr>\n",
       "      <th>22</th>\n",
       "      <td>us-gaap_LiabilitiesCurrent</td>\n",
       "      <td>Total Current Liabilities</td>\n",
       "      <td>((($)), ((1)), ((4)), ((5)), ((,)), ((3)), ((0...</td>\n",
       "      <td>((($)), ((1)), ((7)), ((6)), ((,)), ((3)), ((9...</td>\n",
       "      <td>3</td>\n",
       "      <td>False</td>\n",
       "      <td>False</td>\n",
       "    </tr>\n",
       "    <tr>\n",
       "      <th>23</th>\n",
       "      <td>us-gaap_LiabilitiesNoncurrentAbstract</td>\n",
       "      <td>Non-current liabilities:</td>\n",
       "      <td>()</td>\n",
       "      <td>()</td>\n",
       "      <td>2</td>\n",
       "      <td>False</td>\n",
       "      <td>False</td>\n",
       "    </tr>\n",
       "    <tr>\n",
       "      <th>24</th>\n",
       "      <td>us-gaap_LongTermDebtNoncurrent</td>\n",
       "      <td>Long-Term Debt</td>\n",
       "      <td>((($)), ((9)), ((5)), ((,)), ((2)), ((8)), ((1)))</td>\n",
       "      <td>((($)), ((8)), ((5)), ((,)), ((7)), ((5)), ((0)))</td>\n",
       "      <td>3</td>\n",
       "      <td>False</td>\n",
       "      <td>False</td>\n",
       "    </tr>\n",
       "    <tr>\n",
       "      <th>25</th>\n",
       "      <td>us-gaap_OtherLiabilitiesNoncurrent</td>\n",
       "      <td>Other Liabilities</td>\n",
       "      <td>((($)), ((4)), ((9)), ((,)), ((8)), ((4)), ((8)))</td>\n",
       "      <td>((($)), ((4)), ((5)), ((,)), ((8)), ((8)), ((8)))</td>\n",
       "      <td>3</td>\n",
       "      <td>False</td>\n",
       "      <td>False</td>\n",
       "    </tr>\n",
       "    <tr>\n",
       "      <th>26</th>\n",
       "      <td>us-gaap_LiabilitiesNoncurrent</td>\n",
       "      <td>Total Current Liabilities</td>\n",
       "      <td>((($)), ((1)), ((4)), ((5)), ((,)), ((1)), ((2...</td>\n",
       "      <td>((($)), ((1)), ((3)), ((1)), ((,)), ((6)), ((3...</td>\n",
       "      <td>3</td>\n",
       "      <td>False</td>\n",
       "      <td>False</td>\n",
       "    </tr>\n",
       "    <tr>\n",
       "      <th>27</th>\n",
       "      <td>us-gaap_Liabilities</td>\n",
       "      <td>Total Liabilities</td>\n",
       "      <td>((($)), ((2)), ((9)), ((0)), ((,)), ((4)), ((3...</td>\n",
       "      <td>((($)), ((3)), ((0)), ((8)), ((,)), ((0)), ((3...</td>\n",
       "      <td>2</td>\n",
       "      <td>False</td>\n",
       "      <td>False</td>\n",
       "    </tr>\n",
       "    <tr>\n",
       "      <th>28</th>\n",
       "      <td>us-gaap_CommitmentsAndContingencies</td>\n",
       "      <td>Commitments and contingencies</td>\n",
       "      <td>()</td>\n",
       "      <td>()</td>\n",
       "      <td>2</td>\n",
       "      <td>False</td>\n",
       "      <td>False</td>\n",
       "    </tr>\n",
       "    <tr>\n",
       "      <th>29</th>\n",
       "      <td>us-gaap_CommonStockSharesOutstanding</td>\n",
       "      <td>Common Stock Shares Outstanding</td>\n",
       "      <td>(((1)), ((5)), ((,)), ((5)), ((5)), ((0)), ((,...</td>\n",
       "      <td>(((1)), ((5)), ((,)), ((1)), ((1)), ((6)), ((,...</td>\n",
       "      <td>2</td>\n",
       "      <td>False</td>\n",
       "      <td>False</td>\n",
       "    </tr>\n",
       "    <tr>\n",
       "      <th>30</th>\n",
       "      <td>us-gaap_CommonStockSharesIssued</td>\n",
       "      <td>Common Stock Shares Issued</td>\n",
       "      <td>(((1)), ((5)), ((,)), ((5)), ((5)), ((0)), ((,...</td>\n",
       "      <td>(((1)), ((5)), ((,)), ((1)), ((1)), ((6)), ((,...</td>\n",
       "      <td>2</td>\n",
       "      <td>False</td>\n",
       "      <td>False</td>\n",
       "    </tr>\n",
       "    <tr>\n",
       "      <th>31</th>\n",
       "      <td>us-gaap_StockholdersEquityAbstract</td>\n",
       "      <td>Shareholders’ equity:</td>\n",
       "      <td>()</td>\n",
       "      <td>()</td>\n",
       "      <td>2</td>\n",
       "      <td>False</td>\n",
       "      <td>False</td>\n",
       "    </tr>\n",
       "    <tr>\n",
       "      <th>32</th>\n",
       "      <td>us-gaap_CommonStocksIncludingAdditionalPaidInC...</td>\n",
       "      <td>Common Stock</td>\n",
       "      <td>((($)), ((7)), ((3)), ((,)), ((8)), ((1)), ((2)))</td>\n",
       "      <td>((($)), ((8)), ((3)), ((,)), ((2)), ((7)), ((6)))</td>\n",
       "      <td>3</td>\n",
       "      <td>False</td>\n",
       "      <td>False</td>\n",
       "    </tr>\n",
       "    <tr>\n",
       "      <th>33</th>\n",
       "      <td>us-gaap_RetainedEarningsAccumulatedDeficit</td>\n",
       "      <td>Retained Earnings</td>\n",
       "      <td>((($)), ((()), ((2)), ((1)), ((4)), (())))</td>\n",
       "      <td>((($)), ((()), ((1)), ((9)), ((,)), ((1)), ((5...</td>\n",
       "      <td>3</td>\n",
       "      <td>False</td>\n",
       "      <td>False</td>\n",
       "    </tr>\n",
       "    <tr>\n",
       "      <th>34</th>\n",
       "      <td>us-gaap_AccumulatedOtherComprehensiveIncomeLos...</td>\n",
       "      <td>Accumulated Other Comprehensive Income/Loss</td>\n",
       "      <td>((($)), ((()), ((1)), ((1)), ((,)), ((4)), ((5...</td>\n",
       "      <td>((($)), ((()), ((7)), ((,)), ((1)), ((7)), ((2...</td>\n",
       "      <td>3</td>\n",
       "      <td>False</td>\n",
       "      <td>False</td>\n",
       "    </tr>\n",
       "    <tr>\n",
       "      <th>35</th>\n",
       "      <td>us-gaap_StockholdersEquity</td>\n",
       "      <td>Total Stockholders' Equity</td>\n",
       "      <td>((($)), ((6)), ((2)), ((,)), ((1)), ((4)), ((6)))</td>\n",
       "      <td>((($)), ((5)), ((6)), ((,)), ((9)), ((5)), ((0)))</td>\n",
       "      <td>3</td>\n",
       "      <td>False</td>\n",
       "      <td>False</td>\n",
       "    </tr>\n",
       "    <tr>\n",
       "      <th>36</th>\n",
       "      <td>us-gaap_LiabilitiesAndStockholdersEquity</td>\n",
       "      <td>Total Liabilities and Stockholders' Equity</td>\n",
       "      <td>((($)), ((3)), ((5)), ((2)), ((,)), ((5)), ((8...</td>\n",
       "      <td>((($)), ((3)), ((6)), ((4)), ((,)), ((9)), ((8...</td>\n",
       "      <td>2</td>\n",
       "      <td>False</td>\n",
       "      <td>False</td>\n",
       "    </tr>\n",
       "  </tbody>\n",
       "</table>\n",
       "</div>"
      ]
     },
     "execution_count": 12,
     "metadata": {},
     "output_type": "execute_result"
    }
   ],
   "execution_count": 12
  },
  {
   "metadata": {},
   "cell_type": "markdown",
   "source": [
    "# Stitching Statements\n",
    "<hr/>"
   ],
   "id": "de74493ae84812f3"
  },
  {
   "metadata": {
    "ExecuteTime": {
     "end_time": "2025-03-27T22:17:25.075961Z",
     "start_time": "2025-03-27T22:17:23.474301Z"
    }
   },
   "cell_type": "code",
   "source": [
    "filings = c.latest(\"10-K\", 4)\n",
    "xbrls = XBRLS.from_filings(filings)\n",
    "xbrls.statements"
   ],
   "id": "107687534f201101",
   "outputs": [
    {
     "data": {
      "text/plain": [],
      "text/html": [
       "<pre style=\"white-space:pre;overflow-x:auto;line-height:normal;font-family:Menlo,'DejaVu Sans Mono',consolas,'Courier New',monospace\"></pre>\n"
      ]
     },
     "metadata": {},
     "output_type": "display_data"
    },
    {
     "data": {
      "text/plain": [
       "\u001B[3m  Available Stitched Statements  \u001B[0m\n",
       "                                 \n",
       " \u001B[1m \u001B[0m\u001B[1mStatement Type     \u001B[0m\u001B[1m \u001B[0m \u001B[1m \u001B[0m\u001B[1mPeriods\u001B[0m\u001B[1m \u001B[0m \n",
       " ─────────────────────────────── \n",
       "  BalanceSheet          32       \n",
       "  CashFlowStatement     32       \n",
       "  ComprehensiveIncome   32       \n",
       "  CoverPage             32       \n",
       "  IncomeStatement       32       \n",
       "  StatementOfEquity     32       \n",
       "                                 "
      ]
     },
     "execution_count": 14,
     "metadata": {},
     "output_type": "execute_result"
    }
   ],
   "execution_count": 14
  },
  {
   "metadata": {},
   "cell_type": "markdown",
   "source": "## Balance Sheet",
   "id": "26389377e1cb24ee"
  },
  {
   "metadata": {
    "ExecuteTime": {
     "end_time": "2025-03-27T22:17:28.000638Z",
     "start_time": "2025-03-27T22:17:27.988544Z"
    }
   },
   "cell_type": "code",
   "source": "xbrls.statements.balance_sheet()",
   "id": "dfe8c5a057371642",
   "outputs": [
    {
     "data": {
      "text/plain": [],
      "text/html": [
       "<pre style=\"white-space:pre;overflow-x:auto;line-height:normal;font-family:Menlo,'DejaVu Sans Mono',consolas,'Courier New',monospace\"></pre>\n"
      ]
     },
     "metadata": {},
     "output_type": "display_data"
    },
    {
     "data": {
      "text/plain": [
       "\u001B[3m                            CONSOLIDATED BALANCE SHEET (4-Period View) (Standardized)                            \u001B[0m\n",
       "\u001B[3m                           \u001B[0m\u001B[1;3mFiscal Year Ended\u001B[0m\u001B[3m \u001B[0m\u001B[3m(In millions, except shares in thousands)\u001B[0m\u001B[3m                           \u001B[0m\n",
       "                                                                                                                 \n",
       " \u001B[1m \u001B[0m\u001B[1m                                                 \u001B[0m\u001B[1m \u001B[0m \u001B[1m \u001B[0m\u001B[1mSep 28, 2024\u001B[0m\u001B[1m \u001B[0m \u001B[1m \u001B[0m\u001B[1mSep 30, 2023\u001B[0m\u001B[1m \u001B[0m \u001B[1m \u001B[0m\u001B[1mSep 24, 2022\u001B[0m\u001B[1m \u001B[0m \u001B[1m \u001B[0m\u001B[1mSep 25, 2021\u001B[0m\u001B[1m \u001B[0m \n",
       " ─────────────────────────────────────────────────────────────────────────────────────────────────────────────── \n",
       "      Commitments and contingencies                                                                              \n",
       "      Common Stock Shares Issued                        15,116,786     15,550,061                                \n",
       "      Common Stock Shares Outstanding                   15,116,786     15,550,061                                \n",
       "      Total Assets                                        $364,980       $352,583       $352,755       $351,002  \n",
       "      Total Liabilities                                   $308,030       $290,437       $302,083       $287,912  \n",
       "      Total Liabilities and Stockholders' Equity          $364,980       $352,583       $352,755       $351,002  \n",
       "        Accounts Payable                                   $68,960        $62,611        $64,115        $54,763  \n",
       "        Accounts Receivable                                $33,410        $29,508        $28,184        $26,278  \n",
       "        Accumulated Other Comprehensive Income/Loss       $(7,172)      $(11,452)      $(11,109)           $163  \n",
       "        Cash and Cash Equivalents                          $29,943        $29,965        $23,646        $34,940  \n",
       "        Commercial paper                                    $9,967         $5,985         $9,982         $6,000  \n",
       "        Common Stock                                       $83,276        $73,812        $64,849        $57,365  \n",
       "        Deferred Revenue                                    $8,249         $8,061         $7,912         $7,612  \n",
       "        Inventory                                           $7,286         $6,331         $4,946         $6,580  \n",
       "        Long-Term Debt                                     $85,750        $95,281        $98,959       $109,106  \n",
       "        Marketable Securities                              $35,228        $31,590        $24,658        $27,699  \n",
       "        Marketable securities                              $91,479       $100,544       $120,805       $127,877  \n",
       "        Other Assets                                       $74,834        $64,758        $54,428        $48,849  \n",
       "        Other Liabilities                                  $45,888        $49,848        $49,142        $53,325  \n",
       "        Property, Plant and Equipment                      $45,680        $43,715        $42,117        $39,440  \n",
       "        Retained Earnings                                $(19,154)         $(214)       $(3,068)         $5,562  \n",
       "        Short-Term Debt                                    $10,912         $9,822        $11,128         $9,613  \n",
       "        Total Current Assets                              $211,993       $209,017       $217,350       $216,166  \n",
       "        Total Current Liabilities                         $131,638       $145,129       $148,101       $162,431  \n",
       "        Total Stockholders' Equity                         $56,950        $62,146        $50,672        $63,090  \n",
       "        Vendor non-trade receivables                       $32,833        $31,477        $32,748        $25,228  \n",
       "                                                                                                                 "
      ]
     },
     "execution_count": 16,
     "metadata": {},
     "output_type": "execute_result"
    }
   ],
   "execution_count": 16
  },
  {
   "metadata": {},
   "cell_type": "markdown",
   "source": "## Income Statement",
   "id": "93d9b6fb593447f4"
  },
  {
   "metadata": {
    "ExecuteTime": {
     "end_time": "2025-03-27T22:17:30.762818Z",
     "start_time": "2025-03-27T22:17:30.714709Z"
    }
   },
   "cell_type": "code",
   "source": "xbrls.statements.income_statement()",
   "id": "290a08f25d49e985",
   "outputs": [
    {
     "data": {
      "text/plain": [],
      "text/html": [
       "<pre style=\"white-space:pre;overflow-x:auto;line-height:normal;font-family:Menlo,'DejaVu Sans Mono',consolas,'Courier New',monospace\"></pre>\n"
      ]
     },
     "metadata": {},
     "output_type": "display_data"
    },
    {
     "data": {
      "text/plain": [
       "\u001B[3m                           CONSOLIDATED INCOME STATEMENT (4-Period View) (Standardized)                            \u001B[0m\n",
       "\u001B[3m                               \u001B[0m\u001B[1;3mYear Ended\u001B[0m\u001B[3m \u001B[0m\u001B[3m(In millions, except shares in thousands)\u001B[0m\u001B[3m                                \u001B[0m\n",
       "                                                                                                                   \n",
       " \u001B[1m \u001B[0m\u001B[1m                                                   \u001B[0m\u001B[1m \u001B[0m \u001B[1m \u001B[0m\u001B[1mSep 28, 2024\u001B[0m\u001B[1m \u001B[0m \u001B[1m \u001B[0m\u001B[1mSep 30, 2023\u001B[0m\u001B[1m \u001B[0m \u001B[1m \u001B[0m\u001B[1mSep 24, 2022\u001B[0m\u001B[1m \u001B[0m \u001B[1m \u001B[0m\u001B[1mSep 25, 2021\u001B[0m\u001B[1m \u001B[0m \n",
       " ───────────────────────────────────────────────────────────────────────────────────────────────────────────────── \n",
       "        Cost of Revenue                                   $(210,352)     $(214,137)     $(223,546)     $(212,981)  \n",
       "        Gross Profit                                        $180,683       $169,148       $170,782       $152,836  \n",
       "        Income Before Tax                                   $123,485       $113,736       $119,103       $109,207  \n",
       "        Income Tax Expense                                   $29,749        $16,741        $19,300        $14,527  \n",
       "        Net Income                                           $93,736        $96,995        $99,803        $94,680  \n",
       "        Nonoperating Income/Expense                             $269         $(565)         $(334)           $258  \n",
       "        Operating Expenses                                 $(57,467)      $(54,847)      $(51,345)      $(43,887)  \n",
       "        Operating Income                                    $123,216       $114,301       $119,437       $108,949  \n",
       "        Revenue                                             $391,035       $383,285       $394,328       $365,817  \n",
       "          Earnings Per Share                                    0.00           0.00           0.00           0.00  \n",
       "          Earnings Per Share (Diluted)                          0.00           0.00           0.00           0.00  \n",
       "          Research and Development Expense                   $31,370        $29,915        $26,251        $21,914  \n",
       "          Selling, General and Administrative Expense        $26,097        $24,932        $25,094        $21,973  \n",
       "          Shares Outstanding                              15,343,783     15,744,231     16,215,963     16,701,272  \n",
       "          Shares Outstanding (Diluted)                    15,408,095     15,812,547     16,325,819     16,864,919  \n",
       "                                                                                                                   "
      ]
     },
     "execution_count": 17,
     "metadata": {},
     "output_type": "execute_result"
    }
   ],
   "execution_count": 17
  },
  {
   "metadata": {},
   "cell_type": "markdown",
   "source": [
    "# Entity Information\n",
    "<hr/>"
   ],
   "id": "ec40f8d70eeb38e7"
  },
  {
   "metadata": {
    "ExecuteTime": {
     "end_time": "2025-03-27T22:17:33.268371Z",
     "start_time": "2025-03-27T22:17:33.253621Z"
    }
   },
   "cell_type": "code",
   "source": [
    "for key, value in xbrl.entity_info.items():\n",
    "    print(f\"{key}: {value}\")"
   ],
   "id": "14c3e67a33fc100e",
   "outputs": [
    {
     "data": {
      "text/plain": [
       "entity_name: Apple Inc.\n"
      ],
      "text/html": [
       "<pre style=\"white-space:pre;overflow-x:auto;line-height:normal;font-family:Menlo,'DejaVu Sans Mono',consolas,'Courier New',monospace\">entity_name: Apple Inc.\n",
       "</pre>\n"
      ]
     },
     "metadata": {},
     "output_type": "display_data"
    },
    {
     "data": {
      "text/plain": [
       "ticker: AAPL\n"
      ],
      "text/html": [
       "<pre style=\"white-space:pre;overflow-x:auto;line-height:normal;font-family:Menlo,'DejaVu Sans Mono',consolas,'Courier New',monospace\">ticker: AAPL\n",
       "</pre>\n"
      ]
     },
     "metadata": {},
     "output_type": "display_data"
    },
    {
     "data": {
      "text/plain": [
       "identifier: \u001B[1;36m320193\u001B[0m\n"
      ],
      "text/html": [
       "<pre style=\"white-space:pre;overflow-x:auto;line-height:normal;font-family:Menlo,'DejaVu Sans Mono',consolas,'Courier New',monospace\">identifier: <span style=\"color: #008080; text-decoration-color: #008080; font-weight: bold\">320193</span>\n",
       "</pre>\n"
      ]
     },
     "metadata": {},
     "output_type": "display_data"
    },
    {
     "data": {
      "text/plain": [
       "document_type: \u001B[1;36m10\u001B[0m-K\n"
      ],
      "text/html": [
       "<pre style=\"white-space:pre;overflow-x:auto;line-height:normal;font-family:Menlo,'DejaVu Sans Mono',consolas,'Courier New',monospace\">document_type: <span style=\"color: #008080; text-decoration-color: #008080; font-weight: bold\">10</span>-K\n",
       "</pre>\n"
      ]
     },
     "metadata": {},
     "output_type": "display_data"
    },
    {
     "data": {
      "text/plain": [
       "reporting_end_date: \u001B[1;36m2024\u001B[0m-\u001B[1;36m10\u001B[0m-\u001B[1;36m18\u001B[0m\n"
      ],
      "text/html": [
       "<pre style=\"white-space:pre;overflow-x:auto;line-height:normal;font-family:Menlo,'DejaVu Sans Mono',consolas,'Courier New',monospace\">reporting_end_date: <span style=\"color: #008080; text-decoration-color: #008080; font-weight: bold\">2024</span>-<span style=\"color: #008080; text-decoration-color: #008080; font-weight: bold\">10</span>-<span style=\"color: #008080; text-decoration-color: #008080; font-weight: bold\">18</span>\n",
       "</pre>\n"
      ]
     },
     "metadata": {},
     "output_type": "display_data"
    },
    {
     "data": {
      "text/plain": [
       "document_period_end_date: \u001B[1;36m2024\u001B[0m-\u001B[1;36m09\u001B[0m-\u001B[1;36m28\u001B[0m\n"
      ],
      "text/html": [
       "<pre style=\"white-space:pre;overflow-x:auto;line-height:normal;font-family:Menlo,'DejaVu Sans Mono',consolas,'Courier New',monospace\">document_period_end_date: <span style=\"color: #008080; text-decoration-color: #008080; font-weight: bold\">2024</span>-<span style=\"color: #008080; text-decoration-color: #008080; font-weight: bold\">09</span>-<span style=\"color: #008080; text-decoration-color: #008080; font-weight: bold\">28</span>\n",
       "</pre>\n"
      ]
     },
     "metadata": {},
     "output_type": "display_data"
    },
    {
     "data": {
      "text/plain": [
       "fiscal_year: \u001B[1;36m2024\u001B[0m\n"
      ],
      "text/html": [
       "<pre style=\"white-space:pre;overflow-x:auto;line-height:normal;font-family:Menlo,'DejaVu Sans Mono',consolas,'Courier New',monospace\">fiscal_year: <span style=\"color: #008080; text-decoration-color: #008080; font-weight: bold\">2024</span>\n",
       "</pre>\n"
      ]
     },
     "metadata": {},
     "output_type": "display_data"
    },
    {
     "data": {
      "text/plain": [
       "fiscal_period: FY\n"
      ],
      "text/html": [
       "<pre style=\"white-space:pre;overflow-x:auto;line-height:normal;font-family:Menlo,'DejaVu Sans Mono',consolas,'Courier New',monospace\">fiscal_period: FY\n",
       "</pre>\n"
      ]
     },
     "metadata": {},
     "output_type": "display_data"
    },
    {
     "data": {
      "text/plain": [
       "fiscal_year_end_month: \u001B[1;36m9\u001B[0m\n"
      ],
      "text/html": [
       "<pre style=\"white-space:pre;overflow-x:auto;line-height:normal;font-family:Menlo,'DejaVu Sans Mono',consolas,'Courier New',monospace\">fiscal_year_end_month: <span style=\"color: #008080; text-decoration-color: #008080; font-weight: bold\">9</span>\n",
       "</pre>\n"
      ]
     },
     "metadata": {},
     "output_type": "display_data"
    },
    {
     "data": {
      "text/plain": [
       "fiscal_year_end_day: \u001B[1;36m28\u001B[0m\n"
      ],
      "text/html": [
       "<pre style=\"white-space:pre;overflow-x:auto;line-height:normal;font-family:Menlo,'DejaVu Sans Mono',consolas,'Courier New',monospace\">fiscal_year_end_day: <span style=\"color: #008080; text-decoration-color: #008080; font-weight: bold\">28</span>\n",
       "</pre>\n"
      ]
     },
     "metadata": {},
     "output_type": "display_data"
    },
    {
     "data": {
      "text/plain": [
       "annual_report: \u001B[3;92mTrue\u001B[0m\n"
      ],
      "text/html": [
       "<pre style=\"white-space:pre;overflow-x:auto;line-height:normal;font-family:Menlo,'DejaVu Sans Mono',consolas,'Courier New',monospace\">annual_report: <span style=\"color: #00ff00; text-decoration-color: #00ff00; font-style: italic\">True</span>\n",
       "</pre>\n"
      ]
     },
     "metadata": {},
     "output_type": "display_data"
    },
    {
     "data": {
      "text/plain": [
       "quarterly_report: \u001B[3;91mFalse\u001B[0m\n"
      ],
      "text/html": [
       "<pre style=\"white-space:pre;overflow-x:auto;line-height:normal;font-family:Menlo,'DejaVu Sans Mono',consolas,'Courier New',monospace\">quarterly_report: <span style=\"color: #ff0000; text-decoration-color: #ff0000; font-style: italic\">False</span>\n",
       "</pre>\n"
      ]
     },
     "metadata": {},
     "output_type": "display_data"
    },
    {
     "data": {
      "text/plain": [
       "amendment: \u001B[3;91mFalse\u001B[0m\n"
      ],
      "text/html": [
       "<pre style=\"white-space:pre;overflow-x:auto;line-height:normal;font-family:Menlo,'DejaVu Sans Mono',consolas,'Courier New',monospace\">amendment: <span style=\"color: #ff0000; text-decoration-color: #ff0000; font-style: italic\">False</span>\n",
       "</pre>\n"
      ]
     },
     "metadata": {},
     "output_type": "display_data"
    }
   ],
   "execution_count": 18
  },
  {
   "metadata": {},
   "cell_type": "markdown",
   "source": "### Available Reporting Periods",
   "id": "57325ccd1572d9e"
  },
  {
   "metadata": {},
   "cell_type": "code",
   "outputs": [],
   "execution_count": null,
   "source": [
    "print(\"\\n[bold]Available Reporting Periods:[/bold]\")\n",
    "for i, period in enumerate(xbrl.reporting_periods):\n",
    "    if period['type'] == 'instant':\n",
    "        print(f\"{i+1}. As of {period['date']}\")\n",
    "    else:\n",
    "        print(f\"{i+1}. {period['start_date']} to {period['end_date']}\")"
   ],
   "id": "ab6ec922497a7214"
  },
  {
   "metadata": {},
   "cell_type": "markdown",
   "source": "### Period Views",
   "id": "c1841eb13e088a8d"
  },
  {
   "metadata": {
    "ExecuteTime": {
     "end_time": "2025-03-14T18:46:32.276048Z",
     "start_time": "2025-03-14T18:46:32.267676Z"
    }
   },
   "cell_type": "code",
   "source": [
    "# Show available period views for each statement\n",
    "print(\"\\n[bold]Available Period Views for Balance Sheet:[/bold]\")\n",
    "bs_views = xbrl.get_period_views(\"BalanceSheet\")\n",
    "for view in bs_views:\n",
    "    print(f\"- {view['name']}: {view['description']}\")\n",
    "    \n",
    "print(\"\\n[bold]Available Period Views for Income Statement:[/bold]\")\n",
    "is_views = xbrl.get_period_views(\"IncomeStatement\")\n",
    "for view in is_views:\n",
    "    print(f\"- {view['name']}: {view['description']}\")"
   ],
   "id": "8d8e0d45924b0773",
   "outputs": [
    {
     "data": {
      "text/plain": [
       "\n",
       "\u001B[1mAvailable Period Views for Balance Sheet:\u001B[0m\n"
      ],
      "text/html": [
       "<pre style=\"white-space:pre;overflow-x:auto;line-height:normal;font-family:Menlo,'DejaVu Sans Mono',consolas,'Courier New',monospace\">\n",
       "<span style=\"font-weight: bold\">Available Period Views for Balance Sheet:</span>\n",
       "</pre>\n"
      ]
     },
     "metadata": {},
     "output_type": "display_data"
    },
    {
     "data": {
      "text/plain": [
       "- Three-Year Comparison: Shows the most recent three periods\n"
      ],
      "text/html": [
       "<pre style=\"white-space:pre;overflow-x:auto;line-height:normal;font-family:Menlo,'DejaVu Sans Mono',consolas,'Courier New',monospace\">- Three-Year Comparison: Shows the most recent three periods\n",
       "</pre>\n"
      ]
     },
     "metadata": {},
     "output_type": "display_data"
    },
    {
     "data": {
      "text/plain": [
       "- Current vs. Previous Periods: Shows the current period and two previous periods\n"
      ],
      "text/html": [
       "<pre style=\"white-space:pre;overflow-x:auto;line-height:normal;font-family:Menlo,'DejaVu Sans Mono',consolas,'Courier New',monospace\">- Current vs. Previous Periods: Shows the current period and two previous periods\n",
       "</pre>\n"
      ]
     },
     "metadata": {},
     "output_type": "display_data"
    },
    {
     "data": {
      "text/plain": [
       "- Three-Year Annual Comparison: Shows three fiscal years for comparison\n"
      ],
      "text/html": [
       "<pre style=\"white-space:pre;overflow-x:auto;line-height:normal;font-family:Menlo,'DejaVu Sans Mono',consolas,'Courier New',monospace\">- Three-Year Annual Comparison: Shows three fiscal years for comparison\n",
       "</pre>\n"
      ]
     },
     "metadata": {},
     "output_type": "display_data"
    },
    {
     "data": {
      "text/plain": [
       "- Annual Comparison: Shows two fiscal years for comparison\n"
      ],
      "text/html": [
       "<pre style=\"white-space:pre;overflow-x:auto;line-height:normal;font-family:Menlo,'DejaVu Sans Mono',consolas,'Courier New',monospace\">- Annual Comparison: Shows two fiscal years for comparison\n",
       "</pre>\n"
      ]
     },
     "metadata": {},
     "output_type": "display_data"
    },
    {
     "data": {
      "text/plain": [
       "\n",
       "\u001B[1mAvailable Period Views for Income Statement:\u001B[0m\n"
      ],
      "text/html": [
       "<pre style=\"white-space:pre;overflow-x:auto;line-height:normal;font-family:Menlo,'DejaVu Sans Mono',consolas,'Courier New',monospace\">\n",
       "<span style=\"font-weight: bold\">Available Period Views for Income Statement:</span>\n",
       "</pre>\n"
      ]
     },
     "metadata": {},
     "output_type": "display_data"
    },
    {
     "data": {
      "text/plain": [
       "- Three-Year Comparison: Compares three fiscal years\n"
      ],
      "text/html": [
       "<pre style=\"white-space:pre;overflow-x:auto;line-height:normal;font-family:Menlo,'DejaVu Sans Mono',consolas,'Courier New',monospace\">- Three-Year Comparison: Compares three fiscal years\n",
       "</pre>\n"
      ]
     },
     "metadata": {},
     "output_type": "display_data"
    },
    {
     "data": {
      "text/plain": [
       "- Annual Comparison: Compares recent fiscal years\n"
      ],
      "text/html": [
       "<pre style=\"white-space:pre;overflow-x:auto;line-height:normal;font-family:Menlo,'DejaVu Sans Mono',consolas,'Courier New',monospace\">- Annual Comparison: Compares recent fiscal years\n",
       "</pre>\n"
      ]
     },
     "metadata": {},
     "output_type": "display_data"
    }
   ],
   "execution_count": null
  },
  {
   "cell_type": "markdown",
   "id": "fa2f3a67-39e0-44b4-afc1-57c6da68a5a6",
   "metadata": {
    "ExecuteTime": {
     "end_time": "2025-03-14T18:49:56.424203Z",
     "start_time": "2025-03-14T18:49:56.422179Z"
    }
   },
   "source": "### Period Views for INTC"
  },
  {
   "cell_type": "code",
   "id": "7aa663b5-a624-473a-9f80-41106a82bbcc",
   "metadata": {
    "ExecuteTime": {
     "end_time": "2025-03-14T18:50:38.217248Z",
     "start_time": "2025-03-14T18:50:36.859230Z"
    }
   },
   "source": [
    "c = Company(\"INTC\")\n",
    "filing = c.latest(\"10-K\")\n",
    "xbrl = XBRL.from_filing(filing)\n",
    "bs_views = xbrl.get_period_views(\"BalanceSheet\")\n",
    "for view in bs_views:\n",
    "    print(f\"- {view['name']}: {view['description']}\")"
   ],
   "outputs": [
    {
     "data": {
      "text/plain": [
       "- Three-Year Comparison: Shows the most recent three periods\n"
      ],
      "text/html": [
       "<pre style=\"white-space:pre;overflow-x:auto;line-height:normal;font-family:Menlo,'DejaVu Sans Mono',consolas,'Courier New',monospace\">- Three-Year Comparison: Shows the most recent three periods\n",
       "</pre>\n"
      ]
     },
     "metadata": {},
     "output_type": "display_data"
    },
    {
     "data": {
      "text/plain": [
       "- Current vs. Previous Periods: Shows the current period and two previous periods\n"
      ],
      "text/html": [
       "<pre style=\"white-space:pre;overflow-x:auto;line-height:normal;font-family:Menlo,'DejaVu Sans Mono',consolas,'Courier New',monospace\">- Current vs. Previous Periods: Shows the current period and two previous periods\n",
       "</pre>\n"
      ]
     },
     "metadata": {},
     "output_type": "display_data"
    },
    {
     "data": {
      "text/plain": [
       "- Three-Year Annual Comparison: Shows three fiscal years for comparison\n"
      ],
      "text/html": [
       "<pre style=\"white-space:pre;overflow-x:auto;line-height:normal;font-family:Menlo,'DejaVu Sans Mono',consolas,'Courier New',monospace\">- Three-Year Annual Comparison: Shows three fiscal years for comparison\n",
       "</pre>\n"
      ]
     },
     "metadata": {},
     "output_type": "display_data"
    },
    {
     "data": {
      "text/plain": [
       "- Annual Comparison: Shows two fiscal years for comparison\n"
      ],
      "text/html": [
       "<pre style=\"white-space:pre;overflow-x:auto;line-height:normal;font-family:Menlo,'DejaVu Sans Mono',consolas,'Courier New',monospace\">- Annual Comparison: Shows two fiscal years for comparison\n",
       "</pre>\n"
      ]
     },
     "metadata": {},
     "output_type": "display_data"
    }
   ],
   "execution_count": 17
  },
  {
   "cell_type": "markdown",
   "id": "557cb032-ad08-42e9-b418-b87b299d1b23",
   "metadata": {},
   "source": "### Render Balance Sheet with Current vs. Previous Period view if available"
  },
  {
   "cell_type": "code",
   "execution_count": 13,
   "id": "47e9467c-4ead-4e6c-bc29-f35f96c89217",
   "metadata": {},
   "outputs": [
    {
     "data": {
      "text/html": [
       "<pre style=\"white-space:pre;overflow-x:auto;line-height:normal;font-family:Menlo,'DejaVu Sans Mono',consolas,'Courier New',monospace\"><span style=\"font-style: italic\">                                             CONSOLIDATEDBALANCESHEETS                                             </span>\n",
       "<span style=\"font-style: italic\">                              </span><span style=\"font-weight: bold; font-style: italic\">Fiscal Year Ended</span><span style=\"font-style: italic\"> (In millions, except per share data)                               </span>\n",
       "                                                                                                                   \n",
       " <span style=\"font-weight: bold\"> Line Item                                                                     </span> <span style=\"font-weight: bold\"> Sep 28, 2024   </span> <span style=\"font-weight: bold\"> Sep 30, 2023   </span> \n",
       " ───────────────────────────────────────────────────────────────────────────────────────────────────────────────── \n",
       "    ASSETS:                                                                                                        \n",
       "      Current assets:                                                                                              \n",
       "        Cash and cash equivalents                                                        $29,943          $29,965  \n",
       "        Marketable securities                                                            $35,228          $31,590  \n",
       "        Accounts receivable, net                                                         $33,410          $29,508  \n",
       "        Vendor non-trade receivables                                                     $32,833          $31,477  \n",
       "        Inventories                                                                       $7,286           $6,331  \n",
       "        Other current assets                                                             $14,287          $14,695  \n",
       "        Total current assets                                                            $152,987         $143,566  \n",
       "      Non-current assets:                                                                                          \n",
       "        Marketable securities                                                            $91,479         $100,544  \n",
       "        Property, plant and equipment, net                                               $45,680          $43,715  \n",
       "        Other non-current assets                                                         $74,834          $64,758  \n",
       "        Total non-current assets                                                        $211,993         $209,017  \n",
       "      Total assets                                                                      $364,980         $352,583  \n",
       "    LIABILITIES AND SHAREHOLDERS’ EQUITY:                                                                          \n",
       "      Current liabilities:                                                                                         \n",
       "        Accounts payable                                                                 $68,960          $62,611  \n",
       "        Other current liabilities                                                        $78,304          $58,829  \n",
       "        Deferred revenue                                                                  $8,249           $8,061  \n",
       "        Commercial paper                                                                  $9,967           $5,985  \n",
       "        Term debt                                                                        $10,912           $9,822  \n",
       "        Total current liabilities                                                       $176,392         $145,308  \n",
       "      Non-current liabilities:                                                                                     \n",
       "        Term debt                                                                        $85,750          $95,281  \n",
       "        Other non-current liabilities                                                    $45,888          $49,848  \n",
       "        Total non-current liabilities                                                   $131,638         $145,129  \n",
       "      Total liabilities                                                                 $308,030         $290,437  \n",
       "      Commitments and contingencies                                                                                \n",
       "      Common stock, shares outstanding (in shares)                                15,116,786,000   15,550,061,000  \n",
       "      Common stock, shares issued (in shares)                                     15,116,786,000   15,550,061,000  \n",
       "      Shareholders’ equity:                                                                                        \n",
       "        Common stock and additional paid-in capital, $0.00001 par value:                 $83,276          $73,812  \n",
       "  50,400,000 shares authorized; 15,116,786 and 15,550,061 shares issued and                                        \n",
       "  outstanding, respectively                                                                                        \n",
       "        Accumulated deficit                                                            $(19,154)           $(214)  \n",
       "        Accumulated other comprehensive loss                                            $(7,172)        $(11,452)  \n",
       "        Total shareholders’ equity                                                       $56,950          $62,146  \n",
       "      Total liabilities and shareholders’ equity                                        $364,980         $352,583  \n",
       "                                                                                                                   \n",
       "</pre>\n"
      ],
      "text/plain": [
       "\u001B[3m                                             CONSOLIDATEDBALANCESHEETS                                             \u001B[0m\n",
       "\u001B[3m                              \u001B[0m\u001B[1;3mFiscal Year Ended\u001B[0m\u001B[3m \u001B[0m\u001B[3m(In millions, except per share data)\u001B[0m\u001B[3m                               \u001B[0m\n",
       "                                                                                                                   \n",
       " \u001B[1m \u001B[0m\u001B[1mLine Item                                                                    \u001B[0m\u001B[1m \u001B[0m \u001B[1m \u001B[0m\u001B[1mSep 28, 2024  \u001B[0m\u001B[1m \u001B[0m \u001B[1m \u001B[0m\u001B[1mSep 30, 2023  \u001B[0m\u001B[1m \u001B[0m \n",
       " ───────────────────────────────────────────────────────────────────────────────────────────────────────────────── \n",
       "    ASSETS:                                                                                                        \n",
       "      Current assets:                                                                                              \n",
       "        Cash and cash equivalents                                                        $29,943          $29,965  \n",
       "        Marketable securities                                                            $35,228          $31,590  \n",
       "        Accounts receivable, net                                                         $33,410          $29,508  \n",
       "        Vendor non-trade receivables                                                     $32,833          $31,477  \n",
       "        Inventories                                                                       $7,286           $6,331  \n",
       "        Other current assets                                                             $14,287          $14,695  \n",
       "        Total current assets                                                            $152,987         $143,566  \n",
       "      Non-current assets:                                                                                          \n",
       "        Marketable securities                                                            $91,479         $100,544  \n",
       "        Property, plant and equipment, net                                               $45,680          $43,715  \n",
       "        Other non-current assets                                                         $74,834          $64,758  \n",
       "        Total non-current assets                                                        $211,993         $209,017  \n",
       "      Total assets                                                                      $364,980         $352,583  \n",
       "    LIABILITIES AND SHAREHOLDERS’ EQUITY:                                                                          \n",
       "      Current liabilities:                                                                                         \n",
       "        Accounts payable                                                                 $68,960          $62,611  \n",
       "        Other current liabilities                                                        $78,304          $58,829  \n",
       "        Deferred revenue                                                                  $8,249           $8,061  \n",
       "        Commercial paper                                                                  $9,967           $5,985  \n",
       "        Term debt                                                                        $10,912           $9,822  \n",
       "        Total current liabilities                                                       $176,392         $145,308  \n",
       "      Non-current liabilities:                                                                                     \n",
       "        Term debt                                                                        $85,750          $95,281  \n",
       "        Other non-current liabilities                                                    $45,888          $49,848  \n",
       "        Total non-current liabilities                                                   $131,638         $145,129  \n",
       "      Total liabilities                                                                 $308,030         $290,437  \n",
       "      Commitments and contingencies                                                                                \n",
       "      Common stock, shares outstanding (in shares)                                15,116,786,000   15,550,061,000  \n",
       "      Common stock, shares issued (in shares)                                     15,116,786,000   15,550,061,000  \n",
       "      Shareholders’ equity:                                                                                        \n",
       "        Common stock and additional paid-in capital, $0.00001 par value:                 $83,276          $73,812  \n",
       "  50,400,000 shares authorized; 15,116,786 and 15,550,061 shares issued and                                        \n",
       "  outstanding, respectively                                                                                        \n",
       "        Accumulated deficit                                                            $(19,154)           $(214)  \n",
       "        Accumulated other comprehensive loss                                            $(7,172)        $(11,452)  \n",
       "        Total shareholders’ equity                                                       $56,950          $62,146  \n",
       "      Total liabilities and shareholders’ equity                                        $364,980         $352,583  \n",
       "                                                                                                                   \n"
      ]
     },
     "execution_count": 13,
     "metadata": {},
     "output_type": "execute_result"
    }
   ],
   "source": [
    "current_vs_prev_bs = xbrl.render_statement(\"BalanceSheet\", period_view=\"Current vs. Previous Period\")\n",
    "current_vs_prev_bs"
   ]
  }
 ],
 "metadata": {
  "kernelspec": {
   "display_name": "Python 3 (ipykernel)",
   "language": "python",
   "name": "python3"
  },
  "language_info": {
   "codemirror_mode": {
    "name": "ipython",
    "version": 3
   },
   "file_extension": ".py",
   "mimetype": "text/x-python",
   "name": "python",
   "nbconvert_exporter": "python",
   "pygments_lexer": "ipython3",
   "version": "3.11.6"
  }
 },
 "nbformat": 4,
 "nbformat_minor": 5
}
